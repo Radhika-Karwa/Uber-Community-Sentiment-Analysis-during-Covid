{
 "cells": [
  {
   "cell_type": "markdown",
   "id": "c5870bda",
   "metadata": {},
   "source": [
    "# Libraries"
   ]
  },
  {
   "cell_type": "code",
   "execution_count": null,
   "id": "a8b905fc",
   "metadata": {},
   "outputs": [],
   "source": [
    "# Packages for dataframe operations\n",
    "import numpy as np \n",
    "import pandas as pd\n",
    "# Packages for visualization\n",
    "import matplotlib.pyplot as plt\n",
    "import seaborn as sns\n",
    "import collections\n",
    "\n",
    "import re\n",
    "from pprint import pprint\n",
    "\n",
    "# Gensim\n",
    "import gensim\n",
    "import gensim.corpora as corpora\n",
    "from gensim.utils import simple_preprocess\n",
    "from gensim.models import CoherenceModel\n",
    "\n",
    "# spacy for lemmatization\n",
    "import spacy\n",
    "\n",
    "# Plotting tools\n",
    "import pyLDAvis\n",
    "#import pyLDAvis.gensim  # don't skip this\n",
    "import matplotlib.pyplot as plt\n",
    "%matplotlib inline\n",
    "\n",
    "# Enable logging for gensim - optional\n",
    "import logging\n",
    "logging.basicConfig(format='%(asctime)s : %(levelname)s : %(message)s', level=logging.ERROR)\n",
    "\n",
    "import warnings\n",
    "warnings.filterwarnings(\"ignore\",category=DeprecationWarning)\n",
    "\n",
    "import os\n",
    "import pickle\n",
    "import nltk"
   ]
  },
  {
   "cell_type": "markdown",
   "id": "137db2fc",
   "metadata": {},
   "source": [
    "## Import DataSet for 2021"
   ]
  },
  {
   "cell_type": "code",
   "execution_count": 4,
   "id": "b9f0e12a",
   "metadata": {},
   "outputs": [],
   "source": [
    "df = pd.read_csv('data_2021.csv') "
   ]
  },
  {
   "cell_type": "code",
   "execution_count": 5,
   "id": "38380300",
   "metadata": {},
   "outputs": [
    {
     "data": {
      "text/html": [
       "<div>\n",
       "<style scoped>\n",
       "    .dataframe tbody tr th:only-of-type {\n",
       "        vertical-align: middle;\n",
       "    }\n",
       "\n",
       "    .dataframe tbody tr th {\n",
       "        vertical-align: top;\n",
       "    }\n",
       "\n",
       "    .dataframe thead th {\n",
       "        text-align: right;\n",
       "    }\n",
       "</style>\n",
       "<table border=\"1\" class=\"dataframe\">\n",
       "  <thead>\n",
       "    <tr style=\"text-align: right;\">\n",
       "      <th></th>\n",
       "      <th>Post</th>\n",
       "      <th>Name</th>\n",
       "      <th>Datetime</th>\n",
       "      <th>Story</th>\n",
       "      <th>year</th>\n",
       "    </tr>\n",
       "  </thead>\n",
       "  <tbody>\n",
       "    <tr>\n",
       "      <th>0</th>\n",
       "      <td>post-7139982</td>\n",
       "      <td>June132017</td>\n",
       "      <td>Jul 14, 2021 at 1:27 AM</td>\n",
       "      <td>A guy named Russel ordered a Lyft. So looking ...</td>\n",
       "      <td>2021</td>\n",
       "    </tr>\n",
       "    <tr>\n",
       "      <th>1</th>\n",
       "      <td>post-7137806</td>\n",
       "      <td>Bojingles</td>\n",
       "      <td>Jul 12, 2021 at 5:15 PM</td>\n",
       "      <td>My account has never been placed on hold for a...</td>\n",
       "      <td>2021</td>\n",
       "    </tr>\n",
       "    <tr>\n",
       "      <th>2</th>\n",
       "      <td>post-7136004</td>\n",
       "      <td>MissAnne</td>\n",
       "      <td>Jul 10, 2021 at 8:40 PM</td>\n",
       "      <td>Guess things in Salt Lake City are getting bac...</td>\n",
       "      <td>2021</td>\n",
       "    </tr>\n",
       "    <tr>\n",
       "      <th>3</th>\n",
       "      <td>post-7029729</td>\n",
       "      <td>touberornottouber</td>\n",
       "      <td>Apr 14, 2021 at 12:00 PM</td>\n",
       "      <td>I get a ride request to go to an apartment. Wh...</td>\n",
       "      <td>2021</td>\n",
       "    </tr>\n",
       "    <tr>\n",
       "      <th>4</th>\n",
       "      <td>post-7129924</td>\n",
       "      <td>losiglow</td>\n",
       "      <td>Jul 4, 2021 at 4:19 PM</td>\n",
       "      <td>I thought a thread dedicated to funny screensh...</td>\n",
       "      <td>2021</td>\n",
       "    </tr>\n",
       "    <tr>\n",
       "      <th>...</th>\n",
       "      <td>...</td>\n",
       "      <td>...</td>\n",
       "      <td>...</td>\n",
       "      <td>...</td>\n",
       "      <td>...</td>\n",
       "    </tr>\n",
       "    <tr>\n",
       "      <th>375</th>\n",
       "      <td>post-6733635</td>\n",
       "      <td>FLKeys</td>\n",
       "      <td>Jan 4, 2021 at 12:08 PM</td>\n",
       "      <td>Saturday night I picked up a PAX and in our di...</td>\n",
       "      <td>2021</td>\n",
       "    </tr>\n",
       "    <tr>\n",
       "      <th>376</th>\n",
       "      <td>post-6727401</td>\n",
       "      <td>goneubering</td>\n",
       "      <td>Jan 2, 2021 at 2:24 AM</td>\n",
       "      <td>\\nMost of the students enrolled at Lynhurst Ba...</td>\n",
       "      <td>2021</td>\n",
       "    </tr>\n",
       "    <tr>\n",
       "      <th>377</th>\n",
       "      <td>post-6724571</td>\n",
       "      <td>Ozzyoz</td>\n",
       "      <td>Jan 1, 2021 at 1:48 AM</td>\n",
       "      <td>It is a Q symbol instead of U but has same loo...</td>\n",
       "      <td>2021</td>\n",
       "    </tr>\n",
       "    <tr>\n",
       "      <th>378</th>\n",
       "      <td>post-6725137</td>\n",
       "      <td>Safar</td>\n",
       "      <td>Jan 1, 2021 at 10:04 AM</td>\n",
       "      <td>Works well for me though lol, specially when t...</td>\n",
       "      <td>2021</td>\n",
       "    </tr>\n",
       "    <tr>\n",
       "      <th>379</th>\n",
       "      <td>post-6726691</td>\n",
       "      <td>Stevie The magic Unicorn</td>\n",
       "      <td>Jan 1, 2021 at 8:37 PM</td>\n",
       "      <td>So yesterday I was working general dispatch ca...</td>\n",
       "      <td>2021</td>\n",
       "    </tr>\n",
       "  </tbody>\n",
       "</table>\n",
       "<p>380 rows × 5 columns</p>\n",
       "</div>"
      ],
      "text/plain": [
       "             Post                      Name                  Datetime  \\\n",
       "0    post-7139982                June132017   Jul 14, 2021 at 1:27 AM   \n",
       "1    post-7137806                 Bojingles   Jul 12, 2021 at 5:15 PM   \n",
       "2    post-7136004                  MissAnne   Jul 10, 2021 at 8:40 PM   \n",
       "3    post-7029729         touberornottouber  Apr 14, 2021 at 12:00 PM   \n",
       "4    post-7129924                  losiglow    Jul 4, 2021 at 4:19 PM   \n",
       "..            ...                       ...                       ...   \n",
       "375  post-6733635                    FLKeys   Jan 4, 2021 at 12:08 PM   \n",
       "376  post-6727401               goneubering    Jan 2, 2021 at 2:24 AM   \n",
       "377  post-6724571                    Ozzyoz    Jan 1, 2021 at 1:48 AM   \n",
       "378  post-6725137                     Safar   Jan 1, 2021 at 10:04 AM   \n",
       "379  post-6726691  Stevie The magic Unicorn    Jan 1, 2021 at 8:37 PM   \n",
       "\n",
       "                                                 Story  year  \n",
       "0    A guy named Russel ordered a Lyft. So looking ...  2021  \n",
       "1    My account has never been placed on hold for a...  2021  \n",
       "2    Guess things in Salt Lake City are getting bac...  2021  \n",
       "3    I get a ride request to go to an apartment. Wh...  2021  \n",
       "4    I thought a thread dedicated to funny screensh...  2021  \n",
       "..                                                 ...   ...  \n",
       "375  Saturday night I picked up a PAX and in our di...  2021  \n",
       "376  \\nMost of the students enrolled at Lynhurst Ba...  2021  \n",
       "377  It is a Q symbol instead of U but has same loo...  2021  \n",
       "378  Works well for me though lol, specially when t...  2021  \n",
       "379  So yesterday I was working general dispatch ca...  2021  \n",
       "\n",
       "[380 rows x 5 columns]"
      ]
     },
     "execution_count": 5,
     "metadata": {},
     "output_type": "execute_result"
    }
   ],
   "source": [
    "df"
   ]
  },
  {
   "cell_type": "markdown",
   "id": "0752b655",
   "metadata": {},
   "source": [
    "### Set Mallet Path"
   ]
  },
  {
   "cell_type": "code",
   "execution_count": 8,
   "id": "e584995a",
   "metadata": {},
   "outputs": [],
   "source": [
    "MALLET_PATH = '/Users/phoebekalochoritou/Downloads/mallet-2.0.8/bin/mallet'"
   ]
  },
  {
   "cell_type": "markdown",
   "id": "dd1f3717",
   "metadata": {},
   "source": [
    "#### Set stories as data "
   ]
  },
  {
   "cell_type": "code",
   "execution_count": 10,
   "id": "493a82c2",
   "metadata": {},
   "outputs": [],
   "source": [
    "data = df.Story"
   ]
  },
  {
   "cell_type": "code",
   "execution_count": 11,
   "id": "b8176fa8",
   "metadata": {},
   "outputs": [
    {
     "data": {
      "text/plain": [
       "0      A guy named Russel ordered a Lyft. So looking ...\n",
       "1      My account has never been placed on hold for a...\n",
       "2      Guess things in Salt Lake City are getting bac...\n",
       "3      I get a ride request to go to an apartment. Wh...\n",
       "4      I thought a thread dedicated to funny screensh...\n",
       "                             ...                        \n",
       "375    Saturday night I picked up a PAX and in our di...\n",
       "376    \\nMost of the students enrolled at Lynhurst Ba...\n",
       "377    It is a Q symbol instead of U but has same loo...\n",
       "378    Works well for me though lol, specially when t...\n",
       "379    So yesterday I was working general dispatch ca...\n",
       "Name: Story, Length: 380, dtype: object"
      ]
     },
     "execution_count": 11,
     "metadata": {},
     "output_type": "execute_result"
    }
   ],
   "source": [
    "data"
   ]
  },
  {
   "cell_type": "code",
   "execution_count": 12,
   "id": "0d537ffb",
   "metadata": {},
   "outputs": [
    {
     "name": "stdout",
     "output_type": "stream",
     "text": [
      "[['guy', 'named', 'russel', 'ordered', 'lyft', 'so', 'looking', 'at', 'the', 'map', 'it', 'pretty', 'much', 'was', 'making', 'turn', 'down', 'the', 'road', 'so', 'happen', 'to', 'pull', 'over', 'to', 'power', 'station', 'where', 'guess', 'the', 'trucks', 'service', 'them', 'anyway', 'this', 'shaved', 'over', 'miles', 'off', 'his', 'pickup', 'and', 'probably', 'mins', 'well', 'it', 'wasn', 'meant', 'to', 'be', 'he', 'then', 'cancelled', 'after', 'to', 'seconds', 'literally', 'face', 'palmed', 'guess', 'it', 'like', 'hitting', 'homerun', 'and', 'losing', 'couple', 'of', 'times', 'made', 'wrong', 'move', 'and', 'made', 'the', 'pickup', 'longer', 'and', 'the', 'rider', 'didn', 'even', 'cancel', 'these', 'free', 'cancels', 'just', 'suck']]\n"
     ]
    }
   ],
   "source": [
    "def sent_to_words(sentences):\n",
    "    for sentence in sentences:\n",
    "        yield(gensim.utils.simple_preprocess(str(sentence), deacc=True))  # deacc=True removes punctuations\n",
    "\n",
    "data_words = list(sent_to_words(data))\n",
    "\n",
    "print(data_words[:1])"
   ]
  },
  {
   "cell_type": "markdown",
   "id": "ce3e3258",
   "metadata": {},
   "source": [
    "# Building models"
   ]
  },
  {
   "cell_type": "code",
   "execution_count": 13,
   "id": "dc2f8625",
   "metadata": {},
   "outputs": [
    {
     "name": "stdout",
     "output_type": "stream",
     "text": [
      "['guy', 'named', 'russel', 'ordered', 'lyft', 'so', 'looking', 'at', 'the', 'map', 'it', 'pretty', 'much', 'was', 'making', 'turn', 'down', 'the', 'road', 'so', 'happen', 'to', 'pull', 'over', 'to', 'power', 'station', 'where', 'guess', 'the', 'trucks', 'service', 'them', 'anyway', 'this', 'shaved', 'over', 'miles', 'off', 'his', 'pickup', 'and', 'probably', 'mins', 'well', 'it', 'wasn', 'meant', 'to', 'be', 'he', 'then', 'cancelled', 'after', 'to', 'seconds', 'literally', 'face', 'palmed', 'guess', 'it', 'like', 'hitting', 'homerun', 'and', 'losing', 'couple', 'of', 'times', 'made', 'wrong', 'move', 'and', 'made', 'the', 'pickup', 'longer', 'and', 'the', 'rider', 'didn', 'even', 'cancel', 'these', 'free', 'cancels', 'just', 'suck']\n"
     ]
    }
   ],
   "source": [
    "# Build the bigram and trigram models\n",
    "bigram = gensim.models.Phrases(data_words, min_count=5, threshold=100) # higher threshold fewer phrases.\n",
    "trigram = gensim.models.Phrases(bigram[data_words], threshold=100)  \n",
    "\n",
    "# Faster way to get a sentence clubbed as a trigram/bigram\n",
    "bigram_mod = gensim.models.phrases.Phraser(bigram)\n",
    "trigram_mod = gensim.models.phrases.Phraser(trigram)\n",
    "\n",
    "# See trigram example\n",
    "print(trigram_mod[bigram_mod[data_words[0]]])"
   ]
  },
  {
   "cell_type": "markdown",
   "id": "54c48f5f",
   "metadata": {},
   "source": [
    "# Stopwords"
   ]
  },
  {
   "cell_type": "markdown",
   "id": "724974af",
   "metadata": {},
   "source": [
    "## Define them"
   ]
  },
  {
   "cell_type": "code",
   "execution_count": null,
   "id": "cf988d4b",
   "metadata": {},
   "outputs": [],
   "source": [
    "nltk.download('stopwords') \n",
    "stopwords = nltk.corpus.stopwords.words('english')\n",
    "stop_words = list(stopwords)\n",
    "extra = ['uber', 'driver','one', 'provide', 'include', 'works', 'also', 'look', 'another', 'extra', 'someone', 'fact',\n",
    "         'think', 'everyone', 'since', 'ever', 'likely', 'maybe', 'lot', 'would', 'like', 'mean', 'say',\n",
    "         'though', 'want', 'guy', 'stil', 'however', 'said', ' ', 'work', 'job', 'year', 'try', 'decide',\n",
    "         'move', 'obviously', 'man', 'woman', '+', 'literally', '>', '<', 'keep', 'thing', 'look', 'ok',\n",
    "         'living', 'instead', 'home', 'yesterday', 'today', 'see', 'fall', 'na', 'lady', 'girl', 'probably',\n",
    "         'guess', 'legit', 'somebody', 'someone', 'know', 'something', 'start', 'much', 'even', 'trying',\n",
    "         'lol', 'call', 'around', 'every', 'minute', 'according', 'need', 'could', 'back', 'used', 'two',\n",
    "         'first', 'taking', 'become', 'actually', 'next', 'real', 'go', 'sure', 'yet', 'pick', 'anything',\n",
    "         'without', 'with', 'got', 'put', 'read', 'come', 'might', 'driver', 'says', 'nothing', 'using',\n",
    "         'going', 'getting', 'use', 'already', 'paying', 'believe', 'get', 'make', 'u', 'really', 'saying',\n",
    "         'ask', 'happening', 'may', 'alway', 'still', 'left', 'person', 'drivers', 'people', 'driving', 'long',\n",
    "         'dont', 'happen', 'told', 'tell', 'women', 'yeah', 'post', 'mr', 'simply', 'show', 'place', 'always',\n",
    "         'usually', 'sometimes', 'way', 'things', 'many', 'exactly', 'called', 'call', 'give', 'thought', 'either',\n",
    "         'rider', 'gets', 'last', 'ye', 'whether', 'unless', 'looking', 'means', 'went', 'wants', 'want',\n",
    "         'seen', 'comes', 'etc', 'asked', 'self', 'tnc', 'the', 'makes', 'hand', 'found', 'find', 'must', 'took',\n",
    "         'made', 'companie', 'seem', 'friend', 'example', 'name', 'feel', 'including', 'others', 'other', 'started',\n",
    "         'able', 'leave', 'else', 'or', 'take', 'yes', 'anyone', 'seems', 'comment', 'new', 'pax', 'Hello', 'ok', 'got', 'so', 'it', 'is', 'its', 'guess', 'we',\n",
    "         'my', 'but', 'too', 'a', 'and', 'today', 'get', 'go','work', 'nan', 'forward', 'ahead', 'send', 'resume', 'car', 'tell', 'ask', 'driver', 'uber', 'list', 'know', 'take', 'minute', 'outta', 'express', 'see', 'the', 'specific', 'accurate',\n",
    "         'say', 'op', 'be', 'less_than', 'door', 'back', 'pull',  'endless', 'cracker', 'uber', 'drive', 'pax',\n",
    "         'admire', '$', 'end' 'car', 'driver', 'drive', 'fitting', 'glamorous', 'cute', 'effective',\n",
    "         'champ', 'certain', 'gave', 'day', 'weeks', 'finally', 'front', 'rides', 'open', 'full', 'story', 'end', 'decided']\n",
    "\n",
    "stop_words.extend(extra)"
   ]
  },
  {
   "cell_type": "markdown",
   "id": "7054e7be",
   "metadata": {},
   "source": [
    "## Remove them"
   ]
  },
  {
   "cell_type": "code",
   "execution_count": 14,
   "id": "67fc963f",
   "metadata": {},
   "outputs": [],
   "source": [
    "# Define functions for stopwords, bigrams, trigrams and lemmatization\n",
    "def remove_stopwords(texts):\n",
    "    return [[word for word in simple_preprocess(str(doc)) if word not in stop_words] for doc in texts]\n",
    "\n",
    "def make_bigrams(texts):\n",
    "    return [bigram_mod[doc] for doc in texts]\n",
    "\n",
    "def make_trigrams(texts):\n",
    "    return [trigram_mod[bigram_mod[doc]] for doc in texts]\n",
    "\n",
    "def lemmatization(texts, allowed_postags=['NOUN', 'ADJ', 'VERB', 'ADV']):\n",
    "    \"\"\"https://spacy.io/api/annotation\"\"\"\n",
    "    texts_out = []\n",
    "    for sent in texts:\n",
    "        doc = nlp(\" \".join(sent)) \n",
    "        texts_out.append([token.lemma_ for token in doc if token.pos_ in allowed_postags])\n",
    "    return texts_out"
   ]
  },
  {
   "cell_type": "code",
   "execution_count": 15,
   "id": "cd9c97cd",
   "metadata": {},
   "outputs": [
    {
     "name": "stdout",
     "output_type": "stream",
     "text": [
      "[['name', 'order', 'pretty', 'make', 'turn', 'road', 'power', 'station', 'truck', 'service', 'anyway', 'shave', 'mile', 'pickup', 'min', 'well', 'mean', 'cancel', 'second', 'face', 'palm', 'hit', 'homerun', 'lose', 'couple', 'time', 'wrong', 'pickup', 'long', 'cancel', 'free', 'cancel', 'suck']]\n"
     ]
    }
   ],
   "source": [
    "# Remove Stop Words\n",
    "data_words_nostops = remove_stopwords(data_words)\n",
    "\n",
    "# Form Bigrams\n",
    "data_words_bigrams = make_bigrams(data_words_nostops)\n",
    "\n",
    "# Initialize spacy 'en' model, keeping only tagger component (for efficiency)\n",
    "# python3 -m spacy download en\n",
    "#nlp = spacy.load('en', disable=['parser', 'ner'])\n",
    "nlp = spacy.load(\"en_core_web_lg\", disable=['parser', 'ner'])\n",
    "# Do lemmatization keeping only noun, adj, vb, adv\n",
    "data_lemmatized = lemmatization(data_words_bigrams, allowed_postags=['NOUN', 'ADJ', 'VERB', 'ADV'])\n",
    "\n",
    "print(data_lemmatized[:1])"
   ]
  },
  {
   "cell_type": "markdown",
   "id": "1589f759",
   "metadata": {},
   "source": [
    "# Dictionary"
   ]
  },
  {
   "cell_type": "code",
   "execution_count": 16,
   "id": "699d26dc",
   "metadata": {},
   "outputs": [
    {
     "name": "stdout",
     "output_type": "stream",
     "text": [
      "[[(0, 1), (1, 3), (2, 1), (3, 1), (4, 1), (5, 1), (6, 1), (7, 1), (8, 1), (9, 1), (10, 1), (11, 1), (12, 1), (13, 1), (14, 1), (15, 1), (16, 2), (17, 1), (18, 1), (19, 1), (20, 1), (21, 1), (22, 1), (23, 1), (24, 1), (25, 1), (26, 1), (27, 1), (28, 1), (29, 1)]]\n"
     ]
    }
   ],
   "source": [
    "# Create Dictionary\n",
    "id2word = corpora.Dictionary(data_lemmatized)\n",
    "\n",
    "# Create Corpus\n",
    "texts = data_lemmatized\n",
    "\n",
    "# Term Document Frequency\n",
    "corpus = [id2word.doc2bow(text) for text in texts]\n",
    "\n",
    "# View\n",
    "print(corpus[:1])"
   ]
  },
  {
   "cell_type": "code",
   "execution_count": 17,
   "id": "b5ab8993",
   "metadata": {},
   "outputs": [
    {
     "data": {
      "text/plain": [
       "[[('anyway', 1),\n",
       "  ('cancel', 3),\n",
       "  ('couple', 1),\n",
       "  ('face', 1),\n",
       "  ('free', 1),\n",
       "  ('hit', 1),\n",
       "  ('homerun', 1),\n",
       "  ('long', 1),\n",
       "  ('lose', 1),\n",
       "  ('make', 1),\n",
       "  ('mean', 1),\n",
       "  ('mile', 1),\n",
       "  ('min', 1),\n",
       "  ('name', 1),\n",
       "  ('order', 1),\n",
       "  ('palm', 1),\n",
       "  ('pickup', 2),\n",
       "  ('power', 1),\n",
       "  ('pretty', 1),\n",
       "  ('road', 1),\n",
       "  ('second', 1),\n",
       "  ('service', 1),\n",
       "  ('shave', 1),\n",
       "  ('station', 1),\n",
       "  ('suck', 1),\n",
       "  ('time', 1),\n",
       "  ('truck', 1),\n",
       "  ('turn', 1),\n",
       "  ('well', 1),\n",
       "  ('wrong', 1)]]"
      ]
     },
     "execution_count": 17,
     "metadata": {},
     "output_type": "execute_result"
    }
   ],
   "source": [
    "# Human readable format of corpus (term-frequency)\n",
    "[[(id2word[id], freq) for id, freq in cp] for cp in corpus[:1]]"
   ]
  },
  {
   "cell_type": "markdown",
   "id": "a5640809",
   "metadata": {},
   "source": [
    "# LDA models"
   ]
  },
  {
   "cell_type": "code",
   "execution_count": 21,
   "id": "1ec97796",
   "metadata": {},
   "outputs": [
    {
     "data": {
      "text/plain": [
       "[(0,\n",
       "  '0.155*\"ride\" + 0.031*\"app\" + 0.030*\"pickup\" + 0.030*\"request\" + 0.029*\"message\" + 0.024*\"airport\" + 0.023*\"tip\" + 0.023*\"stop\" + 0.022*\"hour\" + 0.017*\"realize\"'),\n",
       " (1,\n",
       "  '0.033*\"night\" + 0.025*\"stop\" + 0.024*\"eat\" + 0.021*\"month\" + 0.018*\"hard\" + 0.016*\"make\" + 0.015*\"sound\" + 0.015*\"kind\" + 0.014*\"pass\" + 0.014*\"play\"'),\n",
       " (2,\n",
       "  '0.078*\"trip\" + 0.045*\"mile\" + 0.044*\"drop\" + 0.036*\"time\" + 0.029*\"ping\" + 0.024*\"check\" + 0.024*\"destination\" + 0.022*\"surge\" + 0.021*\"end\" + 0.020*\"pick\"'),\n",
       " (3,\n",
       "  '0.057*\"pay\" + 0.045*\"time\" + 0.038*\"tip\" + 0.037*\"hour\" + 0.022*\"delivery\" + 0.022*\"offer\" + 0.017*\"service\" + 0.017*\"rate\" + 0.016*\"part\" + 0.015*\"accept\"'),\n",
       " (4,\n",
       "  '0.033*\"talk\" + 0.024*\"pandemic\" + 0.022*\"pick\" + 0.020*\"girlfriend\" + 0.019*\"young\" + 0.019*\"year\" + 0.019*\"feel\" + 0.019*\"life\" + 0.016*\"share\" + 0.015*\"great\"'),\n",
       " (5,\n",
       "  '0.065*\"good\" + 0.040*\"area\" + 0.030*\"money\" + 0.021*\"week\" + 0.020*\"day\" + 0.018*\"work\" + 0.018*\"time\" + 0.017*\"company\" + 0.017*\"cost\" + 0.015*\"break\"'),\n",
       " (6,\n",
       "  '0.032*\"order\" + 0.022*\"customer\" + 0.017*\"vehicle\" + 0.017*\"restaurant\" + 0.015*\"friend\" + 0.015*\"drink\" + 0.015*\"immediately\" + 0.014*\"mask\" + 0.014*\"refuse\" + 0.013*\"foot\"'),\n",
       " (7,\n",
       "  '0.034*\"drive\" + 0.024*\"seat\" + 0.024*\"nice\" + 0.022*\"reply\" + 0.022*\"hear\" + 0.019*\"sit\" + 0.019*\"bar\" + 0.018*\"drunk\" + 0.016*\"night\" + 0.015*\"question\"'),\n",
       " (8,\n",
       "  '0.070*\"minute\" + 0.069*\"phone\" + 0.051*\"wait\" + 0.045*\"cancel\" + 0.028*\"turn\" + 0.025*\"passenger\" + 0.023*\"number\" + 0.022*\"support\" + 0.021*\"bad\" + 0.019*\"give\"'),\n",
       " (9,\n",
       "  '0.032*\"run\" + 0.022*\"big\" + 0.021*\"road\" + 0.020*\"hit\" + 0.019*\"food\" + 0.019*\"window\" + 0.019*\"car\" + 0.017*\"problem\" + 0.014*\"deal\" + 0.013*\"close\"')]"
      ]
     },
     "execution_count": 21,
     "metadata": {},
     "output_type": "execute_result"
    }
   ],
   "source": [
    "n_topics = 10\n",
    "\n",
    "# model estimation\n",
    "lda_mallet = gensim.models.wrappers.LdaMallet(MALLET_PATH,\n",
    "                                              corpus = corpus,\n",
    "                                              num_topics = n_topics,\n",
    "                                              id2word = id2word,\n",
    "                                              random_seed = 1234)\n",
    "\n",
    "# print results\n",
    "lda_mallet.print_topics(num_topics = n_topics, num_words = 10)"
   ]
  },
  {
   "cell_type": "markdown",
   "id": "51bce1f8",
   "metadata": {},
   "source": [
    "# LDA Vis"
   ]
  },
  {
   "cell_type": "code",
   "execution_count": 22,
   "id": "b3cd6c8f",
   "metadata": {},
   "outputs": [],
   "source": [
    "#from mallet to gensim\n",
    "lda_mallet_g = gensim.models.wrappers.ldamallet.malletmodel2ldamodel(lda_mallet)"
   ]
  },
  {
   "cell_type": "code",
   "execution_count": 24,
   "id": "ee570ff4",
   "metadata": {},
   "outputs": [
    {
     "data": {
      "text/html": [
       "\n",
       "<link rel=\"stylesheet\" type=\"text/css\" href=\"https://cdn.jsdelivr.net/gh/bmabey/pyLDAvis@3.3.1/pyLDAvis/js/ldavis.v1.0.0.css\">\n",
       "\n",
       "\n",
       "<div id=\"ldavis_el64645140224568947984970296769\"></div>\n",
       "<script type=\"text/javascript\">\n",
       "\n",
       "var ldavis_el64645140224568947984970296769_data = {\"mdsDat\": {\"x\": [0.20238291601139696, 0.22689128846160525, 0.08697599442317488, 0.029307754307204822, 0.02120450461082632, -0.06060477108543771, 0.11145773427381493, -0.11829559656128737, -0.2488413875055808, -0.25047843693571753], \"y\": [0.02353055019014729, -0.004512302025615064, 0.12384217017430323, -0.11404846891517613, -0.08531095394315204, 0.2327603456494569, -0.20469429650049492, 0.2625411065268542, -0.011380967859698853, -0.22272718329662478], \"topics\": [1, 2, 3, 4, 5, 6, 7, 8, 9, 10], \"cluster\": [1, 1, 1, 1, 1, 1, 1, 1, 1, 1], \"Freq\": [10.566277256095054, 10.533801909732023, 10.428405149728809, 10.128590578571965, 10.059533441246812, 9.803115531390572, 9.722416446172556, 9.63188190414956, 9.603278649718764, 9.522699133193903]}, \"tinfo\": {\"Term\": [\"ride\", \"trip\", \"minute\", \"phone\", \"good\", \"pay\", \"wait\", \"time\", \"mile\", \"drop\", \"cancel\", \"tip\", \"area\", \"hour\", \"night\", \"drive\", \"talk\", \"run\", \"order\", \"stop\", \"turn\", \"ping\", \"pick\", \"pickup\", \"request\", \"money\", \"message\", \"app\", \"passenger\", \"nice\", \"live\", \"misunderstand\", \"begin\", \"civic\", \"continental\", \"extremely\", \"law\", \"pandemic\", \"situate\", \"totally\", \"young\", \"admit\", \"hopping\", \"rip\", \"feel\", \"item\", \"kid\", \"renter\", \"hope\", \"year\", \"sense\", \"risk\", \"beautiful\", \"hundred\", \"intresting\", \"detail\", \"family\", \"mellow\", \"charging\", \"great\", \"talk\", \"girlfriend\", \"life\", \"share\", \"issue\", \"stay\", \"large\", \"college\", \"school\", \"buy\", \"story\", \"discuss\", \"agree\", \"learn\", \"sort\", \"world\", \"plan\", \"job\", \"video\", \"completely\", \"pick\", \"show\", \"passenger\", \"pretty\", \"station\", \"wrong\", \"arrive\", \"minute\", \"phone\", \"ac\", \"actor\", \"awesome\", \"boss\", \"call\", \"care\", \"chunk\", \"creator\", \"desk\", \"employable\", \"grandmother\", \"hernia\", \"option\", \"radio\", \"touch\", \"fool\", \"conditioner\", \"eviction\", \"luckily\", \"piercing\", \"instruction\", \"line\", \"number\", \"pm\", \"text\", \"hang\", \"ready\", \"weekend\", \"wallet\", \"voice\", \"ring\", \"luck\", \"eye\", \"promotion\", \"scam\", \"guess\", \"timer\", \"resort\", \"card\", \"skip\", \"previous\", \"support\", \"wait\", \"give\", \"rating\", \"cash\", \"cancel\", \"answer\", \"couple\", \"turn\", \"passenger\", \"address\", \"bad\", \"close\", \"half\", \"reason\", \"nice\", \"explain\", \"apologize\", \"bottle\", \"cold\", \"cut\", \"bring\", \"leave\", \"sandal\", \"pissed\", \"size\", \"towel\", \"urine\", \"wet\", \"smoke\", \"chin\", \"scream\", \"rack\", \"plate\", \"vomit\", \"mark\", \"yell\", \"pickle\", \"arm\", \"body\", \"interviewer\", \"gun\", \"trick\", \"professional\", \"hazard\", \"drive\", \"bar\", \"boyfriend\", \"laugh\", \"situation\", \"follow\", \"suddenly\", \"group\", \"wine\", \"police\", \"repeat\", \"sad\", \"party\", \"write\", \"birthday\", \"clean\", \"door\", \"lie\", \"respond\", \"cell\", \"seat\", \"reply\", \"drunk\", \"wife\", \"question\", \"sit\", \"hear\", \"case\", \"tonight\", \"point\", \"night\", \"show\", \"business\", \"work\", \"screenshot\", \"company\", \"discover\", \"arthritic\", \"atm\", \"conclusion\", \"earn\", \"enforcement\", \"garage\", \"hire\", \"horizon\", \"interview\", \"obese\", \"paramedic\", \"price\", \"profitable\", \"program\", \"rideshare\", \"roof\", \"rubber\", \"section\", \"spot\", \"term\", \"water\", \"week\", \"market\", \"respect\", \"break\", \"area\", \"cost\", \"hair\", \"bonus\", \"love\", \"good\", \"benefit\", \"late\", \"earning\", \"dollar\", \"chance\", \"idea\", \"local\", \"interesting\", \"gig\", \"sell\", \"regard\", \"forum\", \"kinda\", \"major\", \"date\", \"money\", \"gas\", \"day\", \"post\", \"result\", \"lose\", \"location\", \"turn\", \"time\", \"app\", \"side\", \"mile\", \"schedule\", \"end\", \"assist\", \"distance\", \"drop\", \"hot\", \"unheard\", \"surge\", \"route\", \"status\", \"pop\", \"recall\", \"distant\", \"downtown\", \"freaking\", \"tourist\", \"identify\", \"racist\", \"safety\", \"purchase\", \"flash\", \"depressed\", \"compensation\", \"bird\", \"clinic\", \"pound\", \"subdivision\", \"holder\", \"bumble\", \"trip\", \"ping\", \"check\", \"destination\", \"short\", \"morning\", \"house\", \"add\", \"stack\", \"demand\", \"mirror\", \"patient\", \"cheap\", \"cart\", \"awful\", \"final\", \"medical\", \"south\", \"air\", \"highway\", \"return\", \"notice\", \"head\", \"small\", \"online\", \"set\", \"hold\", \"lot\", \"time\", \"pick\", \"point\", \"bag\", \"happen\", \"screen\", \"hit\", \"city\", \"road\", \"performance\", \"deal\", \"doubt\", \"problem\", \"anymore\", \"bald\", \"big\", \"brake\", \"competitive\", \"divine\", \"flip\", \"join\", \"owner\", \"run\", \"strike\", \"team\", \"tire\", \"involve\", \"traffic\", \"alot\", \"bungalow\", \"deliver\", \"lift\", \"total\", \"window\", \"mph\", \"piece\", \"fake\", \"faux\", \"car\", \"park\", \"report\", \"street\", \"parking\", \"busy\", \"speed\", \"throw\", \"insurance\", \"stick\", \"slowly\", \"court\", \"snow\", \"remove\", \"easily\", \"unlock\", \"dealer\", \"charge\", \"dog\", \"avoid\", \"jump\", \"food\", \"hit\", \"roll\", \"pull\", \"send\", \"top\", \"close\", \"walk\", \"happen\", \"stop\", \"face\", \"apartment\", \"raise\", \"mask\", \"refuse\", \"remind\", \"repeatedly\", \"act\", \"forget\", \"main\", \"mom\", \"song\", \"wear\", \"grateful\", \"mind\", \"automatically\", \"shock\", \"massive\", \"fortunately\", \"mistake\", \"careful\", \"manager\", \"remain\", \"enter\", \"apparently\", \"blame\", \"catch\", \"employee\", \"negative\", \"satisfaction\", \"order\", \"customer\", \"vehicle\", \"drink\", \"friend\", \"shit\", \"foot\", \"daughter\", \"listen\", \"music\", \"suburb\", \"exit\", \"watch\", \"complain\", \"brand\", \"neighborhood\", \"restaurant\", \"immediately\", \"word\", \"worker\", \"star\", \"bad\", \"time\", \"homerun\", \"truck\", \"hubby\", \"honest\", \"crazy\", \"funny\", \"needless\", \"turning\", \"church\", \"intervention\", \"move\", \"unit\", \"month\", \"multiple\", \"fall\", \"kindly\", \"authorized\", \"past\", \"put\", \"upload\", \"clear\", \"oak\", \"obliterate\", \"pass\", \"ramp\", \"clock\", \"closely\", \"bank\", \"strange\", \"coupon\", \"eat\", \"kind\", \"sound\", \"mention\", \"hand\", \"guy\", \"fine\", \"speak\", \"drug\", \"finish\", \"enjoy\", \"surprise\", \"ant\", \"direction\", \"black\", \"ago\", \"upset\", \"control\", \"fart\", \"loss\", \"feeling\", \"fun\", \"make\", \"play\", \"hard\", \"happy\", \"night\", \"stop\", \"side\", \"walk\", \"entire\", \"pickup\", \"concert\", \"fare\", \"message\", \"request\", \"scheduled\", \"snooty\", \"eyebrow\", \"notification\", \"quick\", \"photo\", \"verbally\", \"afternoon\", \"airport\", \"chronic\", \"decent\", \"flight\", \"hotel\", \"pain\", \"shoot\", \"strand\", \"submit\", \"suit\", \"theme\", \"graveyard\", \"generous\", \"tipper\", \"realize\", \"annual\", \"confirm\", \"ride\", \"town\", \"sign\", \"mess\", \"dark\", \"slide\", \"rest\", \"terminal\", \"score\", \"true\", \"acceptance\", \"cancellation\", \"process\", \"stare\", \"multiplier\", \"treat\", \"min\", \"long\", \"block\", \"account\", \"safe\", \"low\", \"start\", \"app\", \"light\", \"stop\", \"tip\", \"hour\", \"dude\", \"accept\", \"fee\", \"cancel\", \"service\", \"pay\", \"rate\", \"amount\", \"email\", \"include\", \"part\", \"regular\", \"worth\", \"delivery\", \"worry\", \"expect\", \"due\", \"separate\", \"interest\", \"rs\", \"test\", \"site\", \"dedicated\", \"wow\", \"policy\", \"useless\", \"basically\", \"independent\", \"miss\", \"newlywed\", \"scratch\", \"unsafe\", \"wind\", \"wound\", \"load\", \"community\", \"figure\", \"decline\", \"claim\", \"grocery\", \"base\", \"taxi\", \"cab\", \"platform\", \"shopping\", \"offer\", \"change\", \"store\", \"lyft\", \"receive\", \"recently\", \"tip\", \"hour\", \"time\", \"fee\", \"accept\", \"high\", \"free\"], \"Freq\": [283.0, 148.0, 141.0, 139.0, 127.0, 103.0, 110.0, 208.0, 85.0, 84.0, 100.0, 112.0, 78.0, 108.0, 93.0, 67.0, 66.0, 60.0, 59.0, 99.0, 80.0, 56.0, 81.0, 54.0, 54.0, 60.0, 53.0, 91.0, 73.0, 48.0, 13.572798663211355, 1.131066555267613, 20.35919799481703, 1.131066555267613, 1.131066555267613, 12.441732107943741, 10.179598997408515, 47.50479532123974, 1.131066555267613, 9.048532442140903, 38.45626287909884, 6.786399331605677, 1.131066555267613, 3.3931996658028387, 38.45626287909884, 9.048532442140903, 12.441732107943741, 1.131066555267613, 26.014530771155094, 38.45626287909884, 18.097064884281806, 10.179598997408515, 7.91746588687329, 1.131066555267613, 3.3931996658028387, 18.097064884281806, 14.703865218478969, 1.131066555267613, 1.131066555267613, 30.538796992225546, 66.73292676078917, 39.58732943436645, 37.32519632383123, 32.80093010276077, 26.014530771155094, 23.75239766061987, 22.621331105352258, 20.35919799481703, 20.35919799481703, 20.35919799481703, 19.22813143954942, 18.097064884281806, 18.097064884281806, 18.097064884281806, 15.83493177374658, 15.83493177374658, 13.572798663211355, 13.572798663211355, 21.490264550084646, 21.490264550084646, 44.1115956554369, 21.490264550084646, 22.621331105352258, 33.13886542455155, 8.837030779880413, 20.987948102215984, 35.34812311952165, 141.3924924780866, 139.18323478311652, 3.3138865424551547, 1.1046288474850516, 3.3138865424551547, 3.3138865424551547, 29.824978882096396, 27.61572118712629, 2.2092576949701033, 1.1046288474850516, 6.627773084910309, 1.1046288474850516, 1.1046288474850516, 1.1046288474850516, 8.837030779880413, 8.837030779880413, 6.627773084910309, 1.1046288474850516, 1.1046288474850516, 1.1046288474850516, 8.837030779880413, 1.1046288474850516, 4.4185153899402065, 19.883319254730928, 45.28978274688712, 6.627773084910309, 19.883319254730928, 16.569432712275773, 15.464803864790724, 14.360175017305671, 14.360175017305671, 12.150917322335568, 12.150917322335568, 12.150917322335568, 12.150917322335568, 11.046288474850517, 9.941659627365464, 9.941659627365464, 9.941659627365464, 8.837030779880413, 8.837030779880413, 8.837030779880413, 7.732401932395362, 44.18515389940207, 102.73048281610981, 38.6620096619768, 26.511092339641237, 25.40646349215619, 90.57956549377424, 35.34812311952165, 37.55738081449175, 55.23144237425258, 50.81292698431238, 18.778690407245875, 41.97589620443197, 23.197205797186086, 14.360175017305671, 15.464803864790724, 48.3817766935793, 27.003782340602395, 7.876103182675698, 15.752206365351396, 6.750945585150599, 15.752206365351396, 23.628309548027097, 13.501891170301198, 3.3754727925752994, 6.750945585150599, 3.3754727925752994, 7.876103182675698, 3.3754727925752994, 14.627048767826297, 3.3754727925752994, 3.3754727925752994, 6.750945585150599, 3.3754727925752994, 6.750945585150599, 3.3754727925752994, 3.3754727925752994, 13.501891170301198, 3.3754727925752994, 6.750945585150599, 13.501891170301198, 3.3754727925752994, 3.3754727925752994, 13.501891170301198, 3.3754727925752994, 6.750945585150599, 67.50945585150599, 38.2553583158534, 29.254097535652594, 22.503151950501998, 20.2528367554518, 19.1276791579267, 19.1276791579267, 18.0025215604016, 18.0025215604016, 12.3767335727761, 12.3767335727761, 12.3767335727761, 12.3767335727761, 12.3767335727761, 12.3767335727761, 11.251575975250999, 11.251575975250999, 11.251575975250999, 11.251575975250999, 11.251575975250999, 48.3817766935793, 43.88114630347889, 36.0050431208032, 28.128939938127495, 30.379255133177693, 38.2553583158534, 43.88114630347889, 16.877363962876498, 15.752206365351396, 28.128939938127495, 32.62957032822789, 14.627048767826297, 24.52792390208217, 35.67698022121043, 6.689433791476955, 33.447168957384775, 3.3447168957384776, 1.1149056319128259, 1.1149056319128259, 3.3447168957384776, 6.689433791476955, 3.3447168957384776, 3.3447168957384776, 4.4596225276513035, 1.1149056319128259, 3.3447168957384776, 1.1149056319128259, 1.1149056319128259, 21.183207006343693, 4.4596225276513035, 4.4596225276513035, 20.068301374430867, 2.2298112638256518, 1.1149056319128259, 5.57452815956413, 12.263961951041084, 7.804339423389782, 7.804339423389782, 40.13660274886173, 21.183207006343693, 5.57452815956413, 28.987546429733474, 78.04339423389781, 33.447168957384775, 26.75773516590782, 25.642829533994995, 25.642829533994995, 124.8694307742365, 18.95339574251804, 18.95339574251804, 18.95339574251804, 17.838490110605214, 17.838490110605214, 16.723584478692388, 15.608678846779563, 14.493773214866737, 13.37886758295391, 13.37886758295391, 11.14905631912826, 11.14905631912826, 8.919245055302607, 8.919245055302607, 8.919245055302607, 57.97509285946695, 26.75773516590782, 39.02169711694891, 25.642829533994995, 16.723584478692388, 21.183207006343693, 17.838490110605214, 25.642829533994995, 34.5620745892976, 24.52792390208217, 16.723584478692388, 85.97239398954744, 12.124311972884895, 39.6795664567142, 3.3066305380595167, 9.91989161417855, 84.87018381019426, 13.226522152238067, 3.3066305380595167, 42.98619699477372, 12.124311972884895, 3.3066305380595167, 13.226522152238067, 3.3066305380595167, 3.3066305380595167, 12.124311972884895, 3.3066305380595167, 3.3066305380595167, 3.3066305380595167, 3.3066305380595167, 3.3066305380595167, 3.3066305380595167, 3.3066305380595167, 3.3066305380595167, 3.3066305380595167, 3.3066305380595167, 3.3066305380595167, 3.3066305380595167, 3.3066305380595167, 3.3066305380595167, 3.3066305380595167, 148.79837421267825, 56.21271914701179, 46.292827532833236, 45.19061735348007, 33.06630538059517, 28.65746466318248, 27.55525448382931, 22.044203587063446, 17.63536286965076, 15.430942510944414, 14.32873233159124, 11.022101793531723, 8.81768143482538, 8.81768143482538, 8.81768143482538, 7.715471255472207, 7.715471255472207, 7.715471255472207, 5.511050896765862, 5.511050896765862, 29.759674842535652, 26.453044304476133, 31.964095201241996, 16.533152690297584, 18.73757304900393, 18.73757304900393, 14.32873233159124, 11.022101793531723, 68.33703111989668, 37.47514609800786, 28.65746466318248, 17.63536286965076, 19.8397832283571, 13.226522152238067, 17.63536286965076, 14.32873233159124, 39.28845983611212, 1.1225274238889178, 26.940658173334025, 6.735164543333506, 31.430767868889692, 14.59285651055593, 4.490109695555671, 41.533514683889955, 10.102746815000259, 2.2450548477778356, 1.1225274238889178, 5.612637119444589, 3.367582271666753, 2.2450548477778356, 60.616480890001554, 5.612637119444589, 5.612637119444589, 3.367582271666753, 10.102746815000259, 19.0829662061116, 3.367582271666753, 1.1225274238889178, 20.205493630000518, 6.735164543333506, 24.69560332555619, 34.798350140556444, 6.735164543333506, 11.225274238889178, 5.612637119444589, 1.1225274238889178, 34.798350140556444, 24.69560332555619, 23.57307590166727, 20.205493630000518, 17.960438782222685, 13.470329086667013, 12.347801662778094, 12.347801662778094, 11.225274238889178, 11.225274238889178, 11.225274238889178, 10.102746815000259, 8.980219391111342, 8.980219391111342, 8.980219391111342, 7.857691967222423, 7.857691967222423, 21.328021053889433, 17.960438782222685, 22.450548477778355, 13.470329086667013, 35.92087756444537, 38.1659324122232, 22.450548477778355, 17.960438782222685, 20.205493630000518, 15.715383934444846, 24.69560332555619, 21.328021053889433, 19.0829662061116, 12.347801662778094, 21.171534053185347, 15.290552371744976, 7.057178017728449, 25.876319398337646, 25.876319398337646, 8.233374354016524, 3.5285890088642247, 16.466748708033048, 12.938159699168823, 8.233374354016524, 14.114356035456899, 17.642945044321124, 17.642945044321124, 8.233374354016524, 21.171534053185347, 3.5285890088642247, 8.233374354016524, 7.057178017728449, 3.5285890088642247, 14.114356035456899, 3.5285890088642247, 15.290552371744976, 7.057178017728449, 16.466748708033048, 8.233374354016524, 8.233374354016524, 8.233374354016524, 17.642945044321124, 8.233374354016524, 3.5285890088642247, 59.98601315069182, 39.99067543379455, 31.757301079778024, 27.052515734625725, 27.052515734625725, 23.5239267257615, 23.5239267257615, 22.347730389473426, 22.347730389473426, 22.347730389473426, 17.642945044321124, 16.466748708033048, 15.290552371744976, 11.76196336288075, 11.76196336288075, 11.76196336288075, 30.581104743489952, 27.052515734625725, 16.466748708033048, 14.114356035456899, 15.290552371744976, 21.171534053185347, 21.171534053185347, 1.1549772045416342, 6.929863227249805, 1.1549772045416342, 5.774886022708171, 8.08484043179144, 16.16968086358288, 3.4649316136249024, 1.1549772045416342, 5.774886022708171, 1.1549772045416342, 19.63461247720778, 1.1549772045416342, 39.26922495441556, 16.16968086358288, 16.16968086358288, 2.3099544090832684, 1.1549772045416342, 17.324658068124513, 13.85972645449961, 4.619908818166537, 4.619908818166537, 2.3099544090832684, 1.1549772045416342, 25.40949849991595, 3.4649316136249024, 4.619908818166537, 1.1549772045416342, 3.4649316136249024, 9.239817636333074, 6.929863227249805, 43.8891337725821, 27.71945290899922, 27.71945290899922, 24.254521295374317, 21.94456688629105, 21.94456688629105, 20.789589681749415, 19.63461247720778, 18.479635272666147, 17.324658068124513, 16.16968086358288, 15.014703659041242, 15.014703659041242, 13.85972645449961, 12.704749249957976, 12.704749249957976, 11.549772045416342, 11.549772045416342, 10.394794840874708, 10.394794840874708, 10.394794840874708, 10.394794840874708, 28.87443011354085, 25.40949849991595, 33.49433893170739, 18.479635272666147, 61.21379184070661, 46.19908818166537, 20.789589681749415, 21.94456688629105, 17.324658068124513, 54.83830396449738, 5.595745302499732, 29.097875572998603, 53.719154903997435, 54.83830396449738, 2.2382981209998927, 1.1191490604999463, 1.1191490604999463, 5.595745302499732, 15.66808684699925, 4.476596241999785, 1.1191490604999463, 8.95319248399957, 43.64681335949791, 1.1191490604999463, 10.072341544499519, 10.072341544499519, 22.382981209998928, 4.476596241999785, 10.072341544499519, 2.2382981209998927, 8.95319248399957, 2.2382981209998927, 3.3574471814998397, 1.1191490604999463, 2.2382981209998927, 1.1191490604999463, 31.3361736939985, 1.1191490604999463, 12.31063966549941, 283.14471230648644, 27.97872651249866, 20.144683088999038, 17.90638496799914, 13.429788725999359, 8.95319248399957, 8.95319248399957, 8.95319248399957, 8.95319248399957, 7.834043423499625, 6.714894362999679, 6.714894362999679, 6.714894362999679, 6.714894362999679, 6.714894362999679, 6.714894362999679, 26.859577451998717, 20.144683088999038, 24.62127933099882, 24.62127933099882, 13.429788725999359, 23.502130270498878, 24.62127933099882, 55.95745302499732, 23.502130270498878, 41.40851523849802, 42.52766429899796, 40.289366177998076, 13.429788725999359, 19.025534028499088, 14.548937786499302, 10.072341544499519, 30.978501585052097, 103.99925532124632, 30.978501585052097, 23.23387618878907, 23.23387618878907, 12.170125622699036, 28.765751471834086, 12.170125622699036, 18.808375962353058, 39.829502037924115, 14.382875735917043, 12.170125622699036, 9.957375509481029, 7.744625396263024, 7.744625396263024, 7.744625396263024, 12.170125622699036, 7.744625396263024, 1.1063750566090034, 1.1063750566090034, 6.638250339654021, 2.2127501132180067, 13.276500679308041, 4.4255002264360135, 22.12750113218007, 1.1063750566090034, 1.1063750566090034, 2.2127501132180067, 1.1063750566090034, 2.2127501132180067, 21.021126075571065, 17.702000905744054, 16.59562584913505, 16.59562584913505, 16.59562584913505, 16.59562584913505, 13.276500679308041, 11.063750566090034, 8.851000452872027, 8.851000452872027, 8.851000452872027, 39.829502037924115, 25.44662630200708, 24.340251245398072, 23.23387618878907, 21.021126075571065, 19.914751018962058, 69.7016285663672, 67.4888784531492, 80.76537913245724, 25.44662630200708, 26.553001358616083, 19.914751018962058, 13.276500679308041], \"Total\": [283.0, 148.0, 141.0, 139.0, 127.0, 103.0, 110.0, 208.0, 85.0, 84.0, 100.0, 112.0, 78.0, 108.0, 93.0, 67.0, 66.0, 60.0, 59.0, 99.0, 80.0, 56.0, 81.0, 54.0, 54.0, 60.0, 53.0, 91.0, 73.0, 48.0, 13.572798663211355, 1.131066555267613, 20.35919799481703, 1.131066555267613, 1.131066555267613, 12.441732107943741, 10.179598997408515, 47.50479532123974, 1.131066555267613, 9.048532442140903, 38.45626287909884, 6.786399331605677, 1.131066555267613, 3.3931996658028387, 38.45626287909884, 9.048532442140903, 12.441732107943741, 1.131066555267613, 26.014530771155094, 38.45626287909884, 18.097064884281806, 10.179598997408515, 7.91746588687329, 1.131066555267613, 3.3931996658028387, 18.097064884281806, 14.703865218478969, 1.131066555267613, 1.131066555267613, 30.538796992225546, 66.73292676078917, 39.58732943436645, 37.32519632383123, 32.80093010276077, 26.014530771155094, 23.75239766061987, 22.621331105352258, 20.35919799481703, 20.35919799481703, 20.35919799481703, 19.22813143954942, 18.097064884281806, 18.097064884281806, 18.097064884281806, 15.83493177374658, 15.83493177374658, 13.572798663211355, 13.572798663211355, 22.64524175462628, 24.857846821751398, 81.58674175344476, 36.11731331791094, 73.43425808966464, 33.13886542455155, 8.837030779880413, 20.987948102215984, 35.34812311952165, 141.3924924780866, 139.18323478311652, 3.3138865424551547, 1.1046288474850516, 3.3138865424551547, 3.3138865424551547, 29.824978882096396, 27.61572118712629, 2.2092576949701033, 1.1046288474850516, 6.627773084910309, 1.1046288474850516, 1.1046288474850516, 1.1046288474850516, 8.837030779880413, 8.837030779880413, 6.627773084910309, 1.1046288474850516, 1.1046288474850516, 1.1046288474850516, 8.837030779880413, 1.1046288474850516, 4.4185153899402065, 19.883319254730928, 45.28978274688712, 6.627773084910309, 19.883319254730928, 16.569432712275773, 15.464803864790724, 14.360175017305671, 14.360175017305671, 12.150917322335568, 12.150917322335568, 12.150917322335568, 12.150917322335568, 11.046288474850517, 9.941659627365464, 9.941659627365464, 9.941659627365464, 8.837030779880413, 8.837030779880413, 8.837030779880413, 7.732401932395362, 45.28736407875524, 110.96385717012633, 40.92414277251203, 27.636249937166337, 26.50867367150936, 100.65190703827376, 40.97391110714715, 49.82134276553283, 80.87427190824758, 73.43425808966464, 22.136137588745715, 63.147430257617316, 51.23752601848075, 17.825106630930573, 24.82924477407486, 48.3817766935793, 27.003782340602395, 7.876103182675698, 15.752206365351396, 6.750945585150599, 15.752206365351396, 23.628309548027097, 13.501891170301198, 3.3754727925752994, 6.750945585150599, 3.3754727925752994, 7.876103182675698, 3.3754727925752994, 14.627048767826297, 3.3754727925752994, 3.3754727925752994, 6.750945585150599, 3.3754727925752994, 6.750945585150599, 3.3754727925752994, 3.3754727925752994, 13.501891170301198, 3.3754727925752994, 6.750945585150599, 13.501891170301198, 3.3754727925752994, 3.3754727925752994, 13.501891170301198, 3.3754727925752994, 6.750945585150599, 67.50945585150599, 38.2553583158534, 29.254097535652594, 22.503151950501998, 20.2528367554518, 19.1276791579267, 19.1276791579267, 18.0025215604016, 18.0025215604016, 12.3767335727761, 12.3767335727761, 12.3767335727761, 12.3767335727761, 12.3767335727761, 12.3767335727761, 11.251575975250999, 11.251575975250999, 11.251575975250999, 11.251575975250999, 11.251575975250999, 49.48640554106435, 45.01221285874651, 39.32416829063021, 30.354464055236445, 33.90784414204192, 45.185221543103204, 52.929678745619796, 17.999891386765416, 19.06609290780655, 56.786404601309975, 93.8433621689345, 36.11731331791094, 24.52792390208217, 35.67698022121043, 6.689433791476955, 33.447168957384775, 3.3447168957384776, 1.1149056319128259, 1.1149056319128259, 3.3447168957384776, 6.689433791476955, 3.3447168957384776, 3.3447168957384776, 4.4596225276513035, 1.1149056319128259, 3.3447168957384776, 1.1149056319128259, 1.1149056319128259, 21.183207006343693, 4.4596225276513035, 4.4596225276513035, 20.068301374430867, 2.2298112638256518, 1.1149056319128259, 5.57452815956413, 12.263961951041084, 7.804339423389782, 7.804339423389782, 40.13660274886173, 21.183207006343693, 5.57452815956413, 28.987546429733474, 78.04339423389781, 33.447168957384775, 26.75773516590782, 25.642829533994995, 25.642829533994995, 127.08218088745451, 18.95339574251804, 18.95339574251804, 18.95339574251804, 17.838490110605214, 17.838490110605214, 16.723584478692388, 15.608678846779563, 14.493773214866737, 13.37886758295391, 13.37886758295391, 11.14905631912826, 11.14905631912826, 8.919245055302607, 8.919245055302607, 8.919245055302607, 60.285047268550215, 27.859945345260993, 42.32832765500842, 27.995222206571146, 19.033538887775656, 27.9183715496772, 25.566054706736814, 80.87427190824758, 208.2292185606397, 91.5727229020101, 38.644240715709415, 85.97239398954744, 12.124311972884895, 39.6795664567142, 3.3066305380595167, 9.91989161417855, 84.87018381019426, 13.226522152238067, 3.3066305380595167, 42.98619699477372, 12.124311972884895, 3.3066305380595167, 13.226522152238067, 3.3066305380595167, 3.3066305380595167, 12.124311972884895, 3.3066305380595167, 3.3066305380595167, 3.3066305380595167, 3.3066305380595167, 3.3066305380595167, 3.3066305380595167, 3.3066305380595167, 3.3066305380595167, 3.3066305380595167, 3.3066305380595167, 3.3066305380595167, 3.3066305380595167, 3.3066305380595167, 3.3066305380595167, 3.3066305380595167, 148.79837421267825, 56.21271914701179, 46.292827532833236, 45.19061735348007, 33.06630538059517, 28.65746466318248, 27.55525448382931, 22.044203587063446, 17.63536286965076, 15.430942510944414, 14.32873233159124, 11.022101793531723, 8.81768143482538, 8.81768143482538, 8.81768143482538, 7.715471255472207, 7.715471255472207, 7.715471255472207, 5.511050896765862, 5.511050896765862, 30.935871178823728, 27.57219336497608, 34.17684531446, 17.655680114186502, 20.99970615953916, 21.0475274580872, 17.72193199739408, 12.177078998073357, 208.2292185606397, 81.58674175344476, 56.786404601309975, 28.886938844901756, 38.9227494344687, 16.583969333737905, 55.80129528187396, 30.15775514759531, 39.28845983611212, 1.1225274238889178, 26.940658173334025, 6.735164543333506, 31.430767868889692, 14.59285651055593, 4.490109695555671, 41.533514683889955, 10.102746815000259, 2.2450548477778356, 1.1225274238889178, 5.612637119444589, 3.367582271666753, 2.2450548477778356, 60.616480890001554, 5.612637119444589, 5.612637119444589, 3.367582271666753, 10.102746815000259, 19.0829662061116, 3.367582271666753, 1.1225274238889178, 20.205493630000518, 6.735164543333506, 24.69560332555619, 34.798350140556444, 6.735164543333506, 11.225274238889178, 5.612637119444589, 1.1225274238889178, 34.798350140556444, 24.69560332555619, 23.57307590166727, 20.205493630000518, 17.960438782222685, 13.470329086667013, 12.347801662778094, 12.347801662778094, 11.225274238889178, 11.225274238889178, 11.225274238889178, 10.102746815000259, 8.980219391111342, 8.980219391111342, 8.980219391111342, 7.857691967222423, 7.857691967222423, 22.434396110498437, 19.085596379747784, 24.671907717631473, 14.58947814716696, 49.68339972307972, 55.80129528187396, 30.16601973325056, 22.58034760038922, 29.15868611400009, 21.289912094008976, 51.23752601848075, 44.44878427646856, 38.9227494344687, 99.95540508294148, 21.171534053185347, 15.290552371744976, 7.057178017728449, 25.876319398337646, 25.876319398337646, 8.233374354016524, 3.5285890088642247, 16.466748708033048, 12.938159699168823, 8.233374354016524, 14.114356035456899, 17.642945044321124, 17.642945044321124, 8.233374354016524, 21.171534053185347, 3.5285890088642247, 8.233374354016524, 7.057178017728449, 3.5285890088642247, 14.114356035456899, 3.5285890088642247, 15.290552371744976, 7.057178017728449, 16.466748708033048, 8.233374354016524, 8.233374354016524, 8.233374354016524, 17.642945044321124, 8.233374354016524, 3.5285890088642247, 59.98601315069182, 39.99067543379455, 31.757301079778024, 27.052515734625725, 27.052515734625725, 23.5239267257615, 23.5239267257615, 22.347730389473426, 22.347730389473426, 22.347730389473426, 17.642945044321124, 16.466748708033048, 15.290552371744976, 11.76196336288075, 11.76196336288075, 11.76196336288075, 31.70363216737887, 35.8701971694511, 18.67116906673939, 16.376489145992124, 20.813696609170236, 63.147430257617316, 208.2292185606397, 1.1549772045416342, 6.929863227249805, 1.1549772045416342, 5.774886022708171, 8.08484043179144, 16.16968086358288, 3.4649316136249024, 1.1549772045416342, 5.774886022708171, 1.1549772045416342, 19.63461247720778, 1.1549772045416342, 39.26922495441556, 16.16968086358288, 16.16968086358288, 2.3099544090832684, 1.1549772045416342, 17.324658068124513, 13.85972645449961, 4.619908818166537, 4.619908818166537, 2.3099544090832684, 1.1549772045416342, 25.40949849991595, 3.4649316136249024, 4.619908818166537, 1.1549772045416342, 3.4649316136249024, 9.239817636333074, 6.929863227249805, 43.8891337725821, 27.71945290899922, 27.71945290899922, 24.254521295374317, 21.94456688629105, 21.94456688629105, 20.789589681749415, 19.63461247720778, 18.479635272666147, 17.324658068124513, 16.16968086358288, 15.014703659041242, 15.014703659041242, 13.85972645449961, 12.704749249957976, 12.704749249957976, 11.549772045416342, 11.549772045416342, 10.394794840874708, 10.394794840874708, 10.394794840874708, 10.394794840874708, 31.087180226758857, 27.67163161045118, 41.298678355097174, 20.7094465364918, 93.8433621689345, 99.95540508294148, 38.644240715709415, 44.44878427646856, 26.304877459235854, 54.83830396449738, 5.595745302499732, 29.097875572998603, 53.719154903997435, 54.83830396449738, 2.2382981209998927, 1.1191490604999463, 1.1191490604999463, 5.595745302499732, 15.66808684699925, 4.476596241999785, 1.1191490604999463, 8.95319248399957, 43.64681335949791, 1.1191490604999463, 10.072341544499519, 10.072341544499519, 22.382981209998928, 4.476596241999785, 10.072341544499519, 2.2382981209998927, 8.95319248399957, 2.2382981209998927, 3.3574471814998397, 1.1191490604999463, 2.2382981209998927, 1.1191490604999463, 31.3361736939985, 1.1191490604999463, 12.31063966549941, 283.14471230648644, 27.97872651249866, 20.144683088999038, 17.90638496799914, 13.429788725999359, 8.95319248399957, 8.95319248399957, 8.95319248399957, 8.95319248399957, 7.834043423499625, 6.714894362999679, 6.714894362999679, 6.714894362999679, 6.714894362999679, 6.714894362999679, 6.714894362999679, 27.982104875887636, 21.299660293540672, 27.94544265788175, 28.01447899680166, 14.544694357912185, 27.927630496934892, 31.342921680688598, 91.5727229020101, 32.6565072669886, 99.95540508294148, 112.22929286536517, 108.88045481050045, 19.20467474870753, 46.733512591656805, 39.995564088506384, 100.65190703827376, 30.978501585052097, 103.99925532124632, 30.978501585052097, 23.23387618878907, 23.23387618878907, 12.170125622699036, 28.765751471834086, 12.170125622699036, 18.808375962353058, 39.829502037924115, 14.382875735917043, 12.170125622699036, 9.957375509481029, 7.744625396263024, 7.744625396263024, 7.744625396263024, 12.170125622699036, 7.744625396263024, 1.1063750566090034, 1.1063750566090034, 6.638250339654021, 2.2127501132180067, 13.276500679308041, 4.4255002264360135, 22.12750113218007, 1.1063750566090034, 1.1063750566090034, 2.2127501132180067, 1.1063750566090034, 2.2127501132180067, 21.021126075571065, 17.702000905744054, 16.59562584913505, 16.59562584913505, 16.59562584913505, 16.59562584913505, 13.276500679308041, 11.063750566090034, 8.851000452872027, 8.851000452872027, 8.851000452872027, 42.079817232974314, 26.57769285727469, 25.495228449939706, 24.410072525077144, 22.143653499459983, 21.04581757422967, 112.22929286536517, 108.88045481050045, 208.2292185606397, 39.995564088506384, 46.733512591656805, 35.52342986574162, 23.67129552018275], \"Category\": [\"Default\", \"Default\", \"Default\", \"Default\", \"Default\", \"Default\", \"Default\", \"Default\", \"Default\", \"Default\", \"Default\", \"Default\", \"Default\", \"Default\", \"Default\", \"Default\", \"Default\", \"Default\", \"Default\", \"Default\", \"Default\", \"Default\", \"Default\", \"Default\", \"Default\", \"Default\", \"Default\", \"Default\", \"Default\", \"Default\", \"Topic1\", \"Topic1\", \"Topic1\", \"Topic1\", \"Topic1\", \"Topic1\", \"Topic1\", \"Topic1\", \"Topic1\", \"Topic1\", \"Topic1\", \"Topic1\", \"Topic1\", \"Topic1\", \"Topic1\", \"Topic1\", \"Topic1\", \"Topic1\", \"Topic1\", \"Topic1\", \"Topic1\", \"Topic1\", \"Topic1\", \"Topic1\", \"Topic1\", \"Topic1\", \"Topic1\", \"Topic1\", \"Topic1\", \"Topic1\", \"Topic1\", \"Topic1\", \"Topic1\", \"Topic1\", \"Topic1\", \"Topic1\", \"Topic1\", \"Topic1\", \"Topic1\", \"Topic1\", \"Topic1\", \"Topic1\", \"Topic1\", \"Topic1\", \"Topic1\", \"Topic1\", \"Topic1\", \"Topic1\", \"Topic1\", \"Topic1\", \"Topic1\", \"Topic1\", \"Topic1\", \"Topic2\", \"Topic2\", \"Topic2\", \"Topic2\", \"Topic2\", \"Topic2\", \"Topic2\", \"Topic2\", \"Topic2\", \"Topic2\", \"Topic2\", \"Topic2\", \"Topic2\", \"Topic2\", \"Topic2\", \"Topic2\", \"Topic2\", \"Topic2\", \"Topic2\", \"Topic2\", \"Topic2\", \"Topic2\", \"Topic2\", \"Topic2\", \"Topic2\", \"Topic2\", \"Topic2\", \"Topic2\", \"Topic2\", \"Topic2\", \"Topic2\", \"Topic2\", \"Topic2\", \"Topic2\", \"Topic2\", \"Topic2\", \"Topic2\", \"Topic2\", \"Topic2\", \"Topic2\", \"Topic2\", \"Topic2\", \"Topic2\", \"Topic2\", \"Topic2\", \"Topic2\", \"Topic2\", \"Topic2\", \"Topic2\", \"Topic2\", \"Topic2\", \"Topic2\", \"Topic2\", \"Topic2\", \"Topic2\", \"Topic2\", \"Topic2\", \"Topic2\", \"Topic2\", \"Topic2\", \"Topic2\", \"Topic2\", \"Topic3\", \"Topic3\", \"Topic3\", \"Topic3\", \"Topic3\", \"Topic3\", \"Topic3\", \"Topic3\", \"Topic3\", \"Topic3\", \"Topic3\", \"Topic3\", \"Topic3\", \"Topic3\", \"Topic3\", \"Topic3\", \"Topic3\", \"Topic3\", \"Topic3\", \"Topic3\", \"Topic3\", \"Topic3\", \"Topic3\", \"Topic3\", \"Topic3\", \"Topic3\", \"Topic3\", \"Topic3\", \"Topic3\", \"Topic3\", \"Topic3\", \"Topic3\", \"Topic3\", \"Topic3\", \"Topic3\", \"Topic3\", \"Topic3\", \"Topic3\", \"Topic3\", \"Topic3\", \"Topic3\", \"Topic3\", \"Topic3\", \"Topic3\", \"Topic3\", \"Topic3\", \"Topic3\", \"Topic3\", \"Topic3\", \"Topic3\", \"Topic3\", \"Topic3\", \"Topic3\", \"Topic3\", \"Topic3\", \"Topic3\", \"Topic3\", \"Topic3\", \"Topic3\", \"Topic3\", \"Topic3\", \"Topic3\", \"Topic4\", \"Topic4\", \"Topic4\", \"Topic4\", \"Topic4\", \"Topic4\", \"Topic4\", \"Topic4\", \"Topic4\", \"Topic4\", \"Topic4\", \"Topic4\", \"Topic4\", \"Topic4\", \"Topic4\", \"Topic4\", \"Topic4\", \"Topic4\", \"Topic4\", \"Topic4\", \"Topic4\", \"Topic4\", \"Topic4\", \"Topic4\", \"Topic4\", \"Topic4\", \"Topic4\", \"Topic4\", \"Topic4\", \"Topic4\", \"Topic4\", \"Topic4\", \"Topic4\", \"Topic4\", \"Topic4\", \"Topic4\", \"Topic4\", \"Topic4\", \"Topic4\", \"Topic4\", \"Topic4\", \"Topic4\", \"Topic4\", \"Topic4\", \"Topic4\", \"Topic4\", \"Topic4\", \"Topic4\", \"Topic4\", \"Topic4\", \"Topic4\", \"Topic4\", \"Topic4\", \"Topic4\", \"Topic4\", \"Topic4\", \"Topic4\", \"Topic4\", \"Topic4\", \"Topic4\", \"Topic4\", \"Topic4\", \"Topic5\", \"Topic5\", \"Topic5\", \"Topic5\", \"Topic5\", \"Topic5\", \"Topic5\", \"Topic5\", \"Topic5\", \"Topic5\", \"Topic5\", \"Topic5\", \"Topic5\", \"Topic5\", \"Topic5\", \"Topic5\", \"Topic5\", \"Topic5\", \"Topic5\", \"Topic5\", \"Topic5\", \"Topic5\", \"Topic5\", \"Topic5\", \"Topic5\", \"Topic5\", \"Topic5\", \"Topic5\", \"Topic5\", \"Topic5\", \"Topic5\", \"Topic5\", \"Topic5\", \"Topic5\", \"Topic5\", \"Topic5\", \"Topic5\", \"Topic5\", \"Topic5\", \"Topic5\", \"Topic5\", \"Topic5\", \"Topic5\", \"Topic5\", \"Topic5\", \"Topic5\", \"Topic5\", \"Topic5\", \"Topic5\", \"Topic5\", \"Topic5\", \"Topic5\", \"Topic5\", \"Topic5\", \"Topic5\", \"Topic5\", \"Topic5\", \"Topic5\", \"Topic5\", \"Topic5\", \"Topic5\", \"Topic5\", \"Topic5\", \"Topic5\", \"Topic5\", \"Topic5\", \"Topic6\", \"Topic6\", \"Topic6\", \"Topic6\", \"Topic6\", \"Topic6\", \"Topic6\", \"Topic6\", \"Topic6\", \"Topic6\", \"Topic6\", \"Topic6\", \"Topic6\", \"Topic6\", \"Topic6\", \"Topic6\", \"Topic6\", \"Topic6\", \"Topic6\", \"Topic6\", \"Topic6\", \"Topic6\", \"Topic6\", \"Topic6\", \"Topic6\", \"Topic6\", \"Topic6\", \"Topic6\", \"Topic6\", \"Topic6\", \"Topic6\", \"Topic6\", \"Topic6\", \"Topic6\", \"Topic6\", \"Topic6\", \"Topic6\", \"Topic6\", \"Topic6\", \"Topic6\", \"Topic6\", \"Topic6\", \"Topic6\", \"Topic6\", \"Topic6\", \"Topic6\", \"Topic6\", \"Topic6\", \"Topic6\", \"Topic6\", \"Topic6\", \"Topic6\", \"Topic6\", \"Topic6\", \"Topic6\", \"Topic6\", \"Topic6\", \"Topic6\", \"Topic6\", \"Topic6\", \"Topic6\", \"Topic7\", \"Topic7\", \"Topic7\", \"Topic7\", \"Topic7\", \"Topic7\", \"Topic7\", \"Topic7\", \"Topic7\", \"Topic7\", \"Topic7\", \"Topic7\", \"Topic7\", \"Topic7\", \"Topic7\", \"Topic7\", \"Topic7\", \"Topic7\", \"Topic7\", \"Topic7\", \"Topic7\", \"Topic7\", \"Topic7\", \"Topic7\", \"Topic7\", \"Topic7\", \"Topic7\", \"Topic7\", \"Topic7\", \"Topic7\", \"Topic7\", \"Topic7\", \"Topic7\", \"Topic7\", \"Topic7\", \"Topic7\", \"Topic7\", \"Topic7\", \"Topic7\", \"Topic7\", \"Topic7\", \"Topic7\", \"Topic7\", \"Topic7\", \"Topic7\", \"Topic7\", \"Topic7\", \"Topic7\", \"Topic7\", \"Topic7\", \"Topic7\", \"Topic7\", \"Topic7\", \"Topic8\", \"Topic8\", \"Topic8\", \"Topic8\", \"Topic8\", \"Topic8\", \"Topic8\", \"Topic8\", \"Topic8\", \"Topic8\", \"Topic8\", \"Topic8\", \"Topic8\", \"Topic8\", \"Topic8\", \"Topic8\", \"Topic8\", \"Topic8\", \"Topic8\", \"Topic8\", \"Topic8\", \"Topic8\", \"Topic8\", \"Topic8\", \"Topic8\", \"Topic8\", \"Topic8\", \"Topic8\", \"Topic8\", \"Topic8\", \"Topic8\", \"Topic8\", \"Topic8\", \"Topic8\", \"Topic8\", \"Topic8\", \"Topic8\", \"Topic8\", \"Topic8\", \"Topic8\", \"Topic8\", \"Topic8\", \"Topic8\", \"Topic8\", \"Topic8\", \"Topic8\", \"Topic8\", \"Topic8\", \"Topic8\", \"Topic8\", \"Topic8\", \"Topic8\", \"Topic8\", \"Topic8\", \"Topic8\", \"Topic8\", \"Topic8\", \"Topic8\", \"Topic8\", \"Topic8\", \"Topic8\", \"Topic9\", \"Topic9\", \"Topic9\", \"Topic9\", \"Topic9\", \"Topic9\", \"Topic9\", \"Topic9\", \"Topic9\", \"Topic9\", \"Topic9\", \"Topic9\", \"Topic9\", \"Topic9\", \"Topic9\", \"Topic9\", \"Topic9\", \"Topic9\", \"Topic9\", \"Topic9\", \"Topic9\", \"Topic9\", \"Topic9\", \"Topic9\", \"Topic9\", \"Topic9\", \"Topic9\", \"Topic9\", \"Topic9\", \"Topic9\", \"Topic9\", \"Topic9\", \"Topic9\", \"Topic9\", \"Topic9\", \"Topic9\", \"Topic9\", \"Topic9\", \"Topic9\", \"Topic9\", \"Topic9\", \"Topic9\", \"Topic9\", \"Topic9\", \"Topic9\", \"Topic9\", \"Topic9\", \"Topic9\", \"Topic9\", \"Topic9\", \"Topic9\", \"Topic9\", \"Topic9\", \"Topic9\", \"Topic9\", \"Topic9\", \"Topic9\", \"Topic9\", \"Topic9\", \"Topic9\", \"Topic9\", \"Topic9\", \"Topic10\", \"Topic10\", \"Topic10\", \"Topic10\", \"Topic10\", \"Topic10\", \"Topic10\", \"Topic10\", \"Topic10\", \"Topic10\", \"Topic10\", \"Topic10\", \"Topic10\", \"Topic10\", \"Topic10\", \"Topic10\", \"Topic10\", \"Topic10\", \"Topic10\", \"Topic10\", \"Topic10\", \"Topic10\", \"Topic10\", \"Topic10\", \"Topic10\", \"Topic10\", \"Topic10\", \"Topic10\", \"Topic10\", \"Topic10\", \"Topic10\", \"Topic10\", \"Topic10\", \"Topic10\", \"Topic10\", \"Topic10\", \"Topic10\", \"Topic10\", \"Topic10\", \"Topic10\", \"Topic10\", \"Topic10\", \"Topic10\", \"Topic10\", \"Topic10\", \"Topic10\", \"Topic10\", \"Topic10\", \"Topic10\", \"Topic10\", \"Topic10\", \"Topic10\", \"Topic10\", \"Topic10\"], \"logprob\": [30.0, 29.0, 28.0, 27.0, 26.0, 25.0, 24.0, 23.0, 22.0, 21.0, 20.0, 19.0, 18.0, 17.0, 16.0, 15.0, 14.0, 13.0, 12.0, 11.0, 10.0, 9.0, 8.0, 7.0, 6.0, 5.0, 4.0, 3.0, 2.0, 1.0, -4.9995, -7.4844, -4.594, -7.4844, -7.4844, -5.0865, -5.2871, -3.7467, -7.4844, -5.4049, -3.958, -5.6926, -7.4844, -6.3858, -3.958, -5.4049, -5.0865, -7.4844, -4.3489, -3.958, -4.7118, -5.2871, -5.5385, -7.4844, -6.3858, -4.7118, -4.9194, -7.4844, -7.4844, -4.1885, -3.4068, -3.929, -3.9879, -4.1171, -4.3489, -4.4398, -4.4886, -4.594, -4.594, -4.594, -4.6512, -4.7118, -4.7118, -4.7118, -4.8453, -4.8453, -4.9995, -4.9995, -4.5399, -4.5399, -3.8208, -4.5399, -4.4886, -4.1037, -5.4255, -4.5605, -4.0392, -2.6529, -2.6687, -6.4063, -7.5049, -6.4063, -6.4063, -4.2091, -4.2861, -6.8118, -7.5049, -5.7132, -7.5049, -7.5049, -7.5049, -5.4255, -5.4255, -5.7132, -7.5049, -7.5049, -7.5049, -5.4255, -7.5049, -6.1186, -4.6146, -3.7914, -5.7132, -4.6146, -4.7969, -4.8659, -4.94, -4.94, -5.107, -5.107, -5.107, -5.107, -5.2024, -5.3077, -5.3077, -5.3077, -5.4255, -5.4255, -5.4255, -5.559, -3.8161, -2.9723, -3.9496, -4.3269, -4.3694, -3.0982, -4.0392, -3.9786, -3.5929, -3.6763, -4.6717, -3.8674, -4.4604, -4.94, -4.8659, -3.7153, -4.2984, -5.5306, -4.8374, -5.6847, -4.8374, -4.4319, -4.9916, -6.3779, -5.6847, -6.3779, -5.5306, -6.3779, -4.9115, -6.3779, -6.3779, -5.6847, -6.3779, -5.6847, -6.3779, -6.3779, -4.9916, -6.3779, -5.6847, -4.9916, -6.3779, -6.3779, -4.9916, -6.3779, -5.6847, -3.3821, -3.9501, -4.2184, -4.4807, -4.5861, -4.6433, -4.6433, -4.7039, -4.7039, -5.0786, -5.0786, -5.0786, -5.0786, -5.0786, -5.0786, -5.1739, -5.1739, -5.1739, -5.1739, -5.1739, -3.7153, -3.8129, -4.0107, -4.2576, -4.1806, -3.9501, -3.8129, -4.7684, -4.8374, -4.2576, -4.1092, -4.9115, -4.3654, -3.9907, -5.6647, -4.0553, -6.3578, -7.4565, -7.4565, -6.3578, -5.6647, -6.3578, -6.3578, -6.0702, -7.4565, -6.3578, -7.4565, -7.4565, -4.512, -6.0702, -6.0702, -4.5661, -6.7633, -7.4565, -5.847, -5.0586, -5.5105, -5.5105, -3.8729, -4.512, -5.847, -4.1984, -3.208, -4.0553, -4.2784, -4.321, -4.321, -2.738, -4.6232, -4.6232, -4.6232, -4.6839, -4.6839, -4.7484, -4.8174, -4.8915, -4.9715, -4.9715, -5.1539, -5.1539, -5.377, -5.377, -5.377, -3.5052, -4.2784, -3.9011, -4.321, -4.7484, -4.512, -4.6839, -4.321, -4.0225, -4.3654, -4.7484, -3.1044, -5.0632, -3.8775, -6.3625, -5.2638, -3.1173, -4.9762, -6.3625, -3.7975, -5.0632, -6.3625, -4.9762, -6.3625, -6.3625, -5.0632, -6.3625, -6.3625, -6.3625, -6.3625, -6.3625, -6.3625, -6.3625, -6.3625, -6.3625, -6.3625, -6.3625, -6.3625, -6.3625, -6.3625, -6.3625, -2.5558, -3.5292, -3.7234, -3.7475, -4.0599, -4.203, -4.2422, -4.4653, -4.6885, -4.822, -4.8961, -5.1585, -5.3816, -5.3816, -5.3816, -5.5152, -5.5152, -5.5152, -5.8516, -5.8516, -4.1652, -4.283, -4.0938, -4.753, -4.6279, -4.6279, -4.8961, -5.1585, -3.3339, -3.9347, -4.203, -4.6885, -4.5707, -4.9762, -4.6885, -4.8961, -3.8616, -7.417, -4.2389, -5.6252, -4.0848, -4.852, -6.0307, -3.8061, -5.2198, -6.7238, -7.417, -5.8075, -6.3184, -6.7238, -3.428, -5.8075, -5.8075, -6.3184, -5.2198, -4.5838, -6.3184, -7.417, -4.5266, -5.6252, -4.3259, -3.983, -5.6252, -5.1144, -5.8075, -7.417, -3.983, -4.3259, -4.3725, -4.5266, -4.6444, -4.9321, -5.0191, -5.0191, -5.1144, -5.1144, -5.1144, -5.2198, -5.3375, -5.3375, -5.3375, -5.4711, -5.4711, -4.4725, -4.6444, -4.4212, -4.9321, -3.9512, -3.8906, -4.4212, -4.6444, -4.5266, -4.7779, -4.3259, -4.4725, -4.5838, -5.0191, -4.4716, -4.7971, -5.5703, -4.271, -4.271, -5.4161, -6.2634, -4.723, -4.9641, -5.4161, -4.8771, -4.654, -4.654, -5.4161, -4.4716, -6.2634, -5.4161, -5.5703, -6.2634, -4.8771, -6.2634, -4.7971, -5.5703, -4.723, -5.4161, -5.4161, -5.4161, -4.654, -5.4161, -6.2634, -3.4302, -3.8357, -4.0662, -4.2265, -4.2265, -4.3663, -4.3663, -4.4176, -4.4176, -4.4176, -4.654, -4.723, -4.7971, -5.0594, -5.0594, -5.0594, -4.1039, -4.2265, -4.723, -4.8771, -4.7971, -4.4716, -4.4716, -7.3709, -5.5791, -7.3709, -5.7614, -5.425, -4.7318, -6.2722, -7.3709, -5.7614, -7.3709, -4.5376, -7.3709, -3.8445, -4.7318, -4.7318, -6.6777, -7.3709, -4.6628, -4.886, -5.9846, -5.9846, -6.6777, -7.3709, -4.2798, -6.2722, -5.9846, -7.3709, -6.2722, -5.2914, -5.5791, -3.7333, -4.1928, -4.1928, -4.3263, -4.4264, -4.4264, -4.4805, -4.5376, -4.5983, -4.6628, -4.7318, -4.8059, -4.8059, -4.886, -4.973, -4.973, -5.0683, -5.0683, -5.1736, -5.1736, -5.1736, -5.1736, -4.152, -4.2798, -4.0036, -4.5983, -3.4006, -3.682, -4.4805, -4.4264, -4.6628, -3.5076, -5.79, -4.1413, -3.5282, -3.5076, -6.7063, -7.3994, -7.3994, -5.79, -4.7603, -6.0131, -7.3994, -5.32, -3.7358, -7.3994, -5.2022, -5.2022, -4.4037, -6.0131, -5.2022, -6.7063, -5.32, -6.7063, -6.3008, -7.3994, -6.7063, -7.3994, -4.0672, -7.3994, -5.0015, -1.866, -4.1805, -4.509, -4.6268, -4.9145, -5.32, -5.32, -5.32, -5.32, -5.4535, -5.6076, -5.6076, -5.6076, -5.6076, -5.6076, -5.6076, -4.2213, -4.509, -4.3084, -4.3084, -4.9145, -4.3549, -4.3084, -3.4874, -4.3549, -3.7885, -3.7618, -3.8159, -4.9145, -4.5662, -4.8344, -5.2022, -4.0702, -2.8592, -4.0702, -4.3579, -4.3579, -5.0046, -4.1444, -5.0046, -4.5692, -3.8189, -4.8375, -5.0046, -5.2052, -5.4565, -5.4565, -5.4565, -5.0046, -5.4565, -7.4025, -7.4025, -5.6107, -6.7093, -4.9175, -6.0162, -4.4067, -7.4025, -7.4025, -6.7093, -7.4025, -6.7093, -4.458, -4.6299, -4.6944, -4.6944, -4.6944, -4.6944, -4.9175, -5.0999, -5.323, -5.323, -5.323, -3.8189, -4.267, -4.3114, -4.3579, -4.458, -4.5121, -3.2593, -3.2916, -3.112, -4.267, -4.2244, -4.5121, -4.9175], \"loglift\": [30.0, 29.0, 28.0, 27.0, 26.0, 25.0, 24.0, 23.0, 22.0, 21.0, 20.0, 19.0, 18.0, 17.0, 16.0, 15.0, 14.0, 13.0, 12.0, 11.0, 10.0, 9.0, 8.0, 7.0, 6.0, 5.0, 4.0, 3.0, 2.0, 1.0, 2.2475, 2.2475, 2.2475, 2.2475, 2.2475, 2.2475, 2.2475, 2.2475, 2.2475, 2.2475, 2.2475, 2.2475, 2.2475, 2.2475, 2.2475, 2.2475, 2.2475, 2.2475, 2.2475, 2.2475, 2.2475, 2.2475, 2.2475, 2.2475, 2.2475, 2.2475, 2.2475, 2.2475, 2.2475, 2.2475, 2.2475, 2.2475, 2.2475, 2.2475, 2.2475, 2.2475, 2.2475, 2.2475, 2.2475, 2.2475, 2.2475, 2.2475, 2.2475, 2.2475, 2.2475, 2.2475, 2.2475, 2.2475, 2.1952, 2.1019, 1.6326, 1.7283, 1.07, 2.2506, 2.2506, 2.2506, 2.2506, 2.2506, 2.2506, 2.2506, 2.2506, 2.2506, 2.2506, 2.2506, 2.2506, 2.2506, 2.2506, 2.2506, 2.2506, 2.2506, 2.2506, 2.2506, 2.2506, 2.2506, 2.2506, 2.2506, 2.2506, 2.2506, 2.2506, 2.2506, 2.2506, 2.2506, 2.2506, 2.2506, 2.2506, 2.2506, 2.2506, 2.2506, 2.2506, 2.2506, 2.2506, 2.2506, 2.2506, 2.2506, 2.2506, 2.2506, 2.2506, 2.2506, 2.2506, 2.2506, 2.2259, 2.1735, 2.1937, 2.209, 2.2081, 2.1451, 2.1029, 1.968, 1.8692, 1.8823, 2.0861, 1.8422, 1.4581, 2.0344, 1.7771, 2.2606, 2.2606, 2.2606, 2.2606, 2.2606, 2.2606, 2.2606, 2.2606, 2.2606, 2.2606, 2.2606, 2.2606, 2.2606, 2.2606, 2.2606, 2.2606, 2.2606, 2.2606, 2.2606, 2.2606, 2.2606, 2.2606, 2.2606, 2.2606, 2.2606, 2.2606, 2.2606, 2.2606, 2.2606, 2.2606, 2.2606, 2.2606, 2.2606, 2.2606, 2.2606, 2.2606, 2.2606, 2.2606, 2.2606, 2.2606, 2.2606, 2.2606, 2.2606, 2.2606, 2.2606, 2.2606, 2.2606, 2.2606, 2.2606, 2.2606, 2.2381, 2.2352, 2.1725, 2.1845, 2.1508, 2.0942, 2.0732, 2.1962, 2.0697, 1.5581, 1.2042, 1.3567, 2.2898, 2.2898, 2.2898, 2.2898, 2.2898, 2.2898, 2.2898, 2.2898, 2.2898, 2.2898, 2.2898, 2.2898, 2.2898, 2.2898, 2.2898, 2.2898, 2.2898, 2.2898, 2.2898, 2.2898, 2.2898, 2.2898, 2.2898, 2.2898, 2.2898, 2.2898, 2.2898, 2.2898, 2.2898, 2.2898, 2.2898, 2.2898, 2.2898, 2.2898, 2.2898, 2.2722, 2.2898, 2.2898, 2.2898, 2.2898, 2.2898, 2.2898, 2.2898, 2.2898, 2.2898, 2.2898, 2.2898, 2.2898, 2.2898, 2.2898, 2.2898, 2.2507, 2.2494, 2.2085, 2.202, 2.1604, 2.0137, 1.9299, 1.1412, 0.4939, 0.9725, 1.4522, 2.2966, 2.2966, 2.2966, 2.2966, 2.2966, 2.2966, 2.2966, 2.2966, 2.2966, 2.2966, 2.2966, 2.2966, 2.2966, 2.2966, 2.2966, 2.2966, 2.2966, 2.2966, 2.2966, 2.2966, 2.2966, 2.2966, 2.2966, 2.2966, 2.2966, 2.2966, 2.2966, 2.2966, 2.2966, 2.2966, 2.2966, 2.2966, 2.2966, 2.2966, 2.2966, 2.2966, 2.2966, 2.2966, 2.2966, 2.2966, 2.2966, 2.2966, 2.2966, 2.2966, 2.2966, 2.2966, 2.2966, 2.2966, 2.2966, 2.2966, 2.2579, 2.2552, 2.2297, 2.231, 2.1827, 2.1804, 2.0841, 2.197, 1.1825, 1.5187, 1.6128, 1.8032, 1.6228, 2.0704, 1.1448, 1.5525, 2.3225, 2.3225, 2.3225, 2.3225, 2.3225, 2.3225, 2.3225, 2.3225, 2.3225, 2.3225, 2.3225, 2.3225, 2.3225, 2.3225, 2.3225, 2.3225, 2.3225, 2.3225, 2.3225, 2.3225, 2.3225, 2.3225, 2.3225, 2.3225, 2.3225, 2.3225, 2.3225, 2.3225, 2.3225, 2.3225, 2.3225, 2.3225, 2.3225, 2.3225, 2.3225, 2.3225, 2.3225, 2.3225, 2.3225, 2.3225, 2.3225, 2.3225, 2.3225, 2.3225, 2.3225, 2.3225, 2.3225, 2.2719, 2.2617, 2.2281, 2.2427, 1.9981, 1.9426, 2.0271, 2.0936, 1.9557, 2.0189, 1.5926, 1.5882, 1.6097, 0.2312, 2.3307, 2.3307, 2.3307, 2.3307, 2.3307, 2.3307, 2.3307, 2.3307, 2.3307, 2.3307, 2.3307, 2.3307, 2.3307, 2.3307, 2.3307, 2.3307, 2.3307, 2.3307, 2.3307, 2.3307, 2.3307, 2.3307, 2.3307, 2.3307, 2.3307, 2.3307, 2.3307, 2.3307, 2.3307, 2.3307, 2.3307, 2.3307, 2.3307, 2.3307, 2.3307, 2.3307, 2.3307, 2.3307, 2.3307, 2.3307, 2.3307, 2.3307, 2.3307, 2.3307, 2.3307, 2.3307, 2.2947, 2.0486, 2.2051, 2.1821, 2.0224, 1.2379, 0.0448, 2.3401, 2.3401, 2.3401, 2.3401, 2.3401, 2.3401, 2.3401, 2.3401, 2.3401, 2.3401, 2.3401, 2.3401, 2.3401, 2.3401, 2.3401, 2.3401, 2.3401, 2.3401, 2.3401, 2.3401, 2.3401, 2.3401, 2.3401, 2.3401, 2.3401, 2.3401, 2.3401, 2.3401, 2.3401, 2.3401, 2.3401, 2.3401, 2.3401, 2.3401, 2.3401, 2.3401, 2.3401, 2.3401, 2.3401, 2.3401, 2.3401, 2.3401, 2.3401, 2.3401, 2.3401, 2.3401, 2.3401, 2.3401, 2.3401, 2.3401, 2.3401, 2.3401, 2.2663, 2.2548, 2.1306, 2.2262, 1.9128, 1.5683, 1.7201, 1.6343, 1.9225, 2.3431, 2.3431, 2.3431, 2.3431, 2.3431, 2.3431, 2.3431, 2.3431, 2.3431, 2.3431, 2.3431, 2.3431, 2.3431, 2.3431, 2.3431, 2.3431, 2.3431, 2.3431, 2.3431, 2.3431, 2.3431, 2.3431, 2.3431, 2.3431, 2.3431, 2.3431, 2.3431, 2.3431, 2.3431, 2.3431, 2.3431, 2.3431, 2.3431, 2.3431, 2.3431, 2.3431, 2.3431, 2.3431, 2.3431, 2.3431, 2.3431, 2.3431, 2.3431, 2.3431, 2.3431, 2.3431, 2.3021, 2.2873, 2.2164, 2.214, 2.2633, 2.1705, 2.1017, 1.8505, 2.0141, 1.4618, 1.3727, 1.3489, 1.9854, 1.4444, 1.3318, 0.0412, 2.3515, 2.3515, 2.3515, 2.3515, 2.3515, 2.3515, 2.3515, 2.3515, 2.3515, 2.3515, 2.3515, 2.3515, 2.3515, 2.3515, 2.3515, 2.3515, 2.3515, 2.3515, 2.3515, 2.3515, 2.3515, 2.3515, 2.3515, 2.3515, 2.3515, 2.3515, 2.3515, 2.3515, 2.3515, 2.3515, 2.3515, 2.3515, 2.3515, 2.3515, 2.3515, 2.3515, 2.3515, 2.3515, 2.3515, 2.3515, 2.3515, 2.2965, 2.308, 2.3051, 2.3021, 2.2995, 2.2963, 1.8752, 1.8732, 1.4044, 1.8993, 1.7862, 1.7728, 1.7732]}, \"token.table\": {\"Topic\": [2, 8, 9, 10, 9, 1, 9, 7, 2, 5, 2, 9, 1, 9, 8, 1, 5, 9, 6, 10, 9, 2, 3, 8, 6, 7, 3, 2, 3, 4, 9, 7, 4, 3, 2, 4, 5, 4, 8, 7, 5, 6, 9, 2, 5, 2, 7, 3, 5, 6, 8, 3, 10, 10, 1, 1, 4, 6, 5, 3, 8, 7, 2, 4, 9, 3, 4, 2, 3, 3, 6, 7, 4, 3, 5, 6, 4, 6, 1, 10, 2, 2, 9, 9, 6, 2, 2, 7, 5, 3, 6, 2, 5, 7, 3, 4, 1, 10, 6, 10, 1, 5, 5, 3, 9, 2, 8, 1, 3, 5, 1, 10, 3, 8, 5, 8, 2, 4, 6, 8, 3, 1, 10, 4, 5, 6, 7, 1, 6, 9, 4, 2, 9, 1, 8, 4, 2, 4, 8, 6, 8, 2, 7, 3, 9, 4, 7, 4, 5, 6, 6, 9, 10, 10, 6, 10, 5, 5, 2, 5, 1, 8, 4, 1, 5, 5, 6, 3, 6, 4, 3, 6, 5, 7, 3, 5, 8, 3, 10, 8, 9, 10, 4, 4, 6, 8, 10, 2, 7, 5, 4, 8, 7, 6, 8, 2, 7, 10, 3, 1, 2, 9, 7, 6, 8, 1, 9, 8, 6, 9, 10, 1, 8, 10, 5, 8, 8, 5, 9, 6, 3, 6, 8, 10, 2, 7, 7, 7, 4, 5, 8, 10, 7, 8, 8, 4, 4, 5, 9, 4, 1, 1, 2, 4, 10, 2, 7, 9, 1, 10, 3, 2, 3, 8, 4, 2, 8, 8, 2, 5, 6, 4, 8, 4, 8, 3, 5, 10, 1, 3, 2, 4, 10, 5, 4, 5, 6, 1, 5, 5, 8, 8, 1, 1, 4, 5, 9, 5, 9, 10, 5, 8, 1, 4, 5, 5, 7, 10, 10, 2, 6, 10, 4, 8, 4, 3, 1, 6, 1, 1, 1, 6, 6, 9, 1, 8, 4, 8, 1, 4, 3, 1, 1, 3, 3, 1, 6, 3, 7, 9, 2, 7, 1, 10, 4, 2, 4, 5, 8, 9, 4, 6, 8, 5, 8, 4, 9, 10, 2, 2, 7, 10, 7, 4, 8, 10, 7, 3, 4, 7, 7, 5, 1, 8, 9, 9, 5, 6, 9, 7, 2, 5, 10, 7, 1, 7, 4, 8, 8, 5, 8, 6, 8, 9, 7, 8, 7, 7, 10, 3, 3, 8, 5, 9, 9, 2, 8, 4, 8, 3, 10, 1, 5, 2, 7, 6, 9, 1, 4, 6, 6, 10, 3, 8, 1, 2, 8, 5, 10, 6, 2, 9, 1, 5, 3, 9, 6, 2, 5, 3, 1, 3, 10, 1, 8, 2, 3, 5, 3, 10, 5, 4, 7, 5, 2, 2, 4, 6, 9, 3, 4, 4, 2, 6, 8, 5, 8, 3, 7, 9, 5, 3, 2, 7, 8, 10, 2, 3, 2, 9, 1, 2, 7, 5, 6, 10, 1, 10, 7, 4, 10, 7, 7, 6, 1, 3, 7, 1, 3, 6, 9, 2, 4, 3, 9, 6, 7, 4, 8, 5, 7, 9, 4, 2, 1, 1, 6, 5, 6, 4, 5, 10, 4, 6, 3, 4, 9, 5, 3, 7, 2, 5, 9, 1, 9, 10, 3, 5, 9, 4, 2, 3, 4, 4, 6, 9, 1, 10, 10, 5, 8, 1, 7, 7, 9, 10, 5, 1, 3, 1, 4, 8, 9, 3, 8, 10, 1, 3, 3, 2, 9, 6, 5, 6, 3, 9, 6, 7, 1, 8, 5, 8, 6, 4, 5, 2, 7, 9, 3, 6, 9, 10, 2, 5, 1, 6, 6, 8, 9, 8, 10, 1, 9, 8, 6, 6, 5, 9, 7, 3, 9, 2, 5, 5, 8, 1, 10, 6, 4, 9, 10, 2, 9, 6, 1, 4, 5, 7, 10, 2, 9, 10, 9, 6, 2, 3, 4, 6, 6, 1, 2, 5, 3, 9, 6, 9, 3, 5, 8, 9, 2, 4, 8, 5, 8, 6, 10, 8, 8, 3, 10, 7, 9, 1, 8, 2, 3, 2, 7, 6, 7, 8, 2, 7, 4, 7, 4, 2, 3, 3, 9, 10, 10, 6, 3, 5, 7, 4, 1, 7, 1, 10, 10, 10, 10, 3, 2, 1, 3, 1], \"Freq\": [0.9052814456880572, 0.02139792077556197, 0.4065604947356774, 0.5777438609401732, 1.0424586928085282, 0.10708748145351916, 0.8923956787793264, 0.9716550779811589, 0.9052814456880572, 0.9979947750487395, 0.8583249866345172, 0.1355249978896606, 1.0314748157243767, 1.0052280252082237, 1.0232394000253882, 0.9946364294485062, 1.0887215727804431, 1.0080919227159393, 0.8908468325304427, 0.9899338282218307, 0.89353602240731, 0.8542020777190314, 0.1464346418946911, 0.9990207160011189, 1.0279001913812802, 0.9809979152694391, 1.0157307255187853, 0.09828254216739515, 0.021840564926087814, 0.27300706157609766, 0.6115358179304587, 0.9716550779811589, 0.9994439730059951, 1.0368917823004264, 0.9901515812213125, 0.896936898851534, 0.907267977317036, 0.896936898851534, 0.8658179538676362, 1.1335975909780187, 0.04053192851744344, 0.8917024273837557, 0.04053192851744344, 0.9052814456880572, 1.0206764744816652, 0.6651102005046935, 0.33255510025234675, 0.3807949350071541, 0.6231189845571613, 0.8908468325304427, 0.8658179538676362, 0.9933249006911647, 0.9791736779150715, 0.9791736779150715, 1.0104243092810221, 0.9823569673565494, 1.0024588869517146, 1.0112315396291514, 0.907267977317036, 0.9695611470861129, 1.0232394000253882, 0.9716550779811589, 0.07156802003406158, 0.03578401001703079, 0.8946002504257697, 1.0368917823004264, 1.0139286682669515, 0.9052814456880572, 1.0157307255187853, 0.9913141215399682, 0.9898298139227142, 1.0202378318802168, 1.000429617949788, 1.015730725518785, 0.907267977317036, 0.8908468325304427, 1.0192464759676525, 0.9650840685746463, 0.9823569673565494, 1.0168342039887281, 1.00586827298673, 0.9041060689033588, 0.09935231526410536, 1.0424586928085282, 1.0057948109214678, 1.0184416263990643, 1.013915219170624, 1.1335975909780187, 1.0206764744816652, 0.9444501433213872, 0.05555589078361101, 0.9430875459781742, 0.03772350183912697, 0.9716550779811589, 0.9776408233118306, 1.0090540112079758, 0.03762553828017039, 0.9406384570042597, 0.9360626377713286, 0.04457441132244422, 0.8841212706208944, 1.0206764744816652, 0.9936744513472298, 0.8887643848289369, 0.89353602240731, 0.9052814456880572, 1.0389815446411634, 0.49738450115362964, 0.03315896674357531, 0.4642255344100543, 0.8841212706208944, 1.0243663092034594, 0.9776408233118306, 1.0822724423345451, 0.907267977317036, 1.0822724423345451, 0.4488897452172882, 0.05855083633268977, 0.48792363610574807, 0.8658179538676362, 1.0368917823004264, 0.9823569673565494, 1.0168342039887281, 0.9866305887366875, 0.907267977317036, 0.8908468325304427, 1.0202378318802168, 0.8448036610163814, 0.12068623728805447, 1.072243226888772, 0.896936898851534, 0.9052814456880572, 0.9747665698988836, 0.8841212706208944, 1.0389815446411634, 0.9866305887366875, 0.7627253279550101, 0.2408606298805295, 1.010120946178909, 0.9898298139227142, 0.9895062329915841, 0.9052814456880572, 1.0002331685100165, 1.0157307255187853, 0.9679973576079189, 1.0090540112079758, 0.984440013217753, 0.9213687891915899, 0.07087452224550692, 1.0022026865967482, 1.0181106657490775, 0.9928178026747887, 1.0243663092034594, 0.9038526257677584, 0.9898298139227142, 1.0042806952975094, 0.9720728328396813, 0.907267977317036, 1.0561616866360668, 0.9957819263235759, 0.9946364294485062, 1.010120946178909, 0.896936898851534, 0.9946364294485062, 1.0080755303522622, 0.907267977317036, 0.8908468325304427, 0.05239553326513421, 0.9431195987724157, 1.0090540112079758, 0.9776408233118306, 1.0393213046188499, 0.9897468843458573, 0.998058748578473, 1.0072663028061286, 1.0015295853499748, 0.9740451981010907, 0.9154675499793784, 0.07628896249828153, 0.31242393211599684, 0.6769185195846599, 1.0042806952975094, 1.0464263819934565, 1.0024588869517146, 1.002202686596748, 1.0025260518467367, 0.9899338282218307, 0.9052814456880572, 1.0202378318802168, 1.0080755303522622, 0.896936898851534, 0.9895062329915841, 0.9716550779811589, 0.34214187136766255, 0.6462679792500293, 0.9052814456880572, 0.9716550779811589, 0.9860210462921001, 0.9998599329325542, 0.9644959315864303, 0.9875797589324261, 0.89353602240731, 0.9918978921057665, 1.0690161990365312, 0.9895062329915841, 1.0201399276394936, 0.9966363326850766, 0.962019948741818, 0.8908468325304427, 0.37504159128263387, 0.6250693188043898, 0.9881355377527644, 0.962019948741818, 1.0243663092034594, 1.0368776883623267, 1.010120946178909, 0.9812603477166543, 0.907267977317036, 0.9928178026747887, 1.0690161990365312, 0.9933249006911647, 0.7245880958358957, 0.2415293652786319, 0.04025489421310532, 0.9052814456880572, 1.0202378318802168, 1.0047796829123348, 1.1335975909780187, 0.9866305887366874, 0.907267977317036, 0.4224525857266133, 0.5491883614445973, 0.998058748578473, 0.962019948741818, 0.9895062329915841, 0.896936898851534, 0.9691332723519764, 0.03589382490192505, 0.89353602240731, 0.9716816404224953, 1.0104243092810221, 0.04887090759890912, 0.9529826981787279, 0.9836154772217947, 0.015737847635548714, 0.9052814456880572, 0.9716550779811589, 0.89353602240731, 1.0151021996017677, 1.0243663092034594, 0.9998599329325539, 1.0058682729867303, 0.8887643848289369, 1.0025260518467367, 1.0090540112079758, 0.7854090463451617, 0.16830193850253466, 1.0025260518467367, 1.025985638446465, 0.5138383153963081, 0.4881463996264927, 0.09657428538593875, 0.8691685684734488, 0.19371079944045286, 0.799057047691868, 1.0368917823004264, 0.9363064292672152, 0.05851915182920095, 0.17003692849250093, 0.8312916504077824, 0.9052814456880572, 0.45040695846293305, 0.5630086980786663, 1.0887215727804431, 0.896936898851534, 0.32257315729097374, 0.6809877765031668, 0.16928176907806297, 0.7899815890309606, 0.907267977317036, 0.8658179538676362, 1.0389815446411634, 0.9994414363540547, 0.8841212706208944, 0.896936898851534, 0.9828736420934556, 0.982889624648041, 0.009184384853465543, 0.36737539413862175, 0.6153537851821914, 1.0161401345950802, 0.8658179538676362, 0.8841212706208944, 1.016528485365072, 0.907267977317036, 0.2509046704561987, 0.7527140113685961, 0.9860210462921001, 0.9038526257677584, 0.9052814456880572, 0.979931515783487, 1.0329744294488665, 0.9659320449170367, 0.8658179538676362, 0.896936898851534, 0.8887643848289369, 0.8841212706208944, 0.9898298139227142, 0.9994414363540547, 0.9946364294485062, 1.0314748157243767, 0.8908468325304427, 0.8910531184780169, 0.06854254757523208, 0.9644959315864303, 1.010120946178909, 1.0090540112079758, 0.8658179538676362, 1.0167394612140286, 1.0024588869517146, 1.0220790425532775, 0.9823569673565494, 0.9946364294485062, 1.0368917823004264, 0.9776408233118306, 0.9912874852416088, 1.0393213046188499, 0.18373060998060883, 0.12248707332040588, 0.7349224399224353, 1.0058682729867303, 0.984440013217753, 1.0314748157243767, 0.9989950074275223, 1.0250707415446103, 0.23468619107738053, 0.7040585732321416, 0.07822873035912685, 0.04694910558283691, 0.9389821116567382, 0.7521928692235206, 0.2507309564078402, 0.962019948741818, 0.9033365063773017, 0.0821215005797547, 1.0139286682669515, 0.8593639908918891, 0.14322733181531486, 0.9875797589324261, 1.0184416263990643, 0.04096669516129755, 0.9422339887098435, 0.9716550779811589, 1.0090540112079758, 0.9328604199051068, 0.06433520137276598, 0.9809979152694391, 0.8887643848289369, 0.9913513092569587, 1.0047796829123348, 0.9918978921057664, 1.0368776883623267, 0.8841212706208944, 0.9895062329915842, 1.0052280252082237, 1.0052280252082235, 1.0003211031957062, 0.03573712572500958, 0.9649023945752586, 0.9918978921057665, 0.9972240925157505, 0.9770578217260386, 0.9942378883445342, 0.9918978921057664, 0.8841212706208944, 0.9918978921057664, 0.962095952942177, 0.03317572251524748, 0.9931441235540532, 1.01195274393054, 1.0186093574913366, 1.0393213046188499, 0.9895062329915841, 1.0424586928085282, 0.984440013217753, 0.8658179538676362, 0.9716550779811589, 1.0202378318802168, 0.9038526257677584, 0.9921090807392784, 0.3516498049227415, 0.6500193363723404, 0.9429790244045954, 0.03626842401556136, 1.072243226888772, 0.9936015867307945, 0.8658179538676362, 0.896936898851534, 0.8658179538676362, 0.04752872354285733, 0.9505744708571466, 0.09523942786654165, 0.9047745647321457, 1.0184416263990643, 1.0002331685100165, 0.8908468325304427, 0.89353602240731, 1.0104243092810221, 0.896936898851534, 1.0123259460573213, 1.002202686596748, 1.008143313356346, 0.9695611470861129, 0.9838840384859502, 0.3132053158611143, 0.6944987438659491, 0.9812603477166543, 0.9979947750487395, 1.0000071604239027, 0.8908468325304427, 0.9986834996082535, 0.89353602240731, 0.5393033114739164, 0.4535050573757934, 0.8887643848289369, 1.0029485965796336, 0.979931515783487, 0.9052814456880572, 0.9962158182304708, 1.0368917823004264, 1.0314748157243767, 1.0368917823004264, 1.0168342039887281, 0.07227618624572281, 0.9034523280715351, 1.0561616866360668, 0.4930757669302078, 0.5106856157491438, 0.9695611470861129, 1.0544947300623846, 0.9828736420934556, 0.928729902843821, 0.071440761757217, 0.907267977317036, 0.995809590256863, 1.0346073665006368, 0.9913513092569587, 0.9862947074444188, 1.0424586928085282, 0.8887643848289369, 0.896936898851534, 0.896936898851534, 0.9958095902568629, 0.7971533617883603, 0.22143148938565563, 0.907267977317036, 1.010120946178909, 0.8847510291225908, 0.11796680388301212, 1.0211840256083542, 0.907267977317036, 0.8887643848289369, 1.0184416263990643, 0.9918978921057664, 0.8658179538676362, 1.0006939785285895, 0.9769777036098273, 0.03618435939295656, 0.969944406094347, 0.9892720248080932, 0.04027508726500362, 0.6041263089750543, 0.32220069812002894, 0.907267977317036, 0.045159666178139345, 0.9483529897409263, 0.04751537907581633, 0.9503075815163265, 1.0047796829123348, 0.9866305887366874, 0.9860210462921001, 0.9918978921057664, 0.9716550779811589, 1.002202686596748, 0.8841212706208944, 0.9695611470861129, 1.1335975909780187, 0.02221619281722751, 0.9775124839580105, 1.0181106657490775, 1.0029485965796336, 1.0184416263990643, 1.0763242786218408, 0.9776408233118306, 1.0052280252082237, 0.03154212724650962, 0.9778059446417983, 0.8931602315383556, 0.10507767429863007, 0.9697480257331705, 0.032324934191105686, 0.9994889104397973, 0.9965965542794822, 0.9875797589324261, 0.8841212706208944, 0.9823569673565494, 0.9926578991053505, 0.2651990574408457, 0.7292974079623257, 0.896936898851534, 0.9897468843458573, 1.0329744294488665, 0.896936898851534, 1.0063269774880927, 0.9695611470861129, 0.06875359326172495, 0.8937967124024243, 0.907267977317036, 0.8887643848289369, 1.1335975909780187, 1.0058682729867303, 0.9897468843458573, 0.89353602240731, 0.9823569673565494, 1.0052280252082237, 0.9038526257677584, 1.0368917823004264, 0.7838895344284803, 0.18089758486811083, 1.0464263819934565, 0.020207569918776768, 0.9699633561012849, 1.0763242786218408, 0.9716816404224953, 0.6859019614878089, 0.30865588266951405, 0.9946364294485062, 1.0329744294488665, 1.0006939785285895, 0.9027188603428824, 0.09502303793082972, 1.0060690320858454, 1.0202378318802168, 0.9716550779811589, 0.9928178026747887, 1.0168342039887281, 0.9979947750487396, 0.5814385974713653, 0.41531328390811806, 0.025877077191310587, 0.43991031225227994, 0.5434186210175224, 0.9928178026747887, 0.8409829298668137, 0.15491790813336043, 1.0329744294488665, 0.8841212706208944, 0.9875159831432632, 0.8887643848289369, 1.0184416263990643, 1.0052280252082237, 0.979931515783487, 0.9628629364631693, 0.05663899626253937, 0.8887643848289369, 0.89353602240731, 1.002202686596748, 1.0202378318802168, 1.0104243092810221, 1.010120946178909, 1.0368776883623267, 1.0186093574913366, 0.9718329082150285, 0.9784766169289463, 1.0206764744816652, 0.2882717141825004, 0.720679285456251, 1.0424586928085282, 0.03190513029345739, 0.12762052117382955, 0.7976282573364346, 0.03190513029345739, 1.0184416263990643, 0.907267977317036, 1.0104243092810221, 0.979931515783487, 0.12005353777559684, 0.4602052281397879, 0.4101829207332892, 0.03922302567178467, 0.9413526161228322, 0.9881355377527644, 0.89353602240731, 0.9740451981010907, 0.9898298139227142, 1.0690161990365312, 0.907267977317036, 1.0052280252082237, 1.0202378318802168, 0.9933249006911647, 0.89353602240731, 0.9715734376477179, 0.022081214491993587, 1.0003211031957062, 0.9990207160011189, 1.0040021208745749, 0.9942378883445342, 1.0690161990365312, 1.0250707415446103, 1.0052280252082237, 0.9860210462921001, 1.0058682729867303, 0.8935360224073098, 0.9718329082150285, 0.014407200011300775, 0.16808400013184238, 0.32656320025615093, 0.10085040007910542, 0.38899440030512095, 1.0058682729867303, 0.38314417655277, 0.6237230781091604, 0.89353602240731, 0.8908468325304427, 0.15734739227939354, 0.8391860921567655, 0.2818236154994934, 0.7515296413319824, 1.0123259460573213, 0.9946364294485062, 1.0561616866360668, 0.907267977317036, 1.0157307255187853, 1.000760345096187, 0.9956523422399067, 1.0424586928085282, 1.0368917823004264, 1.0013550268165805, 1.010120946178909, 1.0211840256083542, 0.6800679462363245, 0.3214866654935352, 0.8658179538676362, 0.907267977317036, 0.8658179538676362, 1.0181106657490775, 0.9038526257677584, 1.0822724423345451, 1.0389815446411634, 0.8887643848289369, 0.9038526257677584, 1.0076423030915722, 0.89353602240731, 0.9273471322384903, 0.04415938724945192, 0.9875797589324261, 0.8887643848289369, 0.9282301699560029, 0.07209554718104877, 0.4724538666655394, 0.022497803174549493, 0.49495166984008887, 0.9749184799717538, 0.9809979152694391, 1.0250707415446103, 1.0202378318802168, 0.9965965542794822, 0.9749184799717538, 1.025497367110312, 0.9224343394450321, 0.032944083551608286, 0.032944083551608286, 0.9038526257677584, 1.0057948109214678, 0.9998599329325539, 0.1071170205170911, 0.8569361641367288, 1.0090540112079758, 0.12212629838853263, 0.8548840887197283, 1.0104243092810221, 0.9733797508268167, 1.0101882287992594, 0.9038526257677584, 0.9038526257677584, 0.9695611470861129, 1.0005742294446947, 0.9881355377527644, 1.0368917823004264, 0.9881355377527644], \"Term\": [\"ac\", \"accept\", \"accept\", \"accept\", \"acceptance\", \"account\", \"account\", \"act\", \"actor\", \"add\", \"address\", \"address\", \"admit\", \"afternoon\", \"ago\", \"agree\", \"air\", \"airport\", \"alot\", \"amount\", \"annual\", \"answer\", \"answer\", \"ant\", \"anymore\", \"apartment\", \"apologize\", \"app\", \"app\", \"app\", \"app\", \"apparently\", \"area\", \"arm\", \"arrive\", \"arthritic\", \"assist\", \"atm\", \"authorized\", \"automatically\", \"avoid\", \"avoid\", \"avoid\", \"awesome\", \"awful\", \"bad\", \"bad\", \"bag\", \"bag\", \"bald\", \"bank\", \"bar\", \"base\", \"basically\", \"beautiful\", \"begin\", \"benefit\", \"big\", \"bird\", \"birthday\", \"black\", \"blame\", \"block\", \"block\", \"block\", \"body\", \"bonus\", \"boss\", \"bottle\", \"boyfriend\", \"brake\", \"brand\", \"break\", \"bring\", \"bumble\", \"bungalow\", \"business\", \"busy\", \"buy\", \"cab\", \"call\", \"cancel\", \"cancel\", \"cancellation\", \"car\", \"card\", \"care\", \"careful\", \"cart\", \"case\", \"case\", \"cash\", \"cash\", \"catch\", \"cell\", \"chance\", \"change\", \"change\", \"charge\", \"charge\", \"charging\", \"cheap\", \"check\", \"chin\", \"chronic\", \"chunk\", \"church\", \"city\", \"city\", \"city\", \"civic\", \"claim\", \"clean\", \"clear\", \"clinic\", \"clock\", \"close\", \"close\", \"close\", \"closely\", \"cold\", \"college\", \"community\", \"company\", \"compensation\", \"competitive\", \"complain\", \"completely\", \"completely\", \"concert\", \"conclusion\", \"conditioner\", \"confirm\", \"continental\", \"control\", \"cost\", \"couple\", \"couple\", \"coupon\", \"court\", \"crazy\", \"creator\", \"customer\", \"cut\", \"dark\", \"date\", \"daughter\", \"day\", \"day\", \"deal\", \"dealer\", \"decent\", \"decline\", \"dedicated\", \"deliver\", \"delivery\", \"demand\", \"depressed\", \"desk\", \"destination\", \"detail\", \"direction\", \"discover\", \"discuss\", \"distance\", \"distant\", \"divine\", \"dog\", \"dog\", \"dollar\", \"door\", \"doubt\", \"downtown\", \"drink\", \"drive\", \"drop\", \"drug\", \"drunk\", \"drunk\", \"dude\", \"dude\", \"due\", \"earn\", \"earning\", \"easily\", \"eat\", \"email\", \"employable\", \"employee\", \"end\", \"enforcement\", \"enjoy\", \"enter\", \"entire\", \"entire\", \"eviction\", \"exit\", \"expect\", \"explain\", \"extremely\", \"eye\", \"eyebrow\", \"face\", \"fake\", \"fall\", \"family\", \"fare\", \"fart\", \"faux\", \"fee\", \"fee\", \"feel\", \"feeling\", \"figure\", \"final\", \"fine\", \"finish\", \"flash\", \"flight\", \"flip\", \"follow\", \"food\", \"food\", \"food\", \"fool\", \"foot\", \"forget\", \"fortunately\", \"forum\", \"freaking\", \"free\", \"free\", \"friend\", \"fun\", \"funny\", \"garage\", \"gas\", \"gas\", \"generous\", \"gig\", \"girlfriend\", \"give\", \"give\", \"good\", \"good\", \"grandmother\", \"grateful\", \"graveyard\", \"great\", \"grocery\", \"group\", \"guess\", \"gun\", \"guy\", \"hair\", \"half\", \"half\", \"hand\", \"hang\", \"happen\", \"happen\", \"happy\", \"happy\", \"hard\", \"hard\", \"hazard\", \"head\", \"head\", \"hear\", \"hear\", \"hernia\", \"high\", \"high\", \"highway\", \"hire\", \"hit\", \"hit\", \"hold\", \"hold\", \"holder\", \"homerun\", \"honest\", \"hope\", \"hopping\", \"horizon\", \"hot\", \"hotel\", \"hour\", \"hour\", \"hour\", \"house\", \"hubby\", \"hundred\", \"idea\", \"identify\", \"immediately\", \"immediately\", \"include\", \"independent\", \"instruction\", \"insurance\", \"interest\", \"interesting\", \"intervention\", \"interview\", \"interviewer\", \"intresting\", \"involve\", \"issue\", \"item\", \"job\", \"join\", \"jump\", \"jump\", \"kid\", \"kind\", \"kinda\", \"kindly\", \"large\", \"late\", \"laugh\", \"law\", \"learn\", \"leave\", \"lie\", \"life\", \"lift\", \"light\", \"light\", \"light\", \"line\", \"listen\", \"live\", \"load\", \"local\", \"location\", \"location\", \"location\", \"long\", \"long\", \"lose\", \"lose\", \"loss\", \"lot\", \"lot\", \"love\", \"low\", \"low\", \"luck\", \"luckily\", \"lyft\", \"lyft\", \"main\", \"major\", \"make\", \"make\", \"manager\", \"mark\", \"market\", \"mask\", \"massive\", \"medical\", \"mellow\", \"mention\", \"mess\", \"message\", \"mile\", \"min\", \"min\", \"mind\", \"minute\", \"mirror\", \"miss\", \"mistake\", \"misunderstand\", \"mom\", \"money\", \"money\", \"month\", \"morning\", \"move\", \"mph\", \"multiple\", \"multiplier\", \"music\", \"needless\", \"negative\", \"neighborhood\", \"newlywed\", \"nice\", \"night\", \"night\", \"notice\", \"notice\", \"notification\", \"number\", \"oak\", \"obese\", \"obliterate\", \"offer\", \"offer\", \"online\", \"online\", \"option\", \"order\", \"owner\", \"pain\", \"pandemic\", \"paramedic\", \"park\", \"parking\", \"part\", \"party\", \"pass\", \"passenger\", \"passenger\", \"past\", \"patient\", \"pay\", \"performance\", \"phone\", \"photo\", \"pick\", \"pick\", \"pickle\", \"pickup\", \"piece\", \"piercing\", \"ping\", \"pissed\", \"plan\", \"plate\", \"platform\", \"play\", \"play\", \"pm\", \"point\", \"point\", \"police\", \"policy\", \"pop\", \"post\", \"post\", \"pound\", \"pretty\", \"previous\", \"price\", \"problem\", \"process\", \"professional\", \"profitable\", \"program\", \"promotion\", \"pull\", \"pull\", \"purchase\", \"put\", \"question\", \"question\", \"quick\", \"racist\", \"rack\", \"radio\", \"raise\", \"ramp\", \"rate\", \"rating\", \"rating\", \"ready\", \"realize\", \"reason\", \"reason\", \"reason\", \"recall\", \"receive\", \"receive\", \"recently\", \"recently\", \"refuse\", \"regard\", \"regular\", \"remain\", \"remind\", \"remove\", \"renter\", \"repeat\", \"repeatedly\", \"reply\", \"reply\", \"report\", \"request\", \"resort\", \"respect\", \"respond\", \"rest\", \"restaurant\", \"restaurant\", \"result\", \"result\", \"return\", \"return\", \"ride\", \"rideshare\", \"ring\", \"rip\", \"risk\", \"road\", \"roll\", \"roll\", \"roof\", \"route\", \"rs\", \"rubber\", \"run\", \"sad\", \"safe\", \"safe\", \"safety\", \"sandal\", \"satisfaction\", \"scam\", \"schedule\", \"scheduled\", \"school\", \"score\", \"scratch\", \"scream\", \"screen\", \"screen\", \"screenshot\", \"seat\", \"seat\", \"section\", \"sell\", \"send\", \"send\", \"sense\", \"separate\", \"service\", \"set\", \"set\", \"share\", \"shit\", \"shock\", \"shoot\", \"shopping\", \"short\", \"show\", \"show\", \"side\", \"side\", \"side\", \"sign\", \"sit\", \"sit\", \"site\", \"situate\", \"situation\", \"size\", \"skip\", \"slide\", \"slowly\", \"small\", \"small\", \"smoke\", \"snooty\", \"snow\", \"song\", \"sort\", \"sound\", \"south\", \"speak\", \"speed\", \"spot\", \"stack\", \"star\", \"star\", \"stare\", \"start\", \"start\", \"start\", \"start\", \"station\", \"status\", \"stay\", \"stick\", \"stop\", \"stop\", \"stop\", \"store\", \"store\", \"story\", \"strand\", \"strange\", \"street\", \"strike\", \"subdivision\", \"submit\", \"suburb\", \"suddenly\", \"suit\", \"support\", \"support\", \"surge\", \"surprise\", \"talk\", \"taxi\", \"team\", \"term\", \"terminal\", \"test\", \"text\", \"theme\", \"throw\", \"time\", \"time\", \"time\", \"time\", \"time\", \"timer\", \"tip\", \"tip\", \"tipper\", \"tire\", \"tonight\", \"tonight\", \"top\", \"top\", \"total\", \"totally\", \"touch\", \"tourist\", \"towel\", \"town\", \"traffic\", \"treat\", \"trick\", \"trip\", \"truck\", \"true\", \"turn\", \"turn\", \"turning\", \"unheard\", \"unit\", \"unlock\", \"unsafe\", \"upload\", \"upset\", \"urine\", \"useless\", \"vehicle\", \"verbally\", \"video\", \"video\", \"voice\", \"vomit\", \"wait\", \"wait\", \"walk\", \"walk\", \"walk\", \"wallet\", \"watch\", \"water\", \"wear\", \"week\", \"weekend\", \"wet\", \"wife\", \"wife\", \"wife\", \"wind\", \"window\", \"wine\", \"word\", \"word\", \"work\", \"worker\", \"worker\", \"world\", \"worry\", \"worth\", \"wound\", \"wow\", \"write\", \"wrong\", \"year\", \"yell\", \"young\"]}, \"R\": 30, \"lambda.step\": 0.01, \"plot.opts\": {\"xlab\": \"PC1\", \"ylab\": \"PC2\"}, \"topic.order\": [5, 9, 8, 6, 3, 10, 7, 2, 1, 4]};\n",
       "\n",
       "function LDAvis_load_lib(url, callback){\n",
       "  var s = document.createElement('script');\n",
       "  s.src = url;\n",
       "  s.async = true;\n",
       "  s.onreadystatechange = s.onload = callback;\n",
       "  s.onerror = function(){console.warn(\"failed to load library \" + url);};\n",
       "  document.getElementsByTagName(\"head\")[0].appendChild(s);\n",
       "}\n",
       "\n",
       "if(typeof(LDAvis) !== \"undefined\"){\n",
       "   // already loaded: just create the visualization\n",
       "   !function(LDAvis){\n",
       "       new LDAvis(\"#\" + \"ldavis_el64645140224568947984970296769\", ldavis_el64645140224568947984970296769_data);\n",
       "   }(LDAvis);\n",
       "}else if(typeof define === \"function\" && define.amd){\n",
       "   // require.js is available: use it to load d3/LDAvis\n",
       "   require.config({paths: {d3: \"https://d3js.org/d3.v5\"}});\n",
       "   require([\"d3\"], function(d3){\n",
       "      window.d3 = d3;\n",
       "      LDAvis_load_lib(\"https://cdn.jsdelivr.net/gh/bmabey/pyLDAvis@3.3.1/pyLDAvis/js/ldavis.v3.0.0.js\", function(){\n",
       "        new LDAvis(\"#\" + \"ldavis_el64645140224568947984970296769\", ldavis_el64645140224568947984970296769_data);\n",
       "      });\n",
       "    });\n",
       "}else{\n",
       "    // require.js not available: dynamically load d3 & LDAvis\n",
       "    LDAvis_load_lib(\"https://d3js.org/d3.v5.js\", function(){\n",
       "         LDAvis_load_lib(\"https://cdn.jsdelivr.net/gh/bmabey/pyLDAvis@3.3.1/pyLDAvis/js/ldavis.v3.0.0.js\", function(){\n",
       "                 new LDAvis(\"#\" + \"ldavis_el64645140224568947984970296769\", ldavis_el64645140224568947984970296769_data);\n",
       "            })\n",
       "         });\n",
       "}\n",
       "</script>"
      ],
      "text/plain": [
       "PreparedData(topic_coordinates=              x         y  topics  cluster       Freq\n",
       "topic                                                \n",
       "4      0.202383  0.023531       1        1  10.566277\n",
       "8      0.226891 -0.004512       2        1  10.533802\n",
       "7      0.086976  0.123842       3        1  10.428405\n",
       "5      0.029308 -0.114048       4        1  10.128591\n",
       "2      0.021205 -0.085311       5        1  10.059533\n",
       "9     -0.060605  0.232760       6        1   9.803116\n",
       "6      0.111458 -0.204694       7        1   9.722416\n",
       "1     -0.118296  0.262541       8        1   9.631882\n",
       "0     -0.248841 -0.011381       9        1   9.603279\n",
       "3     -0.250478 -0.222727      10        1   9.522699, topic_info=       Term        Freq       Total Category  logprob  loglift\n",
       "76     ride  283.000000  283.000000  Default  30.0000  30.0000\n",
       "311    trip  148.000000  148.000000  Default  29.0000  29.0000\n",
       "66   minute  141.000000  141.000000  Default  28.0000  28.0000\n",
       "71    phone  139.000000  139.000000  Default  27.0000  27.0000\n",
       "98     good  127.000000  127.000000  Default  26.0000  26.0000\n",
       "..      ...         ...         ...      ...      ...      ...\n",
       "25     time   80.765379  208.229219  Topic10  -3.1120   1.4044\n",
       "586     fee   25.446626   39.995564  Topic10  -4.2670   1.8993\n",
       "650  accept   26.553001   46.733513  Topic10  -4.2244   1.7862\n",
       "227    high   19.914751   35.523430  Topic10  -4.5121   1.7728\n",
       "4      free   13.276501   23.671296  Topic10  -4.9175   1.7732\n",
       "\n",
       "[626 rows x 6 columns], token_table=      Topic      Freq        Term\n",
       "term                             \n",
       "142       2  0.905281          ac\n",
       "650       8  0.021398      accept\n",
       "650       9  0.406560      accept\n",
       "650      10  0.577744      accept\n",
       "651       9  1.042459  acceptance\n",
       "...     ...       ...         ...\n",
       "1566      3  0.969561       write\n",
       "29        2  1.000574       wrong\n",
       "426       1  0.988136        year\n",
       "1317      3  1.036892        yell\n",
       "322       1  0.988136       young\n",
       "\n",
       "[690 rows x 3 columns], R=30, lambda_step=0.01, plot_opts={'xlab': 'PC1', 'ylab': 'PC2'}, topic_order=[5, 9, 8, 6, 3, 10, 7, 2, 1, 4])"
      ]
     },
     "execution_count": 24,
     "metadata": {},
     "output_type": "execute_result"
    }
   ],
   "source": [
    "import pyLDAvis\n",
    "import pyLDAvis.gensim_models as gensimvis\n",
    "pyLDAvis.enable_notebook()\n",
    "\n",
    "# feed the LDA model into the pyLDAvis instance\n",
    "lda_viz = gensimvis.prepare(lda_mallet_g, corpus, id2word)\n",
    "lda_viz"
   ]
  },
  {
   "cell_type": "markdown",
   "id": "74452784",
   "metadata": {},
   "source": [
    "## Observe topics over Stories"
   ]
  },
  {
   "cell_type": "code",
   "execution_count": 25,
   "id": "2c9f6334",
   "metadata": {},
   "outputs": [
    {
     "data": {
      "text/html": [
       "<div>\n",
       "<style scoped>\n",
       "    .dataframe tbody tr th:only-of-type {\n",
       "        vertical-align: middle;\n",
       "    }\n",
       "\n",
       "    .dataframe tbody tr th {\n",
       "        vertical-align: top;\n",
       "    }\n",
       "\n",
       "    .dataframe thead th {\n",
       "        text-align: right;\n",
       "    }\n",
       "</style>\n",
       "<table border=\"1\" class=\"dataframe\">\n",
       "  <thead>\n",
       "    <tr style=\"text-align: right;\">\n",
       "      <th></th>\n",
       "      <th>Document_No</th>\n",
       "      <th>Dominant_Topic</th>\n",
       "      <th>Topic_Perc_Contrib</th>\n",
       "      <th>Keywords</th>\n",
       "      <th>Text</th>\n",
       "    </tr>\n",
       "  </thead>\n",
       "  <tbody>\n",
       "    <tr>\n",
       "      <th>0</th>\n",
       "      <td>0</td>\n",
       "      <td>8.0</td>\n",
       "      <td>0.1605</td>\n",
       "      <td>minute, phone, wait, cancel, turn, passenger, ...</td>\n",
       "      <td>A guy named Russel ordered a Lyft. So looking ...</td>\n",
       "    </tr>\n",
       "    <tr>\n",
       "      <th>1</th>\n",
       "      <td>1</td>\n",
       "      <td>9.0</td>\n",
       "      <td>0.1157</td>\n",
       "      <td>run, big, road, hit, food, window, car, proble...</td>\n",
       "      <td>My account has never been placed on hold for a...</td>\n",
       "    </tr>\n",
       "    <tr>\n",
       "      <th>2</th>\n",
       "      <td>2</td>\n",
       "      <td>0.0</td>\n",
       "      <td>0.1218</td>\n",
       "      <td>ride, app, pickup, request, message, airport, ...</td>\n",
       "      <td>Guess things in Salt Lake City are getting bac...</td>\n",
       "    </tr>\n",
       "    <tr>\n",
       "      <th>3</th>\n",
       "      <td>3</td>\n",
       "      <td>0.0</td>\n",
       "      <td>0.2025</td>\n",
       "      <td>ride, app, pickup, request, message, airport, ...</td>\n",
       "      <td>I get a ride request to go to an apartment. Wh...</td>\n",
       "    </tr>\n",
       "    <tr>\n",
       "      <th>4</th>\n",
       "      <td>4</td>\n",
       "      <td>0.0</td>\n",
       "      <td>0.1543</td>\n",
       "      <td>ride, app, pickup, request, message, airport, ...</td>\n",
       "      <td>I thought a thread dedicated to funny screensh...</td>\n",
       "    </tr>\n",
       "    <tr>\n",
       "      <th>5</th>\n",
       "      <td>5</td>\n",
       "      <td>6.0</td>\n",
       "      <td>0.2140</td>\n",
       "      <td>order, customer, vehicle, restaurant, friend, ...</td>\n",
       "      <td>Hello all,\\nI drive in Chicago, and today I ha...</td>\n",
       "    </tr>\n",
       "    <tr>\n",
       "      <th>6</th>\n",
       "      <td>6</td>\n",
       "      <td>5.0</td>\n",
       "      <td>0.1711</td>\n",
       "      <td>good, area, money, week, day, work, time, comp...</td>\n",
       "      <td>\\n\\n\\nAs some know here, I decided to go and g...</td>\n",
       "    </tr>\n",
       "    <tr>\n",
       "      <th>7</th>\n",
       "      <td>7</td>\n",
       "      <td>1.0</td>\n",
       "      <td>0.1368</td>\n",
       "      <td>night, stop, eat, month, hard, make, sound, ki...</td>\n",
       "      <td>Ok we all know that Lyft is ripping everyone o...</td>\n",
       "    </tr>\n",
       "    <tr>\n",
       "      <th>8</th>\n",
       "      <td>8</td>\n",
       "      <td>5.0</td>\n",
       "      <td>0.1338</td>\n",
       "      <td>good, area, money, week, day, work, time, comp...</td>\n",
       "      <td>A 17-year-old  girl has been accused of stabbi...</td>\n",
       "    </tr>\n",
       "    <tr>\n",
       "      <th>9</th>\n",
       "      <td>9</td>\n",
       "      <td>0.0</td>\n",
       "      <td>0.2277</td>\n",
       "      <td>ride, app, pickup, request, message, airport, ...</td>\n",
       "      <td>I figured it wasn't worth doing. Probably 10 m...</td>\n",
       "    </tr>\n",
       "    <tr>\n",
       "      <th>10</th>\n",
       "      <td>10</td>\n",
       "      <td>6.0</td>\n",
       "      <td>0.1198</td>\n",
       "      <td>order, customer, vehicle, restaurant, friend, ...</td>\n",
       "      <td>I guess these renters didn't pay rent for a wh...</td>\n",
       "    </tr>\n",
       "    <tr>\n",
       "      <th>11</th>\n",
       "      <td>11</td>\n",
       "      <td>7.0</td>\n",
       "      <td>0.2074</td>\n",
       "      <td>drive, seat, nice, reply, hear, sit, bar, drun...</td>\n",
       "      <td>Got an invitation to accompany a lady to her r...</td>\n",
       "    </tr>\n",
       "    <tr>\n",
       "      <th>12</th>\n",
       "      <td>12</td>\n",
       "      <td>2.0</td>\n",
       "      <td>0.2744</td>\n",
       "      <td>trip, mile, drop, time, ping, check, destinati...</td>\n",
       "      <td>I've been driving in the Charlottesville Virgi...</td>\n",
       "    </tr>\n",
       "    <tr>\n",
       "      <th>13</th>\n",
       "      <td>13</td>\n",
       "      <td>2.0</td>\n",
       "      <td>0.1321</td>\n",
       "      <td>trip, mile, drop, time, ping, check, destinati...</td>\n",
       "      <td>Once on Monday and once on Wednesday. I got $3...</td>\n",
       "    </tr>\n",
       "    <tr>\n",
       "      <th>14</th>\n",
       "      <td>14</td>\n",
       "      <td>7.0</td>\n",
       "      <td>0.4919</td>\n",
       "      <td>drive, seat, nice, reply, hear, sit, bar, drun...</td>\n",
       "      <td>Well not really Urine, however the PAX should ...</td>\n",
       "    </tr>\n",
       "    <tr>\n",
       "      <th>15</th>\n",
       "      <td>15</td>\n",
       "      <td>4.0</td>\n",
       "      <td>0.1350</td>\n",
       "      <td>talk, pandemic, pick, girlfriend, young, year,...</td>\n",
       "      <td>They survived; the driver in National City did...</td>\n",
       "    </tr>\n",
       "    <tr>\n",
       "      <th>16</th>\n",
       "      <td>16</td>\n",
       "      <td>1.0</td>\n",
       "      <td>0.2634</td>\n",
       "      <td>night, stop, eat, month, hard, make, sound, ki...</td>\n",
       "      <td>So there was this beautiful oak looking antiqu...</td>\n",
       "    </tr>\n",
       "    <tr>\n",
       "      <th>17</th>\n",
       "      <td>17</td>\n",
       "      <td>9.0</td>\n",
       "      <td>0.1699</td>\n",
       "      <td>run, big, road, hit, food, window, car, proble...</td>\n",
       "      <td>Ar 4:55 I get the text......\"be right out\".......</td>\n",
       "    </tr>\n",
       "    <tr>\n",
       "      <th>18</th>\n",
       "      <td>18</td>\n",
       "      <td>4.0</td>\n",
       "      <td>0.1329</td>\n",
       "      <td>talk, pandemic, pick, girlfriend, young, year,...</td>\n",
       "      <td>So I picked up this one guy let's name him \"Ch...</td>\n",
       "    </tr>\n",
       "    <tr>\n",
       "      <th>19</th>\n",
       "      <td>19</td>\n",
       "      <td>9.0</td>\n",
       "      <td>0.1212</td>\n",
       "      <td>run, big, road, hit, food, window, car, proble...</td>\n",
       "      <td>These medallion owners and their banks have be...</td>\n",
       "    </tr>\n",
       "  </tbody>\n",
       "</table>\n",
       "</div>"
      ],
      "text/plain": [
       "    Document_No  Dominant_Topic  Topic_Perc_Contrib  \\\n",
       "0             0             8.0              0.1605   \n",
       "1             1             9.0              0.1157   \n",
       "2             2             0.0              0.1218   \n",
       "3             3             0.0              0.2025   \n",
       "4             4             0.0              0.1543   \n",
       "5             5             6.0              0.2140   \n",
       "6             6             5.0              0.1711   \n",
       "7             7             1.0              0.1368   \n",
       "8             8             5.0              0.1338   \n",
       "9             9             0.0              0.2277   \n",
       "10           10             6.0              0.1198   \n",
       "11           11             7.0              0.2074   \n",
       "12           12             2.0              0.2744   \n",
       "13           13             2.0              0.1321   \n",
       "14           14             7.0              0.4919   \n",
       "15           15             4.0              0.1350   \n",
       "16           16             1.0              0.2634   \n",
       "17           17             9.0              0.1699   \n",
       "18           18             4.0              0.1329   \n",
       "19           19             9.0              0.1212   \n",
       "\n",
       "                                             Keywords  \\\n",
       "0   minute, phone, wait, cancel, turn, passenger, ...   \n",
       "1   run, big, road, hit, food, window, car, proble...   \n",
       "2   ride, app, pickup, request, message, airport, ...   \n",
       "3   ride, app, pickup, request, message, airport, ...   \n",
       "4   ride, app, pickup, request, message, airport, ...   \n",
       "5   order, customer, vehicle, restaurant, friend, ...   \n",
       "6   good, area, money, week, day, work, time, comp...   \n",
       "7   night, stop, eat, month, hard, make, sound, ki...   \n",
       "8   good, area, money, week, day, work, time, comp...   \n",
       "9   ride, app, pickup, request, message, airport, ...   \n",
       "10  order, customer, vehicle, restaurant, friend, ...   \n",
       "11  drive, seat, nice, reply, hear, sit, bar, drun...   \n",
       "12  trip, mile, drop, time, ping, check, destinati...   \n",
       "13  trip, mile, drop, time, ping, check, destinati...   \n",
       "14  drive, seat, nice, reply, hear, sit, bar, drun...   \n",
       "15  talk, pandemic, pick, girlfriend, young, year,...   \n",
       "16  night, stop, eat, month, hard, make, sound, ki...   \n",
       "17  run, big, road, hit, food, window, car, proble...   \n",
       "18  talk, pandemic, pick, girlfriend, young, year,...   \n",
       "19  run, big, road, hit, food, window, car, proble...   \n",
       "\n",
       "                                                 Text  \n",
       "0   A guy named Russel ordered a Lyft. So looking ...  \n",
       "1   My account has never been placed on hold for a...  \n",
       "2   Guess things in Salt Lake City are getting bac...  \n",
       "3   I get a ride request to go to an apartment. Wh...  \n",
       "4   I thought a thread dedicated to funny screensh...  \n",
       "5   Hello all,\\nI drive in Chicago, and today I ha...  \n",
       "6   \\n\\n\\nAs some know here, I decided to go and g...  \n",
       "7   Ok we all know that Lyft is ripping everyone o...  \n",
       "8   A 17-year-old  girl has been accused of stabbi...  \n",
       "9   I figured it wasn't worth doing. Probably 10 m...  \n",
       "10  I guess these renters didn't pay rent for a wh...  \n",
       "11  Got an invitation to accompany a lady to her r...  \n",
       "12  I've been driving in the Charlottesville Virgi...  \n",
       "13  Once on Monday and once on Wednesday. I got $3...  \n",
       "14  Well not really Urine, however the PAX should ...  \n",
       "15  They survived; the driver in National City did...  \n",
       "16  So there was this beautiful oak looking antiqu...  \n",
       "17  Ar 4:55 I get the text......\"be right out\".......  \n",
       "18  So I picked up this one guy let's name him \"Ch...  \n",
       "19  These medallion owners and their banks have be...  "
      ]
     },
     "execution_count": 25,
     "metadata": {},
     "output_type": "execute_result"
    }
   ],
   "source": [
    "def format_topics_sentences(ldamodel=lda_mallet_g, corpus=corpus, texts=data):\n",
    "    # Init output\n",
    "    sent_topics_df = pd.DataFrame()\n",
    "\n",
    "    # Get main topic in each document\n",
    "    for i, row_list in enumerate(ldamodel[corpus]):\n",
    "        row = row_list[0] if ldamodel.per_word_topics else row_list            \n",
    "        # print(row)\n",
    "        row = sorted(row, key=lambda x: (x[1]), reverse=True)\n",
    "        # Get the Dominant topic, Perc Contribution and Keywords for each document\n",
    "        for j, (topic_num, prop_topic) in enumerate(row):\n",
    "            if j == 0:  # => dominant topic\n",
    "                wp = ldamodel.show_topic(topic_num)\n",
    "                topic_keywords = \", \".join([word for word, prop in wp])\n",
    "                sent_topics_df = sent_topics_df.append(pd.Series([int(topic_num), round(prop_topic,4), topic_keywords]), ignore_index=True)\n",
    "            else:\n",
    "                break\n",
    "    sent_topics_df.columns = ['Dominant_Topic', 'Perc_Contribution', 'Topic_Keywords']\n",
    "\n",
    "    # Add original text to the end of the output\n",
    "    contents = pd.Series(texts)\n",
    "    sent_topics_df = pd.concat([sent_topics_df, contents], axis=1)\n",
    "    return(sent_topics_df)\n",
    "\n",
    "\n",
    "df_topic_sents_keywords = format_topics_sentences(ldamodel=lda_mallet_g, corpus=corpus, texts=data)\n",
    "\n",
    "# Format\n",
    "df_dominant_topic = df_topic_sents_keywords.reset_index()\n",
    "df_dominant_topic.columns = ['Document_No', 'Dominant_Topic', 'Topic_Perc_Contrib', 'Keywords', 'Text']\n",
    "df_dominant_topic.head(20)"
   ]
  },
  {
   "cell_type": "markdown",
   "id": "fdafc020",
   "metadata": {},
   "source": [
    "## Create Word Clouds"
   ]
  },
  {
   "cell_type": "code",
   "execution_count": 26,
   "id": "1293014a",
   "metadata": {},
   "outputs": [],
   "source": [
    "# 1. Wordcloud of Top N words in each topic\n",
    "from matplotlib import pyplot as plt\n",
    "from wordcloud import WordCloud, STOPWORDS\n",
    "import matplotlib.colors as mcolors"
   ]
  },
  {
   "cell_type": "code",
   "execution_count": 29,
   "id": "71c5c6d3",
   "metadata": {},
   "outputs": [
    {
     "data": {
      "image/png": "[encoded data removed]",
      "text/plain": [
       "<Figure size 720x720 with 10 Axes>"
      ]
     },
     "metadata": {
      "needs_background": "light"
     },
     "output_type": "display_data"
    }
   ],
   "source": [
    "cols = [color for name, color in mcolors.TABLEAU_COLORS.items()]  # more colors: 'mcolors.XKCD_COLORS'\n",
    "\n",
    "cloud = WordCloud(stopwords=stop_words,\n",
    "                  background_color='white',\n",
    "                  width=2500,\n",
    "                  height=1800,\n",
    "                  max_words=10,\n",
    "                  colormap='tab10',\n",
    "                  color_func=lambda *args, **kwargs: cols[i],\n",
    "                  prefer_horizontal=1.0)\n",
    "\n",
    "topics = lda_mallet_g.show_topics(formatted = False)\n",
    "\n",
    "fig, axes = plt.subplots(2,5, figsize=(10,10), sharex=True, sharey=True)\n",
    "\n",
    "for i, ax in enumerate(axes.flatten()):\n",
    "    fig.add_subplot(ax)\n",
    "    topic_words = dict(topics[i][1])\n",
    "    cloud.generate_from_frequencies(topic_words, max_font_size=300)\n",
    "    plt.gca().imshow(cloud)\n",
    "    plt.gca().set_title('Topic ' + str(i), fontdict=dict(size=16))\n",
    "    plt.gca().axis('off')\n",
    "\n",
    "\n",
    "plt.subplots_adjust(wspace=0, hspace=0)\n",
    "plt.axis('off')\n",
    "plt.margins(x=0, y=0)\n",
    "plt.tight_layout()\n",
    "plt.show()"
   ]
  },
  {
   "cell_type": "markdown",
   "id": "4d0bf349",
   "metadata": {},
   "source": [
    "# Further topic Analysis"
   ]
  },
  {
   "cell_type": "code",
   "execution_count": 30,
   "id": "d61cbb51",
   "metadata": {},
   "outputs": [],
   "source": [
    "#extra libraries\n",
    "from textblob import TextBlob\n",
    "import sklearn\n",
    "from sklearn.feature_extraction.text import CountVectorizer\n",
    "import cufflinks as cf\n",
    "cf.go_offline()\n",
    "cf.set_config_file(offline=False, world_readable=True)"
   ]
  },
  {
   "cell_type": "code",
   "execution_count": 31,
   "id": "f7a248d2",
   "metadata": {},
   "outputs": [
    {
     "data": {
      "text/html": [
       "<div>\n",
       "<style scoped>\n",
       "    .dataframe tbody tr th:only-of-type {\n",
       "        vertical-align: middle;\n",
       "    }\n",
       "\n",
       "    .dataframe tbody tr th {\n",
       "        vertical-align: top;\n",
       "    }\n",
       "\n",
       "    .dataframe thead th {\n",
       "        text-align: right;\n",
       "    }\n",
       "</style>\n",
       "<table border=\"1\" class=\"dataframe\">\n",
       "  <thead>\n",
       "    <tr style=\"text-align: right;\">\n",
       "      <th></th>\n",
       "      <th>Post</th>\n",
       "      <th>Name</th>\n",
       "      <th>Datetime</th>\n",
       "      <th>Story</th>\n",
       "      <th>year</th>\n",
       "      <th>polarity</th>\n",
       "      <th>review_len</th>\n",
       "      <th>word_count</th>\n",
       "    </tr>\n",
       "  </thead>\n",
       "  <tbody>\n",
       "    <tr>\n",
       "      <th>0</th>\n",
       "      <td>post-7139982</td>\n",
       "      <td>June132017</td>\n",
       "      <td>Jul 14, 2021 at 1:27 AM</td>\n",
       "      <td>A guy named Russel ordered a Lyft. So looking ...</td>\n",
       "      <td>2021</td>\n",
       "      <td>0.038889</td>\n",
       "      <td>533</td>\n",
       "      <td>104</td>\n",
       "    </tr>\n",
       "    <tr>\n",
       "      <th>1</th>\n",
       "      <td>post-7137806</td>\n",
       "      <td>Bojingles</td>\n",
       "      <td>Jul 12, 2021 at 5:15 PM</td>\n",
       "      <td>My account has never been placed on hold for a...</td>\n",
       "      <td>2021</td>\n",
       "      <td>0.000000</td>\n",
       "      <td>124</td>\n",
       "      <td>21</td>\n",
       "    </tr>\n",
       "    <tr>\n",
       "      <th>2</th>\n",
       "      <td>post-7136004</td>\n",
       "      <td>MissAnne</td>\n",
       "      <td>Jul 10, 2021 at 8:40 PM</td>\n",
       "      <td>Guess things in Salt Lake City are getting bac...</td>\n",
       "      <td>2021</td>\n",
       "      <td>0.123611</td>\n",
       "      <td>239</td>\n",
       "      <td>49</td>\n",
       "    </tr>\n",
       "    <tr>\n",
       "      <th>3</th>\n",
       "      <td>post-7029729</td>\n",
       "      <td>touberornottouber</td>\n",
       "      <td>Apr 14, 2021 at 12:00 PM</td>\n",
       "      <td>I get a ride request to go to an apartment. Wh...</td>\n",
       "      <td>2021</td>\n",
       "      <td>0.072727</td>\n",
       "      <td>1367</td>\n",
       "      <td>282</td>\n",
       "    </tr>\n",
       "    <tr>\n",
       "      <th>4</th>\n",
       "      <td>post-7129924</td>\n",
       "      <td>losiglow</td>\n",
       "      <td>Jul 4, 2021 at 4:19 PM</td>\n",
       "      <td>I thought a thread dedicated to funny screensh...</td>\n",
       "      <td>2021</td>\n",
       "      <td>0.101518</td>\n",
       "      <td>941</td>\n",
       "      <td>174</td>\n",
       "    </tr>\n",
       "    <tr>\n",
       "      <th>...</th>\n",
       "      <td>...</td>\n",
       "      <td>...</td>\n",
       "      <td>...</td>\n",
       "      <td>...</td>\n",
       "      <td>...</td>\n",
       "      <td>...</td>\n",
       "      <td>...</td>\n",
       "      <td>...</td>\n",
       "    </tr>\n",
       "    <tr>\n",
       "      <th>375</th>\n",
       "      <td>post-6733635</td>\n",
       "      <td>FLKeys</td>\n",
       "      <td>Jan 4, 2021 at 12:08 PM</td>\n",
       "      <td>Saturday night I picked up a PAX and in our di...</td>\n",
       "      <td>2021</td>\n",
       "      <td>0.092659</td>\n",
       "      <td>2795</td>\n",
       "      <td>565</td>\n",
       "    </tr>\n",
       "    <tr>\n",
       "      <th>376</th>\n",
       "      <td>post-6727401</td>\n",
       "      <td>goneubering</td>\n",
       "      <td>Jan 2, 2021 at 2:24 AM</td>\n",
       "      <td>\\nMost of the students enrolled at Lynhurst Ba...</td>\n",
       "      <td>2021</td>\n",
       "      <td>0.237500</td>\n",
       "      <td>1984</td>\n",
       "      <td>345</td>\n",
       "    </tr>\n",
       "    <tr>\n",
       "      <th>377</th>\n",
       "      <td>post-6724571</td>\n",
       "      <td>Ozzyoz</td>\n",
       "      <td>Jan 1, 2021 at 1:48 AM</td>\n",
       "      <td>It is a Q symbol instead of U but has same loo...</td>\n",
       "      <td>2021</td>\n",
       "      <td>0.000000</td>\n",
       "      <td>74</td>\n",
       "      <td>17</td>\n",
       "    </tr>\n",
       "    <tr>\n",
       "      <th>378</th>\n",
       "      <td>post-6725137</td>\n",
       "      <td>Safar</td>\n",
       "      <td>Jan 1, 2021 at 10:04 AM</td>\n",
       "      <td>Works well for me though lol, specially when t...</td>\n",
       "      <td>2021</td>\n",
       "      <td>0.369048</td>\n",
       "      <td>73</td>\n",
       "      <td>14</td>\n",
       "    </tr>\n",
       "    <tr>\n",
       "      <th>379</th>\n",
       "      <td>post-6726691</td>\n",
       "      <td>Stevie The magic Unicorn</td>\n",
       "      <td>Jan 1, 2021 at 8:37 PM</td>\n",
       "      <td>So yesterday I was working general dispatch ca...</td>\n",
       "      <td>2021</td>\n",
       "      <td>-0.113148</td>\n",
       "      <td>925</td>\n",
       "      <td>179</td>\n",
       "    </tr>\n",
       "  </tbody>\n",
       "</table>\n",
       "<p>380 rows × 8 columns</p>\n",
       "</div>"
      ],
      "text/plain": [
       "             Post                      Name                  Datetime  \\\n",
       "0    post-7139982                June132017   Jul 14, 2021 at 1:27 AM   \n",
       "1    post-7137806                 Bojingles   Jul 12, 2021 at 5:15 PM   \n",
       "2    post-7136004                  MissAnne   Jul 10, 2021 at 8:40 PM   \n",
       "3    post-7029729         touberornottouber  Apr 14, 2021 at 12:00 PM   \n",
       "4    post-7129924                  losiglow    Jul 4, 2021 at 4:19 PM   \n",
       "..            ...                       ...                       ...   \n",
       "375  post-6733635                    FLKeys   Jan 4, 2021 at 12:08 PM   \n",
       "376  post-6727401               goneubering    Jan 2, 2021 at 2:24 AM   \n",
       "377  post-6724571                    Ozzyoz    Jan 1, 2021 at 1:48 AM   \n",
       "378  post-6725137                     Safar   Jan 1, 2021 at 10:04 AM   \n",
       "379  post-6726691  Stevie The magic Unicorn    Jan 1, 2021 at 8:37 PM   \n",
       "\n",
       "                                                 Story  year  polarity  \\\n",
       "0    A guy named Russel ordered a Lyft. So looking ...  2021  0.038889   \n",
       "1    My account has never been placed on hold for a...  2021  0.000000   \n",
       "2    Guess things in Salt Lake City are getting bac...  2021  0.123611   \n",
       "3    I get a ride request to go to an apartment. Wh...  2021  0.072727   \n",
       "4    I thought a thread dedicated to funny screensh...  2021  0.101518   \n",
       "..                                                 ...   ...       ...   \n",
       "375  Saturday night I picked up a PAX and in our di...  2021  0.092659   \n",
       "376  \\nMost of the students enrolled at Lynhurst Ba...  2021  0.237500   \n",
       "377  It is a Q symbol instead of U but has same loo...  2021  0.000000   \n",
       "378  Works well for me though lol, specially when t...  2021  0.369048   \n",
       "379  So yesterday I was working general dispatch ca...  2021 -0.113148   \n",
       "\n",
       "     review_len  word_count  \n",
       "0           533         104  \n",
       "1           124          21  \n",
       "2           239          49  \n",
       "3          1367         282  \n",
       "4           941         174  \n",
       "..          ...         ...  \n",
       "375        2795         565  \n",
       "376        1984         345  \n",
       "377          74          17  \n",
       "378          73          14  \n",
       "379         925         179  \n",
       "\n",
       "[380 rows x 8 columns]"
      ]
     },
     "execution_count": 31,
     "metadata": {},
     "output_type": "execute_result"
    }
   ],
   "source": [
    "#create new columns for polarity\n",
    "df['polarity'] = df['Story'].map(lambda text: TextBlob(text).sentiment.polarity)\n",
    "df['review_len'] = df['Story'].astype(str).apply(len)\n",
    "df['word_count'] = df['Story'].apply(lambda x: len(str(x).split()))\n",
    "df"
   ]
  },
  {
   "cell_type": "code",
   "execution_count": 39,
   "id": "0479a720",
   "metadata": {},
   "outputs": [
    {
     "name": "stdout",
     "output_type": "stream",
     "text": [
      "5 random reviews with the highest positive sentiment polarity: \n",
      "\n",
      "\n",
      "So yesterday I gave Katie Boulter and her coach a ride to their hotel after her match. (She won her first two matches.) What a gorgeous- and very sweet- girl!! Her coach is from Spain. Here's a photo! Loving the gig this week.\n",
      "I just coined the term  to refer to a trucker, LOL.\n",
      "\n",
      "\n",
      "\n"
     ]
    }
   ],
   "source": [
    "print('2 random reviews with the highest positive sentiment polarity: \\n')\n",
    "cl = df.loc[df.polarity > 0.6, ['Story']].sample(2).values\n",
    "for c in cl:\n",
    "    print(c[0])"
   ]
  },
  {
   "cell_type": "code",
   "execution_count": 40,
   "id": "1391fe5c",
   "metadata": {},
   "outputs": [
    {
     "name": "stdout",
     "output_type": "stream",
     "text": [
      "5 random reviews with the most neutral sentiment(zero) polarity: \n",
      "\n",
      "Last night I took two very tipsy girls from one of the local college bars to their home out west of the city. I'm from that area, so I asked if they went to Meriwether Lewis Elementary, Henley M.S. and Western Albemarle H.S.\n",
      "\n",
      "Hilarious answers; \"Yes! And we STILL go to Western!\"\n",
      "\n",
      "There are underage kids by the thousands getting into bars with fake ID'S; typical fake ID'S these days are very good and can be nearly impossible to differentiate from genuine ID'S. Cracking down on that reality is clearly not a priority in a college town, although some years ago there was a large bust of a very sophisticated fake ID operation being run right in the heart of the fraternity area here in Charlottesville.\n",
      "\n",
      "\n",
      "\n",
      "\n",
      "\n",
      "\n",
      "\n",
      "\n",
      "\n",
      "\n",
      "Back in my younger days, I picked up this couple. The girl was actually pretty cute, but she was like 40. Me and her hit it off. \n",
      "\n",
      "Her husband was a moron. He spilled pizza on himself and shit. So I had a drink with her, and her husband just kind of hung around. Then he got violent and tried to fight everyone in the bar. So I asked her if she was trying to ****. She said she was worried about her husband. But she suggested we sneak off and go to my place. Bad idea. So I asked her husband if I could **** her wife. He said no and I left.\n",
      "I drove Uber for 4.5 years with 8900 trip with high rating.\n",
      "My account been suspended for almost 5 weeks, base on 100% wrong report on my DMV, Uber relies on Cheker report and all that department does run the same report.\n",
      "My action to be fix the issue to be able to make appointment with DMV, almost impossible, and managed to get appointment 40 miles away in 45 days.\n",
      "I have submitted all supporting documents and request the report to be corrected to both Court (still closed) and DMV as well.\n",
      "Briefly> almost 6 months ago I hit in parking lot, no damage to my car at almost zero speed.\n",
      "Receive letter from DMV to file the accident report, indicated at the time of accident I did not had insurance coverage. I had official letter from my personal insurance indicated at the time of accident no fault , no damage and no gapes in coverage for even 11 months period. as well since my Uber app was on, I spoke to all state indicated fr my part no action needed, and of course fax the accident report.\n",
      "on 11.29 3.30 am, on the way to pick up rider, stopped by officer going faster than limit, but I was told my license suspended , 5 days prior to that date, of courseI did not know and the reason not reporting accident report. within 8 hours I was able to contact DMV by phone and they located the fax and removed the suspension, right away I contacted police department and spoke to officer to gave back my license, he refused and told me he will send it to DMV, waited couple weeks, 20 miles away to get my replacement. I send a letter to court, regarding the ticket ($460 charge for suspension), my mistake, the clerk told me, the court closed and judge willing to reduce the charge, I thought ok, they had to remove suspension charge, she did not indicated they changed the suspension to driving without driver license, that, s the code Uber wants to be corrected, as the result I had to let my car go, financed just for driving Uber. and Cheker wont accept any documents to support my case. to me Uber as well does not care about responsible drivers and at least look at the facts, not report that may takes months to be resolved during Covid.\n",
      "We have the 4th busiest airport in Canada with 18MM pax going thru it annually pre-covid.\n",
      "\n",
      "Yesterday at 900 AM I dropped of a pax, my first in 2 weeks, who was actually flying somewhere. So, I took a pic.......normally the right side of the road has 2 lanes of parked cars side by side jockeying for position and open parking spots. This is just our domestic terminal, the international one was further up around the turn in the road, and was exactly the same.\n",
      "\n",
      "Looks like a sci-fi movie..............\n",
      "\n",
      "\n"
     ]
    }
   ],
   "source": [
    "print('5 random reviews with the most neutral sentiment(zero) polarity: \\n')\n",
    "cl = df.loc[df.polarity < 0.1, ['Story']].sample(5).values\n",
    "for c in cl:\n",
    "    print(c[0])"
   ]
  },
  {
   "cell_type": "markdown",
   "id": "be734799",
   "metadata": {},
   "source": [
    "## Plotting Sentiment Polarity Distribution"
   ]
  },
  {
   "cell_type": "code",
   "execution_count": 42,
   "id": "5cfe1833",
   "metadata": {},
   "outputs": [
    {
     "data": {
      "application/vnd.plotly.v1+json": {
       "config": {
        "linkText": "Export to plot.ly",
        "plotlyServerURL": "https://plot.ly",
        "showLink": true
       },
       "data": [
        {
         "histfunc": "count",
         "histnorm": "",
         "marker": {
          "color": "rgba(255, 153, 51, 1.0)",
          "line": {
           "color": "#000000",
           "width": 1.3
          }
         },
         "name": "polarity",
         "nbinsx": 50,
         "opacity": 0.8,
         "orientation": "v",
         "type": "histogram",
         "x": [
          0.03888888888888888,
          0,
          0.1236111111111111,
          0.07272727272727272,
          0.10151828847481024,
          -0.5333333333333333,
          0.09401792249618338,
          0.16,
          -0.13295454545454544,
          0.2,
          0.2893939393939395,
          0.11770833333333335,
          0.07324380165289256,
          0,
          -0.032163742690058485,
          -0.15,
          0.09375000000000004,
          -0.14507936507936509,
          0.03194444444444445,
          0,
          0.5,
          0.007142857142857131,
          0.28555555555555556,
          -0.06055740125507565,
          -0.013009438009438011,
          -0.022857142857142857,
          0.08741258741258741,
          0.058641975308641986,
          -0.006699810606060609,
          0.14285714285714285,
          0.25,
          0.1448143115942029,
          0.08694444444444445,
          0.239586038961039,
          0.13522727272727272,
          -0.10729166666666663,
          0.22233333333333333,
          -0.20000000000000004,
          0.2333333333333333,
          0,
          0.036616161616161616,
          0.0883116883116883,
          0.051499118165784834,
          -0.15555555555555556,
          0.05505847953216375,
          0.29375,
          0.2,
          0.27321428571428574,
          0.5,
          0.027500000000000014,
          0.2,
          0.225,
          0,
          0.0275,
          0.04533730158730159,
          -0.05106421356421355,
          0.09714285714285714,
          -0.15000000000000002,
          -0.0015151515151515125,
          0.11857142857142858,
          -0.07771428571428571,
          0.18333333333333335,
          0.4928571428571429,
          -0.052380952380952375,
          0.2125,
          0.1429563492063492,
          0.04900793650793651,
          -0.025,
          0.08333333333333333,
          -0.07841907596371882,
          0.28583333333333344,
          0.36,
          0.17219990079365077,
          0.008198051948051944,
          0,
          0.021797538880872235,
          0,
          0.12395833333333336,
          -0.10000000000000002,
          0.0866666666666667,
          0.171875,
          0.2333333333333333,
          0.16160714285714287,
          0.05897546897546899,
          0.14285714285714285,
          0.10931818181818183,
          0.16814525462962962,
          0.12045454545454545,
          0.001041666666666663,
          0,
          0.05681818181818181,
          0.07978598376188738,
          0.09999999999999999,
          0.475,
          0.20104166666666667,
          -0.10123456790123458,
          0,
          -0.3,
          0,
          0.054464285714285715,
          0.10666666666666667,
          -0.09764003673094585,
          0.16666666666666669,
          0.125,
          0.06932773109243696,
          0.3,
          0.1642489711934156,
          -0.07698412698412697,
          0.04545454545454545,
          0.18055555555555558,
          0.2916666666666667,
          -0.021555555555555553,
          -0.025,
          0,
          -0.06375,
          0.48611111111111116,
          0.15410874932359309,
          -0.20416666666666666,
          0.1787795537795538,
          0.06,
          0.03168863964318511,
          0,
          -0.004894179894179901,
          -0.09629629629629631,
          0.12714285714285714,
          0.1638888888888889,
          0,
          0.175,
          0.14642857142857144,
          0.08504611330698288,
          -0.1875,
          0.0537037037037037,
          0.48333333333333334,
          0.13636363636363635,
          0.12859147025813694,
          0.10795454545454546,
          0.60966796875,
          -0.017013888888888874,
          0.026623376623376622,
          0.16935341789992955,
          -0.031804388422035486,
          0.09142857142857143,
          -0.022603174603174597,
          0,
          0.425,
          -0.06845238095238096,
          0.05575757575757576,
          0.13066378066378068,
          0.024999999999999998,
          0,
          -0.08425925925925927,
          -0.1301785714285714,
          0.055555555555555546,
          0.18090277777777777,
          -0.0914547109962406,
          0.4,
          0.041165624498957824,
          -0.027777777777777773,
          0,
          0,
          0.5,
          0,
          0.07804232804232805,
          0.2646,
          0.048737587018837035,
          0,
          0.1724431818181818,
          0.030397727272727278,
          0,
          0.000526315789473676,
          0.05741071428571428,
          -0.1638888888888889,
          0,
          0.19807692307692307,
          0.1131961259079903,
          -0.015151515151515142,
          0.07889939692982456,
          0,
          0,
          -0.10574269480519478,
          -0.07777777777777778,
          -0.06250000000000001,
          0.08706349206349208,
          0,
          0,
          -0.4350694444444445,
          0.05000000000000001,
          0.020395833333333342,
          0.5208333333333334,
          -0.016766513056835634,
          -0.02380952380952382,
          0.048649691358024695,
          0,
          0.1357142857142857,
          0.06304112554112555,
          0,
          0.15,
          0.07767857142857142,
          -0.22760141093474426,
          0.10476190476190476,
          0.18007756132756134,
          0.2833333333333333,
          0.18644536271808995,
          0.16985212200280694,
          0.10178705421562566,
          -0.21507936507936506,
          0.14857456140350878,
          -0.34464285714285714,
          0.2877604166666667,
          0.06611416361416361,
          0.11374999999999999,
          -0.023338293650793658,
          -0.04763888888888888,
          0.275,
          -0.08392857142857142,
          0.02043083900226757,
          0.4875,
          0.18333333333333332,
          0.1649978041282389,
          0.8,
          -0.0375,
          -0.0062500000000000056,
          0.390625,
          0.07588078391734052,
          0.042857142857142864,
          0.05176469665600099,
          -0.008888888888888889,
          0.25,
          0.10327380952380952,
          0.014553180597506661,
          0.09313909774436091,
          0.2390625,
          0.13583959899749373,
          0.10353535353535354,
          0.21212121212121213,
          -0.3499999999999999,
          0.29999999999999993,
          0.15540073352573353,
          0.16,
          0.09166666666666667,
          -0.5,
          0.0873015873015873,
          -0.24858974358974362,
          -0.06335497835497836,
          -0.009809523809523806,
          0.02407407407407407,
          0.05818840579710146,
          0.22759018759018756,
          -0.024768518518518523,
          -0.01543181818181818,
          0.36666666666666664,
          0.21666666666666665,
          0.20396327810120912,
          -0.048809523809523796,
          0.11980158730158731,
          -0.026024250440917107,
          0.042031250000000006,
          0.23098282828282837,
          0.06465848965848965,
          0.08115440115440117,
          0.20520833333333338,
          0.24166666666666667,
          -0.11499999999999999,
          0.25,
          -0.17109375,
          0.25,
          -0.031672932330827075,
          0.09702380952380953,
          0,
          -0.04518518518518518,
          -0.03958333333333333,
          0.028581094831094837,
          0.13999999999999999,
          0.43333333333333335,
          0.09941949716949713,
          0.0980859010270775,
          0.029166666666666664,
          -0.09583299752847624,
          0,
          0.14375000000000002,
          0.3333333333333333,
          0.5,
          0.2730375180375181,
          0.13333333333333333,
          0.1072727272727273,
          -0.125,
          -0.13125000000000003,
          0.096875,
          0.10000000000000003,
          0.14088345864661656,
          0.1875,
          0.15769444444444447,
          0.10714285714285714,
          0.15656090985038354,
          -0.01569629201208149,
          -0.0761904761904762,
          0.13066666666666665,
          0.028206168831168804,
          -0.8,
          -0.01842105263157895,
          0,
          0.029631020021645027,
          0.14166666666666664,
          -0.11447368421052631,
          0.02777777777777777,
          0.1513447971781305,
          0.08333333333333333,
          -0.08194444444444444,
          0.06018518518518518,
          -0.3125,
          0.084347442680776,
          0.004513888888888873,
          0,
          0,
          -0.04408234126984126,
          0.16444444444444445,
          0.09910714285714287,
          0,
          0.22374999999999998,
          -0.012500000000000011,
          -0.65,
          0,
          0.4375,
          0,
          -0.16052631578947366,
          0.03125000000000003,
          0.1176666666666667,
          -0.015624999999999986,
          -0.18295454545454548,
          -0.04780219780219779,
          -0.05520833333333334,
          0,
          0.06563492063492064,
          -0.058333333333333334,
          0.15255681818181818,
          0.046428571428571416,
          0.27898550724637683,
          0.3,
          0.12738095238095237,
          0.004545454545454539,
          -0.09642857142857138,
          0.28437500000000004,
          0.030888888888888903,
          0.007564484126984128,
          -0.0925,
          0.1167606516290727,
          -0.2,
          0.021953188054882975,
          -0.14770408163265308,
          0.15,
          0.10972222222222221,
          0.0426608187134503,
          0.011538461538461532,
          0.06669715195105821,
          0.06444444444444444,
          0.021388888888888912,
          0.15441326530612245,
          0.16382783882783883,
          -0.31666666666666665,
          0.0715277777777778,
          0.21333333333333332,
          0.13486590038314178,
          -0.03333333333333333,
          0.07962962962962963,
          0.1417261904761905,
          0.16089870323129252,
          0.125,
          0.47500000000000003,
          -0.8,
          0.6,
          -0.3888888888888889,
          0.14910714285714288,
          -0.1375598086124402,
          0.122687338501292,
          0.1775126584724799,
          0.09265873015873018,
          0.23750000000000002,
          0,
          0.36904761904761907,
          -0.11314814814814816
         ]
        }
       ],
       "layout": {
        "barmode": "overlay",
        "legend": {
         "bgcolor": "#F5F6F9",
         "font": {
          "color": "#4D5663"
         }
        },
        "paper_bgcolor": "#F5F6F9",
        "plot_bgcolor": "#F5F6F9",
        "template": {
         "data": {
          "bar": [
           {
            "error_x": {
             "color": "#2a3f5f"
            },
            "error_y": {
             "color": "#2a3f5f"
            },
            "marker": {
             "line": {
              "color": "#E5ECF6",
              "width": 0.5
             }
            },
            "type": "bar"
           }
          ],
          "barpolar": [
           {
            "marker": {
             "line": {
              "color": "#E5ECF6",
              "width": 0.5
             }
            },
            "type": "barpolar"
           }
          ],
          "carpet": [
           {
            "aaxis": {
             "endlinecolor": "#2a3f5f",
             "gridcolor": "white",
             "linecolor": "white",
             "minorgridcolor": "white",
             "startlinecolor": "#2a3f5f"
            },
            "baxis": {
             "endlinecolor": "#2a3f5f",
             "gridcolor": "white",
             "linecolor": "white",
             "minorgridcolor": "white",
             "startlinecolor": "#2a3f5f"
            },
            "type": "carpet"
           }
          ],
          "choropleth": [
           {
            "colorbar": {
             "outlinewidth": 0,
             "ticks": ""
            },
            "type": "choropleth"
           }
          ],
          "contour": [
           {
            "colorbar": {
             "outlinewidth": 0,
             "ticks": ""
            },
            "colorscale": [
             [
              0,
              "#0d0887"
             ],
             [
              0.1111111111111111,
              "#46039f"
             ],
             [
              0.2222222222222222,
              "#7201a8"
             ],
             [
              0.3333333333333333,
              "#9c179e"
             ],
             [
              0.4444444444444444,
              "#bd3786"
             ],
             [
              0.5555555555555556,
              "#d8576b"
             ],
             [
              0.6666666666666666,
              "#ed7953"
             ],
             [
              0.7777777777777778,
              "#fb9f3a"
             ],
             [
              0.8888888888888888,
              "#fdca26"
             ],
             [
              1,
              "#f0f921"
             ]
            ],
            "type": "contour"
           }
          ],
          "contourcarpet": [
           {
            "colorbar": {
             "outlinewidth": 0,
             "ticks": ""
            },
            "type": "contourcarpet"
           }
          ],
          "heatmap": [
           {
            "colorbar": {
             "outlinewidth": 0,
             "ticks": ""
            },
            "colorscale": [
             [
              0,
              "#0d0887"
             ],
             [
              0.1111111111111111,
              "#46039f"
             ],
             [
              0.2222222222222222,
              "#7201a8"
             ],
             [
              0.3333333333333333,
              "#9c179e"
             ],
             [
              0.4444444444444444,
              "#bd3786"
             ],
             [
              0.5555555555555556,
              "#d8576b"
             ],
             [
              0.6666666666666666,
              "#ed7953"
             ],
             [
              0.7777777777777778,
              "#fb9f3a"
             ],
             [
              0.8888888888888888,
              "#fdca26"
             ],
             [
              1,
              "#f0f921"
             ]
            ],
            "type": "heatmap"
           }
          ],
          "heatmapgl": [
           {
            "colorbar": {
             "outlinewidth": 0,
             "ticks": ""
            },
            "colorscale": [
             [
              0,
              "#0d0887"
             ],
             [
              0.1111111111111111,
              "#46039f"
             ],
             [
              0.2222222222222222,
              "#7201a8"
             ],
             [
              0.3333333333333333,
              "#9c179e"
             ],
             [
              0.4444444444444444,
              "#bd3786"
             ],
             [
              0.5555555555555556,
              "#d8576b"
             ],
             [
              0.6666666666666666,
              "#ed7953"
             ],
             [
              0.7777777777777778,
              "#fb9f3a"
             ],
             [
              0.8888888888888888,
              "#fdca26"
             ],
             [
              1,
              "#f0f921"
             ]
            ],
            "type": "heatmapgl"
           }
          ],
          "histogram": [
           {
            "marker": {
             "colorbar": {
              "outlinewidth": 0,
              "ticks": ""
             }
            },
            "type": "histogram"
           }
          ],
          "histogram2d": [
           {
            "colorbar": {
             "outlinewidth": 0,
             "ticks": ""
            },
            "colorscale": [
             [
              0,
              "#0d0887"
             ],
             [
              0.1111111111111111,
              "#46039f"
             ],
             [
              0.2222222222222222,
              "#7201a8"
             ],
             [
              0.3333333333333333,
              "#9c179e"
             ],
             [
              0.4444444444444444,
              "#bd3786"
             ],
             [
              0.5555555555555556,
              "#d8576b"
             ],
             [
              0.6666666666666666,
              "#ed7953"
             ],
             [
              0.7777777777777778,
              "#fb9f3a"
             ],
             [
              0.8888888888888888,
              "#fdca26"
             ],
             [
              1,
              "#f0f921"
             ]
            ],
            "type": "histogram2d"
           }
          ],
          "histogram2dcontour": [
           {
            "colorbar": {
             "outlinewidth": 0,
             "ticks": ""
            },
            "colorscale": [
             [
              0,
              "#0d0887"
             ],
             [
              0.1111111111111111,
              "#46039f"
             ],
             [
              0.2222222222222222,
              "#7201a8"
             ],
             [
              0.3333333333333333,
              "#9c179e"
             ],
             [
              0.4444444444444444,
              "#bd3786"
             ],
             [
              0.5555555555555556,
              "#d8576b"
             ],
             [
              0.6666666666666666,
              "#ed7953"
             ],
             [
              0.7777777777777778,
              "#fb9f3a"
             ],
             [
              0.8888888888888888,
              "#fdca26"
             ],
             [
              1,
              "#f0f921"
             ]
            ],
            "type": "histogram2dcontour"
           }
          ],
          "mesh3d": [
           {
            "colorbar": {
             "outlinewidth": 0,
             "ticks": ""
            },
            "type": "mesh3d"
           }
          ],
          "parcoords": [
           {
            "line": {
             "colorbar": {
              "outlinewidth": 0,
              "ticks": ""
             }
            },
            "type": "parcoords"
           }
          ],
          "pie": [
           {
            "automargin": true,
            "type": "pie"
           }
          ],
          "scatter": [
           {
            "marker": {
             "colorbar": {
              "outlinewidth": 0,
              "ticks": ""
             }
            },
            "type": "scatter"
           }
          ],
          "scatter3d": [
           {
            "line": {
             "colorbar": {
              "outlinewidth": 0,
              "ticks": ""
             }
            },
            "marker": {
             "colorbar": {
              "outlinewidth": 0,
              "ticks": ""
             }
            },
            "type": "scatter3d"
           }
          ],
          "scattercarpet": [
           {
            "marker": {
             "colorbar": {
              "outlinewidth": 0,
              "ticks": ""
             }
            },
            "type": "scattercarpet"
           }
          ],
          "scattergeo": [
           {
            "marker": {
             "colorbar": {
              "outlinewidth": 0,
              "ticks": ""
             }
            },
            "type": "scattergeo"
           }
          ],
          "scattergl": [
           {
            "marker": {
             "colorbar": {
              "outlinewidth": 0,
              "ticks": ""
             }
            },
            "type": "scattergl"
           }
          ],
          "scattermapbox": [
           {
            "marker": {
             "colorbar": {
              "outlinewidth": 0,
              "ticks": ""
             }
            },
            "type": "scattermapbox"
           }
          ],
          "scatterpolar": [
           {
            "marker": {
             "colorbar": {
              "outlinewidth": 0,
              "ticks": ""
             }
            },
            "type": "scatterpolar"
           }
          ],
          "scatterpolargl": [
           {
            "marker": {
             "colorbar": {
              "outlinewidth": 0,
              "ticks": ""
             }
            },
            "type": "scatterpolargl"
           }
          ],
          "scatterternary": [
           {
            "marker": {
             "colorbar": {
              "outlinewidth": 0,
              "ticks": ""
             }
            },
            "type": "scatterternary"
           }
          ],
          "surface": [
           {
            "colorbar": {
             "outlinewidth": 0,
             "ticks": ""
            },
            "colorscale": [
             [
              0,
              "#0d0887"
             ],
             [
              0.1111111111111111,
              "#46039f"
             ],
             [
              0.2222222222222222,
              "#7201a8"
             ],
             [
              0.3333333333333333,
              "#9c179e"
             ],
             [
              0.4444444444444444,
              "#bd3786"
             ],
             [
              0.5555555555555556,
              "#d8576b"
             ],
             [
              0.6666666666666666,
              "#ed7953"
             ],
             [
              0.7777777777777778,
              "#fb9f3a"
             ],
             [
              0.8888888888888888,
              "#fdca26"
             ],
             [
              1,
              "#f0f921"
             ]
            ],
            "type": "surface"
           }
          ],
          "table": [
           {
            "cells": {
             "fill": {
              "color": "#EBF0F8"
             },
             "line": {
              "color": "white"
             }
            },
            "header": {
             "fill": {
              "color": "#C8D4E3"
             },
             "line": {
              "color": "white"
             }
            },
            "type": "table"
           }
          ]
         },
         "layout": {
          "annotationdefaults": {
           "arrowcolor": "#2a3f5f",
           "arrowhead": 0,
           "arrowwidth": 1
          },
          "autotypenumbers": "strict",
          "coloraxis": {
           "colorbar": {
            "outlinewidth": 0,
            "ticks": ""
           }
          },
          "colorscale": {
           "diverging": [
            [
             0,
             "#8e0152"
            ],
            [
             0.1,
             "#c51b7d"
            ],
            [
             0.2,
             "#de77ae"
            ],
            [
             0.3,
             "#f1b6da"
            ],
            [
             0.4,
             "#fde0ef"
            ],
            [
             0.5,
             "#f7f7f7"
            ],
            [
             0.6,
             "#e6f5d0"
            ],
            [
             0.7,
             "#b8e186"
            ],
            [
             0.8,
             "#7fbc41"
            ],
            [
             0.9,
             "#4d9221"
            ],
            [
             1,
             "#276419"
            ]
           ],
           "sequential": [
            [
             0,
             "#0d0887"
            ],
            [
             0.1111111111111111,
             "#46039f"
            ],
            [
             0.2222222222222222,
             "#7201a8"
            ],
            [
             0.3333333333333333,
             "#9c179e"
            ],
            [
             0.4444444444444444,
             "#bd3786"
            ],
            [
             0.5555555555555556,
             "#d8576b"
            ],
            [
             0.6666666666666666,
             "#ed7953"
            ],
            [
             0.7777777777777778,
             "#fb9f3a"
            ],
            [
             0.8888888888888888,
             "#fdca26"
            ],
            [
             1,
             "#f0f921"
            ]
           ],
           "sequentialminus": [
            [
             0,
             "#0d0887"
            ],
            [
             0.1111111111111111,
             "#46039f"
            ],
            [
             0.2222222222222222,
             "#7201a8"
            ],
            [
             0.3333333333333333,
             "#9c179e"
            ],
            [
             0.4444444444444444,
             "#bd3786"
            ],
            [
             0.5555555555555556,
             "#d8576b"
            ],
            [
             0.6666666666666666,
             "#ed7953"
            ],
            [
             0.7777777777777778,
             "#fb9f3a"
            ],
            [
             0.8888888888888888,
             "#fdca26"
            ],
            [
             1,
             "#f0f921"
            ]
           ]
          },
          "colorway": [
           "#636efa",
           "#EF553B",
           "#00cc96",
           "#ab63fa",
           "#FFA15A",
           "#19d3f3",
           "#FF6692",
           "#B6E880",
           "#FF97FF",
           "#FECB52"
          ],
          "font": {
           "color": "#2a3f5f"
          },
          "geo": {
           "bgcolor": "white",
           "lakecolor": "white",
           "landcolor": "#E5ECF6",
           "showlakes": true,
           "showland": true,
           "subunitcolor": "white"
          },
          "hoverlabel": {
           "align": "left"
          },
          "hovermode": "closest",
          "mapbox": {
           "style": "light"
          },
          "paper_bgcolor": "white",
          "plot_bgcolor": "#E5ECF6",
          "polar": {
           "angularaxis": {
            "gridcolor": "white",
            "linecolor": "white",
            "ticks": ""
           },
           "bgcolor": "#E5ECF6",
           "radialaxis": {
            "gridcolor": "white",
            "linecolor": "white",
            "ticks": ""
           }
          },
          "scene": {
           "xaxis": {
            "backgroundcolor": "#E5ECF6",
            "gridcolor": "white",
            "gridwidth": 2,
            "linecolor": "white",
            "showbackground": true,
            "ticks": "",
            "zerolinecolor": "white"
           },
           "yaxis": {
            "backgroundcolor": "#E5ECF6",
            "gridcolor": "white",
            "gridwidth": 2,
            "linecolor": "white",
            "showbackground": true,
            "ticks": "",
            "zerolinecolor": "white"
           },
           "zaxis": {
            "backgroundcolor": "#E5ECF6",
            "gridcolor": "white",
            "gridwidth": 2,
            "linecolor": "white",
            "showbackground": true,
            "ticks": "",
            "zerolinecolor": "white"
           }
          },
          "shapedefaults": {
           "line": {
            "color": "#2a3f5f"
           }
          },
          "ternary": {
           "aaxis": {
            "gridcolor": "white",
            "linecolor": "white",
            "ticks": ""
           },
           "baxis": {
            "gridcolor": "white",
            "linecolor": "white",
            "ticks": ""
           },
           "bgcolor": "#E5ECF6",
           "caxis": {
            "gridcolor": "white",
            "linecolor": "white",
            "ticks": ""
           }
          },
          "title": {
           "x": 0.05
          },
          "xaxis": {
           "automargin": true,
           "gridcolor": "white",
           "linecolor": "white",
           "ticks": "",
           "title": {
            "standoff": 15
           },
           "zerolinecolor": "white",
           "zerolinewidth": 2
          },
          "yaxis": {
           "automargin": true,
           "gridcolor": "white",
           "linecolor": "white",
           "ticks": "",
           "title": {
            "standoff": 15
           },
           "zerolinecolor": "white",
           "zerolinewidth": 2
          }
         }
        },
        "title": {
         "font": {
          "color": "#4D5663"
         },
         "text": "Sentiment Polarity Distribution"
        },
        "xaxis": {
         "gridcolor": "#E1E5ED",
         "linecolor": "black",
         "showgrid": true,
         "tickfont": {
          "color": "#4D5663"
         },
         "title": {
          "font": {
           "color": "#4D5663"
          },
          "text": "polarity"
         },
         "zerolinecolor": "#E1E5ED"
        },
        "yaxis": {
         "gridcolor": "#E1E5ED",
         "linecolor": "black",
         "showgrid": true,
         "tickfont": {
          "color": "#4D5663"
         },
         "title": {
          "font": {
           "color": "#4D5663"
          },
          "text": "count"
         },
         "zerolinecolor": "#E1E5ED"
        }
       }
      },
      "text/html": [
       "<div>                            <div id=\"bf0dac32-0e0d-46a9-b9b0-7a9729b8ed7e\" class=\"plotly-graph-div\" style=\"height:525px; width:100%;\"></div>            <script type=\"text/javascript\">                require([\"plotly\"], function(Plotly) {                    window.PLOTLYENV=window.PLOTLYENV || {};\n",
       "                    window.PLOTLYENV.BASE_URL='https://plot.ly';                                    if (document.getElementById(\"bf0dac32-0e0d-46a9-b9b0-7a9729b8ed7e\")) {                    Plotly.newPlot(                        \"bf0dac32-0e0d-46a9-b9b0-7a9729b8ed7e\",                        [{\"histfunc\": \"count\", \"histnorm\": \"\", \"marker\": {\"color\": \"rgba(255, 153, 51, 1.0)\", \"line\": {\"color\": \"#000000\", \"width\": 1.3}}, \"name\": \"polarity\", \"nbinsx\": 50, \"opacity\": 0.8, \"orientation\": \"v\", \"type\": \"histogram\", \"x\": [0.03888888888888888, 0.0, 0.1236111111111111, 0.07272727272727272, 0.10151828847481024, -0.5333333333333333, 0.09401792249618338, 0.16, -0.13295454545454544, 0.2, 0.2893939393939395, 0.11770833333333335, 0.07324380165289256, 0.0, -0.032163742690058485, -0.15, 0.09375000000000004, -0.14507936507936509, 0.03194444444444445, 0.0, 0.5, 0.007142857142857131, 0.28555555555555556, -0.06055740125507565, -0.013009438009438011, -0.022857142857142857, 0.08741258741258741, 0.058641975308641986, -0.006699810606060609, 0.14285714285714285, 0.25, 0.1448143115942029, 0.08694444444444445, 0.239586038961039, 0.13522727272727272, -0.10729166666666663, 0.22233333333333333, -0.20000000000000004, 0.2333333333333333, 0.0, 0.036616161616161616, 0.0883116883116883, 0.051499118165784834, -0.15555555555555556, 0.05505847953216375, 0.29375, 0.2, 0.27321428571428574, 0.5, 0.027500000000000014, 0.2, 0.225, 0.0, 0.0275, 0.04533730158730159, -0.05106421356421355, 0.09714285714285714, -0.15000000000000002, -0.0015151515151515125, 0.11857142857142858, -0.07771428571428571, 0.18333333333333335, 0.4928571428571429, -0.052380952380952375, 0.2125, 0.1429563492063492, 0.04900793650793651, -0.025, 0.08333333333333333, -0.07841907596371882, 0.28583333333333344, 0.36, 0.17219990079365077, 0.008198051948051944, 0.0, 0.021797538880872235, 0.0, 0.12395833333333336, -0.10000000000000002, 0.0866666666666667, 0.171875, 0.2333333333333333, 0.16160714285714287, 0.05897546897546899, 0.14285714285714285, 0.10931818181818183, 0.16814525462962962, 0.12045454545454545, 0.001041666666666663, 0.0, 0.05681818181818181, 0.07978598376188738, 0.09999999999999999, 0.475, 0.20104166666666667, -0.10123456790123458, 0.0, -0.3, 0.0, 0.054464285714285715, 0.10666666666666667, -0.09764003673094585, 0.16666666666666669, 0.125, 0.06932773109243696, 0.3, 0.1642489711934156, -0.07698412698412697, 0.04545454545454545, 0.18055555555555558, 0.2916666666666667, -0.021555555555555553, -0.025, 0.0, -0.06375, 0.48611111111111116, 0.15410874932359309, -0.20416666666666666, 0.1787795537795538, 0.06, 0.03168863964318511, 0.0, -0.004894179894179901, -0.09629629629629631, 0.12714285714285714, 0.1638888888888889, 0.0, 0.175, 0.14642857142857144, 0.08504611330698288, -0.1875, 0.0537037037037037, 0.48333333333333334, 0.13636363636363635, 0.12859147025813694, 0.10795454545454546, 0.60966796875, -0.017013888888888874, 0.026623376623376622, 0.16935341789992955, -0.031804388422035486, 0.09142857142857143, -0.022603174603174597, 0.0, 0.425, -0.06845238095238096, 0.05575757575757576, 0.13066378066378068, 0.024999999999999998, 0.0, -0.08425925925925927, -0.1301785714285714, 0.055555555555555546, 0.18090277777777777, -0.0914547109962406, 0.4, 0.041165624498957824, -0.027777777777777773, 0.0, 0.0, 0.5, 0.0, 0.07804232804232805, 0.2646, 0.048737587018837035, 0.0, 0.1724431818181818, 0.030397727272727278, 0.0, 0.000526315789473676, 0.05741071428571428, -0.1638888888888889, 0.0, 0.19807692307692307, 0.1131961259079903, -0.015151515151515142, 0.07889939692982456, 0.0, 0.0, -0.10574269480519478, -0.07777777777777778, -0.06250000000000001, 0.08706349206349208, 0.0, 0.0, -0.4350694444444445, 0.05000000000000001, 0.020395833333333342, 0.5208333333333334, -0.016766513056835634, -0.02380952380952382, 0.048649691358024695, 0.0, 0.1357142857142857, 0.06304112554112555, 0.0, 0.15, 0.07767857142857142, -0.22760141093474426, 0.10476190476190476, 0.18007756132756134, 0.2833333333333333, 0.18644536271808995, 0.16985212200280694, 0.10178705421562566, -0.21507936507936506, 0.14857456140350878, -0.34464285714285714, 0.2877604166666667, 0.06611416361416361, 0.11374999999999999, -0.023338293650793658, -0.04763888888888888, 0.275, -0.08392857142857142, 0.02043083900226757, 0.4875, 0.18333333333333332, 0.1649978041282389, 0.8, -0.0375, -0.0062500000000000056, 0.390625, 0.07588078391734052, 0.042857142857142864, 0.05176469665600099, -0.008888888888888889, 0.25, 0.10327380952380952, 0.014553180597506661, 0.09313909774436091, 0.2390625, 0.13583959899749373, 0.10353535353535354, 0.21212121212121213, -0.3499999999999999, 0.29999999999999993, 0.15540073352573353, 0.16, 0.09166666666666667, -0.5, 0.0873015873015873, -0.24858974358974362, -0.06335497835497836, -0.009809523809523806, 0.02407407407407407, 0.05818840579710146, 0.22759018759018756, -0.024768518518518523, -0.01543181818181818, 0.36666666666666664, 0.21666666666666665, 0.20396327810120912, -0.048809523809523796, 0.11980158730158731, -0.026024250440917107, 0.042031250000000006, 0.23098282828282837, 0.06465848965848965, 0.08115440115440117, 0.20520833333333338, 0.24166666666666667, -0.11499999999999999, 0.25, -0.17109375, 0.25, -0.031672932330827075, 0.09702380952380953, 0.0, -0.04518518518518518, -0.03958333333333333, 0.028581094831094837, 0.13999999999999999, 0.43333333333333335, 0.09941949716949713, 0.0980859010270775, 0.029166666666666664, -0.09583299752847624, 0.0, 0.14375000000000002, 0.3333333333333333, 0.5, 0.2730375180375181, 0.13333333333333333, 0.1072727272727273, -0.125, -0.13125000000000003, 0.096875, 0.10000000000000003, 0.14088345864661656, 0.1875, 0.15769444444444447, 0.10714285714285714, 0.15656090985038354, -0.01569629201208149, -0.0761904761904762, 0.13066666666666665, 0.028206168831168804, -0.8, -0.01842105263157895, 0.0, 0.029631020021645027, 0.14166666666666664, -0.11447368421052631, 0.02777777777777777, 0.1513447971781305, 0.08333333333333333, -0.08194444444444444, 0.06018518518518518, -0.3125, 0.084347442680776, 0.004513888888888873, 0.0, 0.0, -0.04408234126984126, 0.16444444444444445, 0.09910714285714287, 0.0, 0.22374999999999998, -0.012500000000000011, -0.65, 0.0, 0.4375, 0.0, -0.16052631578947366, 0.03125000000000003, 0.1176666666666667, -0.015624999999999986, -0.18295454545454548, -0.04780219780219779, -0.05520833333333334, 0.0, 0.06563492063492064, -0.058333333333333334, 0.15255681818181818, 0.046428571428571416, 0.27898550724637683, 0.3, 0.12738095238095237, 0.004545454545454539, -0.09642857142857138, 0.28437500000000004, 0.030888888888888903, 0.007564484126984128, -0.0925, 0.1167606516290727, -0.2, 0.021953188054882975, -0.14770408163265308, 0.15, 0.10972222222222221, 0.0426608187134503, 0.011538461538461532, 0.06669715195105821, 0.06444444444444444, 0.021388888888888912, 0.15441326530612245, 0.16382783882783883, -0.31666666666666665, 0.0715277777777778, 0.21333333333333332, 0.13486590038314178, -0.03333333333333333, 0.07962962962962963, 0.1417261904761905, 0.16089870323129252, 0.125, 0.47500000000000003, -0.8, 0.6, -0.3888888888888889, 0.14910714285714288, -0.1375598086124402, 0.122687338501292, 0.1775126584724799, 0.09265873015873018, 0.23750000000000002, 0.0, 0.36904761904761907, -0.11314814814814816]}],                        {\"barmode\": \"overlay\", \"legend\": {\"bgcolor\": \"#F5F6F9\", \"font\": {\"color\": \"#4D5663\"}}, \"paper_bgcolor\": \"#F5F6F9\", \"plot_bgcolor\": \"#F5F6F9\", \"template\": {\"data\": {\"bar\": [{\"error_x\": {\"color\": \"#2a3f5f\"}, \"error_y\": {\"color\": \"#2a3f5f\"}, \"marker\": {\"line\": {\"color\": \"#E5ECF6\", \"width\": 0.5}}, \"type\": \"bar\"}], \"barpolar\": [{\"marker\": {\"line\": {\"color\": \"#E5ECF6\", \"width\": 0.5}}, \"type\": \"barpolar\"}], \"carpet\": [{\"aaxis\": {\"endlinecolor\": \"#2a3f5f\", \"gridcolor\": \"white\", \"linecolor\": \"white\", \"minorgridcolor\": \"white\", \"startlinecolor\": \"#2a3f5f\"}, \"baxis\": {\"endlinecolor\": \"#2a3f5f\", \"gridcolor\": \"white\", \"linecolor\": \"white\", \"minorgridcolor\": \"white\", \"startlinecolor\": \"#2a3f5f\"}, \"type\": \"carpet\"}], \"choropleth\": [{\"colorbar\": {\"outlinewidth\": 0, \"ticks\": \"\"}, \"type\": \"choropleth\"}], \"contour\": [{\"colorbar\": {\"outlinewidth\": 0, \"ticks\": \"\"}, \"colorscale\": [[0.0, \"#0d0887\"], [0.1111111111111111, \"#46039f\"], [0.2222222222222222, \"#7201a8\"], [0.3333333333333333, \"#9c179e\"], [0.4444444444444444, \"#bd3786\"], [0.5555555555555556, \"#d8576b\"], [0.6666666666666666, \"#ed7953\"], [0.7777777777777778, \"#fb9f3a\"], [0.8888888888888888, \"#fdca26\"], [1.0, \"#f0f921\"]], \"type\": \"contour\"}], \"contourcarpet\": [{\"colorbar\": {\"outlinewidth\": 0, \"ticks\": \"\"}, \"type\": \"contourcarpet\"}], \"heatmap\": [{\"colorbar\": {\"outlinewidth\": 0, \"ticks\": \"\"}, \"colorscale\": [[0.0, \"#0d0887\"], [0.1111111111111111, \"#46039f\"], [0.2222222222222222, \"#7201a8\"], [0.3333333333333333, \"#9c179e\"], [0.4444444444444444, \"#bd3786\"], [0.5555555555555556, \"#d8576b\"], [0.6666666666666666, \"#ed7953\"], [0.7777777777777778, \"#fb9f3a\"], [0.8888888888888888, \"#fdca26\"], [1.0, \"#f0f921\"]], \"type\": \"heatmap\"}], \"heatmapgl\": [{\"colorbar\": {\"outlinewidth\": 0, \"ticks\": \"\"}, \"colorscale\": [[0.0, \"#0d0887\"], [0.1111111111111111, \"#46039f\"], [0.2222222222222222, \"#7201a8\"], [0.3333333333333333, \"#9c179e\"], [0.4444444444444444, \"#bd3786\"], [0.5555555555555556, \"#d8576b\"], [0.6666666666666666, \"#ed7953\"], [0.7777777777777778, \"#fb9f3a\"], [0.8888888888888888, \"#fdca26\"], [1.0, \"#f0f921\"]], \"type\": \"heatmapgl\"}], \"histogram\": [{\"marker\": {\"colorbar\": {\"outlinewidth\": 0, \"ticks\": \"\"}}, \"type\": \"histogram\"}], \"histogram2d\": [{\"colorbar\": {\"outlinewidth\": 0, \"ticks\": \"\"}, \"colorscale\": [[0.0, \"#0d0887\"], [0.1111111111111111, \"#46039f\"], [0.2222222222222222, \"#7201a8\"], [0.3333333333333333, \"#9c179e\"], [0.4444444444444444, \"#bd3786\"], [0.5555555555555556, \"#d8576b\"], [0.6666666666666666, \"#ed7953\"], [0.7777777777777778, \"#fb9f3a\"], [0.8888888888888888, \"#fdca26\"], [1.0, \"#f0f921\"]], \"type\": \"histogram2d\"}], \"histogram2dcontour\": [{\"colorbar\": {\"outlinewidth\": 0, \"ticks\": \"\"}, \"colorscale\": [[0.0, \"#0d0887\"], [0.1111111111111111, \"#46039f\"], [0.2222222222222222, \"#7201a8\"], [0.3333333333333333, \"#9c179e\"], [0.4444444444444444, \"#bd3786\"], [0.5555555555555556, \"#d8576b\"], [0.6666666666666666, \"#ed7953\"], [0.7777777777777778, \"#fb9f3a\"], [0.8888888888888888, \"#fdca26\"], [1.0, \"#f0f921\"]], \"type\": \"histogram2dcontour\"}], \"mesh3d\": [{\"colorbar\": {\"outlinewidth\": 0, \"ticks\": \"\"}, \"type\": \"mesh3d\"}], \"parcoords\": [{\"line\": {\"colorbar\": {\"outlinewidth\": 0, \"ticks\": \"\"}}, \"type\": \"parcoords\"}], \"pie\": [{\"automargin\": true, \"type\": \"pie\"}], \"scatter\": [{\"marker\": {\"colorbar\": {\"outlinewidth\": 0, \"ticks\": \"\"}}, \"type\": \"scatter\"}], \"scatter3d\": [{\"line\": {\"colorbar\": {\"outlinewidth\": 0, \"ticks\": \"\"}}, \"marker\": {\"colorbar\": {\"outlinewidth\": 0, \"ticks\": \"\"}}, \"type\": \"scatter3d\"}], \"scattercarpet\": [{\"marker\": {\"colorbar\": {\"outlinewidth\": 0, \"ticks\": \"\"}}, \"type\": \"scattercarpet\"}], \"scattergeo\": [{\"marker\": {\"colorbar\": {\"outlinewidth\": 0, \"ticks\": \"\"}}, \"type\": \"scattergeo\"}], \"scattergl\": [{\"marker\": {\"colorbar\": {\"outlinewidth\": 0, \"ticks\": \"\"}}, \"type\": \"scattergl\"}], \"scattermapbox\": [{\"marker\": {\"colorbar\": {\"outlinewidth\": 0, \"ticks\": \"\"}}, \"type\": \"scattermapbox\"}], \"scatterpolar\": [{\"marker\": {\"colorbar\": {\"outlinewidth\": 0, \"ticks\": \"\"}}, \"type\": \"scatterpolar\"}], \"scatterpolargl\": [{\"marker\": {\"colorbar\": {\"outlinewidth\": 0, \"ticks\": \"\"}}, \"type\": \"scatterpolargl\"}], \"scatterternary\": [{\"marker\": {\"colorbar\": {\"outlinewidth\": 0, \"ticks\": \"\"}}, \"type\": \"scatterternary\"}], \"surface\": [{\"colorbar\": {\"outlinewidth\": 0, \"ticks\": \"\"}, \"colorscale\": [[0.0, \"#0d0887\"], [0.1111111111111111, \"#46039f\"], [0.2222222222222222, \"#7201a8\"], [0.3333333333333333, \"#9c179e\"], [0.4444444444444444, \"#bd3786\"], [0.5555555555555556, \"#d8576b\"], [0.6666666666666666, \"#ed7953\"], [0.7777777777777778, \"#fb9f3a\"], [0.8888888888888888, \"#fdca26\"], [1.0, \"#f0f921\"]], \"type\": \"surface\"}], \"table\": [{\"cells\": {\"fill\": {\"color\": \"#EBF0F8\"}, \"line\": {\"color\": \"white\"}}, \"header\": {\"fill\": {\"color\": \"#C8D4E3\"}, \"line\": {\"color\": \"white\"}}, \"type\": \"table\"}]}, \"layout\": {\"annotationdefaults\": {\"arrowcolor\": \"#2a3f5f\", \"arrowhead\": 0, \"arrowwidth\": 1}, \"autotypenumbers\": \"strict\", \"coloraxis\": {\"colorbar\": {\"outlinewidth\": 0, \"ticks\": \"\"}}, \"colorscale\": {\"diverging\": [[0, \"#8e0152\"], [0.1, \"#c51b7d\"], [0.2, \"#de77ae\"], [0.3, \"#f1b6da\"], [0.4, \"#fde0ef\"], [0.5, \"#f7f7f7\"], [0.6, \"#e6f5d0\"], [0.7, \"#b8e186\"], [0.8, \"#7fbc41\"], [0.9, \"#4d9221\"], [1, \"#276419\"]], \"sequential\": [[0.0, \"#0d0887\"], [0.1111111111111111, \"#46039f\"], [0.2222222222222222, \"#7201a8\"], [0.3333333333333333, \"#9c179e\"], [0.4444444444444444, \"#bd3786\"], [0.5555555555555556, \"#d8576b\"], [0.6666666666666666, \"#ed7953\"], [0.7777777777777778, \"#fb9f3a\"], [0.8888888888888888, \"#fdca26\"], [1.0, \"#f0f921\"]], \"sequentialminus\": [[0.0, \"#0d0887\"], [0.1111111111111111, \"#46039f\"], [0.2222222222222222, \"#7201a8\"], [0.3333333333333333, \"#9c179e\"], [0.4444444444444444, \"#bd3786\"], [0.5555555555555556, \"#d8576b\"], [0.6666666666666666, \"#ed7953\"], [0.7777777777777778, \"#fb9f3a\"], [0.8888888888888888, \"#fdca26\"], [1.0, \"#f0f921\"]]}, \"colorway\": [\"#636efa\", \"#EF553B\", \"#00cc96\", \"#ab63fa\", \"#FFA15A\", \"#19d3f3\", \"#FF6692\", \"#B6E880\", \"#FF97FF\", \"#FECB52\"], \"font\": {\"color\": \"#2a3f5f\"}, \"geo\": {\"bgcolor\": \"white\", \"lakecolor\": \"white\", \"landcolor\": \"#E5ECF6\", \"showlakes\": true, \"showland\": true, \"subunitcolor\": \"white\"}, \"hoverlabel\": {\"align\": \"left\"}, \"hovermode\": \"closest\", \"mapbox\": {\"style\": \"light\"}, \"paper_bgcolor\": \"white\", \"plot_bgcolor\": \"#E5ECF6\", \"polar\": {\"angularaxis\": {\"gridcolor\": \"white\", \"linecolor\": \"white\", \"ticks\": \"\"}, \"bgcolor\": \"#E5ECF6\", \"radialaxis\": {\"gridcolor\": \"white\", \"linecolor\": \"white\", \"ticks\": \"\"}}, \"scene\": {\"xaxis\": {\"backgroundcolor\": \"#E5ECF6\", \"gridcolor\": \"white\", \"gridwidth\": 2, \"linecolor\": \"white\", \"showbackground\": true, \"ticks\": \"\", \"zerolinecolor\": \"white\"}, \"yaxis\": {\"backgroundcolor\": \"#E5ECF6\", \"gridcolor\": \"white\", \"gridwidth\": 2, \"linecolor\": \"white\", \"showbackground\": true, \"ticks\": \"\", \"zerolinecolor\": \"white\"}, \"zaxis\": {\"backgroundcolor\": \"#E5ECF6\", \"gridcolor\": \"white\", \"gridwidth\": 2, \"linecolor\": \"white\", \"showbackground\": true, \"ticks\": \"\", \"zerolinecolor\": \"white\"}}, \"shapedefaults\": {\"line\": {\"color\": \"#2a3f5f\"}}, \"ternary\": {\"aaxis\": {\"gridcolor\": \"white\", \"linecolor\": \"white\", \"ticks\": \"\"}, \"baxis\": {\"gridcolor\": \"white\", \"linecolor\": \"white\", \"ticks\": \"\"}, \"bgcolor\": \"#E5ECF6\", \"caxis\": {\"gridcolor\": \"white\", \"linecolor\": \"white\", \"ticks\": \"\"}}, \"title\": {\"x\": 0.05}, \"xaxis\": {\"automargin\": true, \"gridcolor\": \"white\", \"linecolor\": \"white\", \"ticks\": \"\", \"title\": {\"standoff\": 15}, \"zerolinecolor\": \"white\", \"zerolinewidth\": 2}, \"yaxis\": {\"automargin\": true, \"gridcolor\": \"white\", \"linecolor\": \"white\", \"ticks\": \"\", \"title\": {\"standoff\": 15}, \"zerolinecolor\": \"white\", \"zerolinewidth\": 2}}}, \"title\": {\"font\": {\"color\": \"#4D5663\"}, \"text\": \"Sentiment Polarity Distribution\"}, \"xaxis\": {\"gridcolor\": \"#E1E5ED\", \"linecolor\": \"black\", \"showgrid\": true, \"tickfont\": {\"color\": \"#4D5663\"}, \"title\": {\"font\": {\"color\": \"#4D5663\"}, \"text\": \"polarity\"}, \"zerolinecolor\": \"#E1E5ED\"}, \"yaxis\": {\"gridcolor\": \"#E1E5ED\", \"linecolor\": \"black\", \"showgrid\": true, \"tickfont\": {\"color\": \"#4D5663\"}, \"title\": {\"font\": {\"color\": \"#4D5663\"}, \"text\": \"count\"}, \"zerolinecolor\": \"#E1E5ED\"}},                        {\"showLink\": true, \"linkText\": \"Export to plot.ly\", \"plotlyServerURL\": \"https://plot.ly\", \"responsive\": true}                    ).then(function(){\n",
       "                            \n",
       "var gd = document.getElementById('bf0dac32-0e0d-46a9-b9b0-7a9729b8ed7e');\n",
       "var x = new MutationObserver(function (mutations, observer) {{\n",
       "        var display = window.getComputedStyle(gd).display;\n",
       "        if (!display || display === 'none') {{\n",
       "            console.log([gd, 'removed!']);\n",
       "            Plotly.purge(gd);\n",
       "            observer.disconnect();\n",
       "        }}\n",
       "}});\n",
       "\n",
       "// Listen for the removal of the full notebook cells\n",
       "var notebookContainer = gd.closest('#notebook-container');\n",
       "if (notebookContainer) {{\n",
       "    x.observe(notebookContainer, {childList: true});\n",
       "}}\n",
       "\n",
       "// Listen for the clearing of the current output cell\n",
       "var outputEl = gd.closest('.output');\n",
       "if (outputEl) {{\n",
       "    x.observe(outputEl, {childList: true});\n",
       "}}\n",
       "\n",
       "                        })                };                });            </script>        </div>"
      ]
     },
     "metadata": {},
     "output_type": "display_data"
    }
   ],
   "source": [
    "df['polarity'].iplot(\n",
    "    kind='hist',\n",
    "    bins=50,\n",
    "    xTitle='polarity',\n",
    "    linecolor='black',\n",
    "    yTitle='count',\n",
    "    title='Sentiment Polarity Distribution')"
   ]
  },
  {
   "cell_type": "markdown",
   "id": "4861223a",
   "metadata": {},
   "source": [
    "## Top 20 words mentioned"
   ]
  },
  {
   "cell_type": "code",
   "execution_count": 43,
   "id": "3341d4d4",
   "metadata": {},
   "outputs": [
    {
     "name": "stdout",
     "output_type": "stream",
     "text": [
      "uber 321\n",
      "pax 305\n",
      "just 272\n",
      "ride 259\n",
      "car 238\n",
      "said 233\n",
      "like 226\n",
      "got 201\n",
      "time 147\n",
      "did 146\n",
      "drivers 129\n",
      "minutes 128\n",
      "phone 121\n",
      "don 118\n",
      "driver 114\n",
      "told 112\n",
      "drive 110\n",
      "trip 110\n",
      "know 108\n",
      "pick 103\n"
     ]
    },
    {
     "data": {
      "application/vnd.plotly.v1+json": {
       "config": {
        "linkText": "Export to plot.ly",
        "plotlyServerURL": "https://plot.ly",
        "showLink": true
       },
       "data": [
        {
         "marker": {
          "color": "rgba(255, 153, 51, 0.6)",
          "line": {
           "color": "rgba(255, 153, 51, 1.0)",
           "width": 1
          }
         },
         "name": "count",
         "orientation": "v",
         "text": "",
         "type": "bar",
         "x": [
          "uber",
          "pax",
          "just",
          "ride",
          "car",
          "said",
          "like",
          "got",
          "time",
          "did",
          "drivers",
          "minutes",
          "phone",
          "don",
          "driver",
          "told",
          "drive",
          "trip",
          "know",
          "pick"
         ],
         "y": [
          321,
          305,
          272,
          259,
          238,
          233,
          226,
          201,
          147,
          146,
          129,
          128,
          121,
          118,
          114,
          112,
          110,
          110,
          108,
          103
         ]
        }
       ],
       "layout": {
        "legend": {
         "bgcolor": "#F5F6F9",
         "font": {
          "color": "#4D5663"
         }
        },
        "paper_bgcolor": "#F5F6F9",
        "plot_bgcolor": "#F5F6F9",
        "template": {
         "data": {
          "bar": [
           {
            "error_x": {
             "color": "#2a3f5f"
            },
            "error_y": {
             "color": "#2a3f5f"
            },
            "marker": {
             "line": {
              "color": "#E5ECF6",
              "width": 0.5
             }
            },
            "type": "bar"
           }
          ],
          "barpolar": [
           {
            "marker": {
             "line": {
              "color": "#E5ECF6",
              "width": 0.5
             }
            },
            "type": "barpolar"
           }
          ],
          "carpet": [
           {
            "aaxis": {
             "endlinecolor": "#2a3f5f",
             "gridcolor": "white",
             "linecolor": "white",
             "minorgridcolor": "white",
             "startlinecolor": "#2a3f5f"
            },
            "baxis": {
             "endlinecolor": "#2a3f5f",
             "gridcolor": "white",
             "linecolor": "white",
             "minorgridcolor": "white",
             "startlinecolor": "#2a3f5f"
            },
            "type": "carpet"
           }
          ],
          "choropleth": [
           {
            "colorbar": {
             "outlinewidth": 0,
             "ticks": ""
            },
            "type": "choropleth"
           }
          ],
          "contour": [
           {
            "colorbar": {
             "outlinewidth": 0,
             "ticks": ""
            },
            "colorscale": [
             [
              0,
              "#0d0887"
             ],
             [
              0.1111111111111111,
              "#46039f"
             ],
             [
              0.2222222222222222,
              "#7201a8"
             ],
             [
              0.3333333333333333,
              "#9c179e"
             ],
             [
              0.4444444444444444,
              "#bd3786"
             ],
             [
              0.5555555555555556,
              "#d8576b"
             ],
             [
              0.6666666666666666,
              "#ed7953"
             ],
             [
              0.7777777777777778,
              "#fb9f3a"
             ],
             [
              0.8888888888888888,
              "#fdca26"
             ],
             [
              1,
              "#f0f921"
             ]
            ],
            "type": "contour"
           }
          ],
          "contourcarpet": [
           {
            "colorbar": {
             "outlinewidth": 0,
             "ticks": ""
            },
            "type": "contourcarpet"
           }
          ],
          "heatmap": [
           {
            "colorbar": {
             "outlinewidth": 0,
             "ticks": ""
            },
            "colorscale": [
             [
              0,
              "#0d0887"
             ],
             [
              0.1111111111111111,
              "#46039f"
             ],
             [
              0.2222222222222222,
              "#7201a8"
             ],
             [
              0.3333333333333333,
              "#9c179e"
             ],
             [
              0.4444444444444444,
              "#bd3786"
             ],
             [
              0.5555555555555556,
              "#d8576b"
             ],
             [
              0.6666666666666666,
              "#ed7953"
             ],
             [
              0.7777777777777778,
              "#fb9f3a"
             ],
             [
              0.8888888888888888,
              "#fdca26"
             ],
             [
              1,
              "#f0f921"
             ]
            ],
            "type": "heatmap"
           }
          ],
          "heatmapgl": [
           {
            "colorbar": {
             "outlinewidth": 0,
             "ticks": ""
            },
            "colorscale": [
             [
              0,
              "#0d0887"
             ],
             [
              0.1111111111111111,
              "#46039f"
             ],
             [
              0.2222222222222222,
              "#7201a8"
             ],
             [
              0.3333333333333333,
              "#9c179e"
             ],
             [
              0.4444444444444444,
              "#bd3786"
             ],
             [
              0.5555555555555556,
              "#d8576b"
             ],
             [
              0.6666666666666666,
              "#ed7953"
             ],
             [
              0.7777777777777778,
              "#fb9f3a"
             ],
             [
              0.8888888888888888,
              "#fdca26"
             ],
             [
              1,
              "#f0f921"
             ]
            ],
            "type": "heatmapgl"
           }
          ],
          "histogram": [
           {
            "marker": {
             "colorbar": {
              "outlinewidth": 0,
              "ticks": ""
             }
            },
            "type": "histogram"
           }
          ],
          "histogram2d": [
           {
            "colorbar": {
             "outlinewidth": 0,
             "ticks": ""
            },
            "colorscale": [
             [
              0,
              "#0d0887"
             ],
             [
              0.1111111111111111,
              "#46039f"
             ],
             [
              0.2222222222222222,
              "#7201a8"
             ],
             [
              0.3333333333333333,
              "#9c179e"
             ],
             [
              0.4444444444444444,
              "#bd3786"
             ],
             [
              0.5555555555555556,
              "#d8576b"
             ],
             [
              0.6666666666666666,
              "#ed7953"
             ],
             [
              0.7777777777777778,
              "#fb9f3a"
             ],
             [
              0.8888888888888888,
              "#fdca26"
             ],
             [
              1,
              "#f0f921"
             ]
            ],
            "type": "histogram2d"
           }
          ],
          "histogram2dcontour": [
           {
            "colorbar": {
             "outlinewidth": 0,
             "ticks": ""
            },
            "colorscale": [
             [
              0,
              "#0d0887"
             ],
             [
              0.1111111111111111,
              "#46039f"
             ],
             [
              0.2222222222222222,
              "#7201a8"
             ],
             [
              0.3333333333333333,
              "#9c179e"
             ],
             [
              0.4444444444444444,
              "#bd3786"
             ],
             [
              0.5555555555555556,
              "#d8576b"
             ],
             [
              0.6666666666666666,
              "#ed7953"
             ],
             [
              0.7777777777777778,
              "#fb9f3a"
             ],
             [
              0.8888888888888888,
              "#fdca26"
             ],
             [
              1,
              "#f0f921"
             ]
            ],
            "type": "histogram2dcontour"
           }
          ],
          "mesh3d": [
           {
            "colorbar": {
             "outlinewidth": 0,
             "ticks": ""
            },
            "type": "mesh3d"
           }
          ],
          "parcoords": [
           {
            "line": {
             "colorbar": {
              "outlinewidth": 0,
              "ticks": ""
             }
            },
            "type": "parcoords"
           }
          ],
          "pie": [
           {
            "automargin": true,
            "type": "pie"
           }
          ],
          "scatter": [
           {
            "marker": {
             "colorbar": {
              "outlinewidth": 0,
              "ticks": ""
             }
            },
            "type": "scatter"
           }
          ],
          "scatter3d": [
           {
            "line": {
             "colorbar": {
              "outlinewidth": 0,
              "ticks": ""
             }
            },
            "marker": {
             "colorbar": {
              "outlinewidth": 0,
              "ticks": ""
             }
            },
            "type": "scatter3d"
           }
          ],
          "scattercarpet": [
           {
            "marker": {
             "colorbar": {
              "outlinewidth": 0,
              "ticks": ""
             }
            },
            "type": "scattercarpet"
           }
          ],
          "scattergeo": [
           {
            "marker": {
             "colorbar": {
              "outlinewidth": 0,
              "ticks": ""
             }
            },
            "type": "scattergeo"
           }
          ],
          "scattergl": [
           {
            "marker": {
             "colorbar": {
              "outlinewidth": 0,
              "ticks": ""
             }
            },
            "type": "scattergl"
           }
          ],
          "scattermapbox": [
           {
            "marker": {
             "colorbar": {
              "outlinewidth": 0,
              "ticks": ""
             }
            },
            "type": "scattermapbox"
           }
          ],
          "scatterpolar": [
           {
            "marker": {
             "colorbar": {
              "outlinewidth": 0,
              "ticks": ""
             }
            },
            "type": "scatterpolar"
           }
          ],
          "scatterpolargl": [
           {
            "marker": {
             "colorbar": {
              "outlinewidth": 0,
              "ticks": ""
             }
            },
            "type": "scatterpolargl"
           }
          ],
          "scatterternary": [
           {
            "marker": {
             "colorbar": {
              "outlinewidth": 0,
              "ticks": ""
             }
            },
            "type": "scatterternary"
           }
          ],
          "surface": [
           {
            "colorbar": {
             "outlinewidth": 0,
             "ticks": ""
            },
            "colorscale": [
             [
              0,
              "#0d0887"
             ],
             [
              0.1111111111111111,
              "#46039f"
             ],
             [
              0.2222222222222222,
              "#7201a8"
             ],
             [
              0.3333333333333333,
              "#9c179e"
             ],
             [
              0.4444444444444444,
              "#bd3786"
             ],
             [
              0.5555555555555556,
              "#d8576b"
             ],
             [
              0.6666666666666666,
              "#ed7953"
             ],
             [
              0.7777777777777778,
              "#fb9f3a"
             ],
             [
              0.8888888888888888,
              "#fdca26"
             ],
             [
              1,
              "#f0f921"
             ]
            ],
            "type": "surface"
           }
          ],
          "table": [
           {
            "cells": {
             "fill": {
              "color": "#EBF0F8"
             },
             "line": {
              "color": "white"
             }
            },
            "header": {
             "fill": {
              "color": "#C8D4E3"
             },
             "line": {
              "color": "white"
             }
            },
            "type": "table"
           }
          ]
         },
         "layout": {
          "annotationdefaults": {
           "arrowcolor": "#2a3f5f",
           "arrowhead": 0,
           "arrowwidth": 1
          },
          "autotypenumbers": "strict",
          "coloraxis": {
           "colorbar": {
            "outlinewidth": 0,
            "ticks": ""
           }
          },
          "colorscale": {
           "diverging": [
            [
             0,
             "#8e0152"
            ],
            [
             0.1,
             "#c51b7d"
            ],
            [
             0.2,
             "#de77ae"
            ],
            [
             0.3,
             "#f1b6da"
            ],
            [
             0.4,
             "#fde0ef"
            ],
            [
             0.5,
             "#f7f7f7"
            ],
            [
             0.6,
             "#e6f5d0"
            ],
            [
             0.7,
             "#b8e186"
            ],
            [
             0.8,
             "#7fbc41"
            ],
            [
             0.9,
             "#4d9221"
            ],
            [
             1,
             "#276419"
            ]
           ],
           "sequential": [
            [
             0,
             "#0d0887"
            ],
            [
             0.1111111111111111,
             "#46039f"
            ],
            [
             0.2222222222222222,
             "#7201a8"
            ],
            [
             0.3333333333333333,
             "#9c179e"
            ],
            [
             0.4444444444444444,
             "#bd3786"
            ],
            [
             0.5555555555555556,
             "#d8576b"
            ],
            [
             0.6666666666666666,
             "#ed7953"
            ],
            [
             0.7777777777777778,
             "#fb9f3a"
            ],
            [
             0.8888888888888888,
             "#fdca26"
            ],
            [
             1,
             "#f0f921"
            ]
           ],
           "sequentialminus": [
            [
             0,
             "#0d0887"
            ],
            [
             0.1111111111111111,
             "#46039f"
            ],
            [
             0.2222222222222222,
             "#7201a8"
            ],
            [
             0.3333333333333333,
             "#9c179e"
            ],
            [
             0.4444444444444444,
             "#bd3786"
            ],
            [
             0.5555555555555556,
             "#d8576b"
            ],
            [
             0.6666666666666666,
             "#ed7953"
            ],
            [
             0.7777777777777778,
             "#fb9f3a"
            ],
            [
             0.8888888888888888,
             "#fdca26"
            ],
            [
             1,
             "#f0f921"
            ]
           ]
          },
          "colorway": [
           "#636efa",
           "#EF553B",
           "#00cc96",
           "#ab63fa",
           "#FFA15A",
           "#19d3f3",
           "#FF6692",
           "#B6E880",
           "#FF97FF",
           "#FECB52"
          ],
          "font": {
           "color": "#2a3f5f"
          },
          "geo": {
           "bgcolor": "white",
           "lakecolor": "white",
           "landcolor": "#E5ECF6",
           "showlakes": true,
           "showland": true,
           "subunitcolor": "white"
          },
          "hoverlabel": {
           "align": "left"
          },
          "hovermode": "closest",
          "mapbox": {
           "style": "light"
          },
          "paper_bgcolor": "white",
          "plot_bgcolor": "#E5ECF6",
          "polar": {
           "angularaxis": {
            "gridcolor": "white",
            "linecolor": "white",
            "ticks": ""
           },
           "bgcolor": "#E5ECF6",
           "radialaxis": {
            "gridcolor": "white",
            "linecolor": "white",
            "ticks": ""
           }
          },
          "scene": {
           "xaxis": {
            "backgroundcolor": "#E5ECF6",
            "gridcolor": "white",
            "gridwidth": 2,
            "linecolor": "white",
            "showbackground": true,
            "ticks": "",
            "zerolinecolor": "white"
           },
           "yaxis": {
            "backgroundcolor": "#E5ECF6",
            "gridcolor": "white",
            "gridwidth": 2,
            "linecolor": "white",
            "showbackground": true,
            "ticks": "",
            "zerolinecolor": "white"
           },
           "zaxis": {
            "backgroundcolor": "#E5ECF6",
            "gridcolor": "white",
            "gridwidth": 2,
            "linecolor": "white",
            "showbackground": true,
            "ticks": "",
            "zerolinecolor": "white"
           }
          },
          "shapedefaults": {
           "line": {
            "color": "#2a3f5f"
           }
          },
          "ternary": {
           "aaxis": {
            "gridcolor": "white",
            "linecolor": "white",
            "ticks": ""
           },
           "baxis": {
            "gridcolor": "white",
            "linecolor": "white",
            "ticks": ""
           },
           "bgcolor": "#E5ECF6",
           "caxis": {
            "gridcolor": "white",
            "linecolor": "white",
            "ticks": ""
           }
          },
          "title": {
           "x": 0.05
          },
          "xaxis": {
           "automargin": true,
           "gridcolor": "white",
           "linecolor": "white",
           "ticks": "",
           "title": {
            "standoff": 15
           },
           "zerolinecolor": "white",
           "zerolinewidth": 2
          },
          "yaxis": {
           "automargin": true,
           "gridcolor": "white",
           "linecolor": "white",
           "ticks": "",
           "title": {
            "standoff": 15
           },
           "zerolinecolor": "white",
           "zerolinewidth": 2
          }
         }
        },
        "title": {
         "font": {
          "color": "#4D5663"
         },
         "text": "Top 20 words in review after removing stop words"
        },
        "xaxis": {
         "gridcolor": "#E1E5ED",
         "linecolor": "black",
         "showgrid": true,
         "tickfont": {
          "color": "#4D5663"
         },
         "title": {
          "font": {
           "color": "#4D5663"
          },
          "text": ""
         },
         "zerolinecolor": "#E1E5ED"
        },
        "yaxis": {
         "gridcolor": "#E1E5ED",
         "linecolor": "black",
         "showgrid": true,
         "tickfont": {
          "color": "#4D5663"
         },
         "title": {
          "font": {
           "color": "#4D5663"
          },
          "text": "Count"
         },
         "zerolinecolor": "#E1E5ED"
        }
       }
      },
      "text/html": [
       "<div>                            <div id=\"e3754291-355d-4c3a-b070-23cd403a9ce5\" class=\"plotly-graph-div\" style=\"height:525px; width:100%;\"></div>            <script type=\"text/javascript\">                require([\"plotly\"], function(Plotly) {                    window.PLOTLYENV=window.PLOTLYENV || {};\n",
       "                    window.PLOTLYENV.BASE_URL='https://plot.ly';                                    if (document.getElementById(\"e3754291-355d-4c3a-b070-23cd403a9ce5\")) {                    Plotly.newPlot(                        \"e3754291-355d-4c3a-b070-23cd403a9ce5\",                        [{\"marker\": {\"color\": \"rgba(255, 153, 51, 0.6)\", \"line\": {\"color\": \"rgba(255, 153, 51, 1.0)\", \"width\": 1}}, \"name\": \"count\", \"orientation\": \"v\", \"text\": \"\", \"type\": \"bar\", \"x\": [\"uber\", \"pax\", \"just\", \"ride\", \"car\", \"said\", \"like\", \"got\", \"time\", \"did\", \"drivers\", \"minutes\", \"phone\", \"don\", \"driver\", \"told\", \"drive\", \"trip\", \"know\", \"pick\"], \"y\": [321, 305, 272, 259, 238, 233, 226, 201, 147, 146, 129, 128, 121, 118, 114, 112, 110, 110, 108, 103]}],                        {\"legend\": {\"bgcolor\": \"#F5F6F9\", \"font\": {\"color\": \"#4D5663\"}}, \"paper_bgcolor\": \"#F5F6F9\", \"plot_bgcolor\": \"#F5F6F9\", \"template\": {\"data\": {\"bar\": [{\"error_x\": {\"color\": \"#2a3f5f\"}, \"error_y\": {\"color\": \"#2a3f5f\"}, \"marker\": {\"line\": {\"color\": \"#E5ECF6\", \"width\": 0.5}}, \"type\": \"bar\"}], \"barpolar\": [{\"marker\": {\"line\": {\"color\": \"#E5ECF6\", \"width\": 0.5}}, \"type\": \"barpolar\"}], \"carpet\": [{\"aaxis\": {\"endlinecolor\": \"#2a3f5f\", \"gridcolor\": \"white\", \"linecolor\": \"white\", \"minorgridcolor\": \"white\", \"startlinecolor\": \"#2a3f5f\"}, \"baxis\": {\"endlinecolor\": \"#2a3f5f\", \"gridcolor\": \"white\", \"linecolor\": \"white\", \"minorgridcolor\": \"white\", \"startlinecolor\": \"#2a3f5f\"}, \"type\": \"carpet\"}], \"choropleth\": [{\"colorbar\": {\"outlinewidth\": 0, \"ticks\": \"\"}, \"type\": \"choropleth\"}], \"contour\": [{\"colorbar\": {\"outlinewidth\": 0, \"ticks\": \"\"}, \"colorscale\": [[0.0, \"#0d0887\"], [0.1111111111111111, \"#46039f\"], [0.2222222222222222, \"#7201a8\"], [0.3333333333333333, \"#9c179e\"], [0.4444444444444444, \"#bd3786\"], [0.5555555555555556, \"#d8576b\"], [0.6666666666666666, \"#ed7953\"], [0.7777777777777778, \"#fb9f3a\"], [0.8888888888888888, \"#fdca26\"], [1.0, \"#f0f921\"]], \"type\": \"contour\"}], \"contourcarpet\": [{\"colorbar\": {\"outlinewidth\": 0, \"ticks\": \"\"}, \"type\": \"contourcarpet\"}], \"heatmap\": [{\"colorbar\": {\"outlinewidth\": 0, \"ticks\": \"\"}, \"colorscale\": [[0.0, \"#0d0887\"], [0.1111111111111111, \"#46039f\"], [0.2222222222222222, \"#7201a8\"], [0.3333333333333333, \"#9c179e\"], [0.4444444444444444, \"#bd3786\"], [0.5555555555555556, \"#d8576b\"], [0.6666666666666666, \"#ed7953\"], [0.7777777777777778, \"#fb9f3a\"], [0.8888888888888888, \"#fdca26\"], [1.0, \"#f0f921\"]], \"type\": \"heatmap\"}], \"heatmapgl\": [{\"colorbar\": {\"outlinewidth\": 0, \"ticks\": \"\"}, \"colorscale\": [[0.0, \"#0d0887\"], [0.1111111111111111, \"#46039f\"], [0.2222222222222222, \"#7201a8\"], [0.3333333333333333, \"#9c179e\"], [0.4444444444444444, \"#bd3786\"], [0.5555555555555556, \"#d8576b\"], [0.6666666666666666, \"#ed7953\"], [0.7777777777777778, \"#fb9f3a\"], [0.8888888888888888, \"#fdca26\"], [1.0, \"#f0f921\"]], \"type\": \"heatmapgl\"}], \"histogram\": [{\"marker\": {\"colorbar\": {\"outlinewidth\": 0, \"ticks\": \"\"}}, \"type\": \"histogram\"}], \"histogram2d\": [{\"colorbar\": {\"outlinewidth\": 0, \"ticks\": \"\"}, \"colorscale\": [[0.0, \"#0d0887\"], [0.1111111111111111, \"#46039f\"], [0.2222222222222222, \"#7201a8\"], [0.3333333333333333, \"#9c179e\"], [0.4444444444444444, \"#bd3786\"], [0.5555555555555556, \"#d8576b\"], [0.6666666666666666, \"#ed7953\"], [0.7777777777777778, \"#fb9f3a\"], [0.8888888888888888, \"#fdca26\"], [1.0, \"#f0f921\"]], \"type\": \"histogram2d\"}], \"histogram2dcontour\": [{\"colorbar\": {\"outlinewidth\": 0, \"ticks\": \"\"}, \"colorscale\": [[0.0, \"#0d0887\"], [0.1111111111111111, \"#46039f\"], [0.2222222222222222, \"#7201a8\"], [0.3333333333333333, \"#9c179e\"], [0.4444444444444444, \"#bd3786\"], [0.5555555555555556, \"#d8576b\"], [0.6666666666666666, \"#ed7953\"], [0.7777777777777778, \"#fb9f3a\"], [0.8888888888888888, \"#fdca26\"], [1.0, \"#f0f921\"]], \"type\": \"histogram2dcontour\"}], \"mesh3d\": [{\"colorbar\": {\"outlinewidth\": 0, \"ticks\": \"\"}, \"type\": \"mesh3d\"}], \"parcoords\": [{\"line\": {\"colorbar\": {\"outlinewidth\": 0, \"ticks\": \"\"}}, \"type\": \"parcoords\"}], \"pie\": [{\"automargin\": true, \"type\": \"pie\"}], \"scatter\": [{\"marker\": {\"colorbar\": {\"outlinewidth\": 0, \"ticks\": \"\"}}, \"type\": \"scatter\"}], \"scatter3d\": [{\"line\": {\"colorbar\": {\"outlinewidth\": 0, \"ticks\": \"\"}}, \"marker\": {\"colorbar\": {\"outlinewidth\": 0, \"ticks\": \"\"}}, \"type\": \"scatter3d\"}], \"scattercarpet\": [{\"marker\": {\"colorbar\": {\"outlinewidth\": 0, \"ticks\": \"\"}}, \"type\": \"scattercarpet\"}], \"scattergeo\": [{\"marker\": {\"colorbar\": {\"outlinewidth\": 0, \"ticks\": \"\"}}, \"type\": \"scattergeo\"}], \"scattergl\": [{\"marker\": {\"colorbar\": {\"outlinewidth\": 0, \"ticks\": \"\"}}, \"type\": \"scattergl\"}], \"scattermapbox\": [{\"marker\": {\"colorbar\": {\"outlinewidth\": 0, \"ticks\": \"\"}}, \"type\": \"scattermapbox\"}], \"scatterpolar\": [{\"marker\": {\"colorbar\": {\"outlinewidth\": 0, \"ticks\": \"\"}}, \"type\": \"scatterpolar\"}], \"scatterpolargl\": [{\"marker\": {\"colorbar\": {\"outlinewidth\": 0, \"ticks\": \"\"}}, \"type\": \"scatterpolargl\"}], \"scatterternary\": [{\"marker\": {\"colorbar\": {\"outlinewidth\": 0, \"ticks\": \"\"}}, \"type\": \"scatterternary\"}], \"surface\": [{\"colorbar\": {\"outlinewidth\": 0, \"ticks\": \"\"}, \"colorscale\": [[0.0, \"#0d0887\"], [0.1111111111111111, \"#46039f\"], [0.2222222222222222, \"#7201a8\"], [0.3333333333333333, \"#9c179e\"], [0.4444444444444444, \"#bd3786\"], [0.5555555555555556, \"#d8576b\"], [0.6666666666666666, \"#ed7953\"], [0.7777777777777778, \"#fb9f3a\"], [0.8888888888888888, \"#fdca26\"], [1.0, \"#f0f921\"]], \"type\": \"surface\"}], \"table\": [{\"cells\": {\"fill\": {\"color\": \"#EBF0F8\"}, \"line\": {\"color\": \"white\"}}, \"header\": {\"fill\": {\"color\": \"#C8D4E3\"}, \"line\": {\"color\": \"white\"}}, \"type\": \"table\"}]}, \"layout\": {\"annotationdefaults\": {\"arrowcolor\": \"#2a3f5f\", \"arrowhead\": 0, \"arrowwidth\": 1}, \"autotypenumbers\": \"strict\", \"coloraxis\": {\"colorbar\": {\"outlinewidth\": 0, \"ticks\": \"\"}}, \"colorscale\": {\"diverging\": [[0, \"#8e0152\"], [0.1, \"#c51b7d\"], [0.2, \"#de77ae\"], [0.3, \"#f1b6da\"], [0.4, \"#fde0ef\"], [0.5, \"#f7f7f7\"], [0.6, \"#e6f5d0\"], [0.7, \"#b8e186\"], [0.8, \"#7fbc41\"], [0.9, \"#4d9221\"], [1, \"#276419\"]], \"sequential\": [[0.0, \"#0d0887\"], [0.1111111111111111, \"#46039f\"], [0.2222222222222222, \"#7201a8\"], [0.3333333333333333, \"#9c179e\"], [0.4444444444444444, \"#bd3786\"], [0.5555555555555556, \"#d8576b\"], [0.6666666666666666, \"#ed7953\"], [0.7777777777777778, \"#fb9f3a\"], [0.8888888888888888, \"#fdca26\"], [1.0, \"#f0f921\"]], \"sequentialminus\": [[0.0, \"#0d0887\"], [0.1111111111111111, \"#46039f\"], [0.2222222222222222, \"#7201a8\"], [0.3333333333333333, \"#9c179e\"], [0.4444444444444444, \"#bd3786\"], [0.5555555555555556, \"#d8576b\"], [0.6666666666666666, \"#ed7953\"], [0.7777777777777778, \"#fb9f3a\"], [0.8888888888888888, \"#fdca26\"], [1.0, \"#f0f921\"]]}, \"colorway\": [\"#636efa\", \"#EF553B\", \"#00cc96\", \"#ab63fa\", \"#FFA15A\", \"#19d3f3\", \"#FF6692\", \"#B6E880\", \"#FF97FF\", \"#FECB52\"], \"font\": {\"color\": \"#2a3f5f\"}, \"geo\": {\"bgcolor\": \"white\", \"lakecolor\": \"white\", \"landcolor\": \"#E5ECF6\", \"showlakes\": true, \"showland\": true, \"subunitcolor\": \"white\"}, \"hoverlabel\": {\"align\": \"left\"}, \"hovermode\": \"closest\", \"mapbox\": {\"style\": \"light\"}, \"paper_bgcolor\": \"white\", \"plot_bgcolor\": \"#E5ECF6\", \"polar\": {\"angularaxis\": {\"gridcolor\": \"white\", \"linecolor\": \"white\", \"ticks\": \"\"}, \"bgcolor\": \"#E5ECF6\", \"radialaxis\": {\"gridcolor\": \"white\", \"linecolor\": \"white\", \"ticks\": \"\"}}, \"scene\": {\"xaxis\": {\"backgroundcolor\": \"#E5ECF6\", \"gridcolor\": \"white\", \"gridwidth\": 2, \"linecolor\": \"white\", \"showbackground\": true, \"ticks\": \"\", \"zerolinecolor\": \"white\"}, \"yaxis\": {\"backgroundcolor\": \"#E5ECF6\", \"gridcolor\": \"white\", \"gridwidth\": 2, \"linecolor\": \"white\", \"showbackground\": true, \"ticks\": \"\", \"zerolinecolor\": \"white\"}, \"zaxis\": {\"backgroundcolor\": \"#E5ECF6\", \"gridcolor\": \"white\", \"gridwidth\": 2, \"linecolor\": \"white\", \"showbackground\": true, \"ticks\": \"\", \"zerolinecolor\": \"white\"}}, \"shapedefaults\": {\"line\": {\"color\": \"#2a3f5f\"}}, \"ternary\": {\"aaxis\": {\"gridcolor\": \"white\", \"linecolor\": \"white\", \"ticks\": \"\"}, \"baxis\": {\"gridcolor\": \"white\", \"linecolor\": \"white\", \"ticks\": \"\"}, \"bgcolor\": \"#E5ECF6\", \"caxis\": {\"gridcolor\": \"white\", \"linecolor\": \"white\", \"ticks\": \"\"}}, \"title\": {\"x\": 0.05}, \"xaxis\": {\"automargin\": true, \"gridcolor\": \"white\", \"linecolor\": \"white\", \"ticks\": \"\", \"title\": {\"standoff\": 15}, \"zerolinecolor\": \"white\", \"zerolinewidth\": 2}, \"yaxis\": {\"automargin\": true, \"gridcolor\": \"white\", \"linecolor\": \"white\", \"ticks\": \"\", \"title\": {\"standoff\": 15}, \"zerolinecolor\": \"white\", \"zerolinewidth\": 2}}}, \"title\": {\"font\": {\"color\": \"#4D5663\"}, \"text\": \"Top 20 words in review after removing stop words\"}, \"xaxis\": {\"gridcolor\": \"#E1E5ED\", \"linecolor\": \"black\", \"showgrid\": true, \"tickfont\": {\"color\": \"#4D5663\"}, \"title\": {\"font\": {\"color\": \"#4D5663\"}, \"text\": \"\"}, \"zerolinecolor\": \"#E1E5ED\"}, \"yaxis\": {\"gridcolor\": \"#E1E5ED\", \"linecolor\": \"black\", \"showgrid\": true, \"tickfont\": {\"color\": \"#4D5663\"}, \"title\": {\"font\": {\"color\": \"#4D5663\"}, \"text\": \"Count\"}, \"zerolinecolor\": \"#E1E5ED\"}},                        {\"showLink\": true, \"linkText\": \"Export to plot.ly\", \"plotlyServerURL\": \"https://plot.ly\", \"responsive\": true}                    ).then(function(){\n",
       "                            \n",
       "var gd = document.getElementById('e3754291-355d-4c3a-b070-23cd403a9ce5');\n",
       "var x = new MutationObserver(function (mutations, observer) {{\n",
       "        var display = window.getComputedStyle(gd).display;\n",
       "        if (!display || display === 'none') {{\n",
       "            console.log([gd, 'removed!']);\n",
       "            Plotly.purge(gd);\n",
       "            observer.disconnect();\n",
       "        }}\n",
       "}});\n",
       "\n",
       "// Listen for the removal of the full notebook cells\n",
       "var notebookContainer = gd.closest('#notebook-container');\n",
       "if (notebookContainer) {{\n",
       "    x.observe(notebookContainer, {childList: true});\n",
       "}}\n",
       "\n",
       "// Listen for the clearing of the current output cell\n",
       "var outputEl = gd.closest('.output');\n",
       "if (outputEl) {{\n",
       "    x.observe(outputEl, {childList: true});\n",
       "}}\n",
       "\n",
       "                        })                };                });            </script>        </div>"
      ]
     },
     "metadata": {},
     "output_type": "display_data"
    }
   ],
   "source": [
    "def get_top_n_words(corpus, n=None):\n",
    "    vec = CountVectorizer(stop_words = 'english').fit(corpus)\n",
    "    bag_of_words = vec.transform(corpus)\n",
    "    sum_words = bag_of_words.sum(axis=0) \n",
    "    words_freq = [(word, sum_words[0, idx]) for word, idx in vec.vocabulary_.items()]\n",
    "    words_freq =sorted(words_freq, key = lambda x: x[1], reverse=True)\n",
    "    return words_freq[:n]\n",
    "common_words = get_top_n_words(df['Story'], 20)\n",
    "for word, freq in common_words:\n",
    "    print(word, freq)\n",
    "df2 = pd.DataFrame(common_words, columns = ['Story' , 'count'])\n",
    "df2.groupby('Story').sum()['count'].sort_values(ascending=False).iplot(\n",
    "kind='bar', yTitle='Count', linecolor='black', title='Top 20 words')"
   ]
  },
  {
   "cell_type": "markdown",
   "id": "32878715",
   "metadata": {},
   "source": [
    "## Top 20 trigrams"
   ]
  },
  {
   "cell_type": "code",
   "execution_count": 44,
   "id": "1ac0b950",
   "metadata": {},
   "outputs": [
    {
     "name": "stdout",
     "output_type": "stream",
     "text": [
      "rear view mirror 5\n",
      "long story short 5\n",
      "bla bla bla 4\n",
      "uber pro points 3\n",
      "left phone car 3\n",
      "big greasy heather 3\n",
      "blah blah blah 3\n",
      "night got ping 3\n",
      "driving uber lyft 3\n",
      "just dropped pax 3\n",
      "past saturday night 3\n",
      "young college age 3\n",
      "benefits outweigh costs 3\n",
      "uber lyft drivers 3\n",
      "completely smash drunk 3\n",
      "chicago botanical gardens 3\n",
      "surge seen year 2\n",
      "wasn wearing mask 2\n",
      "17 year old 2\n",
      "driver national city 2\n"
     ]
    },
    {
     "data": {
      "application/vnd.plotly.v1+json": {
       "config": {
        "linkText": "Export to plot.ly",
        "plotlyServerURL": "https://plot.ly",
        "showLink": true
       },
       "data": [
        {
         "marker": {
          "color": "rgba(255, 153, 51, 0.6)",
          "line": {
           "color": "rgba(255, 153, 51, 1.0)",
           "width": 1
          }
         },
         "name": "count",
         "orientation": "v",
         "text": "",
         "type": "bar",
         "x": [
          "rear view mirror",
          "long story short",
          "bla bla bla",
          "left phone car",
          "benefits outweigh costs",
          "uber pro points",
          "uber lyft drivers",
          "past saturday night",
          "night got ping",
          "young college age",
          "just dropped pax",
          "driving uber lyft",
          "completely smash drunk",
          "chicago botanical gardens",
          "blah blah blah",
          "big greasy heather",
          "driver national city",
          "surge seen year",
          "wasn wearing mask",
          "17 year old"
         ],
         "y": [
          5,
          5,
          4,
          3,
          3,
          3,
          3,
          3,
          3,
          3,
          3,
          3,
          3,
          3,
          3,
          3,
          2,
          2,
          2,
          2
         ]
        }
       ],
       "layout": {
        "legend": {
         "bgcolor": "#F5F6F9",
         "font": {
          "color": "#4D5663"
         }
        },
        "paper_bgcolor": "#F5F6F9",
        "plot_bgcolor": "#F5F6F9",
        "template": {
         "data": {
          "bar": [
           {
            "error_x": {
             "color": "#2a3f5f"
            },
            "error_y": {
             "color": "#2a3f5f"
            },
            "marker": {
             "line": {
              "color": "#E5ECF6",
              "width": 0.5
             }
            },
            "type": "bar"
           }
          ],
          "barpolar": [
           {
            "marker": {
             "line": {
              "color": "#E5ECF6",
              "width": 0.5
             }
            },
            "type": "barpolar"
           }
          ],
          "carpet": [
           {
            "aaxis": {
             "endlinecolor": "#2a3f5f",
             "gridcolor": "white",
             "linecolor": "white",
             "minorgridcolor": "white",
             "startlinecolor": "#2a3f5f"
            },
            "baxis": {
             "endlinecolor": "#2a3f5f",
             "gridcolor": "white",
             "linecolor": "white",
             "minorgridcolor": "white",
             "startlinecolor": "#2a3f5f"
            },
            "type": "carpet"
           }
          ],
          "choropleth": [
           {
            "colorbar": {
             "outlinewidth": 0,
             "ticks": ""
            },
            "type": "choropleth"
           }
          ],
          "contour": [
           {
            "colorbar": {
             "outlinewidth": 0,
             "ticks": ""
            },
            "colorscale": [
             [
              0,
              "#0d0887"
             ],
             [
              0.1111111111111111,
              "#46039f"
             ],
             [
              0.2222222222222222,
              "#7201a8"
             ],
             [
              0.3333333333333333,
              "#9c179e"
             ],
             [
              0.4444444444444444,
              "#bd3786"
             ],
             [
              0.5555555555555556,
              "#d8576b"
             ],
             [
              0.6666666666666666,
              "#ed7953"
             ],
             [
              0.7777777777777778,
              "#fb9f3a"
             ],
             [
              0.8888888888888888,
              "#fdca26"
             ],
             [
              1,
              "#f0f921"
             ]
            ],
            "type": "contour"
           }
          ],
          "contourcarpet": [
           {
            "colorbar": {
             "outlinewidth": 0,
             "ticks": ""
            },
            "type": "contourcarpet"
           }
          ],
          "heatmap": [
           {
            "colorbar": {
             "outlinewidth": 0,
             "ticks": ""
            },
            "colorscale": [
             [
              0,
              "#0d0887"
             ],
             [
              0.1111111111111111,
              "#46039f"
             ],
             [
              0.2222222222222222,
              "#7201a8"
             ],
             [
              0.3333333333333333,
              "#9c179e"
             ],
             [
              0.4444444444444444,
              "#bd3786"
             ],
             [
              0.5555555555555556,
              "#d8576b"
             ],
             [
              0.6666666666666666,
              "#ed7953"
             ],
             [
              0.7777777777777778,
              "#fb9f3a"
             ],
             [
              0.8888888888888888,
              "#fdca26"
             ],
             [
              1,
              "#f0f921"
             ]
            ],
            "type": "heatmap"
           }
          ],
          "heatmapgl": [
           {
            "colorbar": {
             "outlinewidth": 0,
             "ticks": ""
            },
            "colorscale": [
             [
              0,
              "#0d0887"
             ],
             [
              0.1111111111111111,
              "#46039f"
             ],
             [
              0.2222222222222222,
              "#7201a8"
             ],
             [
              0.3333333333333333,
              "#9c179e"
             ],
             [
              0.4444444444444444,
              "#bd3786"
             ],
             [
              0.5555555555555556,
              "#d8576b"
             ],
             [
              0.6666666666666666,
              "#ed7953"
             ],
             [
              0.7777777777777778,
              "#fb9f3a"
             ],
             [
              0.8888888888888888,
              "#fdca26"
             ],
             [
              1,
              "#f0f921"
             ]
            ],
            "type": "heatmapgl"
           }
          ],
          "histogram": [
           {
            "marker": {
             "colorbar": {
              "outlinewidth": 0,
              "ticks": ""
             }
            },
            "type": "histogram"
           }
          ],
          "histogram2d": [
           {
            "colorbar": {
             "outlinewidth": 0,
             "ticks": ""
            },
            "colorscale": [
             [
              0,
              "#0d0887"
             ],
             [
              0.1111111111111111,
              "#46039f"
             ],
             [
              0.2222222222222222,
              "#7201a8"
             ],
             [
              0.3333333333333333,
              "#9c179e"
             ],
             [
              0.4444444444444444,
              "#bd3786"
             ],
             [
              0.5555555555555556,
              "#d8576b"
             ],
             [
              0.6666666666666666,
              "#ed7953"
             ],
             [
              0.7777777777777778,
              "#fb9f3a"
             ],
             [
              0.8888888888888888,
              "#fdca26"
             ],
             [
              1,
              "#f0f921"
             ]
            ],
            "type": "histogram2d"
           }
          ],
          "histogram2dcontour": [
           {
            "colorbar": {
             "outlinewidth": 0,
             "ticks": ""
            },
            "colorscale": [
             [
              0,
              "#0d0887"
             ],
             [
              0.1111111111111111,
              "#46039f"
             ],
             [
              0.2222222222222222,
              "#7201a8"
             ],
             [
              0.3333333333333333,
              "#9c179e"
             ],
             [
              0.4444444444444444,
              "#bd3786"
             ],
             [
              0.5555555555555556,
              "#d8576b"
             ],
             [
              0.6666666666666666,
              "#ed7953"
             ],
             [
              0.7777777777777778,
              "#fb9f3a"
             ],
             [
              0.8888888888888888,
              "#fdca26"
             ],
             [
              1,
              "#f0f921"
             ]
            ],
            "type": "histogram2dcontour"
           }
          ],
          "mesh3d": [
           {
            "colorbar": {
             "outlinewidth": 0,
             "ticks": ""
            },
            "type": "mesh3d"
           }
          ],
          "parcoords": [
           {
            "line": {
             "colorbar": {
              "outlinewidth": 0,
              "ticks": ""
             }
            },
            "type": "parcoords"
           }
          ],
          "pie": [
           {
            "automargin": true,
            "type": "pie"
           }
          ],
          "scatter": [
           {
            "marker": {
             "colorbar": {
              "outlinewidth": 0,
              "ticks": ""
             }
            },
            "type": "scatter"
           }
          ],
          "scatter3d": [
           {
            "line": {
             "colorbar": {
              "outlinewidth": 0,
              "ticks": ""
             }
            },
            "marker": {
             "colorbar": {
              "outlinewidth": 0,
              "ticks": ""
             }
            },
            "type": "scatter3d"
           }
          ],
          "scattercarpet": [
           {
            "marker": {
             "colorbar": {
              "outlinewidth": 0,
              "ticks": ""
             }
            },
            "type": "scattercarpet"
           }
          ],
          "scattergeo": [
           {
            "marker": {
             "colorbar": {
              "outlinewidth": 0,
              "ticks": ""
             }
            },
            "type": "scattergeo"
           }
          ],
          "scattergl": [
           {
            "marker": {
             "colorbar": {
              "outlinewidth": 0,
              "ticks": ""
             }
            },
            "type": "scattergl"
           }
          ],
          "scattermapbox": [
           {
            "marker": {
             "colorbar": {
              "outlinewidth": 0,
              "ticks": ""
             }
            },
            "type": "scattermapbox"
           }
          ],
          "scatterpolar": [
           {
            "marker": {
             "colorbar": {
              "outlinewidth": 0,
              "ticks": ""
             }
            },
            "type": "scatterpolar"
           }
          ],
          "scatterpolargl": [
           {
            "marker": {
             "colorbar": {
              "outlinewidth": 0,
              "ticks": ""
             }
            },
            "type": "scatterpolargl"
           }
          ],
          "scatterternary": [
           {
            "marker": {
             "colorbar": {
              "outlinewidth": 0,
              "ticks": ""
             }
            },
            "type": "scatterternary"
           }
          ],
          "surface": [
           {
            "colorbar": {
             "outlinewidth": 0,
             "ticks": ""
            },
            "colorscale": [
             [
              0,
              "#0d0887"
             ],
             [
              0.1111111111111111,
              "#46039f"
             ],
             [
              0.2222222222222222,
              "#7201a8"
             ],
             [
              0.3333333333333333,
              "#9c179e"
             ],
             [
              0.4444444444444444,
              "#bd3786"
             ],
             [
              0.5555555555555556,
              "#d8576b"
             ],
             [
              0.6666666666666666,
              "#ed7953"
             ],
             [
              0.7777777777777778,
              "#fb9f3a"
             ],
             [
              0.8888888888888888,
              "#fdca26"
             ],
             [
              1,
              "#f0f921"
             ]
            ],
            "type": "surface"
           }
          ],
          "table": [
           {
            "cells": {
             "fill": {
              "color": "#EBF0F8"
             },
             "line": {
              "color": "white"
             }
            },
            "header": {
             "fill": {
              "color": "#C8D4E3"
             },
             "line": {
              "color": "white"
             }
            },
            "type": "table"
           }
          ]
         },
         "layout": {
          "annotationdefaults": {
           "arrowcolor": "#2a3f5f",
           "arrowhead": 0,
           "arrowwidth": 1
          },
          "autotypenumbers": "strict",
          "coloraxis": {
           "colorbar": {
            "outlinewidth": 0,
            "ticks": ""
           }
          },
          "colorscale": {
           "diverging": [
            [
             0,
             "#8e0152"
            ],
            [
             0.1,
             "#c51b7d"
            ],
            [
             0.2,
             "#de77ae"
            ],
            [
             0.3,
             "#f1b6da"
            ],
            [
             0.4,
             "#fde0ef"
            ],
            [
             0.5,
             "#f7f7f7"
            ],
            [
             0.6,
             "#e6f5d0"
            ],
            [
             0.7,
             "#b8e186"
            ],
            [
             0.8,
             "#7fbc41"
            ],
            [
             0.9,
             "#4d9221"
            ],
            [
             1,
             "#276419"
            ]
           ],
           "sequential": [
            [
             0,
             "#0d0887"
            ],
            [
             0.1111111111111111,
             "#46039f"
            ],
            [
             0.2222222222222222,
             "#7201a8"
            ],
            [
             0.3333333333333333,
             "#9c179e"
            ],
            [
             0.4444444444444444,
             "#bd3786"
            ],
            [
             0.5555555555555556,
             "#d8576b"
            ],
            [
             0.6666666666666666,
             "#ed7953"
            ],
            [
             0.7777777777777778,
             "#fb9f3a"
            ],
            [
             0.8888888888888888,
             "#fdca26"
            ],
            [
             1,
             "#f0f921"
            ]
           ],
           "sequentialminus": [
            [
             0,
             "#0d0887"
            ],
            [
             0.1111111111111111,
             "#46039f"
            ],
            [
             0.2222222222222222,
             "#7201a8"
            ],
            [
             0.3333333333333333,
             "#9c179e"
            ],
            [
             0.4444444444444444,
             "#bd3786"
            ],
            [
             0.5555555555555556,
             "#d8576b"
            ],
            [
             0.6666666666666666,
             "#ed7953"
            ],
            [
             0.7777777777777778,
             "#fb9f3a"
            ],
            [
             0.8888888888888888,
             "#fdca26"
            ],
            [
             1,
             "#f0f921"
            ]
           ]
          },
          "colorway": [
           "#636efa",
           "#EF553B",
           "#00cc96",
           "#ab63fa",
           "#FFA15A",
           "#19d3f3",
           "#FF6692",
           "#B6E880",
           "#FF97FF",
           "#FECB52"
          ],
          "font": {
           "color": "#2a3f5f"
          },
          "geo": {
           "bgcolor": "white",
           "lakecolor": "white",
           "landcolor": "#E5ECF6",
           "showlakes": true,
           "showland": true,
           "subunitcolor": "white"
          },
          "hoverlabel": {
           "align": "left"
          },
          "hovermode": "closest",
          "mapbox": {
           "style": "light"
          },
          "paper_bgcolor": "white",
          "plot_bgcolor": "#E5ECF6",
          "polar": {
           "angularaxis": {
            "gridcolor": "white",
            "linecolor": "white",
            "ticks": ""
           },
           "bgcolor": "#E5ECF6",
           "radialaxis": {
            "gridcolor": "white",
            "linecolor": "white",
            "ticks": ""
           }
          },
          "scene": {
           "xaxis": {
            "backgroundcolor": "#E5ECF6",
            "gridcolor": "white",
            "gridwidth": 2,
            "linecolor": "white",
            "showbackground": true,
            "ticks": "",
            "zerolinecolor": "white"
           },
           "yaxis": {
            "backgroundcolor": "#E5ECF6",
            "gridcolor": "white",
            "gridwidth": 2,
            "linecolor": "white",
            "showbackground": true,
            "ticks": "",
            "zerolinecolor": "white"
           },
           "zaxis": {
            "backgroundcolor": "#E5ECF6",
            "gridcolor": "white",
            "gridwidth": 2,
            "linecolor": "white",
            "showbackground": true,
            "ticks": "",
            "zerolinecolor": "white"
           }
          },
          "shapedefaults": {
           "line": {
            "color": "#2a3f5f"
           }
          },
          "ternary": {
           "aaxis": {
            "gridcolor": "white",
            "linecolor": "white",
            "ticks": ""
           },
           "baxis": {
            "gridcolor": "white",
            "linecolor": "white",
            "ticks": ""
           },
           "bgcolor": "#E5ECF6",
           "caxis": {
            "gridcolor": "white",
            "linecolor": "white",
            "ticks": ""
           }
          },
          "title": {
           "x": 0.05
          },
          "xaxis": {
           "automargin": true,
           "gridcolor": "white",
           "linecolor": "white",
           "ticks": "",
           "title": {
            "standoff": 15
           },
           "zerolinecolor": "white",
           "zerolinewidth": 2
          },
          "yaxis": {
           "automargin": true,
           "gridcolor": "white",
           "linecolor": "white",
           "ticks": "",
           "title": {
            "standoff": 15
           },
           "zerolinecolor": "white",
           "zerolinewidth": 2
          }
         }
        },
        "title": {
         "font": {
          "color": "#4D5663"
         },
         "text": "Top 20 trigrams in review after removing stop words"
        },
        "xaxis": {
         "gridcolor": "#E1E5ED",
         "linecolor": "black",
         "showgrid": true,
         "tickfont": {
          "color": "#4D5663"
         },
         "title": {
          "font": {
           "color": "#4D5663"
          },
          "text": ""
         },
         "zerolinecolor": "#E1E5ED"
        },
        "yaxis": {
         "gridcolor": "#E1E5ED",
         "linecolor": "black",
         "showgrid": true,
         "tickfont": {
          "color": "#4D5663"
         },
         "title": {
          "font": {
           "color": "#4D5663"
          },
          "text": "Count"
         },
         "zerolinecolor": "#E1E5ED"
        }
       }
      },
      "text/html": [
       "<div>                            <div id=\"3a08ea70-0b13-4938-8ca2-d58500593b34\" class=\"plotly-graph-div\" style=\"height:525px; width:100%;\"></div>            <script type=\"text/javascript\">                require([\"plotly\"], function(Plotly) {                    window.PLOTLYENV=window.PLOTLYENV || {};\n",
       "                    window.PLOTLYENV.BASE_URL='https://plot.ly';                                    if (document.getElementById(\"3a08ea70-0b13-4938-8ca2-d58500593b34\")) {                    Plotly.newPlot(                        \"3a08ea70-0b13-4938-8ca2-d58500593b34\",                        [{\"marker\": {\"color\": \"rgba(255, 153, 51, 0.6)\", \"line\": {\"color\": \"rgba(255, 153, 51, 1.0)\", \"width\": 1}}, \"name\": \"count\", \"orientation\": \"v\", \"text\": \"\", \"type\": \"bar\", \"x\": [\"rear view mirror\", \"long story short\", \"bla bla bla\", \"left phone car\", \"benefits outweigh costs\", \"uber pro points\", \"uber lyft drivers\", \"past saturday night\", \"night got ping\", \"young college age\", \"just dropped pax\", \"driving uber lyft\", \"completely smash drunk\", \"chicago botanical gardens\", \"blah blah blah\", \"big greasy heather\", \"driver national city\", \"surge seen year\", \"wasn wearing mask\", \"17 year old\"], \"y\": [5, 5, 4, 3, 3, 3, 3, 3, 3, 3, 3, 3, 3, 3, 3, 3, 2, 2, 2, 2]}],                        {\"legend\": {\"bgcolor\": \"#F5F6F9\", \"font\": {\"color\": \"#4D5663\"}}, \"paper_bgcolor\": \"#F5F6F9\", \"plot_bgcolor\": \"#F5F6F9\", \"template\": {\"data\": {\"bar\": [{\"error_x\": {\"color\": \"#2a3f5f\"}, \"error_y\": {\"color\": \"#2a3f5f\"}, \"marker\": {\"line\": {\"color\": \"#E5ECF6\", \"width\": 0.5}}, \"type\": \"bar\"}], \"barpolar\": [{\"marker\": {\"line\": {\"color\": \"#E5ECF6\", \"width\": 0.5}}, \"type\": \"barpolar\"}], \"carpet\": [{\"aaxis\": {\"endlinecolor\": \"#2a3f5f\", \"gridcolor\": \"white\", \"linecolor\": \"white\", \"minorgridcolor\": \"white\", \"startlinecolor\": \"#2a3f5f\"}, \"baxis\": {\"endlinecolor\": \"#2a3f5f\", \"gridcolor\": \"white\", \"linecolor\": \"white\", \"minorgridcolor\": \"white\", \"startlinecolor\": \"#2a3f5f\"}, \"type\": \"carpet\"}], \"choropleth\": [{\"colorbar\": {\"outlinewidth\": 0, \"ticks\": \"\"}, \"type\": \"choropleth\"}], \"contour\": [{\"colorbar\": {\"outlinewidth\": 0, \"ticks\": \"\"}, \"colorscale\": [[0.0, \"#0d0887\"], [0.1111111111111111, \"#46039f\"], [0.2222222222222222, \"#7201a8\"], [0.3333333333333333, \"#9c179e\"], [0.4444444444444444, \"#bd3786\"], [0.5555555555555556, \"#d8576b\"], [0.6666666666666666, \"#ed7953\"], [0.7777777777777778, \"#fb9f3a\"], [0.8888888888888888, \"#fdca26\"], [1.0, \"#f0f921\"]], \"type\": \"contour\"}], \"contourcarpet\": [{\"colorbar\": {\"outlinewidth\": 0, \"ticks\": \"\"}, \"type\": \"contourcarpet\"}], \"heatmap\": [{\"colorbar\": {\"outlinewidth\": 0, \"ticks\": \"\"}, \"colorscale\": [[0.0, \"#0d0887\"], [0.1111111111111111, \"#46039f\"], [0.2222222222222222, \"#7201a8\"], [0.3333333333333333, \"#9c179e\"], [0.4444444444444444, \"#bd3786\"], [0.5555555555555556, \"#d8576b\"], [0.6666666666666666, \"#ed7953\"], [0.7777777777777778, \"#fb9f3a\"], [0.8888888888888888, \"#fdca26\"], [1.0, \"#f0f921\"]], \"type\": \"heatmap\"}], \"heatmapgl\": [{\"colorbar\": {\"outlinewidth\": 0, \"ticks\": \"\"}, \"colorscale\": [[0.0, \"#0d0887\"], [0.1111111111111111, \"#46039f\"], [0.2222222222222222, \"#7201a8\"], [0.3333333333333333, \"#9c179e\"], [0.4444444444444444, \"#bd3786\"], [0.5555555555555556, \"#d8576b\"], [0.6666666666666666, \"#ed7953\"], [0.7777777777777778, \"#fb9f3a\"], [0.8888888888888888, \"#fdca26\"], [1.0, \"#f0f921\"]], \"type\": \"heatmapgl\"}], \"histogram\": [{\"marker\": {\"colorbar\": {\"outlinewidth\": 0, \"ticks\": \"\"}}, \"type\": \"histogram\"}], \"histogram2d\": [{\"colorbar\": {\"outlinewidth\": 0, \"ticks\": \"\"}, \"colorscale\": [[0.0, \"#0d0887\"], [0.1111111111111111, \"#46039f\"], [0.2222222222222222, \"#7201a8\"], [0.3333333333333333, \"#9c179e\"], [0.4444444444444444, \"#bd3786\"], [0.5555555555555556, \"#d8576b\"], [0.6666666666666666, \"#ed7953\"], [0.7777777777777778, \"#fb9f3a\"], [0.8888888888888888, \"#fdca26\"], [1.0, \"#f0f921\"]], \"type\": \"histogram2d\"}], \"histogram2dcontour\": [{\"colorbar\": {\"outlinewidth\": 0, \"ticks\": \"\"}, \"colorscale\": [[0.0, \"#0d0887\"], [0.1111111111111111, \"#46039f\"], [0.2222222222222222, \"#7201a8\"], [0.3333333333333333, \"#9c179e\"], [0.4444444444444444, \"#bd3786\"], [0.5555555555555556, \"#d8576b\"], [0.6666666666666666, \"#ed7953\"], [0.7777777777777778, \"#fb9f3a\"], [0.8888888888888888, \"#fdca26\"], [1.0, \"#f0f921\"]], \"type\": \"histogram2dcontour\"}], \"mesh3d\": [{\"colorbar\": {\"outlinewidth\": 0, \"ticks\": \"\"}, \"type\": \"mesh3d\"}], \"parcoords\": [{\"line\": {\"colorbar\": {\"outlinewidth\": 0, \"ticks\": \"\"}}, \"type\": \"parcoords\"}], \"pie\": [{\"automargin\": true, \"type\": \"pie\"}], \"scatter\": [{\"marker\": {\"colorbar\": {\"outlinewidth\": 0, \"ticks\": \"\"}}, \"type\": \"scatter\"}], \"scatter3d\": [{\"line\": {\"colorbar\": {\"outlinewidth\": 0, \"ticks\": \"\"}}, \"marker\": {\"colorbar\": {\"outlinewidth\": 0, \"ticks\": \"\"}}, \"type\": \"scatter3d\"}], \"scattercarpet\": [{\"marker\": {\"colorbar\": {\"outlinewidth\": 0, \"ticks\": \"\"}}, \"type\": \"scattercarpet\"}], \"scattergeo\": [{\"marker\": {\"colorbar\": {\"outlinewidth\": 0, \"ticks\": \"\"}}, \"type\": \"scattergeo\"}], \"scattergl\": [{\"marker\": {\"colorbar\": {\"outlinewidth\": 0, \"ticks\": \"\"}}, \"type\": \"scattergl\"}], \"scattermapbox\": [{\"marker\": {\"colorbar\": {\"outlinewidth\": 0, \"ticks\": \"\"}}, \"type\": \"scattermapbox\"}], \"scatterpolar\": [{\"marker\": {\"colorbar\": {\"outlinewidth\": 0, \"ticks\": \"\"}}, \"type\": \"scatterpolar\"}], \"scatterpolargl\": [{\"marker\": {\"colorbar\": {\"outlinewidth\": 0, \"ticks\": \"\"}}, \"type\": \"scatterpolargl\"}], \"scatterternary\": [{\"marker\": {\"colorbar\": {\"outlinewidth\": 0, \"ticks\": \"\"}}, \"type\": \"scatterternary\"}], \"surface\": [{\"colorbar\": {\"outlinewidth\": 0, \"ticks\": \"\"}, \"colorscale\": [[0.0, \"#0d0887\"], [0.1111111111111111, \"#46039f\"], [0.2222222222222222, \"#7201a8\"], [0.3333333333333333, \"#9c179e\"], [0.4444444444444444, \"#bd3786\"], [0.5555555555555556, \"#d8576b\"], [0.6666666666666666, \"#ed7953\"], [0.7777777777777778, \"#fb9f3a\"], [0.8888888888888888, \"#fdca26\"], [1.0, \"#f0f921\"]], \"type\": \"surface\"}], \"table\": [{\"cells\": {\"fill\": {\"color\": \"#EBF0F8\"}, \"line\": {\"color\": \"white\"}}, \"header\": {\"fill\": {\"color\": \"#C8D4E3\"}, \"line\": {\"color\": \"white\"}}, \"type\": \"table\"}]}, \"layout\": {\"annotationdefaults\": {\"arrowcolor\": \"#2a3f5f\", \"arrowhead\": 0, \"arrowwidth\": 1}, \"autotypenumbers\": \"strict\", \"coloraxis\": {\"colorbar\": {\"outlinewidth\": 0, \"ticks\": \"\"}}, \"colorscale\": {\"diverging\": [[0, \"#8e0152\"], [0.1, \"#c51b7d\"], [0.2, \"#de77ae\"], [0.3, \"#f1b6da\"], [0.4, \"#fde0ef\"], [0.5, \"#f7f7f7\"], [0.6, \"#e6f5d0\"], [0.7, \"#b8e186\"], [0.8, \"#7fbc41\"], [0.9, \"#4d9221\"], [1, \"#276419\"]], \"sequential\": [[0.0, \"#0d0887\"], [0.1111111111111111, \"#46039f\"], [0.2222222222222222, \"#7201a8\"], [0.3333333333333333, \"#9c179e\"], [0.4444444444444444, \"#bd3786\"], [0.5555555555555556, \"#d8576b\"], [0.6666666666666666, \"#ed7953\"], [0.7777777777777778, \"#fb9f3a\"], [0.8888888888888888, \"#fdca26\"], [1.0, \"#f0f921\"]], \"sequentialminus\": [[0.0, \"#0d0887\"], [0.1111111111111111, \"#46039f\"], [0.2222222222222222, \"#7201a8\"], [0.3333333333333333, \"#9c179e\"], [0.4444444444444444, \"#bd3786\"], [0.5555555555555556, \"#d8576b\"], [0.6666666666666666, \"#ed7953\"], [0.7777777777777778, \"#fb9f3a\"], [0.8888888888888888, \"#fdca26\"], [1.0, \"#f0f921\"]]}, \"colorway\": [\"#636efa\", \"#EF553B\", \"#00cc96\", \"#ab63fa\", \"#FFA15A\", \"#19d3f3\", \"#FF6692\", \"#B6E880\", \"#FF97FF\", \"#FECB52\"], \"font\": {\"color\": \"#2a3f5f\"}, \"geo\": {\"bgcolor\": \"white\", \"lakecolor\": \"white\", \"landcolor\": \"#E5ECF6\", \"showlakes\": true, \"showland\": true, \"subunitcolor\": \"white\"}, \"hoverlabel\": {\"align\": \"left\"}, \"hovermode\": \"closest\", \"mapbox\": {\"style\": \"light\"}, \"paper_bgcolor\": \"white\", \"plot_bgcolor\": \"#E5ECF6\", \"polar\": {\"angularaxis\": {\"gridcolor\": \"white\", \"linecolor\": \"white\", \"ticks\": \"\"}, \"bgcolor\": \"#E5ECF6\", \"radialaxis\": {\"gridcolor\": \"white\", \"linecolor\": \"white\", \"ticks\": \"\"}}, \"scene\": {\"xaxis\": {\"backgroundcolor\": \"#E5ECF6\", \"gridcolor\": \"white\", \"gridwidth\": 2, \"linecolor\": \"white\", \"showbackground\": true, \"ticks\": \"\", \"zerolinecolor\": \"white\"}, \"yaxis\": {\"backgroundcolor\": \"#E5ECF6\", \"gridcolor\": \"white\", \"gridwidth\": 2, \"linecolor\": \"white\", \"showbackground\": true, \"ticks\": \"\", \"zerolinecolor\": \"white\"}, \"zaxis\": {\"backgroundcolor\": \"#E5ECF6\", \"gridcolor\": \"white\", \"gridwidth\": 2, \"linecolor\": \"white\", \"showbackground\": true, \"ticks\": \"\", \"zerolinecolor\": \"white\"}}, \"shapedefaults\": {\"line\": {\"color\": \"#2a3f5f\"}}, \"ternary\": {\"aaxis\": {\"gridcolor\": \"white\", \"linecolor\": \"white\", \"ticks\": \"\"}, \"baxis\": {\"gridcolor\": \"white\", \"linecolor\": \"white\", \"ticks\": \"\"}, \"bgcolor\": \"#E5ECF6\", \"caxis\": {\"gridcolor\": \"white\", \"linecolor\": \"white\", \"ticks\": \"\"}}, \"title\": {\"x\": 0.05}, \"xaxis\": {\"automargin\": true, \"gridcolor\": \"white\", \"linecolor\": \"white\", \"ticks\": \"\", \"title\": {\"standoff\": 15}, \"zerolinecolor\": \"white\", \"zerolinewidth\": 2}, \"yaxis\": {\"automargin\": true, \"gridcolor\": \"white\", \"linecolor\": \"white\", \"ticks\": \"\", \"title\": {\"standoff\": 15}, \"zerolinecolor\": \"white\", \"zerolinewidth\": 2}}}, \"title\": {\"font\": {\"color\": \"#4D5663\"}, \"text\": \"Top 20 trigrams in review after removing stop words\"}, \"xaxis\": {\"gridcolor\": \"#E1E5ED\", \"linecolor\": \"black\", \"showgrid\": true, \"tickfont\": {\"color\": \"#4D5663\"}, \"title\": {\"font\": {\"color\": \"#4D5663\"}, \"text\": \"\"}, \"zerolinecolor\": \"#E1E5ED\"}, \"yaxis\": {\"gridcolor\": \"#E1E5ED\", \"linecolor\": \"black\", \"showgrid\": true, \"tickfont\": {\"color\": \"#4D5663\"}, \"title\": {\"font\": {\"color\": \"#4D5663\"}, \"text\": \"Count\"}, \"zerolinecolor\": \"#E1E5ED\"}},                        {\"showLink\": true, \"linkText\": \"Export to plot.ly\", \"plotlyServerURL\": \"https://plot.ly\", \"responsive\": true}                    ).then(function(){\n",
       "                            \n",
       "var gd = document.getElementById('3a08ea70-0b13-4938-8ca2-d58500593b34');\n",
       "var x = new MutationObserver(function (mutations, observer) {{\n",
       "        var display = window.getComputedStyle(gd).display;\n",
       "        if (!display || display === 'none') {{\n",
       "            console.log([gd, 'removed!']);\n",
       "            Plotly.purge(gd);\n",
       "            observer.disconnect();\n",
       "        }}\n",
       "}});\n",
       "\n",
       "// Listen for the removal of the full notebook cells\n",
       "var notebookContainer = gd.closest('#notebook-container');\n",
       "if (notebookContainer) {{\n",
       "    x.observe(notebookContainer, {childList: true});\n",
       "}}\n",
       "\n",
       "// Listen for the clearing of the current output cell\n",
       "var outputEl = gd.closest('.output');\n",
       "if (outputEl) {{\n",
       "    x.observe(outputEl, {childList: true});\n",
       "}}\n",
       "\n",
       "                        })                };                });            </script>        </div>"
      ]
     },
     "metadata": {},
     "output_type": "display_data"
    }
   ],
   "source": [
    "def get_top_n_trigram(corpus, n=None):\n",
    "    vec = CountVectorizer(ngram_range=(3, 3), stop_words='english').fit(corpus)\n",
    "    bag_of_words = vec.transform(corpus)\n",
    "    sum_words = bag_of_words.sum(axis=0) \n",
    "    words_freq = [(word, sum_words[0, idx]) for word, idx in vec.vocabulary_.items()]\n",
    "    words_freq =sorted(words_freq, key = lambda x: x[1], reverse=True)\n",
    "    return words_freq[:n]\n",
    "common_words = get_top_n_trigram(df['Story'], 20)\n",
    "for word, freq in common_words:\n",
    "    print(word, freq)\n",
    "df6 = pd.DataFrame(common_words, columns = ['Story' , 'count'])\n",
    "df6.groupby('Story').sum()['count'].sort_values(ascending=False).iplot(\n",
    "kind='bar', yTitle='Count', linecolor='black', title='Top 20 trigrams')"
   ]
  }
 ],
 "metadata": {
  "kernelspec": {
   "display_name": "Python 3",
   "language": "python",
   "name": "python3"
  },
  "language_info": {
   "codemirror_mode": {
    "name": "ipython",
    "version": 3
   },
   "file_extension": ".py",
   "mimetype": "text/x-python",
   "name": "python",
   "nbconvert_exporter": "python",
   "pygments_lexer": "ipython3",
   "version": "3.6.13"
  },
  "latex_envs": {
   "LaTeX_envs_menu_present": true,
   "autoclose": false,
   "autocomplete": true,
   "bibliofile": "biblio.bib",
   "cite_by": "apalike",
   "current_citInitial": 1,
   "eqLabelWithNumbers": true,
   "eqNumInitial": 1,
   "hotkeys": {
    "equation": "Ctrl-E",
    "itemize": "Ctrl-I"
   },
   "labels_anchors": false,
   "latex_user_defs": false,
   "report_style_numbering": false,
   "user_envs_cfg": false
  }
 },
 "nbformat": 4,
 "nbformat_minor": 5
}
