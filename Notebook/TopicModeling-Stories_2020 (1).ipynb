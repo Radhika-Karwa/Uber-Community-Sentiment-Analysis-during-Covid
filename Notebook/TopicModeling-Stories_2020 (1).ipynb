{
 "cells": [
  {
   "cell_type": "markdown",
   "id": "c18b8e72",
   "metadata": {},
   "source": [
    "# Libraries"
   ]
  },
  {
   "cell_type": "code",
   "execution_count": 1,
   "id": "00b8d018",
   "metadata": {},
   "outputs": [],
   "source": [
    "# Packages for dataframe operations\n",
    "import numpy as np \n",
    "import pandas as pd\n",
    "# Packages for visualization\n",
    "import matplotlib.pyplot as plt\n",
    "import seaborn as sns\n",
    "import collections\n",
    "\n",
    "import re\n",
    "from pprint import pprint\n",
    "\n",
    "# Gensim\n",
    "import gensim\n",
    "import gensim.corpora as corpora\n",
    "from gensim.utils import simple_preprocess\n",
    "from gensim.models import CoherenceModel\n",
    "\n",
    "# spacy for lemmatization\n",
    "import spacy\n",
    "\n",
    "# Plotting tools\n",
    "import pyLDAvis\n",
    "#import pyLDAvis.gensim  # don't skip this\n",
    "import matplotlib.pyplot as plt\n",
    "%matplotlib inline\n",
    "\n",
    "# Enable logging for gensim - optional\n",
    "import logging\n",
    "logging.basicConfig(format='%(asctime)s : %(levelname)s : %(message)s', level=logging.ERROR)\n",
    "\n",
    "import warnings\n",
    "warnings.filterwarnings(\"ignore\",category=DeprecationWarning)\n",
    "\n",
    "import os\n",
    "import pickle\n",
    "import nltk"
   ]
  },
  {
   "cell_type": "markdown",
   "id": "c6c59095",
   "metadata": {},
   "source": [
    "# Import DataSet for 2020"
   ]
  },
  {
   "cell_type": "code",
   "execution_count": 2,
   "id": "b9f0e12a",
   "metadata": {},
   "outputs": [],
   "source": [
    "df = pd.read_csv('data_2020.csv') "
   ]
  },
  {
   "cell_type": "code",
   "execution_count": 3,
   "id": "38380300",
   "metadata": {},
   "outputs": [
    {
     "data": {
      "text/html": [
       "<div>\n",
       "<style scoped>\n",
       "    .dataframe tbody tr th:only-of-type {\n",
       "        vertical-align: middle;\n",
       "    }\n",
       "\n",
       "    .dataframe tbody tr th {\n",
       "        vertical-align: top;\n",
       "    }\n",
       "\n",
       "    .dataframe thead th {\n",
       "        text-align: right;\n",
       "    }\n",
       "</style>\n",
       "<table border=\"1\" class=\"dataframe\">\n",
       "  <thead>\n",
       "    <tr style=\"text-align: right;\">\n",
       "      <th></th>\n",
       "      <th>Post</th>\n",
       "      <th>Name</th>\n",
       "      <th>Datetime</th>\n",
       "      <th>Story</th>\n",
       "      <th>year</th>\n",
       "    </tr>\n",
       "  </thead>\n",
       "  <tbody>\n",
       "    <tr>\n",
       "      <th>0</th>\n",
       "      <td>post-6658254</td>\n",
       "      <td>touberornottouber</td>\n",
       "      <td>Dec 1, 2020 at 12:34 PM</td>\n",
       "      <td>I get a request for a 7 minute trip on Uber to...</td>\n",
       "      <td>2020</td>\n",
       "    </tr>\n",
       "    <tr>\n",
       "      <th>1</th>\n",
       "      <td>post-6438395</td>\n",
       "      <td>Young Kim</td>\n",
       "      <td>Aug 10, 2020 at 11:20 PM</td>\n",
       "      <td>Had a young lady pax so uber vegan, that I was...</td>\n",
       "      <td>2020</td>\n",
       "    </tr>\n",
       "    <tr>\n",
       "      <th>2</th>\n",
       "      <td>post-6679137</td>\n",
       "      <td>Young Kim</td>\n",
       "      <td>Dec 13, 2020 at 8:31 AM</td>\n",
       "      <td>Had a pax who was just working now at a restau...</td>\n",
       "      <td>2020</td>\n",
       "    </tr>\n",
       "    <tr>\n",
       "      <th>3</th>\n",
       "      <td>post-6486138</td>\n",
       "      <td>AB5</td>\n",
       "      <td>Aug 30, 2020 at 3:32 PM</td>\n",
       "      <td>Stop being surfs!!!</td>\n",
       "      <td>2020</td>\n",
       "    </tr>\n",
       "    <tr>\n",
       "      <th>4</th>\n",
       "      <td>post-6539343</td>\n",
       "      <td>FLKeys</td>\n",
       "      <td>Sep 28, 2020 at 11:05 AM</td>\n",
       "      <td>Saturday morning around 2:10 AM I get a Comfor...</td>\n",
       "      <td>2020</td>\n",
       "    </tr>\n",
       "    <tr>\n",
       "      <th>...</th>\n",
       "      <td>...</td>\n",
       "      <td>...</td>\n",
       "      <td>...</td>\n",
       "      <td>...</td>\n",
       "      <td>...</td>\n",
       "    </tr>\n",
       "    <tr>\n",
       "      <th>435</th>\n",
       "      <td>post-6396293</td>\n",
       "      <td>Young Kim</td>\n",
       "      <td>Jul 23, 2020 at 5:44 PM</td>\n",
       "      <td>When I opened the envelope in the mail, I saw ...</td>\n",
       "      <td>2020</td>\n",
       "    </tr>\n",
       "    <tr>\n",
       "      <th>436</th>\n",
       "      <td>post-6396821</td>\n",
       "      <td>SleelWheels</td>\n",
       "      <td>Jul 23, 2020 at 9:11 PM</td>\n",
       "      <td>Well another first for me, picked up a guy who...</td>\n",
       "      <td>2020</td>\n",
       "    </tr>\n",
       "    <tr>\n",
       "      <th>437</th>\n",
       "      <td>post-6392408</td>\n",
       "      <td>Mkang14</td>\n",
       "      <td>Jul 22, 2020 at 4:26 AM</td>\n",
       "      <td>My buddy  just did a good deed. From the botto...</td>\n",
       "      <td>2020</td>\n",
       "    </tr>\n",
       "    <tr>\n",
       "      <th>438</th>\n",
       "      <td>post-6395388</td>\n",
       "      <td>The Jax</td>\n",
       "      <td>Jul 23, 2020 at 11:10 AM</td>\n",
       "      <td>I have been delivering over 20 years and over ...</td>\n",
       "      <td>2020</td>\n",
       "    </tr>\n",
       "    <tr>\n",
       "      <th>439</th>\n",
       "      <td>post-6368217</td>\n",
       "      <td>Mista T</td>\n",
       "      <td>Jul 11, 2020 at 4:12 PM</td>\n",
       "      <td>Uber ran my annual background check.\\n\\n\\n\\n\\n...</td>\n",
       "      <td>2020</td>\n",
       "    </tr>\n",
       "  </tbody>\n",
       "</table>\n",
       "<p>440 rows × 5 columns</p>\n",
       "</div>"
      ],
      "text/plain": [
       "             Post               Name                  Datetime  \\\n",
       "0    post-6658254  touberornottouber   Dec 1, 2020 at 12:34 PM   \n",
       "1    post-6438395          Young Kim  Aug 10, 2020 at 11:20 PM   \n",
       "2    post-6679137          Young Kim   Dec 13, 2020 at 8:31 AM   \n",
       "3    post-6486138                AB5   Aug 30, 2020 at 3:32 PM   \n",
       "4    post-6539343             FLKeys  Sep 28, 2020 at 11:05 AM   \n",
       "..            ...                ...                       ...   \n",
       "435  post-6396293          Young Kim   Jul 23, 2020 at 5:44 PM   \n",
       "436  post-6396821        SleelWheels   Jul 23, 2020 at 9:11 PM   \n",
       "437  post-6392408            Mkang14   Jul 22, 2020 at 4:26 AM   \n",
       "438  post-6395388            The Jax  Jul 23, 2020 at 11:10 AM   \n",
       "439  post-6368217            Mista T   Jul 11, 2020 at 4:12 PM   \n",
       "\n",
       "                                                 Story  year  \n",
       "0    I get a request for a 7 minute trip on Uber to...  2020  \n",
       "1    Had a young lady pax so uber vegan, that I was...  2020  \n",
       "2    Had a pax who was just working now at a restau...  2020  \n",
       "3                                  Stop being surfs!!!  2020  \n",
       "4    Saturday morning around 2:10 AM I get a Comfor...  2020  \n",
       "..                                                 ...   ...  \n",
       "435  When I opened the envelope in the mail, I saw ...  2020  \n",
       "436  Well another first for me, picked up a guy who...  2020  \n",
       "437  My buddy  just did a good deed. From the botto...  2020  \n",
       "438  I have been delivering over 20 years and over ...  2020  \n",
       "439  Uber ran my annual background check.\\n\\n\\n\\n\\n...  2020  \n",
       "\n",
       "[440 rows x 5 columns]"
      ]
     },
     "execution_count": 3,
     "metadata": {},
     "output_type": "execute_result"
    }
   ],
   "source": [
    "df"
   ]
  },
  {
   "cell_type": "markdown",
   "id": "106f0a40",
   "metadata": {},
   "source": [
    "## Set Mallet Path "
   ]
  },
  {
   "cell_type": "code",
   "execution_count": 5,
   "id": "e584995a",
   "metadata": {},
   "outputs": [],
   "source": [
    "MALLET_PATH = '/Users/phoebekalochoritou/Downloads/mallet-2.0.8/bin/mallet'"
   ]
  },
  {
   "cell_type": "markdown",
   "id": "ff8383a6",
   "metadata": {},
   "source": [
    "#### Set stories as data"
   ]
  },
  {
   "cell_type": "code",
   "execution_count": 7,
   "id": "493a82c2",
   "metadata": {},
   "outputs": [],
   "source": [
    "data = df.Story"
   ]
  },
  {
   "cell_type": "code",
   "execution_count": 8,
   "id": "b8176fa8",
   "metadata": {},
   "outputs": [
    {
     "data": {
      "text/plain": [
       "0      I get a request for a 7 minute trip on Uber to...\n",
       "1      Had a young lady pax so uber vegan, that I was...\n",
       "2      Had a pax who was just working now at a restau...\n",
       "3                                    Stop being surfs!!!\n",
       "4      Saturday morning around 2:10 AM I get a Comfor...\n",
       "                             ...                        \n",
       "435    When I opened the envelope in the mail, I saw ...\n",
       "436    Well another first for me, picked up a guy who...\n",
       "437    My buddy  just did a good deed. From the botto...\n",
       "438    I have been delivering over 20 years and over ...\n",
       "439    Uber ran my annual background check.\\n\\n\\n\\n\\n...\n",
       "Name: Story, Length: 440, dtype: object"
      ]
     },
     "execution_count": 8,
     "metadata": {},
     "output_type": "execute_result"
    }
   ],
   "source": [
    "data"
   ]
  },
  {
   "cell_type": "code",
   "execution_count": 9,
   "id": "0d537ffb",
   "metadata": {},
   "outputs": [
    {
     "name": "stdout",
     "output_type": "stream",
     "text": [
      "[['get', 'request', 'for', 'minute', 'trip', 'on', 'uber', 'to', 'pick', 'up', 'at', 'chipotle', 'get', 'there', 'and', 'the', 'place', 'is', 'deserted', 'don', 'think', 'it', 'was', 'actually', 'open', 'yet', 'save', 'for', 'man', 'sitting', 'at', 'one', 'of', 'the', 'outside', 'tables', 'the', 'guy', 'looked', 'bit', 'poor', 'like', 'your', 'normal', 'lower', 'class', 'service', 'worker', 'here', 'really', 'the', 'guy', 'gets', 'in', 'and', 'immediately', 'slams', 'my', 'door', 'but', 'apologizes', 'right', 'away', 'fair', 'play', 'think', 'to', 'myself', 'at', 'least', 'he', 'apologized', 'he', 'ended', 'up', 'being', 'pretty', 'good', 'passenger', 'and', 'he', 'asked', 'me', 'lot', 'about', 'uber', 'think', 'this', 'might', 'have', 'been', 'his', 'first', 'uber', 'ride', 'at', 'the', 'destination', 'end', 'the', 'trip', 'and', 'explain', 'that', 'it', 'should', 'pop', 'up', 'on', 'his', 'phone', 'in', 'minute', 'or', 'so', 'with', 'record', 'of', 'the', 'trip', 'and', 'what', 'it', 'cost', 'about', 'seconds', 'later', 'he', 'tells', 'me', 'that', 'he', 'tipped', 'me', 'and', 'would', 'have', 'tipped', 'more', 'but', 'that', 'was', 'the', 'most', 'they', 'would', 'allow', 'it', 'occurs', 'to', 'me', 'that', 'this', 'gig', 'would', 'be', 'very', 'different', 'if', 'every', 'passenger', 'tipped', 'like', 'him', 'also', 'don', 'judge', 'book', 'by', 'the', 'cover', 'sometimes', 'what', 'looks', 'like', 'bad', 'trip', 'can', 'actually', 'end', 'up', 'being', 'really', 'good', 'get', 'the', 'feeling', 'the', 'guy', 'tried', 'to', 'tip', 'me']]\n"
     ]
    }
   ],
   "source": [
    "def sent_to_words(sentences):\n",
    "    for sentence in sentences:\n",
    "        yield(gensim.utils.simple_preprocess(str(sentence), deacc=True))  # deacc=True removes punctuations\n",
    "\n",
    "data_words = list(sent_to_words(data))\n",
    "\n",
    "print(data_words[:1])"
   ]
  },
  {
   "cell_type": "markdown",
   "id": "dc2b77e1",
   "metadata": {},
   "source": [
    "# Building models"
   ]
  },
  {
   "cell_type": "code",
   "execution_count": 10,
   "id": "dc2f8625",
   "metadata": {},
   "outputs": [
    {
     "name": "stdout",
     "output_type": "stream",
     "text": [
      "['get', 'request', 'for', 'minute', 'trip', 'on', 'uber', 'to', 'pick', 'up', 'at', 'chipotle', 'get', 'there', 'and', 'the', 'place', 'is', 'deserted', 'don', 'think', 'it', 'was', 'actually', 'open', 'yet', 'save', 'for', 'man', 'sitting', 'at', 'one', 'of', 'the', 'outside', 'tables', 'the', 'guy', 'looked', 'bit', 'poor', 'like', 'your', 'normal', 'lower', 'class', 'service', 'worker', 'here', 'really', 'the', 'guy', 'gets', 'in', 'and', 'immediately', 'slams', 'my', 'door', 'but', 'apologizes', 'right', 'away', 'fair', 'play', 'think', 'to', 'myself', 'at', 'least', 'he', 'apologized', 'he', 'ended', 'up', 'being', 'pretty', 'good', 'passenger', 'and', 'he', 'asked', 'me', 'lot', 'about', 'uber', 'think', 'this', 'might', 'have', 'been', 'his', 'first', 'uber', 'ride', 'at', 'the', 'destination', 'end', 'the', 'trip', 'and', 'explain', 'that', 'it', 'should', 'pop', 'up', 'on', 'his', 'phone', 'in', 'minute', 'or', 'so', 'with', 'record', 'of', 'the', 'trip', 'and', 'what', 'it', 'cost', 'about', 'seconds', 'later', 'he', 'tells', 'me', 'that', 'he', 'tipped', 'me', 'and', 'would', 'have', 'tipped', 'more', 'but', 'that', 'was', 'the', 'most', 'they', 'would', 'allow', 'it', 'occurs', 'to', 'me', 'that', 'this', 'gig', 'would', 'be', 'very', 'different', 'if', 'every', 'passenger', 'tipped', 'like', 'him', 'also', 'don', 'judge', 'book', 'by', 'the', 'cover', 'sometimes', 'what', 'looks', 'like', 'bad', 'trip', 'can', 'actually', 'end', 'up', 'being', 'really', 'good', 'get', 'the', 'feeling', 'the', 'guy', 'tried', 'to', 'tip', 'me']\n"
     ]
    }
   ],
   "source": [
    "# Build the bigram and trigram models\n",
    "bigram = gensim.models.Phrases(data_words, min_count=5, threshold=100) # higher threshold fewer phrases.\n",
    "trigram = gensim.models.Phrases(bigram[data_words], threshold=100)  \n",
    "\n",
    "# Faster way to get a sentence clubbed as a trigram/bigram\n",
    "bigram_mod = gensim.models.phrases.Phraser(bigram)\n",
    "trigram_mod = gensim.models.phrases.Phraser(trigram)\n",
    "\n",
    "# See trigram example\n",
    "print(trigram_mod[bigram_mod[data_words[0]]])"
   ]
  },
  {
   "cell_type": "markdown",
   "id": "a959d7d6",
   "metadata": {},
   "source": [
    "# Stopwords"
   ]
  },
  {
   "cell_type": "markdown",
   "id": "58412536",
   "metadata": {},
   "source": [
    "## Define them"
   ]
  },
  {
   "cell_type": "code",
   "execution_count": null,
   "id": "c01de4a5",
   "metadata": {},
   "outputs": [],
   "source": [
    "nltk.download('stopwords') \n",
    "stopwords = nltk.corpus.stopwords.words('english')\n",
    "stop_words = list(stopwords)\n",
    "extra = ['uber', 'driver','one', 'provide', 'include', 'works', 'also', 'look', 'another', 'extra', 'someone', 'fact',\n",
    "         'think', 'everyone', 'since', 'ever', 'likely', 'maybe', 'lot', 'would', 'like', 'mean', 'say',\n",
    "         'though', 'want', 'guy', 'stil', 'however', 'said', ' ', 'work', 'job', 'year', 'try', 'decide',\n",
    "         'move', 'obviously', 'man', 'woman', '+', 'literally', '>', '<', 'keep', 'thing', 'look', 'ok',\n",
    "         'living', 'instead', 'home', 'yesterday', 'today', 'see', 'fall', 'na', 'lady', 'girl', 'probably',\n",
    "         'guess', 'legit', 'somebody', 'someone', 'know', 'something', 'start', 'much', 'even', 'trying',\n",
    "         'lol', 'call', 'around', 'every', 'minute', 'according', 'need', 'could', 'back', 'used', 'two',\n",
    "         'first', 'taking', 'become', 'actually', 'next', 'real', 'go', 'sure', 'yet', 'pick', 'anything',\n",
    "         'without', 'with', 'got', 'put', 'read', 'come', 'might', 'driver', 'says', 'nothing', 'using',\n",
    "         'going', 'getting', 'use', 'already', 'paying', 'believe', 'get', 'make', 'u', 'really', 'saying',\n",
    "         'ask', 'happening', 'may', 'alway', 'still', 'left', 'person', 'drivers', 'people', 'driving', 'long',\n",
    "         'dont', 'happen', 'told', 'tell', 'women', 'yeah', 'post', 'mr', 'simply', 'show', 'place', 'always',\n",
    "         'usually', 'sometimes', 'way', 'things', 'many', 'exactly', 'called', 'call', 'give', 'thought', 'either',\n",
    "         'rider', 'gets', 'last', 'ye', 'whether', 'unless', 'looking', 'means', 'went', 'wants', 'want',\n",
    "         'seen', 'comes', 'etc', 'asked', 'self', 'tnc', 'the', 'makes', 'hand', 'found', 'find', 'must', 'took',\n",
    "         'made', 'companie', 'seem', 'friend', 'example', 'name', 'feel', 'including', 'others', 'other', 'started',\n",
    "         'able', 'leave', 'else', 'or', 'take', 'yes', 'anyone', 'seems', 'comment', 'new', 'pax', 'Hello', 'ok', 'got', 'so', 'it', 'is', 'its', 'guess', 'we',\n",
    "         'my', 'but', 'too', 'a', 'and', 'today', 'get', 'go','work', 'nan', 'forward', 'ahead', 'send', 'resume', 'car', 'tell', 'ask', 'driver', 'uber', 'list', 'know', 'take', 'minute', 'outta', 'express', 'see', 'the', 'specific', 'accurate',\n",
    "         'say', 'op', 'be', 'less_than', 'door', 'back', 'pull',  'endless', 'cracker', 'uber', 'drive', 'pax',\n",
    "         'admire', '$', 'end' 'car', 'driver', 'drive', 'fitting', 'glamorous', 'cute', 'effective',\n",
    "         'champ', 'certain', 'gave', 'day', 'weeks', 'finally', 'front', 'rides', 'open', 'full', 'story', 'end', 'decided']\n",
    "\n",
    "stop_words.extend(extra)"
   ]
  },
  {
   "cell_type": "markdown",
   "id": "20878e41",
   "metadata": {},
   "source": [
    "## Remove them"
   ]
  },
  {
   "cell_type": "code",
   "execution_count": 11,
   "id": "67fc963f",
   "metadata": {},
   "outputs": [],
   "source": [
    "# Define functions for stopwords, bigrams, trigrams and lemmatization\n",
    "def remove_stopwords(texts):\n",
    "    return [[word for word in simple_preprocess(str(doc)) if word not in stop_words] for doc in texts]\n",
    "\n",
    "def make_bigrams(texts):\n",
    "    return [bigram_mod[doc] for doc in texts]\n",
    "\n",
    "def make_trigrams(texts):\n",
    "    return [trigram_mod[bigram_mod[doc]] for doc in texts]\n",
    "\n",
    "def lemmatization(texts, allowed_postags=['NOUN', 'ADJ', 'VERB', 'ADV']):\n",
    "    \"\"\"https://spacy.io/api/annotation\"\"\"\n",
    "    texts_out = []\n",
    "    for sent in texts:\n",
    "        doc = nlp(\" \".join(sent)) \n",
    "        texts_out.append([token.lemma_ for token in doc if token.pos_ in allowed_postags])\n",
    "    return texts_out"
   ]
  },
  {
   "cell_type": "code",
   "execution_count": 12,
   "id": "cd9c97cd",
   "metadata": {},
   "outputs": [
    {
     "name": "stdout",
     "output_type": "stream",
     "text": [
      "[['trip', 'desert', 'save', 'sit', 'table', 'look', 'bit', 'poor', 'normal', 'low', 'class', 'service', 'worker', 'immediately', 'slam', 'apologize', 'right', 'away', 'fair', 'play', 'least', 'apologize', 'end', 'pretty', 'good', 'passenger', 'ride', 'destination', 'trip', 'explain', 'pop', 'phone', 'record', 'trip', 'cost', 'second', 'later', 'tell', 'tip', 'tip', 'allow', 'occur', 'gig', 'different', 'passenger', 'tip', 'judge', 'book', 'cover', 'look', 'bad', 'trip', 'good', 'feeling', 'try', 'tip']]\n"
     ]
    }
   ],
   "source": [
    "# Remove Stop Words\n",
    "data_words_nostops = remove_stopwords(data_words)\n",
    "\n",
    "# Form Bigrams\n",
    "data_words_bigrams = make_bigrams(data_words_nostops)\n",
    "\n",
    "# Initialize spacy 'en' model, keeping only tagger component (for efficiency)\n",
    "# python3 -m spacy download en\n",
    "#nlp = spacy.load('en', disable=['parser', 'ner'])\n",
    "nlp = spacy.load(\"en_core_web_lg\", disable=['parser', 'ner'])\n",
    "# Do lemmatization keeping only noun, adj, vb, adv\n",
    "data_lemmatized = lemmatization(data_words_bigrams, allowed_postags=['NOUN', 'ADJ', 'VERB', 'ADV'])\n",
    "\n",
    "print(data_lemmatized[:1])"
   ]
  },
  {
   "cell_type": "markdown",
   "id": "970820de",
   "metadata": {},
   "source": [
    "# Dictionary"
   ]
  },
  {
   "cell_type": "code",
   "execution_count": 13,
   "id": "699d26dc",
   "metadata": {},
   "outputs": [
    {
     "name": "stdout",
     "output_type": "stream",
     "text": [
      "[[(0, 1), (1, 2), (2, 1), (3, 1), (4, 1), (5, 1), (6, 1), (7, 1), (8, 1), (9, 1), (10, 1), (11, 1), (12, 1), (13, 1), (14, 1), (15, 1), (16, 1), (17, 2), (18, 1), (19, 1), (20, 1), (21, 1), (22, 2), (23, 1), (24, 1), (25, 1), (26, 2), (27, 1), (28, 1), (29, 1), (30, 1), (31, 1), (32, 1), (33, 1), (34, 1), (35, 1), (36, 1), (37, 1), (38, 1), (39, 1), (40, 1), (41, 1), (42, 4), (43, 4), (44, 1), (45, 1)]]\n"
     ]
    }
   ],
   "source": [
    "# Create Dictionary\n",
    "id2word = corpora.Dictionary(data_lemmatized)\n",
    "\n",
    "# Create Corpus\n",
    "texts = data_lemmatized\n",
    "\n",
    "# Term Document Frequency\n",
    "corpus = [id2word.doc2bow(text) for text in texts]\n",
    "\n",
    "# View\n",
    "print(corpus[:1])"
   ]
  },
  {
   "cell_type": "code",
   "execution_count": 14,
   "id": "b5ab8993",
   "metadata": {},
   "outputs": [
    {
     "data": {
      "text/plain": [
       "[[('allow', 1),\n",
       "  ('apologize', 2),\n",
       "  ('away', 1),\n",
       "  ('bad', 1),\n",
       "  ('bit', 1),\n",
       "  ('book', 1),\n",
       "  ('class', 1),\n",
       "  ('cost', 1),\n",
       "  ('cover', 1),\n",
       "  ('desert', 1),\n",
       "  ('destination', 1),\n",
       "  ('different', 1),\n",
       "  ('end', 1),\n",
       "  ('explain', 1),\n",
       "  ('fair', 1),\n",
       "  ('feeling', 1),\n",
       "  ('gig', 1),\n",
       "  ('good', 2),\n",
       "  ('immediately', 1),\n",
       "  ('judge', 1),\n",
       "  ('later', 1),\n",
       "  ('least', 1),\n",
       "  ('look', 2),\n",
       "  ('low', 1),\n",
       "  ('normal', 1),\n",
       "  ('occur', 1),\n",
       "  ('passenger', 2),\n",
       "  ('phone', 1),\n",
       "  ('play', 1),\n",
       "  ('poor', 1),\n",
       "  ('pop', 1),\n",
       "  ('pretty', 1),\n",
       "  ('record', 1),\n",
       "  ('ride', 1),\n",
       "  ('right', 1),\n",
       "  ('save', 1),\n",
       "  ('second', 1),\n",
       "  ('service', 1),\n",
       "  ('sit', 1),\n",
       "  ('slam', 1),\n",
       "  ('table', 1),\n",
       "  ('tell', 1),\n",
       "  ('tip', 4),\n",
       "  ('trip', 4),\n",
       "  ('try', 1),\n",
       "  ('worker', 1)]]"
      ]
     },
     "execution_count": 14,
     "metadata": {},
     "output_type": "execute_result"
    }
   ],
   "source": [
    "# Human readable format of corpus (term-frequency)\n",
    "[[(id2word[id], freq) for id, freq in cp] for cp in corpus[:1]]"
   ]
  },
  {
   "cell_type": "markdown",
   "id": "0876ce25",
   "metadata": {},
   "source": [
    "# LDA models"
   ]
  },
  {
   "cell_type": "code",
   "execution_count": 18,
   "id": "1ec97796",
   "metadata": {},
   "outputs": [
    {
     "data": {
      "text/plain": [
       "[(0,\n",
       "  '0.106*\"ride\" + 0.072*\"cancel\" + 0.061*\"passenger\" + 0.055*\"minute\" + 0.040*\"wait\" + 0.023*\"pickup\" + 0.023*\"request\" + 0.022*\"text\" + 0.021*\"reason\" + 0.021*\"arrive\"'),\n",
       " (1,\n",
       "  '0.052*\"turn\" + 0.033*\"stop\" + 0.028*\"head\" + 0.025*\"light\" + 0.025*\"road\" + 0.022*\"pull\" + 0.020*\"window\" + 0.019*\"point\" + 0.019*\"side\" + 0.016*\"foot\"'),\n",
       " (2,\n",
       "  '0.049*\"phone\" + 0.034*\"walk\" + 0.026*\"run\" + 0.025*\"close\" + 0.023*\"hear\" + 0.020*\"drive\" + 0.019*\"app\" + 0.019*\"wife\" + 0.016*\"open\" + 0.016*\"check\"'),\n",
       " (3,\n",
       "  '0.047*\"night\" + 0.028*\"good\" + 0.022*\"couple\" + 0.021*\"guy\" + 0.019*\"call\" + 0.018*\"great\" + 0.018*\"kid\" + 0.018*\"follow\" + 0.018*\"hope\" + 0.016*\"drunk\"'),\n",
       " (4,\n",
       "  '0.036*\"seat\" + 0.034*\"drop\" + 0.029*\"nice\" + 0.027*\"sit\" + 0.026*\"hit\" + 0.024*\"car\" + 0.016*\"stand\" + 0.016*\"stop\" + 0.015*\"pass\" + 0.015*\"fine\"'),\n",
       " (5,\n",
       "  '0.056*\"tip\" + 0.050*\"order\" + 0.033*\"food\" + 0.033*\"customer\" + 0.031*\"delivery\" + 0.026*\"restaurant\" + 0.018*\"wait\" + 0.018*\"eat\" + 0.017*\"time\" + 0.017*\"deliver\"'),\n",
       " (6,\n",
       "  '0.047*\"mask\" + 0.042*\"time\" + 0.032*\"bad\" + 0.024*\"company\" + 0.024*\"pick\" + 0.016*\"address\" + 0.014*\"face\" + 0.014*\"wear\" + 0.014*\"passenger\" + 0.014*\"account\"'),\n",
       " (7,\n",
       "  '0.073*\"trip\" + 0.037*\"pay\" + 0.036*\"mile\" + 0.033*\"hour\" + 0.031*\"ping\" + 0.031*\"time\" + 0.030*\"minute\" + 0.026*\"surge\" + 0.024*\"app\" + 0.020*\"fare\"'),\n",
       " (8,\n",
       "  '0.017*\"rate\" + 0.016*\"number\" + 0.015*\"buy\" + 0.015*\"city\" + 0.015*\"ago\" + 0.015*\"early\" + 0.014*\"break\" + 0.014*\"cash\" + 0.013*\"high\" + 0.012*\"low\"'),\n",
       " (9,\n",
       "  '0.033*\"year\" + 0.021*\"time\" + 0.020*\"good\" + 0.019*\"love\" + 0.019*\"talk\" + 0.018*\"point\" + 0.016*\"share\" + 0.016*\"life\" + 0.015*\"area\" + 0.015*\"live\"')]"
      ]
     },
     "execution_count": 18,
     "metadata": {},
     "output_type": "execute_result"
    }
   ],
   "source": [
    "n_topics = 10\n",
    "\n",
    "# model estimation\n",
    "lda_mallet = gensim.models.wrappers.LdaMallet(MALLET_PATH,\n",
    "                                              corpus = corpus,\n",
    "                                              num_topics = n_topics,\n",
    "                                              id2word = id2word,\n",
    "                                              random_seed = 1234)\n",
    "\n",
    "# print results\n",
    "lda_mallet.print_topics(num_topics = n_topics, num_words = 10)"
   ]
  },
  {
   "cell_type": "markdown",
   "id": "520fbea1",
   "metadata": {},
   "source": [
    "# LDA Vis"
   ]
  },
  {
   "cell_type": "code",
   "execution_count": 19,
   "id": "b3cd6c8f",
   "metadata": {},
   "outputs": [],
   "source": [
    "#from mallet to gensim\n",
    "lda_mallet_g = gensim.models.wrappers.ldamallet.malletmodel2ldamodel(lda_mallet)"
   ]
  },
  {
   "cell_type": "code",
   "execution_count": 21,
   "id": "ee570ff4",
   "metadata": {},
   "outputs": [
    {
     "data": {
      "text/html": [
       "\n",
       "<link rel=\"stylesheet\" type=\"text/css\" href=\"https://cdn.jsdelivr.net/gh/bmabey/pyLDAvis@3.3.1/pyLDAvis/js/ldavis.v1.0.0.css\">\n",
       "\n",
       "\n",
       "<div id=\"ldavis_el639711404861487951843203343880\"></div>\n",
       "<script type=\"text/javascript\">\n",
       "\n",
       "var ldavis_el639711404861487951843203343880_data = {\"mdsDat\": {\"x\": [-0.3010239261371052, 0.16369013251270034, 0.10127618262539287, 0.004330789784877532, 0.003062967312115891, -0.08701290712465823, -0.2694549628648702, 0.14444466670208508, 0.19027866184368672, 0.05040839534577504], \"y\": [0.043549232893069785, -0.17076486638658206, -0.14159510024700495, -0.0449488713926404, -0.011576559924297635, -0.06454530966248655, -0.07757729737786939, 0.03326724228595967, 0.017303047095718962, 0.4168884827161325], \"topics\": [1, 2, 3, 4, 5, 6, 7, 8, 9, 10], \"cluster\": [1, 1, 1, 1, 1, 1, 1, 1, 1, 1], \"Freq\": [10.848777622895579, 10.71366733026064, 10.52557545192266, 10.229081271316403, 10.088891345220203, 10.003938833524519, 9.85826247930214, 9.458394998580312, 9.1965607410997, 9.076849925877847]}, \"tinfo\": {\"Term\": [\"ride\", \"cancel\", \"trip\", \"minute\", \"passenger\", \"tip\", \"turn\", \"order\", \"mask\", \"phone\", \"night\", \"time\", \"wait\", \"pay\", \"stop\", \"mile\", \"seat\", \"year\", \"food\", \"customer\", \"walk\", \"good\", \"delivery\", \"ping\", \"drop\", \"app\", \"bad\", \"hour\", \"nice\", \"light\", \"save\", \"passion\", \"ability\", \"cancel\", \"deck\", \"fit\", \"gathering\", \"message\", \"potential\", \"request\", \"text\", \"timer\", \"uberx\", \"unsafe\", \"count\", \"fricken\", \"suitcase\", \"tomorrow\", \"usb\", \"give\", \"home\", \"intimate\", \"niece\", \"dependent\", \"junk\", \"lawn\", \"queue\", \"basket\", \"neck\", \"smell\", \"arrive\", \"change\", \"small\", \"vomit\", \"lyft\", \"send\", \"decline\", \"town\", \"note\", \"cancellation\", \"neighborhood\", \"flag\", \"usual\", \"perfect\", \"cool\", \"office\", \"current\", \"trash\", \"puke\", \"reason\", \"pickup\", \"ride\", \"passenger\", \"problem\", \"minute\", \"wait\", \"rating\", \"accept\", \"location\", \"respond\", \"pretty\", \"end\", \"slam\", \"plate\", \"turn\", \"sum\", \"tuition\", \"deputy\", \"draw\", \"dumpster\", \"empty\", \"entrance\", \"glimpse\", \"mirror\", \"movement\", \"rear\", \"rearview\", \"registration\", \"road\", \"roll\", \"scream\", \"speed\", \"window\", \"traffic\", \"idiot\", \"split\", \"green\", \"heated\", \"premier\", \"significant\", \"removal\", \"pull\", \"light\", \"foot\", \"street\", \"lane\", \"parking\", \"notice\", \"slow\", \"direction\", \"sign\", \"exit\", \"move\", \"line\", \"truck\", \"red\", \"curb\", \"fire\", \"camera\", \"grab\", \"head\", \"part\", \"cop\", \"stop\", \"side\", \"start\", \"vehicle\", \"point\", \"top\", \"bit\", \"judge\", \"connection\", \"preview\", \"game\", \"shoot\", \"involve\", \"cough\", \"pray\", \"matter\", \"tonight\", \"friendly\", \"model\", \"member\", \"purge\", \"accomplished\", \"conversation\", \"drug\", \"forgive\", \"gently\", \"naturally\", \"roommate\", \"session\", \"share\", \"sister\", \"spend\", \"surprising\", \"year\", \"consideration\", \"incredible\", \"love\", \"downtown\", \"hard\", \"month\", \"interesting\", \"accident\", \"country\", \"husband\", \"world\", \"story\", \"easy\", \"view\", \"fall\", \"avoid\", \"kill\", \"score\", \"team\", \"date\", \"group\", \"completely\", \"stick\", \"life\", \"case\", \"friend\", \"live\", \"parent\", \"feel\", \"figure\", \"talk\", \"block\", \"agree\", \"funny\", \"mind\", \"reply\", \"area\", \"point\", \"good\", \"happen\", \"time\", \"word\", \"side\", \"large\", \"cover\", \"fair\", \"proof\", \"shin\", \"steering\", \"threaten\", \"touch\", \"address\", \"mask\", \"recently\", \"squeeze\", \"hack\", \"ponder\", \"winter\", \"bat\", \"face\", \"information\", \"process\", \"processing\", \"claim\", \"post\", \"anymore\", \"associate\", \"individual\", \"attempt\", \"directly\", \"girlfriend\", \"ostensibly\", \"suppose\", \"wear\", \"company\", \"account\", \"throw\", \"contact\", \"video\", \"wheelchair\", \"apparently\", \"email\", \"risk\", \"policy\", \"handle\", \"health\", \"personal\", \"actual\", \"platform\", \"recent\", \"beat\", \"damage\", \"bad\", \"kind\", \"pick\", \"deactivate\", \"idea\", \"time\", \"due\", \"business\", \"passenger\", \"true\", \"lose\", \"talk\", \"watch\", \"quick\", \"reach\", \"yell\", \"approach\", \"buddy\", \"police\", \"situation\", \"standing\", \"dash_cam\", \"dual\", \"germ\", \"continue\", \"cold\", \"anonymously\", \"dedicated\", \"uncomfortable\", \"bank\", \"ubering\", \"house\", \"pile\", \"log\", \"outsider\", \"settling\", \"buffet\", \"open\", \"hysterical\", \"announce\", \"anxious\", \"closed\", \"wife\", \"hospital\", \"star\", \"put\", \"lock\", \"pizza\", \"hang\", \"correct\", \"man\", \"patient\", \"listen\", \"shuffle\", \"envelope\", \"male\", \"nearby\", \"cell\", \"blue\", \"phone\", \"hear\", \"report\", \"close\", \"walk\", \"half\", \"park\", \"hand\", \"run\", \"check\", \"hold\", \"enter\", \"voice\", \"laugh\", \"drive\", \"door\", \"app\", \"issue\", \"explain\", \"morning\", \"gig\", \"tip\", \"vegetarian\", \"postpone\", \"restaurant\", \"socialize\", \"ready\", \"card\", \"order\", \"clown\", \"bottle\", \"music\", \"base\", \"payout\", \"proud\", \"additional\", \"bring\", \"deal\", \"imagine\", \"quit\", \"upscale\", \"eat\", \"extend\", \"food\", \"uberhelpumove\", \"bathroom\", \"disbelief\", \"sizeable\", \"toilet\", \"abruptly\", \"customer\", \"delivery\", \"deliver\", \"bag\", \"evening\", \"type\", \"smile\", \"button\", \"remember\", \"bonus\", \"forget\", \"calm\", \"fry\", \"shop\", \"dash\", \"mood\", \"late\", \"sort\", \"drink\", \"experience\", \"care\", \"expect\", \"short\", \"lose\", \"complete\", \"big\", \"support\", \"wait\", \"time\", \"service\", \"explain\", \"pay\", \"word\", \"book\", \"record\", \"trip\", \"attend\", \"problably\", \"ping\", \"buck\", \"rational\", \"receive\", \"fare\", \"show\", \"build\", \"fairly\", \"mile\", \"planning\", \"signal\", \"limit\", \"frequent\", \"include\", \"hazard\", \"job\", \"psychology\", \"rest\", \"taxi\", \"festival\", \"midnight\", \"multipli\", \"past\", \"surge\", \"vibe\", \"set\", \"hotel\", \"fee\", \"gas\", \"pm\", \"fast\", \"bar\", \"response\", \"online\", \"amount\", \"weekend\", \"screen\", \"suck\", \"schedule\", \"travel\", \"payment\", \"immediately\", \"hour\", \"pay\", \"destination\", \"normal\", \"confirm\", \"app\", \"minute\", \"time\", \"end\", \"area\", \"ride\", \"accept\", \"total\", \"worker\", \"college\", \"school\", \"couple\", \"night\", \"party\", \"baby\", \"route\", \"sad\", \"mentally\", \"flat\", \"language\", \"loud\", \"win\", \"witness\", \"girl\", \"marry\", \"verbally\", \"boy\", \"fill\", \"disappear\", \"teen\", \"boyfriend\", \"cry\", \"disgusting\", \"crack\", \"arrest\", \"fix\", \"restroom\", \"graduate\", \"call\", \"great\", \"kid\", \"drunk\", \"stay\", \"die\", \"plan\", \"tire\", \"chinese\", \"worry\", \"mom\", \"spot\", \"student\", \"super\", \"min\", \"mother\", \"wave\", \"dinner\", \"guy\", \"work\", \"answer\", \"question\", \"follow\", \"hope\", \"offer\", \"add\", \"meet\", \"money\", \"good\", \"store\", \"realize\", \"pick\", \"total\", \"free\", \"sit\", \"animal\", \"mass\", \"tear\", \"insurance\", \"tree\", \"seat\", \"participation\", \"client\", \"degree\", \"huge\", \"blood\", \"load\", \"rolling\", \"stand\", \"umm\", \"nice\", \"civic\", \"bolt\", \"fine\", \"quest\", \"warm\", \"average\", \"credit\", \"apartment\", \"cab\", \"holiday\", \"physically\", \"aggravation\", \"pour\", \"dog\", \"jump\", \"law\", \"rider\", \"stupid\", \"brake\", \"body\", \"speak\", \"clean\", \"train\", \"inspection\", \"respect\", \"quickly\", \"angry\", \"dirty\", \"step\", \"chill\", \"happy\", \"car\", \"drop\", \"enjoy\", \"carry\", \"hit\", \"pass\", \"family\", \"service\", \"stop\", \"good\", \"bad\", \"wrong\", \"feeling\", \"awestruck\", \"earth\", \"emotion\", \"future\", \"meat\", \"movie\", \"outline\", \"passionate\", \"persuasion\", \"population\", \"religious\", \"shed\", \"strike\", \"study\", \"suffer\", \"unborn\", \"vegan\", \"discuss\", \"early\", \"bizarre\", \"social\", \"entire\", \"sick\", \"sneeze\", \"virus\", \"afternoon\", \"classical\", \"charge\", \"climate\", \"rate\", \"buy\", \"stock\", \"safe\", \"stuff\", \"air\", \"transport\", \"rideshare\", \"lie\", \"pandemic\", \"cost\", \"return\", \"treat\", \"black\", \"medical\", \"item\", \"price\", \"sell\", \"steal\", \"promise\", \"dollar\", \"shut\", \"begin\", \"terrible\", \"ago\", \"low\", \"city\", \"break\", \"white\", \"market\", \"cash\", \"understand\", \"number\", \"high\", \"week\", \"demand\", \"day\"], \"Freq\": [313.0, 183.0, 168.0, 207.0, 188.0, 132.0, 130.0, 116.0, 111.0, 118.0, 103.0, 272.0, 143.0, 110.0, 118.0, 82.0, 78.0, 82.0, 77.0, 77.0, 86.0, 133.0, 73.0, 72.0, 81.0, 101.0, 100.0, 84.0, 62.0, 63.0, 11.17223721956766, 1.117223721956766, 6.703342331740595, 183.22469040090962, 2.234447443913532, 8.937789775654128, 2.234447443913532, 42.454501434357105, 20.110026995221787, 58.09563354175182, 54.74396237588152, 20.110026995221787, 3.3516711658702976, 7.820566053697362, 17.875579551308256, 1.117223721956766, 2.234447443913532, 4.468894887827064, 1.117223721956766, 39.102830268486805, 3.3516711658702976, 1.117223721956766, 1.117223721956766, 1.117223721956766, 1.117223721956766, 5.58611860978383, 10.055013497610894, 1.117223721956766, 2.234447443913532, 15.641132107394723, 53.62673865392476, 45.806172600227406, 23.461698161092084, 23.461698161092084, 21.227250717178553, 21.227250717178553, 21.227250717178553, 17.875579551308256, 16.75835582935149, 16.75835582935149, 14.523908385437956, 14.523908385437956, 13.40668466348119, 12.289460941524425, 11.17223721956766, 11.17223721956766, 10.055013497610894, 10.055013497610894, 10.055013497610894, 53.62673865392476, 58.09563354175182, 270.36814071353734, 155.29409735199047, 33.51671165870298, 138.53574152263897, 100.55013497610894, 21.227250717178553, 41.337277712400336, 26.81336932696238, 20.110026995221787, 16.75835582935149, 16.75835582935149, 7.8090201457550235, 11.155743065364318, 130.52219386476253, 1.1155743065364319, 1.1155743065364319, 5.577871532682159, 1.1155743065364319, 1.1155743065364319, 11.155743065364318, 15.618040291510047, 1.1155743065364319, 14.502465984973615, 1.1155743065364319, 22.311486130728635, 3.3467229196092956, 2.2311486130728637, 62.47216116604019, 26.773783356874365, 17.84918890458291, 15.618040291510047, 51.31641810067586, 25.65820905033793, 11.155743065364318, 6.693445839218591, 14.502465984973615, 2.2311486130728637, 1.1155743065364319, 1.1155743065364319, 1.1155743065364319, 55.77871532682159, 63.58773547257662, 41.276249341847986, 40.160675035311556, 40.160675035311556, 34.58280350262939, 29.00493196994723, 26.773783356874365, 24.5426347438015, 23.42706043726507, 22.311486130728635, 20.080337517655778, 20.080337517655778, 20.080337517655778, 18.964763211119344, 15.618040291510047, 15.618040291510047, 14.502465984973615, 13.386891678437182, 69.16560700525878, 34.58280350262939, 20.080337517655778, 82.55249868369597, 47.96969518106657, 32.35165488955652, 39.04510072877512, 47.96969518106657, 20.080337517655778, 19.47162983672453, 6.872339942373364, 9.163119923164485, 1.1453899903955607, 13.744679884746729, 20.617019827120092, 10.308509913560046, 1.1453899903955607, 1.1453899903955607, 9.163119923164485, 20.617019827120092, 10.308509913560046, 4.581559961582243, 13.744679884746729, 1.1453899903955607, 1.1453899903955607, 30.925529740680144, 20.617019827120092, 2.2907799807911213, 4.581559961582243, 4.581559961582243, 1.1453899903955607, 1.1453899903955607, 40.08864966384463, 9.163119923164485, 10.308509913560046, 1.1453899903955607, 82.46807930848037, 1.1453899903955607, 3.436169971186682, 46.96098960621799, 32.070919731075705, 22.907799807911218, 22.907799807911218, 17.180849855933413, 17.180849855933413, 17.180849855933413, 16.035459865537852, 16.035459865537852, 13.744679884746729, 12.59928989435117, 12.59928989435117, 12.59928989435117, 12.59928989435117, 12.59928989435117, 12.59928989435117, 12.59928989435117, 12.59928989435117, 11.453899903955609, 11.453899903955609, 11.453899903955609, 38.94325967344906, 34.36169971186683, 26.343969779097897, 36.65247969265794, 18.32623984632897, 29.780139750284583, 26.343969779097897, 46.96098960621799, 25.19857978870234, 16.035459865537852, 16.035459865537852, 21.762409817515657, 26.343969779097897, 36.65247969265794, 43.524819635031314, 49.251769587009115, 25.19857978870234, 51.54254956780024, 22.907799807911218, 27.489359769493458, 20.617019827120092, 16.16204700223433, 8.081023501117166, 5.77215964365512, 1.1544319287310236, 2.3088638574620473, 11.54431928731024, 17.316478930965356, 39.250685576854806, 111.9798970869093, 13.853183144772286, 2.3088638574620473, 1.1544319287310236, 1.1544319287310236, 2.3088638574620473, 1.1544319287310236, 34.63295786193071, 20.77977471715843, 19.625342788427403, 1.1544319287310236, 18.470910859696378, 6.926591572386143, 10.389887358579214, 5.77215964365512, 4.6177277149240945, 9.235455429848189, 10.389887358579214, 6.926591572386143, 2.3088638574620473, 21.934206645889454, 34.63295786193071, 57.721596436551195, 33.47852593319969, 28.860798218275598, 28.860798218275598, 23.08863857462048, 23.08863857462048, 21.934206645889454, 19.625342788427403, 18.470910859696378, 13.853183144772286, 13.853183144772286, 13.853183144772286, 13.853183144772286, 12.698751216041261, 12.698751216041261, 11.54431928731024, 11.54431928731024, 11.54431928731024, 77.3469392249786, 30.015230147006616, 57.721596436551195, 15.007615073503308, 19.625342788427403, 100.43557779959907, 23.08863857462048, 25.397502432082522, 33.47852593319969, 15.007615073503308, 16.16204700223433, 16.16204700223433, 15.728308156505625, 11.234505826075445, 14.604857573898078, 19.098659904328255, 16.85175873911317, 7.864154078252812, 26.962813982581068, 29.209715147796157, 4.493802330430178, 10.1110552434679, 2.246901165215089, 1.1234505826075445, 28.08626456518861, 6.740703495645267, 3.3703517478226335, 5.6172529130377225, 10.1110552434679, 3.3703517478226335, 2.246901165215089, 32.58006689561879, 7.864154078252812, 12.35795640868299, 1.1234505826075445, 1.1234505826075445, 1.1234505826075445, 37.07386922604897, 2.246901165215089, 4.493802330430178, 2.246901165215089, 5.6172529130377225, 43.81457272169424, 29.209715147796157, 22.46901165215089, 21.345561069543344, 19.098659904328255, 17.975209321720712, 17.975209321720712, 15.728308156505625, 15.728308156505625, 14.604857573898078, 14.604857573898078, 13.481406991290534, 13.481406991290534, 11.234505826075445, 10.1110552434679, 10.1110552434679, 8.987604660860356, 114.59195942596955, 55.04907854776968, 32.58006689561879, 59.54288087819986, 79.76499136513566, 24.71591281736598, 34.82696806083388, 21.345561069543344, 60.6663314608074, 37.07386922604897, 26.962813982581068, 22.46901165215089, 19.098659904328255, 19.098659904328255, 47.184924469516865, 17.975209321720712, 44.93802330430178, 22.46901165215089, 23.592462234758433, 21.345561069543344, 8.882359795392496, 132.12510195646337, 1.110294974424062, 1.110294974424062, 59.95592861889934, 1.110294974424062, 33.308849232721855, 14.433834667512805, 116.58097231452649, 3.3308849232721855, 8.882359795392496, 3.3308849232721855, 6.661769846544371, 3.3308849232721855, 4.441179897696248, 2.220589948848124, 32.1985542582978, 15.544129641936866, 13.323539693088742, 7.772064820968433, 4.441179897696248, 43.301504002538415, 5.55147487212031, 77.72064820968434, 1.110294974424062, 11.10294974424062, 1.110294974424062, 1.110294974424062, 3.3308849232721855, 2.220589948848124, 77.72064820968434, 73.27946831198808, 38.86032410484217, 35.529439181569984, 18.875014565209053, 17.764719590784992, 16.654424616360927, 13.323539693088742, 13.323539693088742, 13.323539693088742, 12.213244718664681, 9.992654769816557, 9.992654769816557, 9.992654769816557, 8.882359795392496, 7.772064820968433, 22.20589948848124, 18.875014565209053, 17.764719590784992, 27.757374360601546, 32.1985542582978, 25.536784411753423, 23.3161944629053, 29.97796430944967, 14.433834667512805, 19.985309539633114, 21.095604514057175, 43.301504002538415, 39.97061907926623, 19.985309539633114, 19.985309539633114, 26.647079386177484, 18.875014565209053, 14.935540990592253, 9.601419208237877, 168.55824832239827, 1.0668243564708753, 1.0668243564708753, 72.54405624001951, 20.269662772946628, 2.1336487129417505, 30.93790633765538, 46.94027168471851, 34.13837940706801, 8.534594851767002, 1.0668243564708753, 82.14547544825739, 1.0668243564708753, 13.868716634121377, 8.534594851767002, 1.0668243564708753, 3.2004730694126255, 4.267297425883501, 5.3341217823543765, 1.0668243564708753, 16.00236534706313, 28.80425762471363, 1.0668243564708753, 7.467770495296127, 1.0668243564708753, 12.801892277650502, 60.80898831883989, 1.0668243564708753, 35.20520376353888, 29.871081981184506, 28.80425762471363, 22.40331148588838, 20.269662772946628, 17.069189703534004, 17.069189703534004, 16.00236534706313, 16.00236534706313, 14.935540990592253, 13.868716634121377, 11.735067921179628, 10.668243564708753, 10.668243564708753, 10.668243564708753, 9.601419208237877, 29.871081981184506, 75.74452930943214, 84.27912416119914, 35.20520376353888, 14.935540990592253, 14.935540990592253, 56.54169089295639, 69.34358317060689, 71.47723188354864, 24.53696019883013, 28.80425762471363, 42.67297425883501, 20.269662772946628, 16.00236534706313, 19.06553822432816, 12.33652473338881, 19.06553822432816, 48.22459668506535, 103.17820686107005, 14.579529230368594, 14.579529230368594, 15.701031478858486, 7.850515739429243, 5.607511242449459, 5.607511242449459, 5.607511242449459, 5.607511242449459, 5.607511242449459, 5.607511242449459, 15.701031478858486, 5.607511242449459, 5.607511242449459, 15.701031478858486, 11.215022484898919, 7.850515739429243, 5.607511242449459, 14.579529230368594, 7.850515739429243, 7.850515739429243, 5.607511242449459, 7.850515739429243, 5.607511242449459, 5.607511242449459, 5.607511242449459, 42.617085442615895, 40.37408094563611, 40.37408094563611, 35.888071951676544, 34.766569703186654, 20.187040472818055, 16.82253372734838, 16.82253372734838, 13.458026981878703, 13.458026981878703, 13.458026981878703, 13.458026981878703, 10.093520236409027, 10.093520236409027, 10.093520236409027, 10.093520236409027, 10.093520236409027, 8.972017987919136, 47.10309443657546, 34.766569703186654, 32.52356520620686, 28.037556212247296, 39.25257869714622, 39.25257869714622, 31.40206295771697, 16.82253372734838, 28.037556212247296, 34.766569703186654, 62.80412591543394, 16.82253372734838, 19.06553822432816, 25.794551715267513, 16.82253372734838, 15.701031478858486, 59.09753609827852, 13.637892945756581, 2.272982157626097, 5.682455394065242, 18.183857261008775, 5.682455394065242, 78.41788443810034, 1.1364910788130484, 4.545964315252194, 4.545964315252194, 13.637892945756581, 3.4094732364391453, 25.002803733887063, 1.1364910788130484, 35.231223443204506, 1.1364910788130484, 62.507009334717665, 2.272982157626097, 3.4094732364391453, 31.821750206765355, 4.545964315252194, 4.545964315252194, 3.4094732364391453, 9.091928630504388, 20.45683941863487, 18.183857261008775, 10.228419709317436, 4.545964315252194, 1.1364910788130484, 5.682455394065242, 25.002803733887063, 22.729821576260967, 20.45683941863487, 20.45683941863487, 19.320348339821823, 18.183857261008775, 18.183857261008775, 17.047366182195727, 13.637892945756581, 11.364910788130484, 11.364910788130484, 10.228419709317436, 10.228419709317436, 10.228419709317436, 10.228419709317436, 10.228419709317436, 10.228419709317436, 27.275785891513163, 51.14209854658718, 72.7354290440351, 20.45683941863487, 18.183857261008775, 55.68806286183938, 31.821750206765355, 20.45683941863487, 22.729821576260967, 35.231223443204506, 21.593330497447923, 19.320348339821823, 15.910875103382677, 9.186890181057043, 1.1483612726321304, 2.296722545264261, 4.593445090528522, 10.335251453689175, 3.445083817896391, 12.631973998953434, 2.296722545264261, 2.296722545264261, 1.1483612726321304, 4.593445090528522, 2.296722545264261, 4.593445090528522, 4.593445090528522, 5.741806363160652, 6.890167635792782, 2.296722545264261, 3.445083817896391, 12.631973998953434, 31.00575436106752, 2.296722545264261, 6.890167635792782, 18.373780362114086, 6.890167635792782, 1.1483612726321304, 19.522141634746216, 10.335251453689175, 1.1483612726321304, 18.373780362114086, 2.296722545264261, 36.74756072422817, 32.154115633699654, 25.263947997906868, 22.96722545264261, 21.818864180010475, 20.67050290737835, 20.67050290737835, 19.522141634746216, 19.522141634746216, 17.225419089481957, 16.077057816849827, 16.077057816849827, 14.928696544217695, 14.928696544217695, 14.928696544217695, 14.928696544217695, 13.780335271585564, 13.780335271585564, 13.780335271585564, 13.780335271585564, 13.780335271585564, 13.780335271585564, 13.780335271585564, 11.483612726321304, 31.00575436106752, 26.412309270539, 32.154115633699654, 28.70903181580326, 21.818864180010475, 19.522141634746216, 28.70903181580326, 21.818864180010475, 33.30247690633178, 27.560670543171128, 21.818864180010475, 17.225419089481957, 18.373780362114086], \"Total\": [313.0, 183.0, 168.0, 207.0, 188.0, 132.0, 130.0, 116.0, 111.0, 118.0, 103.0, 272.0, 143.0, 110.0, 118.0, 82.0, 78.0, 82.0, 77.0, 77.0, 86.0, 133.0, 73.0, 72.0, 81.0, 101.0, 100.0, 84.0, 62.0, 63.0, 11.17223721956766, 1.117223721956766, 6.703342331740595, 183.22469040090962, 2.234447443913532, 8.937789775654128, 2.234447443913532, 42.454501434357105, 20.110026995221787, 58.09563354175182, 54.74396237588152, 20.110026995221787, 3.3516711658702976, 7.820566053697362, 17.875579551308256, 1.117223721956766, 2.234447443913532, 4.468894887827064, 1.117223721956766, 39.102830268486805, 3.3516711658702976, 1.117223721956766, 1.117223721956766, 1.117223721956766, 1.117223721956766, 5.58611860978383, 10.055013497610894, 1.117223721956766, 2.234447443913532, 15.641132107394723, 53.62673865392476, 45.806172600227406, 23.461698161092084, 23.461698161092084, 21.227250717178553, 21.227250717178553, 21.227250717178553, 17.875579551308256, 16.75835582935149, 16.75835582935149, 14.523908385437956, 14.523908385437956, 13.40668466348119, 12.289460941524425, 11.17223721956766, 11.17223721956766, 10.055013497610894, 10.055013497610894, 10.055013497610894, 54.737033628348826, 60.39235608701608, 313.0411149723724, 188.77262328519015, 39.24366161068079, 207.87932469324585, 143.85163897864734, 24.636723953617697, 61.60694048534697, 39.17132573564537, 25.882186638876906, 36.93705424529436, 41.29531602818162, 7.8090201457550235, 11.155743065364318, 130.52219386476253, 1.1155743065364319, 1.1155743065364319, 5.577871532682159, 1.1155743065364319, 1.1155743065364319, 11.155743065364318, 15.618040291510047, 1.1155743065364319, 14.502465984973615, 1.1155743065364319, 22.311486130728635, 3.3467229196092956, 2.2311486130728637, 62.47216116604019, 26.773783356874365, 17.84918890458291, 15.618040291510047, 51.31641810067586, 25.65820905033793, 11.155743065364318, 6.693445839218591, 14.502465984973615, 2.2311486130728637, 1.1155743065364319, 1.1155743065364319, 1.1155743065364319, 55.77871532682159, 63.58773547257662, 41.276249341847986, 40.160675035311556, 40.160675035311556, 34.58280350262939, 29.00493196994723, 26.773783356874365, 24.5426347438015, 23.42706043726507, 22.311486130728635, 20.080337517655778, 20.080337517655778, 20.080337517655778, 18.964763211119344, 15.618040291510047, 15.618040291510047, 14.502465984973615, 13.386891678437182, 76.02310114406194, 40.19031474507885, 21.234769446386803, 118.89401710132455, 75.45905495056003, 43.58616071563196, 61.9902125040518, 91.49451481609788, 24.66189747923802, 19.47162983672453, 6.872339942373364, 9.163119923164485, 1.1453899903955607, 13.744679884746729, 20.617019827120092, 10.308509913560046, 1.1453899903955607, 1.1453899903955607, 9.163119923164485, 20.617019827120092, 10.308509913560046, 4.581559961582243, 13.744679884746729, 1.1453899903955607, 1.1453899903955607, 30.925529740680144, 20.617019827120092, 2.2907799807911213, 4.581559961582243, 4.581559961582243, 1.1453899903955607, 1.1453899903955607, 40.08864966384463, 9.163119923164485, 10.308509913560046, 1.1453899903955607, 82.46807930848037, 1.1453899903955607, 3.436169971186682, 46.96098960621799, 32.070919731075705, 22.907799807911218, 22.907799807911218, 17.180849855933413, 17.180849855933413, 17.180849855933413, 16.035459865537852, 16.035459865537852, 13.744679884746729, 12.59928989435117, 12.59928989435117, 12.59928989435117, 12.59928989435117, 12.59928989435117, 12.59928989435117, 12.59928989435117, 12.59928989435117, 11.453899903955609, 11.453899903955609, 11.453899903955609, 40.06048339540583, 36.63170594713428, 28.58697427607768, 41.19844400791013, 19.449690428936513, 35.33161462240489, 30.81286466692496, 63.123036608452324, 29.66087701484807, 17.151034172074283, 17.189891794268878, 27.340281350197817, 37.01221334380665, 65.45673731737158, 91.49451481609788, 133.64922599989097, 42.05033852781551, 272.35057278250565, 41.782814373120274, 75.45905495056003, 31.84364937712442, 16.16204700223433, 8.081023501117166, 5.77215964365512, 1.1544319287310236, 2.3088638574620473, 11.54431928731024, 17.316478930965356, 39.250685576854806, 111.9798970869093, 13.853183144772286, 2.3088638574620473, 1.1544319287310236, 1.1544319287310236, 2.3088638574620473, 1.1544319287310236, 34.63295786193071, 20.77977471715843, 19.625342788427403, 1.1544319287310236, 18.470910859696378, 6.926591572386143, 10.389887358579214, 5.77215964365512, 4.6177277149240945, 9.235455429848189, 10.389887358579214, 6.926591572386143, 2.3088638574620473, 21.934206645889454, 34.63295786193071, 57.721596436551195, 33.47852593319969, 28.860798218275598, 28.860798218275598, 23.08863857462048, 23.08863857462048, 21.934206645889454, 19.625342788427403, 18.470910859696378, 13.853183144772286, 13.853183144772286, 13.853183144772286, 13.853183144772286, 12.698751216041261, 12.698751216041261, 11.54431928731024, 11.54431928731024, 11.54431928731024, 100.11237138269681, 34.596790108588856, 83.51614815181871, 16.11791004792737, 22.825815857840027, 272.35057278250565, 30.939154314049723, 38.02947643103596, 188.77262328519015, 20.73456502548111, 46.140011311684006, 63.123036608452324, 15.728308156505625, 11.234505826075445, 14.604857573898078, 19.098659904328255, 16.85175873911317, 7.864154078252812, 26.962813982581068, 29.209715147796157, 4.493802330430178, 10.1110552434679, 2.246901165215089, 1.1234505826075445, 28.08626456518861, 6.740703495645267, 3.3703517478226335, 5.6172529130377225, 10.1110552434679, 3.3703517478226335, 2.246901165215089, 32.58006689561879, 7.864154078252812, 12.35795640868299, 1.1234505826075445, 1.1234505826075445, 1.1234505826075445, 37.07386922604897, 2.246901165215089, 4.493802330430178, 2.246901165215089, 5.6172529130377225, 43.81457272169424, 29.209715147796157, 22.46901165215089, 21.345561069543344, 19.098659904328255, 17.975209321720712, 17.975209321720712, 15.728308156505625, 15.728308156505625, 14.604857573898078, 14.604857573898078, 13.481406991290534, 13.481406991290534, 11.234505826075445, 10.1110552434679, 10.1110552434679, 8.987604660860356, 118.00143266240869, 57.269668496617804, 33.71655797443184, 62.95235411463901, 86.45843720435425, 25.837415065855872, 38.173690980443176, 22.490951059938904, 71.64883756121489, 41.691596940973064, 30.314485148451364, 24.60266036509264, 20.214234210864685, 20.25309183305928, 68.66068138416449, 19.11170040053376, 101.47971419725818, 30.550035153268055, 44.7142628532046, 36.281102060135595, 8.882359795392496, 132.12510195646337, 1.110294974424062, 1.110294974424062, 59.95592861889934, 1.110294974424062, 33.308849232721855, 14.433834667512805, 116.58097231452649, 3.3308849232721855, 8.882359795392496, 3.3308849232721855, 6.661769846544371, 3.3308849232721855, 4.441179897696248, 2.220589948848124, 32.1985542582978, 15.544129641936866, 13.323539693088742, 7.772064820968433, 4.441179897696248, 43.301504002538415, 5.55147487212031, 77.72064820968434, 1.110294974424062, 11.10294974424062, 1.110294974424062, 1.110294974424062, 3.3308849232721855, 2.220589948848124, 77.72064820968434, 73.27946831198808, 38.86032410484217, 35.529439181569984, 18.875014565209053, 17.764719590784992, 16.654424616360927, 13.323539693088742, 13.323539693088742, 13.323539693088742, 12.213244718664681, 9.992654769816557, 9.992654769816557, 9.992654769816557, 8.882359795392496, 7.772064820968433, 23.329350071088783, 20.02944649394008, 18.91308086341712, 32.024671786485044, 40.25245194440858, 32.42695204754621, 31.180348541158114, 46.140011311684006, 16.680735832727894, 27.79432968538814, 32.639923801367416, 143.85163897864734, 272.35057278250565, 42.71513111589408, 44.7142628532046, 110.92620354737662, 41.782814373120274, 14.935540990592253, 9.601419208237877, 168.55824832239827, 1.0668243564708753, 1.0668243564708753, 72.54405624001951, 20.269662772946628, 2.1336487129417505, 30.93790633765538, 46.94027168471851, 34.13837940706801, 8.534594851767002, 1.0668243564708753, 82.14547544825739, 1.0668243564708753, 13.868716634121377, 8.534594851767002, 1.0668243564708753, 3.2004730694126255, 4.267297425883501, 5.3341217823543765, 1.0668243564708753, 16.00236534706313, 28.80425762471363, 1.0668243564708753, 7.467770495296127, 1.0668243564708753, 12.801892277650502, 60.80898831883989, 1.0668243564708753, 35.20520376353888, 29.871081981184506, 28.80425762471363, 22.40331148588838, 20.269662772946628, 17.069189703534004, 17.069189703534004, 16.00236534706313, 16.00236534706313, 14.935540990592253, 13.868716634121377, 11.735067921179628, 10.668243564708753, 10.668243564708753, 10.668243564708753, 9.601419208237877, 30.9925842296744, 84.7673992158158, 110.92620354737662, 42.02415023641717, 16.045835965016316, 16.089972919323277, 101.47971419725818, 207.87932469324585, 272.35057278250565, 41.29531602818162, 65.45673731737158, 313.0411149723724, 61.60694048534697, 32.824899074411505, 19.06553822432816, 12.33652473338881, 19.06553822432816, 48.22459668506535, 103.17820686107005, 14.579529230368594, 14.579529230368594, 15.701031478858486, 7.850515739429243, 5.607511242449459, 5.607511242449459, 5.607511242449459, 5.607511242449459, 5.607511242449459, 5.607511242449459, 15.701031478858486, 5.607511242449459, 5.607511242449459, 15.701031478858486, 11.215022484898919, 7.850515739429243, 5.607511242449459, 14.579529230368594, 7.850515739429243, 7.850515739429243, 5.607511242449459, 7.850515739429243, 5.607511242449459, 5.607511242449459, 5.607511242449459, 42.617085442615895, 40.37408094563611, 40.37408094563611, 35.888071951676544, 34.766569703186654, 20.187040472818055, 16.82253372734838, 16.82253372734838, 13.458026981878703, 13.458026981878703, 13.458026981878703, 13.458026981878703, 10.093520236409027, 10.093520236409027, 10.093520236409027, 10.093520236409027, 10.093520236409027, 8.972017987919136, 48.22031815853223, 35.914930975818784, 33.590389562677736, 29.15477993420406, 41.49947986236131, 42.6887486683329, 35.81759273986734, 17.97089499998051, 34.92693957785918, 48.52313471687966, 133.64922599989097, 20.2499478137055, 25.75898406354675, 83.51614815181871, 32.824899074411505, 27.914276197523165, 59.09753609827852, 13.637892945756581, 2.272982157626097, 5.682455394065242, 18.183857261008775, 5.682455394065242, 78.41788443810034, 1.1364910788130484, 4.545964315252194, 4.545964315252194, 13.637892945756581, 3.4094732364391453, 25.002803733887063, 1.1364910788130484, 35.231223443204506, 1.1364910788130484, 62.507009334717665, 2.272982157626097, 3.4094732364391453, 31.821750206765355, 4.545964315252194, 4.545964315252194, 3.4094732364391453, 9.091928630504388, 20.45683941863487, 18.183857261008775, 10.228419709317436, 4.545964315252194, 1.1364910788130484, 5.682455394065242, 25.002803733887063, 22.729821576260967, 20.45683941863487, 20.45683941863487, 19.320348339821823, 18.183857261008775, 18.183857261008775, 17.047366182195727, 13.637892945756581, 11.364910788130484, 11.364910788130484, 10.228419709317436, 10.228419709317436, 10.228419709317436, 10.228419709317436, 10.228419709317436, 10.228419709317436, 28.421175881908724, 55.60439577273291, 81.61778883942759, 21.574063140591637, 19.3382891897398, 67.11214708193586, 42.1302601203254, 31.93786513759687, 42.71513111589408, 118.89401710132455, 133.64922599989097, 100.11237138269681, 37.41134290354342, 9.186890181057043, 1.1483612726321304, 2.296722545264261, 4.593445090528522, 10.335251453689175, 3.445083817896391, 12.631973998953434, 2.296722545264261, 2.296722545264261, 1.1483612726321304, 4.593445090528522, 2.296722545264261, 4.593445090528522, 4.593445090528522, 5.741806363160652, 6.890167635792782, 2.296722545264261, 3.445083817896391, 12.631973998953434, 31.00575436106752, 2.296722545264261, 6.890167635792782, 18.373780362114086, 6.890167635792782, 1.1483612726321304, 19.522141634746216, 10.335251453689175, 1.1483612726321304, 18.373780362114086, 2.296722545264261, 36.74756072422817, 32.154115633699654, 25.263947997906868, 22.96722545264261, 21.818864180010475, 20.67050290737835, 20.67050290737835, 19.522141634746216, 19.522141634746216, 17.225419089481957, 16.077057816849827, 16.077057816849827, 14.928696544217695, 14.928696544217695, 14.928696544217695, 14.928696544217695, 13.780335271585564, 13.780335271585564, 13.780335271585564, 13.780335271585564, 13.780335271585564, 13.780335271585564, 13.780335271585564, 11.483612726321304, 32.15114435146308, 27.557699260934562, 34.42709779132575, 30.95593298101835, 22.94036642850037, 20.63936535670298, 33.25499613105546, 24.03107852687691, 50.48332676226519, 38.93600481320205, 29.639430233707838, 20.595770837304592, 29.73869115024457], \"Category\": [\"Default\", \"Default\", \"Default\", \"Default\", \"Default\", \"Default\", \"Default\", \"Default\", \"Default\", \"Default\", \"Default\", \"Default\", \"Default\", \"Default\", \"Default\", \"Default\", \"Default\", \"Default\", \"Default\", \"Default\", \"Default\", \"Default\", \"Default\", \"Default\", \"Default\", \"Default\", \"Default\", \"Default\", \"Default\", \"Default\", \"Topic1\", \"Topic1\", \"Topic1\", \"Topic1\", \"Topic1\", \"Topic1\", \"Topic1\", \"Topic1\", \"Topic1\", \"Topic1\", \"Topic1\", \"Topic1\", \"Topic1\", \"Topic1\", \"Topic1\", \"Topic1\", \"Topic1\", \"Topic1\", \"Topic1\", \"Topic1\", \"Topic1\", \"Topic1\", \"Topic1\", \"Topic1\", \"Topic1\", \"Topic1\", \"Topic1\", \"Topic1\", \"Topic1\", \"Topic1\", \"Topic1\", \"Topic1\", \"Topic1\", \"Topic1\", \"Topic1\", \"Topic1\", \"Topic1\", \"Topic1\", \"Topic1\", \"Topic1\", \"Topic1\", \"Topic1\", \"Topic1\", \"Topic1\", \"Topic1\", \"Topic1\", \"Topic1\", \"Topic1\", \"Topic1\", \"Topic1\", \"Topic1\", \"Topic1\", \"Topic1\", \"Topic1\", \"Topic1\", \"Topic1\", \"Topic1\", \"Topic1\", \"Topic1\", \"Topic1\", \"Topic1\", \"Topic1\", \"Topic2\", \"Topic2\", \"Topic2\", \"Topic2\", \"Topic2\", \"Topic2\", \"Topic2\", \"Topic2\", \"Topic2\", \"Topic2\", \"Topic2\", \"Topic2\", \"Topic2\", \"Topic2\", \"Topic2\", \"Topic2\", \"Topic2\", \"Topic2\", \"Topic2\", \"Topic2\", \"Topic2\", \"Topic2\", \"Topic2\", \"Topic2\", \"Topic2\", \"Topic2\", \"Topic2\", \"Topic2\", \"Topic2\", \"Topic2\", \"Topic2\", \"Topic2\", \"Topic2\", \"Topic2\", \"Topic2\", \"Topic2\", \"Topic2\", \"Topic2\", \"Topic2\", \"Topic2\", \"Topic2\", \"Topic2\", \"Topic2\", \"Topic2\", \"Topic2\", \"Topic2\", \"Topic2\", \"Topic2\", \"Topic2\", \"Topic2\", \"Topic2\", \"Topic2\", \"Topic2\", \"Topic2\", \"Topic2\", \"Topic2\", \"Topic2\", \"Topic3\", \"Topic3\", \"Topic3\", \"Topic3\", \"Topic3\", \"Topic3\", \"Topic3\", \"Topic3\", \"Topic3\", \"Topic3\", \"Topic3\", \"Topic3\", \"Topic3\", \"Topic3\", \"Topic3\", \"Topic3\", \"Topic3\", \"Topic3\", \"Topic3\", \"Topic3\", \"Topic3\", \"Topic3\", \"Topic3\", \"Topic3\", \"Topic3\", \"Topic3\", \"Topic3\", \"Topic3\", \"Topic3\", \"Topic3\", \"Topic3\", \"Topic3\", \"Topic3\", \"Topic3\", \"Topic3\", \"Topic3\", \"Topic3\", \"Topic3\", \"Topic3\", \"Topic3\", \"Topic3\", \"Topic3\", \"Topic3\", \"Topic3\", \"Topic3\", \"Topic3\", \"Topic3\", \"Topic3\", \"Topic3\", \"Topic3\", \"Topic3\", \"Topic3\", \"Topic3\", \"Topic3\", \"Topic3\", \"Topic3\", \"Topic3\", \"Topic3\", \"Topic3\", \"Topic3\", \"Topic3\", \"Topic3\", \"Topic3\", \"Topic3\", \"Topic3\", \"Topic3\", \"Topic3\", \"Topic3\", \"Topic3\", \"Topic3\", \"Topic3\", \"Topic3\", \"Topic4\", \"Topic4\", \"Topic4\", \"Topic4\", \"Topic4\", \"Topic4\", \"Topic4\", \"Topic4\", \"Topic4\", \"Topic4\", \"Topic4\", \"Topic4\", \"Topic4\", \"Topic4\", \"Topic4\", \"Topic4\", \"Topic4\", \"Topic4\", \"Topic4\", \"Topic4\", \"Topic4\", \"Topic4\", \"Topic4\", \"Topic4\", \"Topic4\", \"Topic4\", \"Topic4\", \"Topic4\", \"Topic4\", \"Topic4\", \"Topic4\", \"Topic4\", \"Topic4\", \"Topic4\", \"Topic4\", \"Topic4\", \"Topic4\", \"Topic4\", \"Topic4\", \"Topic4\", \"Topic4\", \"Topic4\", \"Topic4\", \"Topic4\", \"Topic4\", \"Topic4\", \"Topic4\", \"Topic4\", \"Topic4\", \"Topic4\", \"Topic4\", \"Topic4\", \"Topic4\", \"Topic4\", \"Topic4\", \"Topic4\", \"Topic4\", \"Topic4\", \"Topic4\", \"Topic4\", \"Topic5\", \"Topic5\", \"Topic5\", \"Topic5\", \"Topic5\", \"Topic5\", \"Topic5\", \"Topic5\", \"Topic5\", \"Topic5\", \"Topic5\", \"Topic5\", \"Topic5\", \"Topic5\", \"Topic5\", \"Topic5\", \"Topic5\", \"Topic5\", \"Topic5\", \"Topic5\", \"Topic5\", \"Topic5\", \"Topic5\", \"Topic5\", \"Topic5\", \"Topic5\", \"Topic5\", \"Topic5\", \"Topic5\", \"Topic5\", \"Topic5\", \"Topic5\", \"Topic5\", \"Topic5\", \"Topic5\", \"Topic5\", \"Topic5\", \"Topic5\", \"Topic5\", \"Topic5\", \"Topic5\", \"Topic5\", \"Topic5\", \"Topic5\", \"Topic5\", \"Topic5\", \"Topic5\", \"Topic5\", \"Topic5\", \"Topic5\", \"Topic5\", \"Topic5\", \"Topic5\", \"Topic5\", \"Topic5\", \"Topic5\", \"Topic5\", \"Topic5\", \"Topic5\", \"Topic5\", \"Topic5\", \"Topic5\", \"Topic5\", \"Topic5\", \"Topic5\", \"Topic5\", \"Topic5\", \"Topic6\", \"Topic6\", \"Topic6\", \"Topic6\", \"Topic6\", \"Topic6\", \"Topic6\", \"Topic6\", \"Topic6\", \"Topic6\", \"Topic6\", \"Topic6\", \"Topic6\", \"Topic6\", \"Topic6\", \"Topic6\", \"Topic6\", \"Topic6\", \"Topic6\", \"Topic6\", \"Topic6\", \"Topic6\", \"Topic6\", \"Topic6\", \"Topic6\", \"Topic6\", \"Topic6\", \"Topic6\", \"Topic6\", \"Topic6\", \"Topic6\", \"Topic6\", \"Topic6\", \"Topic6\", \"Topic6\", \"Topic6\", \"Topic6\", \"Topic6\", \"Topic6\", \"Topic6\", \"Topic6\", \"Topic6\", \"Topic6\", \"Topic6\", \"Topic6\", \"Topic6\", \"Topic6\", \"Topic6\", \"Topic6\", \"Topic6\", \"Topic6\", \"Topic6\", \"Topic6\", \"Topic6\", \"Topic6\", \"Topic6\", \"Topic6\", \"Topic6\", \"Topic6\", \"Topic6\", \"Topic6\", \"Topic6\", \"Topic6\", \"Topic7\", \"Topic7\", \"Topic7\", \"Topic7\", \"Topic7\", \"Topic7\", \"Topic7\", \"Topic7\", \"Topic7\", \"Topic7\", \"Topic7\", \"Topic7\", \"Topic7\", \"Topic7\", \"Topic7\", \"Topic7\", \"Topic7\", \"Topic7\", \"Topic7\", \"Topic7\", \"Topic7\", \"Topic7\", \"Topic7\", \"Topic7\", \"Topic7\", \"Topic7\", \"Topic7\", \"Topic7\", \"Topic7\", \"Topic7\", \"Topic7\", \"Topic7\", \"Topic7\", \"Topic7\", \"Topic7\", \"Topic7\", \"Topic7\", \"Topic7\", \"Topic7\", \"Topic7\", \"Topic7\", \"Topic7\", \"Topic7\", \"Topic7\", \"Topic7\", \"Topic7\", \"Topic7\", \"Topic7\", \"Topic7\", \"Topic7\", \"Topic7\", \"Topic7\", \"Topic7\", \"Topic7\", \"Topic7\", \"Topic7\", \"Topic7\", \"Topic7\", \"Topic7\", \"Topic7\", \"Topic8\", \"Topic8\", \"Topic8\", \"Topic8\", \"Topic8\", \"Topic8\", \"Topic8\", \"Topic8\", \"Topic8\", \"Topic8\", \"Topic8\", \"Topic8\", \"Topic8\", \"Topic8\", \"Topic8\", \"Topic8\", \"Topic8\", \"Topic8\", \"Topic8\", \"Topic8\", \"Topic8\", \"Topic8\", \"Topic8\", \"Topic8\", \"Topic8\", \"Topic8\", \"Topic8\", \"Topic8\", \"Topic8\", \"Topic8\", \"Topic8\", \"Topic8\", \"Topic8\", \"Topic8\", \"Topic8\", \"Topic8\", \"Topic8\", \"Topic8\", \"Topic8\", \"Topic8\", \"Topic8\", \"Topic8\", \"Topic8\", \"Topic8\", \"Topic8\", \"Topic8\", \"Topic8\", \"Topic8\", \"Topic8\", \"Topic8\", \"Topic8\", \"Topic8\", \"Topic8\", \"Topic8\", \"Topic8\", \"Topic8\", \"Topic8\", \"Topic8\", \"Topic8\", \"Topic8\", \"Topic8\", \"Topic8\", \"Topic8\", \"Topic8\", \"Topic9\", \"Topic9\", \"Topic9\", \"Topic9\", \"Topic9\", \"Topic9\", \"Topic9\", \"Topic9\", \"Topic9\", \"Topic9\", \"Topic9\", \"Topic9\", \"Topic9\", \"Topic9\", \"Topic9\", \"Topic9\", \"Topic9\", \"Topic9\", \"Topic9\", \"Topic9\", \"Topic9\", \"Topic9\", \"Topic9\", \"Topic9\", \"Topic9\", \"Topic9\", \"Topic9\", \"Topic9\", \"Topic9\", \"Topic9\", \"Topic9\", \"Topic9\", \"Topic9\", \"Topic9\", \"Topic9\", \"Topic9\", \"Topic9\", \"Topic9\", \"Topic9\", \"Topic9\", \"Topic9\", \"Topic9\", \"Topic9\", \"Topic9\", \"Topic9\", \"Topic9\", \"Topic9\", \"Topic9\", \"Topic9\", \"Topic9\", \"Topic9\", \"Topic9\", \"Topic9\", \"Topic9\", \"Topic9\", \"Topic9\", \"Topic9\", \"Topic9\", \"Topic9\", \"Topic9\", \"Topic10\", \"Topic10\", \"Topic10\", \"Topic10\", \"Topic10\", \"Topic10\", \"Topic10\", \"Topic10\", \"Topic10\", \"Topic10\", \"Topic10\", \"Topic10\", \"Topic10\", \"Topic10\", \"Topic10\", \"Topic10\", \"Topic10\", \"Topic10\", \"Topic10\", \"Topic10\", \"Topic10\", \"Topic10\", \"Topic10\", \"Topic10\", \"Topic10\", \"Topic10\", \"Topic10\", \"Topic10\", \"Topic10\", \"Topic10\", \"Topic10\", \"Topic10\", \"Topic10\", \"Topic10\", \"Topic10\", \"Topic10\", \"Topic10\", \"Topic10\", \"Topic10\", \"Topic10\", \"Topic10\", \"Topic10\", \"Topic10\", \"Topic10\", \"Topic10\", \"Topic10\", \"Topic10\", \"Topic10\", \"Topic10\", \"Topic10\", \"Topic10\", \"Topic10\", \"Topic10\", \"Topic10\", \"Topic10\", \"Topic10\", \"Topic10\", \"Topic10\", \"Topic10\", \"Topic10\", \"Topic10\", \"Topic10\", \"Topic10\", \"Topic10\", \"Topic10\", \"Topic10\", \"Topic10\"], \"logprob\": [30.0, 29.0, 28.0, 27.0, 26.0, 25.0, 24.0, 23.0, 22.0, 21.0, 20.0, 19.0, 18.0, 17.0, 16.0, 15.0, 14.0, 13.0, 12.0, 11.0, 10.0, 9.0, 8.0, 7.0, 6.0, 5.0, 4.0, 3.0, 2.0, 1.0, -5.4267, -7.7293, -5.9375, -2.6294, -7.0361, -5.6499, -7.0361, -4.0917, -4.8389, -3.7781, -3.8375, -4.8389, -6.6307, -5.7834, -4.9567, -7.7293, -7.0361, -6.343, -7.7293, -4.1739, -6.6307, -7.7293, -7.7293, -7.7293, -7.7293, -6.1199, -5.5321, -7.7293, -7.0361, -5.0902, -3.8581, -4.0157, -4.6848, -4.6848, -4.7849, -4.7849, -4.7849, -4.9567, -5.0212, -5.0212, -5.1643, -5.1643, -5.2444, -5.3314, -5.4267, -5.4267, -5.5321, -5.5321, -5.5321, -3.8581, -3.7781, -2.2404, -2.7948, -4.3281, -2.909, -3.2295, -4.7849, -4.1184, -4.5512, -4.8389, -5.0212, -5.0212, -5.7723, -5.4157, -2.9561, -7.7182, -7.7182, -6.1088, -7.7182, -7.7182, -5.4157, -5.0792, -7.7182, -5.1533, -7.7182, -4.7225, -6.6196, -7.0251, -3.6929, -4.5402, -4.9457, -5.0792, -3.8896, -4.5827, -5.4157, -5.9265, -5.1533, -7.0251, -7.7182, -7.7182, -7.7182, -3.8062, -3.6752, -4.1073, -4.1347, -4.1347, -4.2843, -4.4601, -4.5402, -4.6272, -4.6737, -4.7225, -4.8279, -4.8279, -4.8279, -4.885, -5.0792, -5.0792, -5.1533, -5.2333, -3.5911, -4.2843, -4.8279, -3.4142, -3.957, -4.3509, -4.1629, -3.957, -4.8279, -4.8409, -5.8824, -5.5947, -7.6742, -5.1892, -4.7838, -5.4769, -7.6742, -7.6742, -5.5947, -4.7838, -5.4769, -6.2879, -5.1892, -7.6742, -7.6742, -4.3783, -4.7838, -6.981, -6.2879, -6.2879, -7.6742, -7.6742, -4.1188, -5.5947, -5.4769, -7.6742, -3.3975, -7.6742, -6.5755, -3.9606, -4.3419, -4.6784, -4.6784, -4.9661, -4.9661, -4.9661, -5.0351, -5.0351, -5.1892, -5.2763, -5.2763, -5.2763, -5.2763, -5.2763, -5.2763, -5.2763, -5.2763, -5.3716, -5.3716, -5.3716, -4.1478, -4.273, -4.5387, -4.2084, -4.9016, -4.4161, -4.5387, -3.9606, -4.5831, -5.0351, -5.0351, -4.7297, -4.5387, -4.2084, -4.0366, -3.913, -4.5831, -3.8675, -4.6784, -4.4961, -4.7838, -4.9987, -5.6918, -6.0283, -7.6377, -6.9446, -5.3351, -4.9297, -4.1114, -3.063, -5.1528, -6.9446, -7.6377, -7.6377, -6.9446, -7.6377, -4.2365, -4.7473, -4.8045, -7.6377, -4.8651, -5.846, -5.4405, -6.0283, -6.2514, -5.5583, -5.4405, -5.846, -6.9446, -4.6933, -4.2365, -3.7257, -4.2704, -4.4188, -4.4188, -4.642, -4.642, -4.6933, -4.8045, -4.8651, -5.1528, -5.1528, -5.1528, -5.1528, -5.2398, -5.2398, -5.3351, -5.3351, -5.3351, -3.433, -4.3796, -3.7257, -5.0728, -4.8045, -3.1718, -4.642, -4.5467, -4.2704, -5.0728, -4.9987, -4.9987, -5.0121, -5.3485, -5.0862, -4.8179, -4.9431, -5.7052, -4.4731, -4.393, -6.2648, -5.4539, -6.958, -7.6511, -4.4322, -5.8594, -6.5525, -6.0417, -5.4539, -6.5525, -6.958, -4.2838, -5.7052, -5.2532, -7.6511, -7.6511, -7.6511, -4.1546, -6.958, -6.2648, -6.958, -6.0417, -3.9876, -4.393, -4.6554, -4.7067, -4.8179, -4.8785, -4.8785, -5.0121, -5.0121, -5.0862, -5.0862, -5.1662, -5.1662, -5.3485, -5.4539, -5.4539, -5.5717, -3.0261, -3.7593, -4.2838, -3.6808, -3.3884, -4.5601, -4.2171, -4.7067, -3.6621, -4.1546, -4.4731, -4.6554, -4.8179, -4.8179, -3.9135, -4.8785, -3.9622, -4.6554, -4.6066, -4.7067, -5.575, -2.8753, -7.6544, -7.6544, -3.6655, -7.6544, -4.2532, -5.0895, -3.0005, -6.5558, -5.575, -6.5558, -5.8627, -6.5558, -6.2681, -6.9613, -4.2871, -5.0154, -5.1695, -5.7085, -6.2681, -3.9909, -6.045, -3.4059, -7.6544, -5.3519, -7.6544, -7.6544, -6.5558, -6.9613, -3.4059, -3.4648, -4.0991, -4.1887, -4.8212, -4.8819, -4.9464, -5.1695, -5.1695, -5.1695, -5.2565, -5.4572, -5.4572, -5.4572, -5.575, -5.7085, -4.6587, -4.8212, -4.8819, -4.4356, -4.2871, -4.5189, -4.6099, -4.3586, -5.0895, -4.7641, -4.71, -3.9909, -4.0709, -4.7641, -4.7641, -4.4764, -4.8212, -5.0407, -5.4825, -2.6171, -7.6797, -7.6797, -3.4602, -4.7353, -6.9866, -4.3124, -3.8955, -4.214, -5.6003, -7.6797, -3.3359, -7.6797, -5.1148, -5.6003, -7.6797, -6.5811, -6.2934, -6.0703, -7.6797, -4.9717, -4.3839, -7.6797, -5.7338, -7.6797, -5.1948, -3.6367, -7.6797, -4.1832, -4.3475, -4.3839, -4.6352, -4.7353, -4.9071, -4.9071, -4.9717, -4.9717, -5.0407, -5.1148, -5.2818, -5.3771, -5.3771, -5.3771, -5.4825, -4.3475, -3.417, -3.3103, -4.1832, -5.0407, -5.0407, -3.7094, -3.5053, -3.475, -4.5442, -4.3839, -3.9908, -4.7353, -4.9717, -4.7551, -5.1904, -4.7551, -3.8271, -3.0665, -5.0234, -5.0234, -4.9493, -5.6424, -5.9789, -5.9789, -5.9789, -5.9789, -5.9789, -5.9789, -4.9493, -5.9789, -5.9789, -4.9493, -5.2857, -5.6424, -5.9789, -5.0234, -5.6424, -5.6424, -5.9789, -5.6424, -5.9789, -5.9789, -5.9789, -3.9507, -4.0048, -4.0048, -4.1226, -4.1543, -4.698, -4.8803, -4.8803, -5.1034, -5.1034, -5.1034, -5.1034, -5.3911, -5.3911, -5.3911, -5.3911, -5.3911, -5.5089, -3.8507, -4.1543, -4.221, -4.3694, -4.033, -4.033, -4.2561, -4.8803, -4.3694, -4.1543, -3.563, -4.8803, -4.7551, -4.4528, -4.8803, -4.9493, -3.5957, -5.0621, -6.8538, -5.9375, -4.7744, -5.9375, -3.3129, -7.547, -6.1607, -6.1607, -5.0621, -6.4484, -4.4559, -7.547, -4.113, -7.547, -3.5396, -6.8538, -6.4484, -4.2148, -6.1607, -6.1607, -6.4484, -5.4675, -4.6566, -4.7744, -5.3497, -6.1607, -7.547, -5.9375, -4.4559, -4.5512, -4.6566, -4.6566, -4.7138, -4.7744, -4.7744, -4.8389, -5.0621, -5.2444, -5.2444, -5.3497, -5.3497, -5.3497, -5.3497, -5.3497, -5.3497, -4.3689, -3.7403, -3.3881, -4.6566, -4.7744, -3.6552, -4.2148, -4.6566, -4.5512, -4.113, -4.6025, -4.7138, -4.9079, -5.444, -7.5235, -6.8303, -6.1372, -5.3263, -6.4249, -5.1256, -6.8303, -6.8303, -7.5235, -6.1372, -6.8303, -6.1372, -6.1372, -5.914, -5.7317, -6.8303, -6.4249, -5.1256, -4.2276, -6.8303, -5.7317, -4.7509, -5.7317, -7.5235, -4.6903, -5.3263, -7.5235, -4.7509, -6.8303, -4.0577, -4.1913, -4.4324, -4.5277, -4.579, -4.6331, -4.6331, -4.6903, -4.6903, -4.8154, -4.8844, -4.8844, -4.9585, -4.9585, -4.9585, -4.9585, -5.0386, -5.0386, -5.0386, -5.0386, -5.0386, -5.0386, -5.0386, -5.2209, -4.2276, -4.388, -4.1913, -4.3046, -4.579, -4.6903, -4.3046, -4.579, -4.1562, -4.3454, -4.579, -4.8154, -4.7509], \"loglift\": [30.0, 29.0, 28.0, 27.0, 26.0, 25.0, 24.0, 23.0, 22.0, 21.0, 20.0, 19.0, 18.0, 17.0, 16.0, 15.0, 14.0, 13.0, 12.0, 11.0, 10.0, 9.0, 8.0, 7.0, 6.0, 5.0, 4.0, 3.0, 2.0, 1.0, 2.2211, 2.2211, 2.2211, 2.2211, 2.2211, 2.2211, 2.2211, 2.2211, 2.2211, 2.2211, 2.2211, 2.2211, 2.2211, 2.2211, 2.2211, 2.2211, 2.2211, 2.2211, 2.2211, 2.2211, 2.2211, 2.2211, 2.2211, 2.2211, 2.2211, 2.2211, 2.2211, 2.2211, 2.2211, 2.2211, 2.2211, 2.2211, 2.2211, 2.2211, 2.2211, 2.2211, 2.2211, 2.2211, 2.2211, 2.2211, 2.2211, 2.2211, 2.2211, 2.2211, 2.2211, 2.2211, 2.2211, 2.2211, 2.2211, 2.2006, 2.1823, 2.0746, 2.0259, 2.0634, 1.8153, 1.863, 2.0722, 1.8221, 1.8421, 1.9688, 1.4308, 1.3193, 2.2336, 2.2336, 2.2336, 2.2336, 2.2336, 2.2336, 2.2336, 2.2336, 2.2336, 2.2336, 2.2336, 2.2336, 2.2336, 2.2336, 2.2336, 2.2336, 2.2336, 2.2336, 2.2336, 2.2336, 2.2336, 2.2336, 2.2336, 2.2336, 2.2336, 2.2336, 2.2336, 2.2336, 2.2336, 2.2336, 2.2336, 2.2336, 2.2336, 2.2336, 2.2336, 2.2336, 2.2336, 2.2336, 2.2336, 2.2336, 2.2336, 2.2336, 2.2336, 2.2336, 2.2336, 2.2336, 2.2336, 2.2336, 2.1391, 2.0834, 2.1778, 1.8689, 1.7806, 1.9356, 1.7714, 1.5879, 2.0281, 2.2514, 2.2514, 2.2514, 2.2514, 2.2514, 2.2514, 2.2514, 2.2514, 2.2514, 2.2514, 2.2514, 2.2514, 2.2514, 2.2514, 2.2514, 2.2514, 2.2514, 2.2514, 2.2514, 2.2514, 2.2514, 2.2514, 2.2514, 2.2514, 2.2514, 2.2514, 2.2514, 2.2514, 2.2514, 2.2514, 2.2514, 2.2514, 2.2514, 2.2514, 2.2514, 2.2514, 2.2514, 2.2514, 2.2514, 2.2514, 2.2514, 2.2514, 2.2514, 2.2514, 2.2514, 2.2514, 2.2514, 2.2514, 2.2514, 2.2514, 2.2514, 2.2231, 2.1874, 2.1697, 2.1344, 2.1919, 2.0804, 2.0947, 1.9556, 2.0883, 2.1841, 2.1818, 2.0232, 1.9114, 1.6715, 1.5084, 1.2531, 1.7393, 0.5867, 1.6504, 1.2416, 1.8166, 2.2799, 2.2799, 2.2799, 2.2799, 2.2799, 2.2799, 2.2799, 2.2799, 2.2799, 2.2799, 2.2799, 2.2799, 2.2799, 2.2799, 2.2799, 2.2799, 2.2799, 2.2799, 2.2799, 2.2799, 2.2799, 2.2799, 2.2799, 2.2799, 2.2799, 2.2799, 2.2799, 2.2799, 2.2799, 2.2799, 2.2799, 2.2799, 2.2799, 2.2799, 2.2799, 2.2799, 2.2799, 2.2799, 2.2799, 2.2799, 2.2799, 2.2799, 2.2799, 2.2799, 2.2799, 2.2799, 2.2799, 2.2799, 2.0219, 2.1379, 1.9105, 2.2086, 2.1289, 1.2824, 1.9873, 1.8762, 0.5503, 1.9567, 1.2309, 0.9175, 2.2937, 2.2937, 2.2937, 2.2937, 2.2937, 2.2937, 2.2937, 2.2937, 2.2937, 2.2937, 2.2937, 2.2937, 2.2937, 2.2937, 2.2937, 2.2937, 2.2937, 2.2937, 2.2937, 2.2937, 2.2937, 2.2937, 2.2937, 2.2937, 2.2937, 2.2937, 2.2937, 2.2937, 2.2937, 2.2937, 2.2937, 2.2937, 2.2937, 2.2937, 2.2937, 2.2937, 2.2937, 2.2937, 2.2937, 2.2937, 2.2937, 2.2937, 2.2937, 2.2937, 2.2937, 2.2937, 2.2937, 2.2644, 2.2542, 2.2594, 2.2381, 2.2132, 2.2494, 2.202, 2.2415, 2.1273, 2.1763, 2.1766, 2.203, 2.237, 2.235, 1.9186, 2.2324, 1.4792, 1.9865, 1.6544, 1.7633, 2.3022, 2.3022, 2.3022, 2.3022, 2.3022, 2.3022, 2.3022, 2.3022, 2.3022, 2.3022, 2.3022, 2.3022, 2.3022, 2.3022, 2.3022, 2.3022, 2.3022, 2.3022, 2.3022, 2.3022, 2.3022, 2.3022, 2.3022, 2.3022, 2.3022, 2.3022, 2.3022, 2.3022, 2.3022, 2.3022, 2.3022, 2.3022, 2.3022, 2.3022, 2.3022, 2.3022, 2.3022, 2.3022, 2.3022, 2.3022, 2.3022, 2.3022, 2.3022, 2.3022, 2.3022, 2.3022, 2.2528, 2.2428, 2.2396, 2.1592, 2.0789, 2.0633, 2.0116, 1.871, 2.1575, 1.9724, 1.8657, 1.1016, 0.3832, 1.5426, 1.4969, 0.876, 1.5075, 2.3169, 2.3169, 2.3169, 2.3169, 2.3169, 2.3169, 2.3169, 2.3169, 2.3169, 2.3169, 2.3169, 2.3169, 2.3169, 2.3169, 2.3169, 2.3169, 2.3169, 2.3169, 2.3169, 2.3169, 2.3169, 2.3169, 2.3169, 2.3169, 2.3169, 2.3169, 2.3169, 2.3169, 2.3169, 2.3169, 2.3169, 2.3169, 2.3169, 2.3169, 2.3169, 2.3169, 2.3169, 2.3169, 2.3169, 2.3169, 2.3169, 2.3169, 2.3169, 2.3169, 2.3169, 2.3169, 2.28, 2.2043, 2.0421, 2.1398, 2.2452, 2.2424, 1.732, 1.219, 0.9791, 1.7963, 1.496, 0.3241, 1.2052, 1.5984, 2.3583, 2.3583, 2.3583, 2.3583, 2.3583, 2.3583, 2.3583, 2.3583, 2.3583, 2.3583, 2.3583, 2.3583, 2.3583, 2.3583, 2.3583, 2.3583, 2.3583, 2.3583, 2.3583, 2.3583, 2.3583, 2.3583, 2.3583, 2.3583, 2.3583, 2.3583, 2.3583, 2.3583, 2.3583, 2.3583, 2.3583, 2.3583, 2.3583, 2.3583, 2.3583, 2.3583, 2.3583, 2.3583, 2.3583, 2.3583, 2.3583, 2.3583, 2.3583, 2.3583, 2.3583, 2.3583, 2.3583, 2.3583, 2.3348, 2.3258, 2.326, 2.3192, 2.3026, 2.2743, 2.2267, 2.2922, 2.1386, 2.0249, 1.6031, 2.1728, 2.0574, 1.1834, 1.6898, 1.7829, 2.3863, 2.3863, 2.3863, 2.3863, 2.3863, 2.3863, 2.3863, 2.3863, 2.3863, 2.3863, 2.3863, 2.3863, 2.3863, 2.3863, 2.3863, 2.3863, 2.3863, 2.3863, 2.3863, 2.3863, 2.3863, 2.3863, 2.3863, 2.3863, 2.3863, 2.3863, 2.3863, 2.3863, 2.3863, 2.3863, 2.3863, 2.3863, 2.3863, 2.3863, 2.3863, 2.3863, 2.3863, 2.3863, 2.3863, 2.3863, 2.3863, 2.3863, 2.3863, 2.3863, 2.3863, 2.3863, 2.3863, 2.3452, 2.3027, 2.2711, 2.3332, 2.3248, 2.1997, 2.1057, 1.9409, 1.7555, 1.17, 0.5635, 0.7412, 1.5314, 2.3994, 2.3994, 2.3994, 2.3994, 2.3994, 2.3994, 2.3994, 2.3994, 2.3994, 2.3994, 2.3994, 2.3994, 2.3994, 2.3994, 2.3994, 2.3994, 2.3994, 2.3994, 2.3994, 2.3994, 2.3994, 2.3994, 2.3994, 2.3994, 2.3994, 2.3994, 2.3994, 2.3994, 2.3994, 2.3994, 2.3994, 2.3994, 2.3994, 2.3994, 2.3994, 2.3994, 2.3994, 2.3994, 2.3994, 2.3994, 2.3994, 2.3994, 2.3994, 2.3994, 2.3994, 2.3994, 2.3994, 2.3994, 2.3994, 2.3994, 2.3994, 2.3994, 2.3994, 2.3994, 2.3632, 2.357, 2.3311, 2.3241, 2.3493, 2.3438, 2.2524, 2.3029, 1.9834, 2.0539, 2.0931, 2.2207, 1.9179]}, \"token.table\": {\"Topic\": [1, 6, 1, 7, 3, 3, 4, 4, 8, 10, 6, 4, 10, 9, 3, 10, 2, 3, 10, 7, 9, 9, 5, 5, 7, 8, 5, 4, 9, 5, 7, 4, 5, 3, 7, 8, 1, 4, 4, 7, 9, 3, 10, 8, 4, 9, 10, 6, 5, 7, 6, 1, 4, 6, 4, 10, 2, 6, 3, 10, 10, 2, 3, 9, 5, 9, 9, 6, 7, 6, 8, 8, 9, 5, 10, 6, 7, 5, 5, 7, 4, 10, 6, 10, 9, 8, 6, 2, 1, 1, 2, 9, 6, 3, 4, 6, 4, 9, 2, 3, 4, 9, 10, 5, 1, 10, 4, 5, 9, 8, 9, 10, 9, 4, 10, 9, 9, 10, 5, 9, 5, 6, 5, 8, 4, 5, 6, 3, 4, 7, 3, 3, 4, 5, 3, 1, 2, 4, 5, 10, 3, 1, 3, 8, 4, 8, 9, 8, 2, 1, 6, 4, 6, 5, 3, 9, 10, 4, 6, 6, 1, 1, 5, 9, 6, 6, 5, 10, 1, 2, 7, 9, 8, 8, 2, 4, 9, 8, 6, 10, 8, 9, 10, 5, 9, 3, 2, 6, 10, 3, 5, 8, 6, 9, 3, 8, 5, 4, 8, 2, 10, 10, 3, 6, 4, 10, 2, 1, 7, 1, 9, 5, 7, 10, 2, 5, 6, 2, 6, 10, 6, 7, 5, 6, 9, 6, 4, 4, 7, 3, 3, 4, 9, 7, 7, 7, 3, 6, 10, 7, 1, 3, 8, 9, 2, 1, 8, 1, 8, 5, 8, 6, 2, 6, 3, 6, 8, 7, 1, 3, 8, 3, 6, 3, 4, 10, 3, 7, 1, 3, 5, 6, 8, 4, 1, 2, 3, 8, 9, 2, 8, 8, 2, 3, 1, 8, 4, 5, 8, 3, 5, 4, 5, 3, 5, 3, 9, 3, 7, 2, 3, 4, 8, 4, 5, 6, 2, 3, 7, 10, 2, 3, 9, 1, 5, 9, 1, 3, 8, 5, 7, 5, 6, 7, 10, 5, 9, 3, 5, 4, 7, 2, 6, 7, 8, 7, 3, 4, 4, 9, 9, 3, 1, 3, 4, 5, 10, 7, 3, 9, 1, 8, 3, 3, 4, 2, 8, 2, 3, 5, 5, 6, 4, 5, 9, 1, 10, 1, 3, 2, 7, 2, 5, 3, 9, 9, 1, 5, 5, 5, 4, 6, 8, 3, 3, 10, 1, 5, 5, 1, 10, 8, 4, 9, 3, 10, 10, 1, 4, 8, 3, 8, 1, 7, 7, 8, 2, 3, 1, 7, 2, 3, 8, 3, 8, 10, 3, 6, 5, 7, 8, 2, 2, 10, 7, 6, 3, 5, 1, 1, 9, 1, 8, 6, 7, 1, 2, 3, 10, 3, 7, 8, 9, 1, 7, 5, 6, 4, 10, 5, 10, 3, 5, 2, 5, 2, 2, 8, 9, 8, 3, 9, 1, 4, 1, 10, 7, 5, 6, 7, 7, 6, 1, 4, 10, 5, 9, 9, 4, 8, 1, 10, 5, 7, 5, 8, 7, 2, 4, 7, 2, 3, 5, 4, 4, 10, 4, 6, 1, 9, 3, 2, 1, 2, 10, 3, 10, 7, 1, 3, 4, 4, 10, 4, 6, 7, 1, 2, 3, 5, 9, 1, 8, 1, 5, 9, 6, 10, 1, 9, 7, 5, 6, 2, 8, 2, 2, 1, 6, 7, 4, 4, 7, 2, 2, 10, 6, 2, 3, 7, 5, 9, 1, 9, 1, 4, 7, 7, 6, 8, 10, 1, 7, 9, 10, 4, 2, 2, 9, 3, 8, 3, 5, 7, 8, 10, 1, 7, 8, 3, 2, 7, 9, 10, 1, 6, 9, 3, 7, 5, 3, 10, 4, 3, 6, 5, 6, 7, 5, 10, 10, 2, 3, 2, 7, 2, 3, 9, 5, 6, 2, 2, 1, 1, 6, 10, 10, 6, 4, 6, 9, 2, 3, 2, 8, 4, 9, 5, 5, 2, 5, 8, 10, 4, 9, 3, 10, 2, 6, 9, 4, 8, 9, 3, 2, 10, 8, 10, 10, 9, 7, 10, 1, 2, 8, 4, 6, 4, 7, 3, 3, 4, 7, 3, 9, 8, 10, 1, 4, 4, 2, 3, 4, 6, 7, 1, 6, 8, 6, 1, 3, 2, 3, 7, 8, 4, 1, 2, 9, 10, 1, 7, 10, 9, 7, 2, 3, 4, 2, 2, 6, 6, 5, 1, 9, 10, 5, 3, 7, 10, 1, 6, 1, 1, 10, 6, 2, 4, 9, 8, 7, 4, 3, 10, 2, 5, 1, 1, 6, 2, 5, 9, 5, 8, 4, 1, 10, 7, 4, 8, 10, 5, 8, 2, 4, 8, 3, 6, 8, 10, 8, 3, 8, 4, 5, 9, 3, 5], \"Freq\": [1.04425518697661, 0.9006615566450935, 0.6655094324924596, 0.32463874755729744, 0.989473753775285, 0.8730650768605458, 0.9857064813978219, 1.0237227093305203, 0.9459740319009398, 0.05564553128829057, 0.9006615566450935, 0.9936132178796228, 0.9675623321608197, 0.8799013196341147, 0.031103091979197115, 0.9641958513551105, 0.0583055219858534, 0.9328883517736544, 1.0159404487688608, 1.0043158134980412, 0.9776681329267942, 1.026551539573134, 0.8901148083247116, 0.8901148083247116, 0.029770419843868065, 0.9824238548476462, 0.8901148083247116, 0.9624743421056174, 0.9776681329267942, 0.4434383793447442, 0.561688613836676, 1.0029995775626959, 1.0087967827680064, 0.5652588490716075, 0.4430407195426113, 1.0190413299625618, 1.0069603588703024, 1.0394722894740667, 0.9745052713819378, 0.9373614259315052, 0.8799013196341147, 1.0318041817442811, 0.8708060989447378, 1.028839804289125, 0.7691357115660983, 0.18978673402280347, 0.02996632642465318, 1.0132442512257303, 0.8901148083247116, 0.9959465150522242, 1.0507718160859425, 0.8950758745513798, 0.8662269078950557, 0.9907277123096029, 1.0394722894740667, 1.0159404487688608, 0.2878284920181295, 0.7195712300453238, 0.9757786153147276, 0.8708060989447378, 1.0047762680131591, 0.13485777908716665, 0.8428611192947916, 0.8799013196341147, 1.0013791593653005, 0.989888984588379, 0.8799013196341147, 0.9757166863655181, 1.0043158134980412, 1.0132442512257303, 1.0190413299625618, 1.028839804289125, 0.989888984588379, 0.0646079703437259, 0.9368155699840255, 0.9938334418152757, 0.9866962378226372, 1.0172740666568132, 0.8901148083247116, 1.0545316041729433, 0.6573848063708138, 0.34184009931282316, 0.9757166863655181, 0.9952069702225574, 0.989888984588379, 1.0089850010484573, 1.0007350629389928, 1.0343068561954838, 0.998773689285991, 1.0144193244915638, 0.07193675867549858, 0.9171936731126068, 0.9699432148485624, 0.07452962130464022, 0.12421603550773369, 0.7949826272494956, 0.05171088249784598, 0.9307958849612277, 0.027298755931355435, 0.9281577016660847, 0.027298755931355435, 0.15035334781863674, 0.872049417348093, 0.9890164536941239, 1.0042314690088652, 0.97965686131283, 0.11992824374367327, 0.8874690037031822, 0.9776681329267942, 0.9659662606936783, 0.05809377287980168, 0.9295003660768268, 0.8799013196341147, 0.9745052713819378, 0.8708060989447378, 1.026551539573134, 1.0998766495426433, 0.8708060989447378, 0.9531017678979464, 0.04765508839489732, 1.068137769989654, 0.9006615566450936, 1.03846727637883, 0.9727212695097182, 1.0048232131582644, 0.11989878744293553, 0.8392915121005488, 0.9603715845466002, 0.06215050858159298, 0.9322576287238947, 0.982198211468114, 0.8730650768605458, 1.0048232131582644, 0.996928585323677, 1.002408051210256, 0.9845834620065179, 0.9418515256544542, 0.04709257628272271, 1.0172740666568132, 0.9952069702225574, 0.8730650768605458, 1.0069603588703024, 0.989473753775285, 0.995342694382037, 0.9899736090229209, 1.0699933964606898, 0.989888984588379, 1.0190413299625618, 1.0244563147079078, 0.9945287495015332, 1.0035943059759613, 1.0394722894740667, 1.0132442512257303, 0.9890164536941239, 1.0318041817442811, 0.3698885046563166, 0.605272098528518, 0.9306417491719948, 0.06204278327813299, 1.0293274933086785, 0.8950758745513798, 0.9892943876620515, 1.068137769989654, 1.0998766495426433, 1.0035943059759613, 0.9961862671983611, 0.14566097203636472, 0.8254121748727333, 0.8950758745513798, 1.0756791304433033, 0.8328544373437395, 0.1665708874687479, 0.9907346263524905, 1.0031188091818966, 1.018635540192522, 0.9624743421056174, 0.9776681329267942, 1.0190413299625618, 0.9006615566450935, 1.0291344805710538, 1.0190413299625618, 0.999887863220585, 1.0159404487688608, 0.9418314238275359, 0.05232396799041866, 0.997788659269195, 0.8963992753694193, 0.9517222566745717, 0.052873458704142874, 0.11651501031921123, 0.684525685625366, 0.18933689176871824, 0.11027007871661816, 0.8944128607014584, 1.0185759230039702, 1.0031188091818966, 0.8901148083247116, 0.7433945920608279, 0.2585720320211576, 0.8963992753694193, 0.9998144098995139, 0.8708060989447378, 1.0318041817442811, 0.9930371009163852, 1.0190904798765361, 1.0885076236809224, 0.9860392029063614, 0.4116689647900625, 0.6053955364559742, 0.04635195482108784, 0.9270390964217569, 0.8942122385762228, 0.08129202168874752, 0.97965686131283, 1.0244563147079078, 0.9642910423517709, 1.0066217397798105, 0.9860392029063614, 0.8018021540192044, 0.2158698106974781, 0.8743259005644666, 0.12490370008063809, 0.5367414884774279, 0.4472845737311899, 0.022364228686559497, 1.0807938679741123, 1.0105980592108983, 0.9899736090229209, 0.9373614259315052, 1.0318041817442811, 0.2504863730100262, 0.0939323898787598, 0.6262159325250654, 1.0012724322450168, 0.9959465150522242, 1.0067956056301353, 0.8490979062410596, 0.16981958124821192, 0.97965686131283, 0.9373614259315052, 0.12981590784363736, 0.8438034009836428, 0.9808272800889657, 1.005601508153274, 1.0244563147079078, 1.0069603588703024, 1.0699933964606898, 1.0327798552515923, 1.0699933964606898, 0.048193375112971844, 0.939770814702951, 1.0035943059759613, 0.9933073051390862, 0.9825398799764657, 0.8730650768605458, 0.42988755700084247, 0.5731834093344567, 0.9373614259315052, 0.8950758745513798, 0.909505138560868, 0.06996193373545138, 0.9700723076228287, 1.0007350629389928, 0.9307795646121758, 0.05817372278826099, 0.9675623321608197, 1.0185759230039702, 0.9819976843091959, 0.8950758745513798, 1.0913313460756822, 0.8901148083247116, 1.0132442512257303, 1.0190413299625618, 1.0105980592108983, 0.9973702602143949, 0.8963992753694193, 0.36663137877087276, 0.47138320127683636, 0.16461000679508572, 0.9710992149835376, 1.0699933964606898, 0.9907346263524905, 1.0343068561954838, 0.9603715845466002, 0.020738146038612508, 0.9746928638147879, 0.8662269078950557, 0.9675890539467118, 0.03870356215786847, 0.04446232608549887, 0.9337088477954762, 1.0105980592108983, 1.0013791593653005, 0.5945255347578943, 0.4042773636353681, 0.03518503260227675, 0.9499958802614722, 1.0040248383896275, 0.9373614259315052, 0.9076188548168624, 0.06576948223310597, 0.013153896446621195, 0.013153896446621195, 1.0105980592108983, 0.9603687509252503, 0.034922500033645464, 0.8963992753694193, 0.2568316921054339, 0.02568316921054339, 0.7191287378952149, 0.014900432238878013, 0.1490043223887801, 0.8344242053771687, 0.09896259116092088, 0.8906633204482879, 0.9776681329267942, 0.89507587455138, 0.0702761288064047, 0.9135896744832611, 0.9928203631314091, 1.0043158134980412, 0.02359397620431939, 0.03539096430647908, 0.8965710957641367, 0.03539096430647908, 1.0128892646453613, 1.026551539573134, 0.997788659269195, 0.8901148083247116, 0.8762008825691355, 0.13143013238537032, 0.9860392029063614, 0.9757166863655181, 0.9679734925516785, 0.03226578308505595, 0.9373614259315052, 0.8730650768605458, 1.0827836348688198, 1.0105980592108983, 0.9678914515975262, 0.989888984588379, 0.989473753775285, 0.8950758745513798, 0.9700723076228287, 0.26186549245735347, 0.7201301042577221, 1.0047762680131591, 0.9373614259315052, 1.0185759230039702, 1.011886517579232, 0.8950758745513798, 0.9907346263524905, 1.0318041817442811, 0.14452207803979827, 0.8671324682387898, 0.9959991948549102, 1.0699933964606898, 0.03140343583604371, 0.6594721525569179, 0.3140343583604371, 0.04286446030227236, 0.943018126649992, 0.04937517729355733, 0.9381283685775893, 0.9776681329267942, 1.074091049461656, 1.0244777634643976, 0.024962254951588547, 0.9735279431119533, 1.0064833969060147, 1.0545316041729433, 0.9959991948549102, 1.027055548066975, 0.8980921704930402, 0.12136380682338382, 0.999887863220585, 0.6892797088925272, 0.30634653728556765, 0.9948341975393836, 0.9710343363542308, 0.34677061286173394, 0.6501948991157511, 1.0699933964606898, 1.000830697864528, 0.03628749956704793, 0.9434749887432462, 0.9892943876620515, 0.9791262891571827, 1.0172740666568132, 0.04845110218833513, 0.9690220437667025, 1.0699933964606898, 1.0001795225180024, 0.8799013196341147, 0.982198211468114, 0.8708060989447379, 1.0047762680131591, 0.028631194490167072, 0.17178716694100243, 0.801673445724678, 1.0185759230039702, 1.0699933964606898, 0.9892943876620515, 0.9373614259315052, 0.9982290509919927, 0.9907346263524905, 0.21945641023758478, 0.8046735042044775, 0.6686571654257265, 0.33192334111061245, 1.0343068561954838, 1.0913313460756822, 0.9659662606936783, 0.1854785362180895, 0.7213054186259036, 0.10304363123227195, 1.0040248383896275, 1.0293274933086785, 0.5788137296709646, 0.4134383783364033, 0.9907346263524905, 0.9959991948549102, 0.8963992753694193, 1.0291344805710538, 0.9373614259315052, 0.9006615566450936, 1.0913313460756822, 0.9890164536941239, 0.8950758745513798, 1.0327798552515923, 1.0078869661263496, 0.8950758745513798, 0.9982728245964769, 0.062321464720207435, 0.9348219708031116, 1.0144193244915638, 0.9998299609889677, 0.3367448440958729, 0.6536811679508121, 0.027919240895464596, 0.05583848179092919, 0.8654964677594025, 0.027919240895464596, 0.9845834620065179, 0.9998521876602722, 0.9980075123640705, 1.0035943059759616, 0.8662269078950557, 0.8708060989447378, 0.8901148083247116, 0.9869135788040362, 0.9254646013913045, 0.05141470007729469, 0.07858815647501664, 0.9168618255418609, 1.0120636979977315, 0.8708565788051116, 0.14928969922373342, 0.8799013196341147, 1.028839804289125, 0.23735908516680582, 0.7595490725337786, 0.8210936379574075, 0.17481348421028675, 0.8950758745513798, 0.8708060989447378, 1.015474878092464, 1.027055548066975, 0.24340506694135883, 0.7572602082620052, 1.0415126954794502, 0.9006615566450936, 0.9764464086015054, 1.0105980592108983, 0.8708060989447378, 0.9745644387979974, 0.02542342014255645, 1.0998766495426433, 0.6944764729159381, 0.3113170395830067, 0.9603864422250878, 0.03311677386983061, 1.0172740666568132, 1.0062850601911748, 1.0013791593653005, 1.0105493188795405, 0.9373614259315052, 0.9860392029063614, 1.0237227093305203, 0.9866962378226372, 0.5246216136178111, 0.4809031458163269, 1.0013791593653005, 1.0105980592108983, 0.8662269078950557, 1.0885076236809224, 1.0105980592108983, 0.9006615566450935, 0.9945287495015332, 1.0558815835609376, 0.8730650768605458, 0.8963992753694193, 0.4602424407508277, 0.4602424407508277, 0.08121925425014606, 0.8730650768605458, 1.0159404487688608, 0.9373614259315052, 0.866381948180553, 0.1528909320318623, 1.0190904798765361, 0.8662269078950557, 1.0159404487688608, 1.0394722894740667, 0.9006615566450935, 0.9373614259315052, 0.9945287495015332, 1.0039671884137498, 0.8730650768605458, 0.9838111039378392, 1.0998766495426433, 0.034299692957956825, 0.9603914028227911, 0.9945287495015332, 0.9791262891571827, 0.9776681329267942, 1.0293274933086785, 1.0068695519048532, 0.8523860574780815, 0.12176943678258306, 0.9373614259315052, 1.027055548066975, 0.9907277123096031, 0.2717498478484703, 0.7376067298744193, 0.9860392029063614, 0.8963992753694193, 0.9865350096727363, 0.018269166845791412, 1.0020070415129883, 1.0394722894740667, 1.0105980592108983, 1.0415126954794502, 1.0018580136481745, 0.8963992753694193, 0.8708060989447378, 0.9757166863655181, 0.8963992753694193, 0.7024708238463304, 0.2971991947042167, 0.9787475941353436, 0.029659018004101322, 0.9983538600765393, 0.9776681329267942, 0.7727322377761762, 0.23181967133285286, 0.9998521876602722, 0.9998521876602722, 1.0007350629389928, 1.0699933964606898, 0.9952069702225574, 0.8625065114013186, 0.13736214811206185, 0.9776681329267942, 1.0244777634643976, 0.9745052713819378, 0.9924420548732856, 1.0084491847905968, 0.8799013196341147, 0.8730650768605458, 1.0190413299625618, 0.06978480279918192, 0.8513745941500195, 0.08374176335901831, 1.0190413299625618, 1.0014270137864485, 0.9845834620065179, 1.0310975685246557, 0.9965624770957405, 1.0318041817442811, 1.0084491847905968, 1.0225761010161876, 0.9946710569776949, 1.0159404487688608, 0.9892943876620515, 0.46821815777028253, 0.5384508814358249, 0.8730650768605458, 0.9941712093212933, 0.8901148083247116, 0.9977886592691951, 1.0885076236809224, 0.8662269078950557, 1.0185759230039702, 1.0007350629389928, 0.2565718593376205, 0.7376440955956589, 0.9959465150522242, 0.9642910423517709, 1.0159404487688608, 1.0159404487688608, 0.6361065617830636, 0.35780994100297325, 0.9817706349284117, 1.0094661510031595, 0.8963992753694193, 0.982198211468114, 0.9983495742002456, 0.9928203631314091, 0.9006615566450935, 1.0244563147079078, 1.0084491847905968, 0.9803211959372257, 1.0229438566301485, 1.0207497641977727, 0.8708060989447378, 1.0159404487688608, 0.9006615566450935, 0.049926491992804224, 0.9486033478632803, 0.99722149558533, 1.0244563147079078, 0.9700723076228287, 1.045799154597656, 0.9659662606936783, 0.8662269078950557, 0.993436973780452, 0.8901148083247116, 0.9791262891571827, 0.7341779930739198, 0.25237368511916, 1.0067142171001113, 1.0159404487688608, 0.8662269078950557, 0.9776681329267942, 0.9603715845466002, 0.9895523851644749, 0.6981007288976135, 0.008410852155392935, 0.2943798254387527, 0.049382843313955774, 0.8395083363372482, 0.09876568662791155, 1.0185759230039702, 0.9959991948549102, 1.0885076236809224, 0.9907346263524905, 1.0449673187336854, 1.0083017987781175, 0.9834191219440106, 1.0310975685246557, 1.0159404487688608, 0.8950758745513798, 0.8963992753694193, 0.9907346263524905, 0.36764791710381606, 0.643383854931678, 1.0029995775626959, 1.003141175119681, 0.8730650768605458, 0.744577614216148, 0.25347323037145464, 1.0067956056301353, 1.0318041817442811, 1.0558815835609376, 1.0699933964606898, 0.9578867088392116, 1.0046770020474673, 1.0394722894740667, 1.0048232131582644, 0.0330456437379599, 0.19093038604154608, 0.36717381931066556, 0.14686952772426623, 0.26069341171057253, 0.9945287495015332, 0.9990531552701879, 1.0105493188795405, 0.9006615566450936, 0.8950758745513798, 1.0185759230039702, 0.8109676076967433, 0.2027419019241858, 0.48743485741507503, 0.5178995360035172, 0.9817238289477298, 1.0069603588703024, 1.013320919982822, 0.9678914515975262, 1.0159404487688608, 0.9945287495015332, 1.0310975685246557, 1.0047762680131591, 1.0558815835609376, 1.0026207657115467, 0.9959991948549102, 0.28937187699025674, 0.7234296924756419, 0.8963992753694193, 1.0036607271230251, 1.0132442512257303, 0.9006615566450935, 0.8901148083247116, 0.89507587455138, 0.8799013196341147, 0.8708060989447378, 0.9890164536941239, 0.04161278066989699, 0.04161278066989699, 0.9154811747377336, 1.0229438566301485, 0.9006615566450935, 0.8950758745513798, 0.969665530763995, 0.8708060989447379, 0.9006615566450935, 0.6291315745602725, 0.22584210368830296, 0.14518420951390903, 1.0699933964606898, 0.9373614259315052, 0.9961609440793139, 1.0318041817442811, 1.0244777634643976, 0.049470090707790605, 0.9399317234480215, 0.9803211959372257, 0.7021122645324324, 0.29891908291974845, 0.08096375815184713, 0.9253000931639672, 1.0998766495426433, 1.0172740666568132, 0.9907346263524905, 1.0105980592108983, 0.26991072152601275, 0.7422544841965352, 1.0094661510031595, 0.9961609440793139, 0.04359128277731573, 0.959008221100946, 1.0042320914432643, 1.0699933964606898, 0.9938339792139215, 0.8662269078950557, 1.0699933964606898, 0.5504655525262167, 0.45473241295643985, 0.9745250526463548, 0.027843572932752993, 0.9965624770957405, 0.997788659269195, 0.9659662606936783, 0.1603791667000467, 0.42767777786679123, 0.42767777786679123, 0.9943241153133994, 0.9948341975393836], \"Term\": [\"ability\", \"abruptly\", \"accept\", \"accept\", \"accident\", \"accomplished\", \"account\", \"actual\", \"add\", \"add\", \"additional\", \"address\", \"afternoon\", \"aggravation\", \"ago\", \"ago\", \"agree\", \"agree\", \"air\", \"amount\", \"angry\", \"animal\", \"announce\", \"anonymously\", \"answer\", \"answer\", \"anxious\", \"anymore\", \"apartment\", \"app\", \"app\", \"apparently\", \"approach\", \"area\", \"area\", \"arrest\", \"arrive\", \"associate\", \"attempt\", \"attend\", \"average\", \"avoid\", \"awestruck\", \"baby\", \"bad\", \"bad\", \"bad\", \"bag\", \"bank\", \"bar\", \"base\", \"basket\", \"bat\", \"bathroom\", \"beat\", \"begin\", \"big\", \"big\", \"bit\", \"bizarre\", \"black\", \"block\", \"block\", \"blood\", \"blue\", \"body\", \"bolt\", \"bonus\", \"book\", \"bottle\", \"boy\", \"boyfriend\", \"brake\", \"break\", \"break\", \"bring\", \"buck\", \"buddy\", \"buffet\", \"build\", \"business\", \"business\", \"button\", \"buy\", \"cab\", \"call\", \"calm\", \"camera\", \"cancel\", \"cancellation\", \"car\", \"car\", \"card\", \"care\", \"care\", \"care\", \"carry\", \"carry\", \"case\", \"case\", \"case\", \"cash\", \"cash\", \"cell\", \"change\", \"charge\", \"check\", \"check\", \"chill\", \"chinese\", \"city\", \"city\", \"civic\", \"claim\", \"classical\", \"clean\", \"client\", \"climate\", \"close\", \"close\", \"closed\", \"clown\", \"cold\", \"college\", \"company\", \"complete\", \"complete\", \"completely\", \"confirm\", \"confirm\", \"connection\", \"consideration\", \"contact\", \"continue\", \"conversation\", \"cool\", \"cop\", \"cop\", \"correct\", \"cost\", \"cough\", \"count\", \"country\", \"couple\", \"cover\", \"crack\", \"credit\", \"cry\", \"curb\", \"current\", \"customer\", \"damage\", \"dash\", \"dash_cam\", \"date\", \"day\", \"day\", \"deactivate\", \"deactivate\", \"deal\", \"deck\", \"decline\", \"dedicated\", \"degree\", \"deliver\", \"delivery\", \"demand\", \"demand\", \"dependent\", \"deputy\", \"destination\", \"destination\", \"die\", \"dinner\", \"direction\", \"directly\", \"dirty\", \"disappear\", \"disbelief\", \"discuss\", \"disgusting\", \"dog\", \"dollar\", \"door\", \"door\", \"downtown\", \"draw\", \"drink\", \"drink\", \"drive\", \"drive\", \"drive\", \"drop\", \"drop\", \"drug\", \"drunk\", \"dual\", \"due\", \"due\", \"dumpster\", \"early\", \"earth\", \"easy\", \"eat\", \"email\", \"emotion\", \"empty\", \"end\", \"end\", \"enjoy\", \"enjoy\", \"enter\", \"enter\", \"entire\", \"entrance\", \"envelope\", \"evening\", \"exit\", \"expect\", \"expect\", \"experience\", \"experience\", \"explain\", \"explain\", \"explain\", \"extend\", \"face\", \"fair\", \"fairly\", \"fall\", \"family\", \"family\", \"family\", \"fare\", \"fast\", \"fee\", \"feel\", \"feel\", \"feeling\", \"festival\", \"figure\", \"figure\", \"fill\", \"fine\", \"fire\", \"fit\", \"fix\", \"flag\", \"flat\", \"follow\", \"follow\", \"food\", \"foot\", \"forget\", \"forgive\", \"free\", \"free\", \"frequent\", \"fricken\", \"friend\", \"friend\", \"friendly\", \"fry\", \"funny\", \"funny\", \"future\", \"game\", \"gas\", \"gathering\", \"gently\", \"germ\", \"gig\", \"girl\", \"girlfriend\", \"give\", \"glimpse\", \"good\", \"good\", \"good\", \"grab\", \"graduate\", \"great\", \"green\", \"group\", \"guy\", \"guy\", \"hack\", \"half\", \"half\", \"hand\", \"hand\", \"handle\", \"hang\", \"happen\", \"happen\", \"happy\", \"happy\", \"hard\", \"hazard\", \"head\", \"head\", \"head\", \"head\", \"health\", \"hear\", \"hear\", \"heated\", \"high\", \"high\", \"high\", \"hit\", \"hit\", \"hit\", \"hold\", \"hold\", \"holiday\", \"home\", \"hope\", \"hope\", \"hospital\", \"hotel\", \"hour\", \"hour\", \"hour\", \"hour\", \"house\", \"huge\", \"husband\", \"hysterical\", \"idea\", \"idea\", \"idiot\", \"imagine\", \"immediately\", \"immediately\", \"include\", \"incredible\", \"individual\", \"information\", \"inspection\", \"insurance\", \"interesting\", \"intimate\", \"involve\", \"issue\", \"issue\", \"item\", \"job\", \"judge\", \"jump\", \"junk\", \"kid\", \"kill\", \"kind\", \"kind\", \"lane\", \"language\", \"large\", \"large\", \"large\", \"late\", \"late\", \"laugh\", \"laugh\", \"law\", \"lawn\", \"lie\", \"life\", \"life\", \"light\", \"limit\", \"line\", \"listen\", \"live\", \"live\", \"load\", \"location\", \"location\", \"lock\", \"log\", \"lose\", \"lose\", \"loud\", \"love\", \"low\", \"low\", \"lyft\", \"male\", \"man\", \"market\", \"market\", \"marry\", \"mask\", \"mass\", \"matter\", \"meat\", \"medical\", \"meet\", \"meet\", \"meet\", \"member\", \"mentally\", \"message\", \"midnight\", \"mile\", \"min\", \"mind\", \"mind\", \"minute\", \"minute\", \"mirror\", \"model\", \"mom\", \"money\", \"money\", \"money\", \"month\", \"mood\", \"morning\", \"morning\", \"mother\", \"move\", \"movement\", \"movie\", \"multipli\", \"music\", \"naturally\", \"nearby\", \"neck\", \"neighborhood\", \"nice\", \"niece\", \"night\", \"normal\", \"normal\", \"note\", \"notice\", \"number\", \"number\", \"offer\", \"offer\", \"offer\", \"offer\", \"office\", \"online\", \"open\", \"order\", \"ostensibly\", \"outline\", \"outsider\", \"pandemic\", \"parent\", \"parent\", \"park\", \"park\", \"parking\", \"part\", \"part\", \"participation\", \"party\", \"pass\", \"pass\", \"passenger\", \"passenger\", \"passion\", \"passionate\", \"past\", \"patient\", \"pay\", \"pay\", \"payment\", \"payout\", \"perfect\", \"personal\", \"persuasion\", \"phone\", \"phone\", \"physically\", \"pick\", \"pick\", \"pickup\", \"pickup\", \"pile\", \"ping\", \"pizza\", \"plan\", \"planning\", \"plate\", \"platform\", \"pm\", \"point\", \"point\", \"police\", \"policy\", \"ponder\", \"population\", \"post\", \"postpone\", \"potential\", \"pour\", \"pray\", \"premier\", \"pretty\", \"pretty\", \"pretty\", \"preview\", \"price\", \"problably\", \"problem\", \"problem\", \"process\", \"processing\", \"promise\", \"proof\", \"proud\", \"psychology\", \"puke\", \"pull\", \"purge\", \"put\", \"quest\", \"question\", \"question\", \"queue\", \"quick\", \"quickly\", \"quit\", \"rate\", \"rating\", \"rating\", \"rational\", \"reach\", \"ready\", \"realize\", \"realize\", \"rear\", \"rearview\", \"reason\", \"reason\", \"receive\", \"recent\", \"recently\", \"record\", \"red\", \"registration\", \"religious\", \"remember\", \"removal\", \"reply\", \"reply\", \"report\", \"report\", \"request\", \"respect\", \"respond\", \"respond\", \"response\", \"rest\", \"restaurant\", \"restroom\", \"return\", \"ride\", \"ride\", \"rider\", \"rideshare\", \"risk\", \"road\", \"roll\", \"rolling\", \"roommate\", \"route\", \"run\", \"run\", \"run\", \"sad\", \"safe\", \"save\", \"schedule\", \"school\", \"score\", \"scream\", \"screen\", \"seat\", \"sell\", \"send\", \"service\", \"service\", \"session\", \"set\", \"settling\", \"share\", \"shed\", \"shin\", \"shoot\", \"shop\", \"short\", \"short\", \"show\", \"shuffle\", \"shut\", \"sick\", \"side\", \"side\", \"sign\", \"signal\", \"significant\", \"sister\", \"sit\", \"situation\", \"sizeable\", \"slam\", \"slow\", \"small\", \"smell\", \"smile\", \"sneeze\", \"social\", \"socialize\", \"sort\", \"sort\", \"speak\", \"speed\", \"spend\", \"split\", \"spot\", \"squeeze\", \"stand\", \"standing\", \"star\", \"start\", \"start\", \"stay\", \"steal\", \"steering\", \"step\", \"stick\", \"stock\", \"stop\", \"stop\", \"stop\", \"store\", \"store\", \"store\", \"story\", \"street\", \"strike\", \"student\", \"study\", \"stuff\", \"stupid\", \"suck\", \"suffer\", \"suitcase\", \"sum\", \"super\", \"support\", \"support\", \"suppose\", \"surge\", \"surprising\", \"talk\", \"talk\", \"taxi\", \"team\", \"tear\", \"teen\", \"terrible\", \"text\", \"threaten\", \"throw\", \"time\", \"time\", \"time\", \"time\", \"time\", \"timer\", \"tip\", \"tire\", \"toilet\", \"tomorrow\", \"tonight\", \"top\", \"top\", \"total\", \"total\", \"touch\", \"town\", \"traffic\", \"train\", \"transport\", \"trash\", \"travel\", \"treat\", \"tree\", \"trip\", \"truck\", \"true\", \"true\", \"tuition\", \"turn\", \"type\", \"uberhelpumove\", \"ubering\", \"uberx\", \"umm\", \"unborn\", \"uncomfortable\", \"understand\", \"understand\", \"understand\", \"unsafe\", \"upscale\", \"usb\", \"usual\", \"vegan\", \"vegetarian\", \"vehicle\", \"vehicle\", \"vehicle\", \"verbally\", \"vibe\", \"video\", \"view\", \"virus\", \"voice\", \"voice\", \"vomit\", \"wait\", \"wait\", \"walk\", \"walk\", \"warm\", \"watch\", \"wave\", \"wear\", \"week\", \"week\", \"weekend\", \"wheelchair\", \"white\", \"white\", \"wife\", \"win\", \"window\", \"winter\", \"witness\", \"word\", \"word\", \"work\", \"work\", \"worker\", \"world\", \"worry\", \"wrong\", \"wrong\", \"wrong\", \"year\", \"yell\"]}, \"R\": 30, \"lambda.step\": 0.01, \"plot.opts\": {\"xlab\": \"PC1\", \"ylab\": \"PC2\"}, \"topic.order\": [1, 2, 10, 7, 3, 6, 8, 4, 5, 9]};\n",
       "\n",
       "function LDAvis_load_lib(url, callback){\n",
       "  var s = document.createElement('script');\n",
       "  s.src = url;\n",
       "  s.async = true;\n",
       "  s.onreadystatechange = s.onload = callback;\n",
       "  s.onerror = function(){console.warn(\"failed to load library \" + url);};\n",
       "  document.getElementsByTagName(\"head\")[0].appendChild(s);\n",
       "}\n",
       "\n",
       "if(typeof(LDAvis) !== \"undefined\"){\n",
       "   // already loaded: just create the visualization\n",
       "   !function(LDAvis){\n",
       "       new LDAvis(\"#\" + \"ldavis_el639711404861487951843203343880\", ldavis_el639711404861487951843203343880_data);\n",
       "   }(LDAvis);\n",
       "}else if(typeof define === \"function\" && define.amd){\n",
       "   // require.js is available: use it to load d3/LDAvis\n",
       "   require.config({paths: {d3: \"https://d3js.org/d3.v5\"}});\n",
       "   require([\"d3\"], function(d3){\n",
       "      window.d3 = d3;\n",
       "      LDAvis_load_lib(\"https://cdn.jsdelivr.net/gh/bmabey/pyLDAvis@3.3.1/pyLDAvis/js/ldavis.v3.0.0.js\", function(){\n",
       "        new LDAvis(\"#\" + \"ldavis_el639711404861487951843203343880\", ldavis_el639711404861487951843203343880_data);\n",
       "      });\n",
       "    });\n",
       "}else{\n",
       "    // require.js not available: dynamically load d3 & LDAvis\n",
       "    LDAvis_load_lib(\"https://d3js.org/d3.v5.js\", function(){\n",
       "         LDAvis_load_lib(\"https://cdn.jsdelivr.net/gh/bmabey/pyLDAvis@3.3.1/pyLDAvis/js/ldavis.v3.0.0.js\", function(){\n",
       "                 new LDAvis(\"#\" + \"ldavis_el639711404861487951843203343880\", ldavis_el639711404861487951843203343880_data);\n",
       "            })\n",
       "         });\n",
       "}\n",
       "</script>"
      ],
      "text/plain": [
       "PreparedData(topic_coordinates=              x         y  topics  cluster       Freq\n",
       "topic                                                \n",
       "0     -0.301024  0.043549       1        1  10.848778\n",
       "1      0.163690 -0.170765       2        1  10.713667\n",
       "9      0.101276 -0.141595       3        1  10.525575\n",
       "6      0.004331 -0.044949       4        1  10.229081\n",
       "2      0.003063 -0.011577       5        1  10.088891\n",
       "5     -0.087013 -0.064545       6        1  10.003939\n",
       "7     -0.269455 -0.077577       7        1   9.858262\n",
       "3      0.144445  0.033267       8        1   9.458395\n",
       "4      0.190279  0.017303       9        1   9.196561\n",
       "8      0.050408  0.416888      10        1   9.076850, topic_info=           Term        Freq       Total Category  logprob  loglift\n",
       "33         ride  313.000000  313.000000  Default  30.0000  30.0000\n",
       "211      cancel  183.000000  183.000000  Default  29.0000  29.0000\n",
       "43         trip  168.000000  168.000000  Default  28.0000  28.0000\n",
       "227      minute  207.000000  207.000000  Default  27.0000  27.0000\n",
       "26    passenger  188.000000  188.000000  Default  26.0000  26.0000\n",
       "...         ...         ...         ...      ...      ...      ...\n",
       "794      number   33.302477   50.483327  Topic10  -4.1562   1.9834\n",
       "593        high   27.560671   38.936005  Topic10  -4.3454   2.0539\n",
       "649        week   21.818864   29.639430  Topic10  -4.5790   2.0931\n",
       "955      demand   17.225419   20.595771  Topic10  -4.8154   2.2207\n",
       "1119        day   18.373780   29.738691  Topic10  -4.7509   1.9179\n",
       "\n",
       "[662 rows x 6 columns], token_table=      Topic      Freq      Term\n",
       "term                           \n",
       "198       1  1.044255   ability\n",
       "708       6  0.900662  abruptly\n",
       "324       1  0.665509    accept\n",
       "324       7  0.324639    accept\n",
       "988       3  0.989474  accident\n",
       "...     ...       ...       ...\n",
       "1167      4  0.160379     wrong\n",
       "1167      5  0.427678     wrong\n",
       "1167      9  0.427678     wrong\n",
       "479       3  0.994324      year\n",
       "197       5  0.994834      yell\n",
       "\n",
       "[758 rows x 3 columns], R=30, lambda_step=0.01, plot_opts={'xlab': 'PC1', 'ylab': 'PC2'}, topic_order=[1, 2, 10, 7, 3, 6, 8, 4, 5, 9])"
      ]
     },
     "execution_count": 21,
     "metadata": {},
     "output_type": "execute_result"
    }
   ],
   "source": [
    "import pyLDAvis\n",
    "import pyLDAvis.gensim_models as gensimvis\n",
    "pyLDAvis.enable_notebook()\n",
    "\n",
    "# feed the LDA model into the pyLDAvis instance\n",
    "lda_viz = gensimvis.prepare(lda_mallet_g, corpus, id2word)\n",
    "lda_viz"
   ]
  },
  {
   "cell_type": "markdown",
   "id": "81fe8747",
   "metadata": {},
   "source": [
    "## Observe topics over Stories"
   ]
  },
  {
   "cell_type": "code",
   "execution_count": 22,
   "id": "2c9f6334",
   "metadata": {},
   "outputs": [
    {
     "data": {
      "text/html": [
       "<div>\n",
       "<style scoped>\n",
       "    .dataframe tbody tr th:only-of-type {\n",
       "        vertical-align: middle;\n",
       "    }\n",
       "\n",
       "    .dataframe tbody tr th {\n",
       "        vertical-align: top;\n",
       "    }\n",
       "\n",
       "    .dataframe thead th {\n",
       "        text-align: right;\n",
       "    }\n",
       "</style>\n",
       "<table border=\"1\" class=\"dataframe\">\n",
       "  <thead>\n",
       "    <tr style=\"text-align: right;\">\n",
       "      <th></th>\n",
       "      <th>Document_No</th>\n",
       "      <th>Dominant_Topic</th>\n",
       "      <th>Topic_Perc_Contrib</th>\n",
       "      <th>Keywords</th>\n",
       "      <th>Text</th>\n",
       "    </tr>\n",
       "  </thead>\n",
       "  <tbody>\n",
       "    <tr>\n",
       "      <th>0</th>\n",
       "      <td>0</td>\n",
       "      <td>7.0</td>\n",
       "      <td>0.1769</td>\n",
       "      <td>trip, pay, mile, hour, ping, time, minute, sur...</td>\n",
       "      <td>I get a request for a 7 minute trip on Uber to...</td>\n",
       "    </tr>\n",
       "    <tr>\n",
       "      <th>1</th>\n",
       "      <td>1</td>\n",
       "      <td>8.0</td>\n",
       "      <td>0.3365</td>\n",
       "      <td>rate, number, buy, city, ago, early, break, ca...</td>\n",
       "      <td>Had a young lady pax so uber vegan, that I was...</td>\n",
       "    </tr>\n",
       "    <tr>\n",
       "      <th>2</th>\n",
       "      <td>2</td>\n",
       "      <td>3.0</td>\n",
       "      <td>0.2426</td>\n",
       "      <td>night, good, couple, guy, call, great, kid, fo...</td>\n",
       "      <td>Had a pax who was just working now at a restau...</td>\n",
       "    </tr>\n",
       "    <tr>\n",
       "      <th>3</th>\n",
       "      <td>3</td>\n",
       "      <td>3.0</td>\n",
       "      <td>0.1154</td>\n",
       "      <td>night, good, couple, guy, call, great, kid, fo...</td>\n",
       "      <td>Stop being surfs!!!</td>\n",
       "    </tr>\n",
       "    <tr>\n",
       "      <th>4</th>\n",
       "      <td>4</td>\n",
       "      <td>1.0</td>\n",
       "      <td>0.4236</td>\n",
       "      <td>turn, stop, head, light, road, pull, window, p...</td>\n",
       "      <td>Saturday morning around 2:10 AM I get a Comfor...</td>\n",
       "    </tr>\n",
       "    <tr>\n",
       "      <th>5</th>\n",
       "      <td>5</td>\n",
       "      <td>0.0</td>\n",
       "      <td>0.3083</td>\n",
       "      <td>ride, cancel, passenger, minute, wait, pickup,...</td>\n",
       "      <td>Saturday night around 3:30 am in Elmhurst, IL ...</td>\n",
       "    </tr>\n",
       "    <tr>\n",
       "      <th>6</th>\n",
       "      <td>6</td>\n",
       "      <td>2.0</td>\n",
       "      <td>0.1508</td>\n",
       "      <td>phone, walk, run, close, hear, drive, app, wif...</td>\n",
       "      <td>The Giveaway is :  ; \\n\\nCOXPAL A9D Dual Dash ...</td>\n",
       "    </tr>\n",
       "    <tr>\n",
       "      <th>7</th>\n",
       "      <td>7</td>\n",
       "      <td>4.0</td>\n",
       "      <td>0.1393</td>\n",
       "      <td>seat, drop, nice, sit, hit, car, stand, stop, ...</td>\n",
       "      <td>The World Health Organization says this deadly...</td>\n",
       "    </tr>\n",
       "    <tr>\n",
       "      <th>8</th>\n",
       "      <td>8</td>\n",
       "      <td>2.0</td>\n",
       "      <td>0.1627</td>\n",
       "      <td>phone, walk, run, close, hear, drive, app, wif...</td>\n",
       "      <td>So like I’ve said before,\\nIt doesn’t matter h...</td>\n",
       "    </tr>\n",
       "    <tr>\n",
       "      <th>9</th>\n",
       "      <td>9</td>\n",
       "      <td>7.0</td>\n",
       "      <td>0.2162</td>\n",
       "      <td>trip, pay, mile, hour, ping, time, minute, sur...</td>\n",
       "      <td>This afternoon I accepted a trip to \"Ivy Denta...</td>\n",
       "    </tr>\n",
       "    <tr>\n",
       "      <th>10</th>\n",
       "      <td>10</td>\n",
       "      <td>5.0</td>\n",
       "      <td>0.1398</td>\n",
       "      <td>tip, order, food, customer, delivery, restaura...</td>\n",
       "      <td>“And he played classical music”, she continued...</td>\n",
       "    </tr>\n",
       "    <tr>\n",
       "      <th>11</th>\n",
       "      <td>11</td>\n",
       "      <td>1.0</td>\n",
       "      <td>0.1491</td>\n",
       "      <td>turn, stop, head, light, road, pull, window, p...</td>\n",
       "      <td>\\n\\nI was talking to Tron on another thread. I...</td>\n",
       "    </tr>\n",
       "    <tr>\n",
       "      <th>12</th>\n",
       "      <td>12</td>\n",
       "      <td>4.0</td>\n",
       "      <td>0.1304</td>\n",
       "      <td>seat, drop, nice, sit, hit, car, stand, stop, ...</td>\n",
       "      <td>What is the average credit rating of an Uber d...</td>\n",
       "    </tr>\n",
       "    <tr>\n",
       "      <th>13</th>\n",
       "      <td>13</td>\n",
       "      <td>7.0</td>\n",
       "      <td>0.1489</td>\n",
       "      <td>trip, pay, mile, hour, ping, time, minute, sur...</td>\n",
       "      <td>Dedicated to UP members who at one time made f...</td>\n",
       "    </tr>\n",
       "    <tr>\n",
       "      <th>14</th>\n",
       "      <td>14</td>\n",
       "      <td>9.0</td>\n",
       "      <td>0.3534</td>\n",
       "      <td>year, time, good, love, talk, point, share, li...</td>\n",
       "      <td>I wanted to post the story because I thought i...</td>\n",
       "    </tr>\n",
       "    <tr>\n",
       "      <th>15</th>\n",
       "      <td>15</td>\n",
       "      <td>5.0</td>\n",
       "      <td>0.1571</td>\n",
       "      <td>tip, order, food, customer, delivery, restaura...</td>\n",
       "      <td>Knowing this question is probably market-depen...</td>\n",
       "    </tr>\n",
       "    <tr>\n",
       "      <th>16</th>\n",
       "      <td>16</td>\n",
       "      <td>3.0</td>\n",
       "      <td>0.1409</td>\n",
       "      <td>night, good, couple, guy, call, great, kid, fo...</td>\n",
       "      <td>Well, today it finally happened. I saw and enc...</td>\n",
       "    </tr>\n",
       "    <tr>\n",
       "      <th>17</th>\n",
       "      <td>17</td>\n",
       "      <td>9.0</td>\n",
       "      <td>0.5925</td>\n",
       "      <td>year, time, good, love, talk, point, share, li...</td>\n",
       "      <td>I picked up a guy named ar\"\"\"\"\" by franklin pa...</td>\n",
       "    </tr>\n",
       "    <tr>\n",
       "      <th>18</th>\n",
       "      <td>18</td>\n",
       "      <td>4.0</td>\n",
       "      <td>0.1871</td>\n",
       "      <td>seat, drop, nice, sit, hit, car, stand, stop, ...</td>\n",
       "      <td>There is a sizeable population of people from ...</td>\n",
       "    </tr>\n",
       "    <tr>\n",
       "      <th>19</th>\n",
       "      <td>19</td>\n",
       "      <td>9.0</td>\n",
       "      <td>0.1414</td>\n",
       "      <td>year, time, good, love, talk, point, share, li...</td>\n",
       "      <td>He had large Muscular arms from his constructi...</td>\n",
       "    </tr>\n",
       "  </tbody>\n",
       "</table>\n",
       "</div>"
      ],
      "text/plain": [
       "    Document_No  Dominant_Topic  Topic_Perc_Contrib  \\\n",
       "0             0             7.0              0.1769   \n",
       "1             1             8.0              0.3365   \n",
       "2             2             3.0              0.2426   \n",
       "3             3             3.0              0.1154   \n",
       "4             4             1.0              0.4236   \n",
       "5             5             0.0              0.3083   \n",
       "6             6             2.0              0.1508   \n",
       "7             7             4.0              0.1393   \n",
       "8             8             2.0              0.1627   \n",
       "9             9             7.0              0.2162   \n",
       "10           10             5.0              0.1398   \n",
       "11           11             1.0              0.1491   \n",
       "12           12             4.0              0.1304   \n",
       "13           13             7.0              0.1489   \n",
       "14           14             9.0              0.3534   \n",
       "15           15             5.0              0.1571   \n",
       "16           16             3.0              0.1409   \n",
       "17           17             9.0              0.5925   \n",
       "18           18             4.0              0.1871   \n",
       "19           19             9.0              0.1414   \n",
       "\n",
       "                                             Keywords  \\\n",
       "0   trip, pay, mile, hour, ping, time, minute, sur...   \n",
       "1   rate, number, buy, city, ago, early, break, ca...   \n",
       "2   night, good, couple, guy, call, great, kid, fo...   \n",
       "3   night, good, couple, guy, call, great, kid, fo...   \n",
       "4   turn, stop, head, light, road, pull, window, p...   \n",
       "5   ride, cancel, passenger, minute, wait, pickup,...   \n",
       "6   phone, walk, run, close, hear, drive, app, wif...   \n",
       "7   seat, drop, nice, sit, hit, car, stand, stop, ...   \n",
       "8   phone, walk, run, close, hear, drive, app, wif...   \n",
       "9   trip, pay, mile, hour, ping, time, minute, sur...   \n",
       "10  tip, order, food, customer, delivery, restaura...   \n",
       "11  turn, stop, head, light, road, pull, window, p...   \n",
       "12  seat, drop, nice, sit, hit, car, stand, stop, ...   \n",
       "13  trip, pay, mile, hour, ping, time, minute, sur...   \n",
       "14  year, time, good, love, talk, point, share, li...   \n",
       "15  tip, order, food, customer, delivery, restaura...   \n",
       "16  night, good, couple, guy, call, great, kid, fo...   \n",
       "17  year, time, good, love, talk, point, share, li...   \n",
       "18  seat, drop, nice, sit, hit, car, stand, stop, ...   \n",
       "19  year, time, good, love, talk, point, share, li...   \n",
       "\n",
       "                                                 Text  \n",
       "0   I get a request for a 7 minute trip on Uber to...  \n",
       "1   Had a young lady pax so uber vegan, that I was...  \n",
       "2   Had a pax who was just working now at a restau...  \n",
       "3                                 Stop being surfs!!!  \n",
       "4   Saturday morning around 2:10 AM I get a Comfor...  \n",
       "5   Saturday night around 3:30 am in Elmhurst, IL ...  \n",
       "6   The Giveaway is :  ; \\n\\nCOXPAL A9D Dual Dash ...  \n",
       "7   The World Health Organization says this deadly...  \n",
       "8   So like I’ve said before,\\nIt doesn’t matter h...  \n",
       "9   This afternoon I accepted a trip to \"Ivy Denta...  \n",
       "10  “And he played classical music”, she continued...  \n",
       "11  \\n\\nI was talking to Tron on another thread. I...  \n",
       "12  What is the average credit rating of an Uber d...  \n",
       "13  Dedicated to UP members who at one time made f...  \n",
       "14  I wanted to post the story because I thought i...  \n",
       "15  Knowing this question is probably market-depen...  \n",
       "16  Well, today it finally happened. I saw and enc...  \n",
       "17  I picked up a guy named ar\"\"\"\"\" by franklin pa...  \n",
       "18  There is a sizeable population of people from ...  \n",
       "19  He had large Muscular arms from his constructi...  "
      ]
     },
     "execution_count": 22,
     "metadata": {},
     "output_type": "execute_result"
    }
   ],
   "source": [
    "def format_topics_sentences(ldamodel=lda_mallet_g, corpus=corpus, texts=data):\n",
    "    # Init output\n",
    "    sent_topics_df = pd.DataFrame()\n",
    "\n",
    "    # Get main topic in each document\n",
    "    for i, row_list in enumerate(ldamodel[corpus]):\n",
    "        row = row_list[0] if ldamodel.per_word_topics else row_list            \n",
    "        # print(row)\n",
    "        row = sorted(row, key=lambda x: (x[1]), reverse=True)\n",
    "        # Get the Dominant topic, Perc Contribution and Keywords for each document\n",
    "        for j, (topic_num, prop_topic) in enumerate(row):\n",
    "            if j == 0:  # => dominant topic\n",
    "                wp = ldamodel.show_topic(topic_num)\n",
    "                topic_keywords = \", \".join([word for word, prop in wp])\n",
    "                sent_topics_df = sent_topics_df.append(pd.Series([int(topic_num), round(prop_topic,4), topic_keywords]), ignore_index=True)\n",
    "            else:\n",
    "                break\n",
    "    sent_topics_df.columns = ['Dominant_Topic', 'Perc_Contribution', 'Topic_Keywords']\n",
    "\n",
    "    # Add original text to the end of the output\n",
    "    contents = pd.Series(texts)\n",
    "    sent_topics_df = pd.concat([sent_topics_df, contents], axis=1)\n",
    "    return(sent_topics_df)\n",
    "\n",
    "\n",
    "df_topic_sents_keywords = format_topics_sentences(ldamodel=lda_mallet_g, corpus=corpus, texts=data)\n",
    "\n",
    "# Format\n",
    "df_dominant_topic = df_topic_sents_keywords.reset_index()\n",
    "df_dominant_topic.columns = ['Document_No', 'Dominant_Topic', 'Topic_Perc_Contrib', 'Keywords', 'Text']\n",
    "df_dominant_topic.head(20)"
   ]
  },
  {
   "cell_type": "markdown",
   "id": "3f8f96f9",
   "metadata": {},
   "source": [
    "# Create Word Clouds"
   ]
  },
  {
   "cell_type": "code",
   "execution_count": 23,
   "id": "1293014a",
   "metadata": {},
   "outputs": [],
   "source": [
    "# 1. Wordcloud of Top N words in each topic\n",
    "from matplotlib import pyplot as plt\n",
    "from wordcloud import WordCloud, STOPWORDS\n",
    "import matplotlib.colors as mcolors"
   ]
  },
  {
   "cell_type": "code",
   "execution_count": 24,
   "id": "71c5c6d3",
   "metadata": {},
   "outputs": [
    {
     "data": {
      "image/png": "[encoded data removed]",
      "text/plain": [
       "<Figure size 720x720 with 10 Axes>"
      ]
     },
     "metadata": {
      "needs_background": "light"
     },
     "output_type": "display_data"
    }
   ],
   "source": [
    "cols = [color for name, color in mcolors.TABLEAU_COLORS.items()]  # more colors: 'mcolors.XKCD_COLORS'\n",
    "\n",
    "cloud = WordCloud(stopwords=stop_words,\n",
    "                  background_color='white',\n",
    "                  width=2500,\n",
    "                  height=1800,\n",
    "                  max_words=10,\n",
    "                  colormap='tab10',\n",
    "                  color_func=lambda *args, **kwargs: cols[i],\n",
    "                  prefer_horizontal=1.0)\n",
    "\n",
    "topics = lda_mallet_g.show_topics(formatted = False)\n",
    "\n",
    "fig, axes = plt.subplots(2,5, figsize=(10,10), sharex=True, sharey=True)\n",
    "\n",
    "for i, ax in enumerate(axes.flatten()):\n",
    "    fig.add_subplot(ax)\n",
    "    topic_words = dict(topics[i][1])\n",
    "    cloud.generate_from_frequencies(topic_words, max_font_size=300)\n",
    "    plt.gca().imshow(cloud)\n",
    "    plt.gca().set_title('Topic ' + str(i), fontdict=dict(size=16))\n",
    "    plt.gca().axis('off')\n",
    "\n",
    "\n",
    "plt.subplots_adjust(wspace=0, hspace=0)\n",
    "plt.axis('off')\n",
    "plt.margins(x=0, y=0)\n",
    "plt.tight_layout()\n",
    "plt.show()"
   ]
  },
  {
   "cell_type": "markdown",
   "id": "fd194633",
   "metadata": {},
   "source": [
    "# Further topic Analysis"
   ]
  },
  {
   "cell_type": "code",
   "execution_count": 25,
   "id": "0713a865",
   "metadata": {},
   "outputs": [],
   "source": [
    "#extra libraries\n",
    "from textblob import TextBlob\n",
    "import sklearn\n",
    "from sklearn.feature_extraction.text import CountVectorizer\n",
    "import cufflinks as cf\n",
    "cf.go_offline()\n",
    "cf.set_config_file(offline=False, world_readable=True)"
   ]
  },
  {
   "cell_type": "code",
   "execution_count": 26,
   "id": "d8e1c0fd",
   "metadata": {},
   "outputs": [
    {
     "data": {
      "text/html": [
       "<div>\n",
       "<style scoped>\n",
       "    .dataframe tbody tr th:only-of-type {\n",
       "        vertical-align: middle;\n",
       "    }\n",
       "\n",
       "    .dataframe tbody tr th {\n",
       "        vertical-align: top;\n",
       "    }\n",
       "\n",
       "    .dataframe thead th {\n",
       "        text-align: right;\n",
       "    }\n",
       "</style>\n",
       "<table border=\"1\" class=\"dataframe\">\n",
       "  <thead>\n",
       "    <tr style=\"text-align: right;\">\n",
       "      <th></th>\n",
       "      <th>Post</th>\n",
       "      <th>Name</th>\n",
       "      <th>Datetime</th>\n",
       "      <th>Story</th>\n",
       "      <th>year</th>\n",
       "      <th>polarity</th>\n",
       "      <th>review_len</th>\n",
       "      <th>word_count</th>\n",
       "    </tr>\n",
       "  </thead>\n",
       "  <tbody>\n",
       "    <tr>\n",
       "      <th>0</th>\n",
       "      <td>post-6658254</td>\n",
       "      <td>touberornottouber</td>\n",
       "      <td>Dec 1, 2020 at 12:34 PM</td>\n",
       "      <td>I get a request for a 7 minute trip on Uber to...</td>\n",
       "      <td>2020</td>\n",
       "      <td>0.136090</td>\n",
       "      <td>1061</td>\n",
       "      <td>216</td>\n",
       "    </tr>\n",
       "    <tr>\n",
       "      <th>1</th>\n",
       "      <td>post-6438395</td>\n",
       "      <td>Young Kim</td>\n",
       "      <td>Aug 10, 2020 at 11:20 PM</td>\n",
       "      <td>Had a young lady pax so uber vegan, that I was...</td>\n",
       "      <td>2020</td>\n",
       "      <td>0.147619</td>\n",
       "      <td>1176</td>\n",
       "      <td>215</td>\n",
       "    </tr>\n",
       "    <tr>\n",
       "      <th>2</th>\n",
       "      <td>post-6679137</td>\n",
       "      <td>Young Kim</td>\n",
       "      <td>Dec 13, 2020 at 8:31 AM</td>\n",
       "      <td>Had a pax who was just working now at a restau...</td>\n",
       "      <td>2020</td>\n",
       "      <td>0.291825</td>\n",
       "      <td>927</td>\n",
       "      <td>174</td>\n",
       "    </tr>\n",
       "    <tr>\n",
       "      <th>3</th>\n",
       "      <td>post-6486138</td>\n",
       "      <td>AB5</td>\n",
       "      <td>Aug 30, 2020 at 3:32 PM</td>\n",
       "      <td>Stop being surfs!!!</td>\n",
       "      <td>2020</td>\n",
       "      <td>0.000000</td>\n",
       "      <td>19</td>\n",
       "      <td>3</td>\n",
       "    </tr>\n",
       "    <tr>\n",
       "      <th>4</th>\n",
       "      <td>post-6539343</td>\n",
       "      <td>FLKeys</td>\n",
       "      <td>Sep 28, 2020 at 11:05 AM</td>\n",
       "      <td>Saturday morning around 2:10 AM I get a Comfor...</td>\n",
       "      <td>2020</td>\n",
       "      <td>0.097619</td>\n",
       "      <td>1829</td>\n",
       "      <td>367</td>\n",
       "    </tr>\n",
       "    <tr>\n",
       "      <th>...</th>\n",
       "      <td>...</td>\n",
       "      <td>...</td>\n",
       "      <td>...</td>\n",
       "      <td>...</td>\n",
       "      <td>...</td>\n",
       "      <td>...</td>\n",
       "      <td>...</td>\n",
       "      <td>...</td>\n",
       "    </tr>\n",
       "    <tr>\n",
       "      <th>435</th>\n",
       "      <td>post-6396293</td>\n",
       "      <td>Young Kim</td>\n",
       "      <td>Jul 23, 2020 at 5:44 PM</td>\n",
       "      <td>When I opened the envelope in the mail, I saw ...</td>\n",
       "      <td>2020</td>\n",
       "      <td>0.000000</td>\n",
       "      <td>473</td>\n",
       "      <td>97</td>\n",
       "    </tr>\n",
       "    <tr>\n",
       "      <th>436</th>\n",
       "      <td>post-6396821</td>\n",
       "      <td>SleelWheels</td>\n",
       "      <td>Jul 23, 2020 at 9:11 PM</td>\n",
       "      <td>Well another first for me, picked up a guy who...</td>\n",
       "      <td>2020</td>\n",
       "      <td>0.297143</td>\n",
       "      <td>260</td>\n",
       "      <td>47</td>\n",
       "    </tr>\n",
       "    <tr>\n",
       "      <th>437</th>\n",
       "      <td>post-6392408</td>\n",
       "      <td>Mkang14</td>\n",
       "      <td>Jul 22, 2020 at 4:26 AM</td>\n",
       "      <td>My buddy  just did a good deed. From the botto...</td>\n",
       "      <td>2020</td>\n",
       "      <td>0.700000</td>\n",
       "      <td>139</td>\n",
       "      <td>28</td>\n",
       "    </tr>\n",
       "    <tr>\n",
       "      <th>438</th>\n",
       "      <td>post-6395388</td>\n",
       "      <td>The Jax</td>\n",
       "      <td>Jul 23, 2020 at 11:10 AM</td>\n",
       "      <td>I have been delivering over 20 years and over ...</td>\n",
       "      <td>2020</td>\n",
       "      <td>0.013031</td>\n",
       "      <td>2939</td>\n",
       "      <td>607</td>\n",
       "    </tr>\n",
       "    <tr>\n",
       "      <th>439</th>\n",
       "      <td>post-6368217</td>\n",
       "      <td>Mista T</td>\n",
       "      <td>Jul 11, 2020 at 4:12 PM</td>\n",
       "      <td>Uber ran my annual background check.\\n\\n\\n\\n\\n...</td>\n",
       "      <td>2020</td>\n",
       "      <td>0.875000</td>\n",
       "      <td>148</td>\n",
       "      <td>28</td>\n",
       "    </tr>\n",
       "  </tbody>\n",
       "</table>\n",
       "<p>440 rows × 8 columns</p>\n",
       "</div>"
      ],
      "text/plain": [
       "             Post               Name                  Datetime  \\\n",
       "0    post-6658254  touberornottouber   Dec 1, 2020 at 12:34 PM   \n",
       "1    post-6438395          Young Kim  Aug 10, 2020 at 11:20 PM   \n",
       "2    post-6679137          Young Kim   Dec 13, 2020 at 8:31 AM   \n",
       "3    post-6486138                AB5   Aug 30, 2020 at 3:32 PM   \n",
       "4    post-6539343             FLKeys  Sep 28, 2020 at 11:05 AM   \n",
       "..            ...                ...                       ...   \n",
       "435  post-6396293          Young Kim   Jul 23, 2020 at 5:44 PM   \n",
       "436  post-6396821        SleelWheels   Jul 23, 2020 at 9:11 PM   \n",
       "437  post-6392408            Mkang14   Jul 22, 2020 at 4:26 AM   \n",
       "438  post-6395388            The Jax  Jul 23, 2020 at 11:10 AM   \n",
       "439  post-6368217            Mista T   Jul 11, 2020 at 4:12 PM   \n",
       "\n",
       "                                                 Story  year  polarity  \\\n",
       "0    I get a request for a 7 minute trip on Uber to...  2020  0.136090   \n",
       "1    Had a young lady pax so uber vegan, that I was...  2020  0.147619   \n",
       "2    Had a pax who was just working now at a restau...  2020  0.291825   \n",
       "3                                  Stop being surfs!!!  2020  0.000000   \n",
       "4    Saturday morning around 2:10 AM I get a Comfor...  2020  0.097619   \n",
       "..                                                 ...   ...       ...   \n",
       "435  When I opened the envelope in the mail, I saw ...  2020  0.000000   \n",
       "436  Well another first for me, picked up a guy who...  2020  0.297143   \n",
       "437  My buddy  just did a good deed. From the botto...  2020  0.700000   \n",
       "438  I have been delivering over 20 years and over ...  2020  0.013031   \n",
       "439  Uber ran my annual background check.\\n\\n\\n\\n\\n...  2020  0.875000   \n",
       "\n",
       "     review_len  word_count  \n",
       "0          1061         216  \n",
       "1          1176         215  \n",
       "2           927         174  \n",
       "3            19           3  \n",
       "4          1829         367  \n",
       "..          ...         ...  \n",
       "435         473          97  \n",
       "436         260          47  \n",
       "437         139          28  \n",
       "438        2939         607  \n",
       "439         148          28  \n",
       "\n",
       "[440 rows x 8 columns]"
      ]
     },
     "execution_count": 26,
     "metadata": {},
     "output_type": "execute_result"
    }
   ],
   "source": [
    "#create new columns for polarity\n",
    "df['polarity'] = df['Story'].map(lambda text: TextBlob(text).sentiment.polarity)\n",
    "df['review_len'] = df['Story'].astype(str).apply(len)\n",
    "df['word_count'] = df['Story'].apply(lambda x: len(str(x).split()))\n",
    "df"
   ]
  },
  {
   "cell_type": "code",
   "execution_count": 27,
   "id": "dbaab8b6",
   "metadata": {},
   "outputs": [
    {
     "name": "stdout",
     "output_type": "stream",
     "text": [
      "5 random reviews with the highest positive sentiment polarity: \n",
      "\n",
      "The Giveaway is :  ; \n",
      "\n",
      "COXPAL A9D Dual Dash Cam:\n",
      "\n",
      "\n",
      "\n",
      "Rules of participation are as follows:\n",
      "\n",
      "Welcome questions if you have any! Hope you enjoy our COXPAL A9D Dual Dash Cam!\n",
      "Drove two pax to the Tesla dealership back-to-back days. Pax one tipped 10 bucks, pax two, 7 bucks cash. \n",
      "\n",
      "Good tips because they don’t have to buy gas?\n",
      "My buddy  just did a good deed. From the bottom of his heart+tip.\n",
      "\n",
      "Were you every offered a generous tip for a favor by pax? What was it?\n",
      "\n",
      "\n",
      "How many of us actually enjoy driving for uber? ratings 1-10 myself? I LOVE IT !!!!\n",
      "Uber ran my annual background check.\n",
      "\n",
      "\n",
      "\n",
      "\n",
      "Wish someone had told me about this, I would have loved to see it!\n",
      "\n",
      "Guess I'm out of driving for a while...\n"
     ]
    }
   ],
   "source": [
    "print('5 random reviews with the highest positive sentiment polarity: \\n')\n",
    "cl = df.loc[df.polarity > 0.6, ['Story']].sample(5).values\n",
    "for c in cl:\n",
    "    print(c[0])"
   ]
  },
  {
   "cell_type": "code",
   "execution_count": 28,
   "id": "376aae19",
   "metadata": {},
   "outputs": [
    {
     "name": "stdout",
     "output_type": "stream",
     "text": [
      "5 random reviews with the most neutral sentiment(zero) polarity: \n",
      "\n",
      "I get a pick up in an area that borders the hood.\n",
      "\n",
      "A lady hood rat comes out with a paper plate piled with food and a spoon jammed in it. As she approaches the vehicle I ask her if she has something to put the plate of food into and she replies \"I won't spell it\".\n",
      "\n",
      "I am assuming she's planning on holding it for the duration of the ride which was short. I put the car in gear and pull out and look back and she's already digging into it. I reach up and cancel the ride. I pull over and say I'm sorry but there's no eating. It's in the rideshare community guidelines. She gives me the usual flak and backtalk as she gets out. [Insert Michael Richards rant here]\n",
      "\n",
      "I called Lyft to get unpaired from that rider and also to get a cancellation fee. I'm told by Lyft support that because I started the ride I can't get a cancellation fee.\n",
      "\n",
      "The takeaway lesson? If you think that you forsee a situation with a rider that might lead to a cancellation, go ahead and cancel the ride right away before you start it. That's the only way to get the cancellation fee. Of course you'll probably end up canceling on people that you wouldn't need to, but that's on Lyft.\n",
      "Uber is a dangerous Job. In 4 years I am on my 4th car. People make driving mistakes. My last was a driver who decided to make a U turn 25 feet in front of me, at 3:00 AM at 35 MPH. He hit my passenger side rear tire and flattened it against the frame of the car. The cop asked me what had happened in this accident. I told him that this idiot in front of me decided to make a u-turn in front of me. He handed the cop a piece of paper. His driver's license from Guatemala. No Insurance, No registration. California plate. Farmers Insurance recovered the $6000 repair cost plus the $1000 deductable.\n",
      "Not a phone, not their pot pen. Not their body stench or empty water bottles. Their ballot. \n",
      "\n",
      "What do you do with it?\n",
      "\n",
      "(This is a hypothetical, I don't drive for U/L anymore).\n",
      "So I get a ghetto XL ping… Ghetto XL rides are the worst. Usually they are requesting an XL ride because they have a whole herd of little kids with no car seats, or they have more people that can even fit in an XL ride, or they have a huge pile of stinky laundry in giant cloth bags to go to the laundromat.\n",
      "\n",
      "As soon as I accept I go ahead and text “Due to the virus I can only carry up to five passengers. All passengers must be wearing facemasks. Any children that require car seats according to state law must have car seats.”\n",
      "\n",
      "I get no answer nor cancellation. I arrived at the pick up and guess what I’m greeted by? A woman carrying a one-year-old with no car seat!\n",
      "\n",
      "“Hi. Good afternoon. Is the child going? How old is the child? Do you have a car seat? I’m sorry I can’t take a child without a car seat. It’s against state Law and against company policy”.\n",
      "\n",
      "Angry look (This isn’t her first rodeo) and a snippy “go ahead and cancel then”. \n",
      "\n",
      "As I wait out the timer she toddles off into the house.\n",
      "\n",
      "I have the message about only carrying five passengers, facemasks are required as our car seats for children saved. When I get a ghetto XL ride I text the message right away.\n",
      "\n",
      "So far it's not helped. Even though people have kids with no car seats or more passengers than I can carry they don't cancel the ride. I did have one lady text back and say \"no car seats\". Sure enough when I got to the pick up there she was with tiny tots and no car seats.\n",
      "\n",
      "I guess I need to add to my note that if you can't comply with those three points that they should go ahead and cancel the ride. \n",
      "\n",
      "When I get a no-show rider or I have to cancel for too many passengers or no car seats I consider it ghetto tips.\n",
      "For those offended by dirty car, I cleaned that bad bwoy well and gear area is clean. Night time Pax get to enjoy light show too. I'll post pics of clean and light shows shortly. BRB\n",
      "\n",
      "Update: I cleaned it, also pax love my life. And also some silly Chevy and Hyundai Sonata just tried beating me in race and cutting Me off. I showed them what the Gear S7 of the Honda Accord Sport Earth Dreams machine is all about and left then in the dust. I don't have two exhaust mufflers for nothing.\n",
      "\n",
      "\n",
      "\n",
      "\n"
     ]
    }
   ],
   "source": [
    "print('5 random reviews with the most neutral sentiment(zero) polarity: \\n')\n",
    "cl = df.loc[df.polarity < 0.1, ['Story']].sample(5).values\n",
    "for c in cl:\n",
    "    print(c[0])"
   ]
  },
  {
   "cell_type": "markdown",
   "id": "593f1947",
   "metadata": {},
   "source": [
    "# Plotting Sentimenr Polarity Distribution"
   ]
  },
  {
   "cell_type": "code",
   "execution_count": 31,
   "id": "1179c38a",
   "metadata": {},
   "outputs": [
    {
     "data": {
      "application/vnd.plotly.v1+json": {
       "config": {
        "linkText": "Export to plot.ly",
        "plotlyServerURL": "https://plot.ly",
        "showLink": true
       },
       "data": [
        {
         "histfunc": "count",
         "histnorm": "",
         "marker": {
          "color": "rgba(255, 153, 51, 1.0)",
          "line": {
           "color": "#000000",
           "width": 1.3
          }
         },
         "name": "polarity",
         "nbinsx": 50,
         "opacity": 0.8,
         "orientation": "v",
         "type": "histogram",
         "x": [
          0.13609022556390976,
          0.1476190476190476,
          0.2918253968253968,
          0,
          0.09761904761904762,
          0.04367413632119513,
          0.75,
          -0.04603174603174603,
          -0.001527777777777775,
          -0.002800059417706492,
          0.27499999999999997,
          0.02259968102073365,
          0.125,
          0.3743506493506494,
          0.14946428571428574,
          0.08698945981554676,
          0.20409902597402596,
          0.08701195037401933,
          0.23143274853801168,
          0.06190476190476191,
          -0.12178571428571427,
          -0.14999999999999997,
          0.03864276948389099,
          0.17045887445887445,
          -0.1,
          0.315018315018315,
          0.19027777777777777,
          0.1198705808080808,
          0.41250000000000003,
          0.22291666666666665,
          -0.03115740740740741,
          0.05454545454545454,
          0.06494895550970319,
          0,
          0.028571428571428564,
          0.026190476190476205,
          -0.042929292929292935,
          0.04246031746031746,
          -0.05520833333333332,
          0.13636363636363635,
          -0.025,
          0.051870748299319716,
          -0.10000000000000002,
          -0.016417497231450705,
          0,
          0.07857142857142858,
          0.03673202614379085,
          0,
          0.5,
          -0.07999999999999999,
          0.08276773595328282,
          0.14267676767676765,
          -0.03550852439741329,
          0.39999999999999997,
          0.08483709273182959,
          -0.015593434343434348,
          0.075,
          0.09919590643274855,
          0.010830280830280823,
          -0.051470588235294115,
          0.011458333333333334,
          0.19,
          0.28421052631578947,
          0.0027777777777778143,
          0.10416666666666667,
          0.27289855072463765,
          0.21111111111111114,
          0.07777777777777778,
          0.18820861678004536,
          -0.061825396825396804,
          -0.044093406593406596,
          0,
          0.13707997311827955,
          -0.07936507936507937,
          0.19402050057222475,
          -0.00362103174603174,
          0.3833333333333333,
          0.0921875,
          0.0801388888888889,
          0.13275613275613277,
          0.12222222222222225,
          0.18778467908902693,
          0.1,
          0.08958333333333335,
          0.125,
          -0.06340740740740741,
          -0.13846153846153847,
          -0.062198515769944306,
          0.06290123456790123,
          0.032646780303030296,
          -0.05875,
          0.003750000000000009,
          0.09423076923076924,
          0.10000000000000002,
          0.022222222222222216,
          0.15417610983787455,
          0.13444444444444445,
          -0.023291715060007746,
          0.15099206349206348,
          0.18555555555555556,
          0.11141215106732347,
          -0.02272727272727272,
          -0.0625,
          0.07805059523809522,
          0.13740601503759398,
          -0.2,
          -0.10694444444444444,
          -0.2,
          0.23708333333333326,
          0.09251785714285717,
          -0.8,
          0.02425,
          0.05221285273368606,
          0.08703917050691241,
          0.18585858585858583,
          -0.031895661157024774,
          -0.1375,
          0.2869318181818182,
          0.35,
          0.12053221288515405,
          0,
          -0.012500000000000002,
          -0.08061224489795918,
          0.269005994005994,
          -0.05203373015873016,
          -0.04263038548752834,
          -0.039822595704948636,
          0.10326585179526354,
          -0.25,
          0.12988095238095237,
          0.05136363636363637,
          -0.10999999999999996,
          0.008333333333333331,
          -0.049358974358974364,
          0.12575757575757573,
          0.076510496671787,
          -0.08717948717948718,
          0,
          0.07936950456950458,
          0.03497753899539613,
          0.028510378510378517,
          0.15,
          0.4,
          0.10876236858379713,
          -0.06784511784511785,
          0,
          0.0954861111111111,
          0.28724489795918373,
          0.12000000000000002,
          -0.044074074074074064,
          -0.06666666666666667,
          0,
          -0.04285714285714286,
          0.10363636363636364,
          -0.002615220559992449,
          0.10857142857142857,
          0.22500000000000003,
          0.43333333333333335,
          0.30000000000000004,
          0.2,
          0.14954545454545454,
          0,
          0,
          -0.09025873817540485,
          0.035173160173160176,
          0.0447463768115942,
          0,
          0.12270833333333334,
          0.06739130434782609,
          -0.005499999999999994,
          0.005555555555555559,
          0.029629629629629634,
          -0.4666666666666666,
          0.07279900332225916,
          0.135,
          0.05987373737373737,
          -0.21666666666666667,
          0,
          0.050000000000000024,
          -0.015695153061224494,
          0.11646825396825396,
          0.12172865013774103,
          -0.153125,
          0.13686868686868686,
          -0.1,
          0.1362139917695473,
          0.04149080086580086,
          -0.5,
          0.09945326278659615,
          -0.006666666666666672,
          -0.075,
          0.23174603174603176,
          0.050000000000000024,
          0.28,
          0.08055555555555555,
          0.02439613526570049,
          0.027190476190476192,
          -0.07772727272727273,
          0.09638888888888891,
          0.13333333333333333,
          0.13706349206349208,
          -0.041147342995169096,
          -0.22727272727272727,
          0,
          -0.2571428571428572,
          0,
          0,
          0,
          0.039772727272727286,
          0.05000000000000003,
          0.04375,
          0.1353740662931839,
          0.0629120879120879,
          -0.3416666666666666,
          0.11428571428571431,
          -0.05730994152046783,
          0.56,
          0,
          0.03743961352657005,
          -0.009081439393939388,
          -0.42500000000000004,
          0.11269841269841269,
          0.14814814814814814,
          -0.040129665798611124,
          0,
          0.2,
          0.13727272727272727,
          0.3,
          0.12207792207792208,
          0.06903318903318904,
          0.036904761904761905,
          0.05466470258136927,
          -0.019215969215969214,
          0.04977213541666667,
          0.32430555555555557,
          0.6333333333333333,
          0.15,
          0.5,
          0.26666666666666666,
          -0.020580808080808078,
          0.09184027777777778,
          0.175,
          0.026730599647266318,
          0.31981026785714284,
          -0.05625,
          0.0419140625,
          0.02013888888888889,
          -0.12351190476190477,
          0.17592592592592593,
          0.03742559523809525,
          0.1109375,
          -0.02537037037037039,
          0,
          0,
          0,
          0.09517149517149517,
          0.07742063492063493,
          0.025,
          0.13636363636363635,
          -0.04047619047619048,
          -0.010389610389610388,
          0.01380952380952381,
          0.10000000000000002,
          0.035956937799043055,
          0,
          0,
          0.009774436090225578,
          0.17708333333333334,
          0.015277777777777779,
          -0.08333333333333333,
          0.1149122807017544,
          0.14305555555555557,
          0.1,
          0.08742027417027418,
          -0.004417989417989426,
          0.06401098901098902,
          -0.15555555555555559,
          0.09712744882236406,
          0.199906015037594,
          0.21666666666666667,
          -0.033333333333333326,
          0,
          0.1583333333333333,
          0.06666666666666664,
          -0.058333333333333334,
          0.13417548500881832,
          -0.2254251700680272,
          0.10897065897065895,
          0.06758503401360542,
          -0.02291666666666668,
          0.11769360269360273,
          -0.23333333333333334,
          -0.09333333333333334,
          0.04583333333333335,
          -0.1264236111111111,
          -0.03636363636363636,
          0.037500000000000006,
          0,
          -0.05,
          0.25,
          0.15555555555555556,
          0.14523809523809525,
          0.08949197860962567,
          0.031003584229390667,
          0.38690476190476186,
          -0.08333333333333333,
          0.4333333333333333,
          0.07147019647019646,
          0.12272727272727271,
          -0.06499999999999999,
          -0.02187499999999999,
          0,
          0.04074074074074074,
          0.1138724481347432,
          -0.27499999999999997,
          0.20833333333333334,
          -0.4,
          0.09586666666666666,
          0.09027777777777778,
          -0.2107638888888889,
          0.1481962481962482,
          0.26666666666666666,
          0.03150448585231194,
          0.13398268398268398,
          0,
          0.016666666666666677,
          -0.022857142857142864,
          0.20244140625,
          0.3770833333333333,
          0.6,
          -0.2717787114845938,
          0.024074074074074067,
          0.4166666666666667,
          0,
          -0.1606060606060606,
          -0.004166666666666652,
          0.18333333333333335,
          0.1333333333333334,
          -0.05208333333333332,
          0.001450689565443655,
          -0.0362068965517241,
          0.09902146464646465,
          0.5235227272727273,
          0.04863636363636363,
          -0.013194444444444444,
          0.39285714285714285,
          0.11818181818181818,
          -0.8,
          -0.24523809523809523,
          -0.15555555555555556,
          0.21770334928229668,
          0.02251984126984128,
          -0.008963317384370015,
          0.08055555555555555,
          0.19746647509578547,
          0.09432773109243699,
          0,
          0.006899978741496603,
          0.39999999999999997,
          0.31714285714285717,
          0.015058750773036518,
          0.15772321428571426,
          -0.3,
          0,
          0,
          0.16444444444444442,
          -0.2725,
          -0.065625,
          0.21428571428571427,
          -0.08584656084656084,
          0.010045749704840618,
          -0.15666666666666668,
          0.5666666666666667,
          0,
          0.24375,
          0.24500000000000002,
          0.10032051282051282,
          0.10059808612440191,
          0.1826969696969697,
          -0.18238536155202822,
          -0.25069444444444444,
          0.16722222222222224,
          0.3333333333333333,
          -0.6,
          0.015221088435374128,
          0.07969576719576721,
          0.5,
          0.08641456582633053,
          0.325625,
          -0.13333333333333333,
          0.04444444444444443,
          -0.015000000000000024,
          0.06041666666666667,
          0.3833333333333333,
          -0.15,
          -0.5,
          0.0880952380952381,
          -0.5,
          0.008942307692307694,
          -0.09489795918367348,
          0.20090702947845807,
          -0.003445945945945934,
          0.08482142857142858,
          -0.12,
          0.143125,
          0.19999999999999998,
          0.3271428571428571,
          0.05169299450549451,
          -0.01732275132275134,
          0.14816666666666664,
          -0.11999999999999997,
          0.05620039682539682,
          0.03194444444444445,
          0.10664983164983166,
          -0.5,
          0.1037037037037037,
          0.08367346938775509,
          0.06818181818181818,
          0,
          0,
          0.253125,
          0.18548036758563072,
          0.18611111111111112,
          0.1962121212121212,
          0.15,
          0.1422222222222222,
          0.03703703703703703,
          0.1459090909090909,
          0.20000000000000004,
          0,
          0.55,
          0.7,
          0.18337053571428572,
          0,
          0.17372134038800702,
          0,
          0.2971428571428571,
          0.7,
          0.013031233998975935,
          0.875
         ]
        }
       ],
       "layout": {
        "barmode": "overlay",
        "legend": {
         "bgcolor": "#F5F6F9",
         "font": {
          "color": "#4D5663"
         }
        },
        "paper_bgcolor": "#F5F6F9",
        "plot_bgcolor": "#F5F6F9",
        "template": {
         "data": {
          "bar": [
           {
            "error_x": {
             "color": "#2a3f5f"
            },
            "error_y": {
             "color": "#2a3f5f"
            },
            "marker": {
             "line": {
              "color": "#E5ECF6",
              "width": 0.5
             }
            },
            "type": "bar"
           }
          ],
          "barpolar": [
           {
            "marker": {
             "line": {
              "color": "#E5ECF6",
              "width": 0.5
             }
            },
            "type": "barpolar"
           }
          ],
          "carpet": [
           {
            "aaxis": {
             "endlinecolor": "#2a3f5f",
             "gridcolor": "white",
             "linecolor": "white",
             "minorgridcolor": "white",
             "startlinecolor": "#2a3f5f"
            },
            "baxis": {
             "endlinecolor": "#2a3f5f",
             "gridcolor": "white",
             "linecolor": "white",
             "minorgridcolor": "white",
             "startlinecolor": "#2a3f5f"
            },
            "type": "carpet"
           }
          ],
          "choropleth": [
           {
            "colorbar": {
             "outlinewidth": 0,
             "ticks": ""
            },
            "type": "choropleth"
           }
          ],
          "contour": [
           {
            "colorbar": {
             "outlinewidth": 0,
             "ticks": ""
            },
            "colorscale": [
             [
              0,
              "#0d0887"
             ],
             [
              0.1111111111111111,
              "#46039f"
             ],
             [
              0.2222222222222222,
              "#7201a8"
             ],
             [
              0.3333333333333333,
              "#9c179e"
             ],
             [
              0.4444444444444444,
              "#bd3786"
             ],
             [
              0.5555555555555556,
              "#d8576b"
             ],
             [
              0.6666666666666666,
              "#ed7953"
             ],
             [
              0.7777777777777778,
              "#fb9f3a"
             ],
             [
              0.8888888888888888,
              "#fdca26"
             ],
             [
              1,
              "#f0f921"
             ]
            ],
            "type": "contour"
           }
          ],
          "contourcarpet": [
           {
            "colorbar": {
             "outlinewidth": 0,
             "ticks": ""
            },
            "type": "contourcarpet"
           }
          ],
          "heatmap": [
           {
            "colorbar": {
             "outlinewidth": 0,
             "ticks": ""
            },
            "colorscale": [
             [
              0,
              "#0d0887"
             ],
             [
              0.1111111111111111,
              "#46039f"
             ],
             [
              0.2222222222222222,
              "#7201a8"
             ],
             [
              0.3333333333333333,
              "#9c179e"
             ],
             [
              0.4444444444444444,
              "#bd3786"
             ],
             [
              0.5555555555555556,
              "#d8576b"
             ],
             [
              0.6666666666666666,
              "#ed7953"
             ],
             [
              0.7777777777777778,
              "#fb9f3a"
             ],
             [
              0.8888888888888888,
              "#fdca26"
             ],
             [
              1,
              "#f0f921"
             ]
            ],
            "type": "heatmap"
           }
          ],
          "heatmapgl": [
           {
            "colorbar": {
             "outlinewidth": 0,
             "ticks": ""
            },
            "colorscale": [
             [
              0,
              "#0d0887"
             ],
             [
              0.1111111111111111,
              "#46039f"
             ],
             [
              0.2222222222222222,
              "#7201a8"
             ],
             [
              0.3333333333333333,
              "#9c179e"
             ],
             [
              0.4444444444444444,
              "#bd3786"
             ],
             [
              0.5555555555555556,
              "#d8576b"
             ],
             [
              0.6666666666666666,
              "#ed7953"
             ],
             [
              0.7777777777777778,
              "#fb9f3a"
             ],
             [
              0.8888888888888888,
              "#fdca26"
             ],
             [
              1,
              "#f0f921"
             ]
            ],
            "type": "heatmapgl"
           }
          ],
          "histogram": [
           {
            "marker": {
             "colorbar": {
              "outlinewidth": 0,
              "ticks": ""
             }
            },
            "type": "histogram"
           }
          ],
          "histogram2d": [
           {
            "colorbar": {
             "outlinewidth": 0,
             "ticks": ""
            },
            "colorscale": [
             [
              0,
              "#0d0887"
             ],
             [
              0.1111111111111111,
              "#46039f"
             ],
             [
              0.2222222222222222,
              "#7201a8"
             ],
             [
              0.3333333333333333,
              "#9c179e"
             ],
             [
              0.4444444444444444,
              "#bd3786"
             ],
             [
              0.5555555555555556,
              "#d8576b"
             ],
             [
              0.6666666666666666,
              "#ed7953"
             ],
             [
              0.7777777777777778,
              "#fb9f3a"
             ],
             [
              0.8888888888888888,
              "#fdca26"
             ],
             [
              1,
              "#f0f921"
             ]
            ],
            "type": "histogram2d"
           }
          ],
          "histogram2dcontour": [
           {
            "colorbar": {
             "outlinewidth": 0,
             "ticks": ""
            },
            "colorscale": [
             [
              0,
              "#0d0887"
             ],
             [
              0.1111111111111111,
              "#46039f"
             ],
             [
              0.2222222222222222,
              "#7201a8"
             ],
             [
              0.3333333333333333,
              "#9c179e"
             ],
             [
              0.4444444444444444,
              "#bd3786"
             ],
             [
              0.5555555555555556,
              "#d8576b"
             ],
             [
              0.6666666666666666,
              "#ed7953"
             ],
             [
              0.7777777777777778,
              "#fb9f3a"
             ],
             [
              0.8888888888888888,
              "#fdca26"
             ],
             [
              1,
              "#f0f921"
             ]
            ],
            "type": "histogram2dcontour"
           }
          ],
          "mesh3d": [
           {
            "colorbar": {
             "outlinewidth": 0,
             "ticks": ""
            },
            "type": "mesh3d"
           }
          ],
          "parcoords": [
           {
            "line": {
             "colorbar": {
              "outlinewidth": 0,
              "ticks": ""
             }
            },
            "type": "parcoords"
           }
          ],
          "pie": [
           {
            "automargin": true,
            "type": "pie"
           }
          ],
          "scatter": [
           {
            "marker": {
             "colorbar": {
              "outlinewidth": 0,
              "ticks": ""
             }
            },
            "type": "scatter"
           }
          ],
          "scatter3d": [
           {
            "line": {
             "colorbar": {
              "outlinewidth": 0,
              "ticks": ""
             }
            },
            "marker": {
             "colorbar": {
              "outlinewidth": 0,
              "ticks": ""
             }
            },
            "type": "scatter3d"
           }
          ],
          "scattercarpet": [
           {
            "marker": {
             "colorbar": {
              "outlinewidth": 0,
              "ticks": ""
             }
            },
            "type": "scattercarpet"
           }
          ],
          "scattergeo": [
           {
            "marker": {
             "colorbar": {
              "outlinewidth": 0,
              "ticks": ""
             }
            },
            "type": "scattergeo"
           }
          ],
          "scattergl": [
           {
            "marker": {
             "colorbar": {
              "outlinewidth": 0,
              "ticks": ""
             }
            },
            "type": "scattergl"
           }
          ],
          "scattermapbox": [
           {
            "marker": {
             "colorbar": {
              "outlinewidth": 0,
              "ticks": ""
             }
            },
            "type": "scattermapbox"
           }
          ],
          "scatterpolar": [
           {
            "marker": {
             "colorbar": {
              "outlinewidth": 0,
              "ticks": ""
             }
            },
            "type": "scatterpolar"
           }
          ],
          "scatterpolargl": [
           {
            "marker": {
             "colorbar": {
              "outlinewidth": 0,
              "ticks": ""
             }
            },
            "type": "scatterpolargl"
           }
          ],
          "scatterternary": [
           {
            "marker": {
             "colorbar": {
              "outlinewidth": 0,
              "ticks": ""
             }
            },
            "type": "scatterternary"
           }
          ],
          "surface": [
           {
            "colorbar": {
             "outlinewidth": 0,
             "ticks": ""
            },
            "colorscale": [
             [
              0,
              "#0d0887"
             ],
             [
              0.1111111111111111,
              "#46039f"
             ],
             [
              0.2222222222222222,
              "#7201a8"
             ],
             [
              0.3333333333333333,
              "#9c179e"
             ],
             [
              0.4444444444444444,
              "#bd3786"
             ],
             [
              0.5555555555555556,
              "#d8576b"
             ],
             [
              0.6666666666666666,
              "#ed7953"
             ],
             [
              0.7777777777777778,
              "#fb9f3a"
             ],
             [
              0.8888888888888888,
              "#fdca26"
             ],
             [
              1,
              "#f0f921"
             ]
            ],
            "type": "surface"
           }
          ],
          "table": [
           {
            "cells": {
             "fill": {
              "color": "#EBF0F8"
             },
             "line": {
              "color": "white"
             }
            },
            "header": {
             "fill": {
              "color": "#C8D4E3"
             },
             "line": {
              "color": "white"
             }
            },
            "type": "table"
           }
          ]
         },
         "layout": {
          "annotationdefaults": {
           "arrowcolor": "#2a3f5f",
           "arrowhead": 0,
           "arrowwidth": 1
          },
          "autotypenumbers": "strict",
          "coloraxis": {
           "colorbar": {
            "outlinewidth": 0,
            "ticks": ""
           }
          },
          "colorscale": {
           "diverging": [
            [
             0,
             "#8e0152"
            ],
            [
             0.1,
             "#c51b7d"
            ],
            [
             0.2,
             "#de77ae"
            ],
            [
             0.3,
             "#f1b6da"
            ],
            [
             0.4,
             "#fde0ef"
            ],
            [
             0.5,
             "#f7f7f7"
            ],
            [
             0.6,
             "#e6f5d0"
            ],
            [
             0.7,
             "#b8e186"
            ],
            [
             0.8,
             "#7fbc41"
            ],
            [
             0.9,
             "#4d9221"
            ],
            [
             1,
             "#276419"
            ]
           ],
           "sequential": [
            [
             0,
             "#0d0887"
            ],
            [
             0.1111111111111111,
             "#46039f"
            ],
            [
             0.2222222222222222,
             "#7201a8"
            ],
            [
             0.3333333333333333,
             "#9c179e"
            ],
            [
             0.4444444444444444,
             "#bd3786"
            ],
            [
             0.5555555555555556,
             "#d8576b"
            ],
            [
             0.6666666666666666,
             "#ed7953"
            ],
            [
             0.7777777777777778,
             "#fb9f3a"
            ],
            [
             0.8888888888888888,
             "#fdca26"
            ],
            [
             1,
             "#f0f921"
            ]
           ],
           "sequentialminus": [
            [
             0,
             "#0d0887"
            ],
            [
             0.1111111111111111,
             "#46039f"
            ],
            [
             0.2222222222222222,
             "#7201a8"
            ],
            [
             0.3333333333333333,
             "#9c179e"
            ],
            [
             0.4444444444444444,
             "#bd3786"
            ],
            [
             0.5555555555555556,
             "#d8576b"
            ],
            [
             0.6666666666666666,
             "#ed7953"
            ],
            [
             0.7777777777777778,
             "#fb9f3a"
            ],
            [
             0.8888888888888888,
             "#fdca26"
            ],
            [
             1,
             "#f0f921"
            ]
           ]
          },
          "colorway": [
           "#636efa",
           "#EF553B",
           "#00cc96",
           "#ab63fa",
           "#FFA15A",
           "#19d3f3",
           "#FF6692",
           "#B6E880",
           "#FF97FF",
           "#FECB52"
          ],
          "font": {
           "color": "#2a3f5f"
          },
          "geo": {
           "bgcolor": "white",
           "lakecolor": "white",
           "landcolor": "#E5ECF6",
           "showlakes": true,
           "showland": true,
           "subunitcolor": "white"
          },
          "hoverlabel": {
           "align": "left"
          },
          "hovermode": "closest",
          "mapbox": {
           "style": "light"
          },
          "paper_bgcolor": "white",
          "plot_bgcolor": "#E5ECF6",
          "polar": {
           "angularaxis": {
            "gridcolor": "white",
            "linecolor": "white",
            "ticks": ""
           },
           "bgcolor": "#E5ECF6",
           "radialaxis": {
            "gridcolor": "white",
            "linecolor": "white",
            "ticks": ""
           }
          },
          "scene": {
           "xaxis": {
            "backgroundcolor": "#E5ECF6",
            "gridcolor": "white",
            "gridwidth": 2,
            "linecolor": "white",
            "showbackground": true,
            "ticks": "",
            "zerolinecolor": "white"
           },
           "yaxis": {
            "backgroundcolor": "#E5ECF6",
            "gridcolor": "white",
            "gridwidth": 2,
            "linecolor": "white",
            "showbackground": true,
            "ticks": "",
            "zerolinecolor": "white"
           },
           "zaxis": {
            "backgroundcolor": "#E5ECF6",
            "gridcolor": "white",
            "gridwidth": 2,
            "linecolor": "white",
            "showbackground": true,
            "ticks": "",
            "zerolinecolor": "white"
           }
          },
          "shapedefaults": {
           "line": {
            "color": "#2a3f5f"
           }
          },
          "ternary": {
           "aaxis": {
            "gridcolor": "white",
            "linecolor": "white",
            "ticks": ""
           },
           "baxis": {
            "gridcolor": "white",
            "linecolor": "white",
            "ticks": ""
           },
           "bgcolor": "#E5ECF6",
           "caxis": {
            "gridcolor": "white",
            "linecolor": "white",
            "ticks": ""
           }
          },
          "title": {
           "x": 0.05
          },
          "xaxis": {
           "automargin": true,
           "gridcolor": "white",
           "linecolor": "white",
           "ticks": "",
           "title": {
            "standoff": 15
           },
           "zerolinecolor": "white",
           "zerolinewidth": 2
          },
          "yaxis": {
           "automargin": true,
           "gridcolor": "white",
           "linecolor": "white",
           "ticks": "",
           "title": {
            "standoff": 15
           },
           "zerolinecolor": "white",
           "zerolinewidth": 2
          }
         }
        },
        "title": {
         "font": {
          "color": "#4D5663"
         },
         "text": "Sentiment Polarity Distribution"
        },
        "xaxis": {
         "gridcolor": "#E1E5ED",
         "linecolor": "black",
         "showgrid": true,
         "tickfont": {
          "color": "#4D5663"
         },
         "title": {
          "font": {
           "color": "#4D5663"
          },
          "text": "polarity"
         },
         "zerolinecolor": "#E1E5ED"
        },
        "yaxis": {
         "gridcolor": "#E1E5ED",
         "linecolor": "black",
         "showgrid": true,
         "tickfont": {
          "color": "#4D5663"
         },
         "title": {
          "font": {
           "color": "#4D5663"
          },
          "text": "count"
         },
         "zerolinecolor": "#E1E5ED"
        }
       }
      },
      "text/html": [
       "<div>                            <div id=\"d47e3bbf-c165-40ca-8691-f42b51f5a215\" class=\"plotly-graph-div\" style=\"height:525px; width:100%;\"></div>            <script type=\"text/javascript\">                require([\"plotly\"], function(Plotly) {                    window.PLOTLYENV=window.PLOTLYENV || {};\n",
       "                    window.PLOTLYENV.BASE_URL='https://plot.ly';                                    if (document.getElementById(\"d47e3bbf-c165-40ca-8691-f42b51f5a215\")) {                    Plotly.newPlot(                        \"d47e3bbf-c165-40ca-8691-f42b51f5a215\",                        [{\"histfunc\": \"count\", \"histnorm\": \"\", \"marker\": {\"color\": \"rgba(255, 153, 51, 1.0)\", \"line\": {\"color\": \"#000000\", \"width\": 1.3}}, \"name\": \"polarity\", \"nbinsx\": 50, \"opacity\": 0.8, \"orientation\": \"v\", \"type\": \"histogram\", \"x\": [0.13609022556390976, 0.1476190476190476, 0.2918253968253968, 0.0, 0.09761904761904762, 0.04367413632119513, 0.75, -0.04603174603174603, -0.001527777777777775, -0.002800059417706492, 0.27499999999999997, 0.02259968102073365, 0.125, 0.3743506493506494, 0.14946428571428574, 0.08698945981554676, 0.20409902597402596, 0.08701195037401933, 0.23143274853801168, 0.06190476190476191, -0.12178571428571427, -0.14999999999999997, 0.03864276948389099, 0.17045887445887445, -0.1, 0.315018315018315, 0.19027777777777777, 0.1198705808080808, 0.41250000000000003, 0.22291666666666665, -0.03115740740740741, 0.05454545454545454, 0.06494895550970319, 0.0, 0.028571428571428564, 0.026190476190476205, -0.042929292929292935, 0.04246031746031746, -0.05520833333333332, 0.13636363636363635, -0.025, 0.051870748299319716, -0.10000000000000002, -0.016417497231450705, 0.0, 0.07857142857142858, 0.03673202614379085, 0.0, 0.5, -0.07999999999999999, 0.08276773595328282, 0.14267676767676765, -0.03550852439741329, 0.39999999999999997, 0.08483709273182959, -0.015593434343434348, 0.075, 0.09919590643274855, 0.010830280830280823, -0.051470588235294115, 0.011458333333333334, 0.19, 0.28421052631578947, 0.0027777777777778143, 0.10416666666666667, 0.27289855072463765, 0.21111111111111114, 0.07777777777777778, 0.18820861678004536, -0.061825396825396804, -0.044093406593406596, 0.0, 0.13707997311827955, -0.07936507936507937, 0.19402050057222475, -0.00362103174603174, 0.3833333333333333, 0.0921875, 0.0801388888888889, 0.13275613275613277, 0.12222222222222225, 0.18778467908902693, 0.1, 0.08958333333333335, 0.125, -0.06340740740740741, -0.13846153846153847, -0.062198515769944306, 0.06290123456790123, 0.032646780303030296, -0.05875, 0.003750000000000009, 0.09423076923076924, 0.10000000000000002, 0.022222222222222216, 0.15417610983787455, 0.13444444444444445, -0.023291715060007746, 0.15099206349206348, 0.18555555555555556, 0.11141215106732347, -0.02272727272727272, -0.0625, 0.07805059523809522, 0.13740601503759398, -0.2, -0.10694444444444444, -0.2, 0.23708333333333326, 0.09251785714285717, -0.8, 0.02425, 0.05221285273368606, 0.08703917050691241, 0.18585858585858583, -0.031895661157024774, -0.1375, 0.2869318181818182, 0.35, 0.12053221288515405, 0.0, -0.012500000000000002, -0.08061224489795918, 0.269005994005994, -0.05203373015873016, -0.04263038548752834, -0.039822595704948636, 0.10326585179526354, -0.25, 0.12988095238095237, 0.05136363636363637, -0.10999999999999996, 0.008333333333333331, -0.049358974358974364, 0.12575757575757573, 0.076510496671787, -0.08717948717948718, 0.0, 0.07936950456950458, 0.03497753899539613, 0.028510378510378517, 0.15, 0.4, 0.10876236858379713, -0.06784511784511785, 0.0, 0.0954861111111111, 0.28724489795918373, 0.12000000000000002, -0.044074074074074064, -0.06666666666666667, 0.0, -0.04285714285714286, 0.10363636363636364, -0.002615220559992449, 0.10857142857142857, 0.22500000000000003, 0.43333333333333335, 0.30000000000000004, 0.2, 0.14954545454545454, 0.0, 0.0, -0.09025873817540485, 0.035173160173160176, 0.0447463768115942, 0.0, 0.12270833333333334, 0.06739130434782609, -0.005499999999999994, 0.005555555555555559, 0.029629629629629634, -0.4666666666666666, 0.07279900332225916, 0.135, 0.05987373737373737, -0.21666666666666667, 0.0, 0.050000000000000024, -0.015695153061224494, 0.11646825396825396, 0.12172865013774103, -0.153125, 0.13686868686868686, -0.1, 0.1362139917695473, 0.04149080086580086, -0.5, 0.09945326278659615, -0.006666666666666672, -0.075, 0.23174603174603176, 0.050000000000000024, 0.28, 0.08055555555555555, 0.02439613526570049, 0.027190476190476192, -0.07772727272727273, 0.09638888888888891, 0.13333333333333333, 0.13706349206349208, -0.041147342995169096, -0.22727272727272727, 0.0, -0.2571428571428572, 0.0, 0.0, 0.0, 0.039772727272727286, 0.05000000000000003, 0.04375, 0.1353740662931839, 0.0629120879120879, -0.3416666666666666, 0.11428571428571431, -0.05730994152046783, 0.56, 0.0, 0.03743961352657005, -0.009081439393939388, -0.42500000000000004, 0.11269841269841269, 0.14814814814814814, -0.040129665798611124, 0.0, 0.2, 0.13727272727272727, 0.3, 0.12207792207792208, 0.06903318903318904, 0.036904761904761905, 0.05466470258136927, -0.019215969215969214, 0.04977213541666667, 0.32430555555555557, 0.6333333333333333, 0.15, 0.5, 0.26666666666666666, -0.020580808080808078, 0.09184027777777778, 0.175, 0.026730599647266318, 0.31981026785714284, -0.05625, 0.0419140625, 0.02013888888888889, -0.12351190476190477, 0.17592592592592593, 0.03742559523809525, 0.1109375, -0.02537037037037039, 0.0, 0.0, 0.0, 0.09517149517149517, 0.07742063492063493, 0.025, 0.13636363636363635, -0.04047619047619048, -0.010389610389610388, 0.01380952380952381, 0.10000000000000002, 0.035956937799043055, 0.0, 0.0, 0.009774436090225578, 0.17708333333333334, 0.015277777777777779, -0.08333333333333333, 0.1149122807017544, 0.14305555555555557, 0.1, 0.08742027417027418, -0.004417989417989426, 0.06401098901098902, -0.15555555555555559, 0.09712744882236406, 0.199906015037594, 0.21666666666666667, -0.033333333333333326, 0.0, 0.1583333333333333, 0.06666666666666664, -0.058333333333333334, 0.13417548500881832, -0.2254251700680272, 0.10897065897065895, 0.06758503401360542, -0.02291666666666668, 0.11769360269360273, -0.23333333333333334, -0.09333333333333334, 0.04583333333333335, -0.1264236111111111, -0.03636363636363636, 0.037500000000000006, 0.0, -0.05, 0.25, 0.15555555555555556, 0.14523809523809525, 0.08949197860962567, 0.031003584229390667, 0.38690476190476186, -0.08333333333333333, 0.4333333333333333, 0.07147019647019646, 0.12272727272727271, -0.06499999999999999, -0.02187499999999999, 0.0, 0.04074074074074074, 0.1138724481347432, -0.27499999999999997, 0.20833333333333334, -0.4, 0.09586666666666666, 0.09027777777777778, -0.2107638888888889, 0.1481962481962482, 0.26666666666666666, 0.03150448585231194, 0.13398268398268398, 0.0, 0.016666666666666677, -0.022857142857142864, 0.20244140625, 0.3770833333333333, 0.6, -0.2717787114845938, 0.024074074074074067, 0.4166666666666667, 0.0, -0.1606060606060606, -0.004166666666666652, 0.18333333333333335, 0.1333333333333334, -0.05208333333333332, 0.001450689565443655, -0.0362068965517241, 0.09902146464646465, 0.5235227272727273, 0.04863636363636363, -0.013194444444444444, 0.39285714285714285, 0.11818181818181818, -0.8, -0.24523809523809523, -0.15555555555555556, 0.21770334928229668, 0.02251984126984128, -0.008963317384370015, 0.08055555555555555, 0.19746647509578547, 0.09432773109243699, 0.0, 0.006899978741496603, 0.39999999999999997, 0.31714285714285717, 0.015058750773036518, 0.15772321428571426, -0.3, 0.0, 0.0, 0.16444444444444442, -0.2725, -0.065625, 0.21428571428571427, -0.08584656084656084, 0.010045749704840618, -0.15666666666666668, 0.5666666666666667, 0.0, 0.24375, 0.24500000000000002, 0.10032051282051282, 0.10059808612440191, 0.1826969696969697, -0.18238536155202822, -0.25069444444444444, 0.16722222222222224, 0.3333333333333333, -0.6, 0.015221088435374128, 0.07969576719576721, 0.5, 0.08641456582633053, 0.325625, -0.13333333333333333, 0.04444444444444443, -0.015000000000000024, 0.06041666666666667, 0.3833333333333333, -0.15, -0.5, 0.0880952380952381, -0.5, 0.008942307692307694, -0.09489795918367348, 0.20090702947845807, -0.003445945945945934, 0.08482142857142858, -0.12, 0.143125, 0.19999999999999998, 0.3271428571428571, 0.05169299450549451, -0.01732275132275134, 0.14816666666666664, -0.11999999999999997, 0.05620039682539682, 0.03194444444444445, 0.10664983164983166, -0.5, 0.1037037037037037, 0.08367346938775509, 0.06818181818181818, 0.0, 0.0, 0.253125, 0.18548036758563072, 0.18611111111111112, 0.1962121212121212, 0.15, 0.1422222222222222, 0.03703703703703703, 0.1459090909090909, 0.20000000000000004, 0.0, 0.55, 0.7, 0.18337053571428572, 0.0, 0.17372134038800702, 0.0, 0.2971428571428571, 0.7, 0.013031233998975935, 0.875]}],                        {\"barmode\": \"overlay\", \"legend\": {\"bgcolor\": \"#F5F6F9\", \"font\": {\"color\": \"#4D5663\"}}, \"paper_bgcolor\": \"#F5F6F9\", \"plot_bgcolor\": \"#F5F6F9\", \"template\": {\"data\": {\"bar\": [{\"error_x\": {\"color\": \"#2a3f5f\"}, \"error_y\": {\"color\": \"#2a3f5f\"}, \"marker\": {\"line\": {\"color\": \"#E5ECF6\", \"width\": 0.5}}, \"type\": \"bar\"}], \"barpolar\": [{\"marker\": {\"line\": {\"color\": \"#E5ECF6\", \"width\": 0.5}}, \"type\": \"barpolar\"}], \"carpet\": [{\"aaxis\": {\"endlinecolor\": \"#2a3f5f\", \"gridcolor\": \"white\", \"linecolor\": \"white\", \"minorgridcolor\": \"white\", \"startlinecolor\": \"#2a3f5f\"}, \"baxis\": {\"endlinecolor\": \"#2a3f5f\", \"gridcolor\": \"white\", \"linecolor\": \"white\", \"minorgridcolor\": \"white\", \"startlinecolor\": \"#2a3f5f\"}, \"type\": \"carpet\"}], \"choropleth\": [{\"colorbar\": {\"outlinewidth\": 0, \"ticks\": \"\"}, \"type\": \"choropleth\"}], \"contour\": [{\"colorbar\": {\"outlinewidth\": 0, \"ticks\": \"\"}, \"colorscale\": [[0.0, \"#0d0887\"], [0.1111111111111111, \"#46039f\"], [0.2222222222222222, \"#7201a8\"], [0.3333333333333333, \"#9c179e\"], [0.4444444444444444, \"#bd3786\"], [0.5555555555555556, \"#d8576b\"], [0.6666666666666666, \"#ed7953\"], [0.7777777777777778, \"#fb9f3a\"], [0.8888888888888888, \"#fdca26\"], [1.0, \"#f0f921\"]], \"type\": \"contour\"}], \"contourcarpet\": [{\"colorbar\": {\"outlinewidth\": 0, \"ticks\": \"\"}, \"type\": \"contourcarpet\"}], \"heatmap\": [{\"colorbar\": {\"outlinewidth\": 0, \"ticks\": \"\"}, \"colorscale\": [[0.0, \"#0d0887\"], [0.1111111111111111, \"#46039f\"], [0.2222222222222222, \"#7201a8\"], [0.3333333333333333, \"#9c179e\"], [0.4444444444444444, \"#bd3786\"], [0.5555555555555556, \"#d8576b\"], [0.6666666666666666, \"#ed7953\"], [0.7777777777777778, \"#fb9f3a\"], [0.8888888888888888, \"#fdca26\"], [1.0, \"#f0f921\"]], \"type\": \"heatmap\"}], \"heatmapgl\": [{\"colorbar\": {\"outlinewidth\": 0, \"ticks\": \"\"}, \"colorscale\": [[0.0, \"#0d0887\"], [0.1111111111111111, \"#46039f\"], [0.2222222222222222, \"#7201a8\"], [0.3333333333333333, \"#9c179e\"], [0.4444444444444444, \"#bd3786\"], [0.5555555555555556, \"#d8576b\"], [0.6666666666666666, \"#ed7953\"], [0.7777777777777778, \"#fb9f3a\"], [0.8888888888888888, \"#fdca26\"], [1.0, \"#f0f921\"]], \"type\": \"heatmapgl\"}], \"histogram\": [{\"marker\": {\"colorbar\": {\"outlinewidth\": 0, \"ticks\": \"\"}}, \"type\": \"histogram\"}], \"histogram2d\": [{\"colorbar\": {\"outlinewidth\": 0, \"ticks\": \"\"}, \"colorscale\": [[0.0, \"#0d0887\"], [0.1111111111111111, \"#46039f\"], [0.2222222222222222, \"#7201a8\"], [0.3333333333333333, \"#9c179e\"], [0.4444444444444444, \"#bd3786\"], [0.5555555555555556, \"#d8576b\"], [0.6666666666666666, \"#ed7953\"], [0.7777777777777778, \"#fb9f3a\"], [0.8888888888888888, \"#fdca26\"], [1.0, \"#f0f921\"]], \"type\": \"histogram2d\"}], \"histogram2dcontour\": [{\"colorbar\": {\"outlinewidth\": 0, \"ticks\": \"\"}, \"colorscale\": [[0.0, \"#0d0887\"], [0.1111111111111111, \"#46039f\"], [0.2222222222222222, \"#7201a8\"], [0.3333333333333333, \"#9c179e\"], [0.4444444444444444, \"#bd3786\"], [0.5555555555555556, \"#d8576b\"], [0.6666666666666666, \"#ed7953\"], [0.7777777777777778, \"#fb9f3a\"], [0.8888888888888888, \"#fdca26\"], [1.0, \"#f0f921\"]], \"type\": \"histogram2dcontour\"}], \"mesh3d\": [{\"colorbar\": {\"outlinewidth\": 0, \"ticks\": \"\"}, \"type\": \"mesh3d\"}], \"parcoords\": [{\"line\": {\"colorbar\": {\"outlinewidth\": 0, \"ticks\": \"\"}}, \"type\": \"parcoords\"}], \"pie\": [{\"automargin\": true, \"type\": \"pie\"}], \"scatter\": [{\"marker\": {\"colorbar\": {\"outlinewidth\": 0, \"ticks\": \"\"}}, \"type\": \"scatter\"}], \"scatter3d\": [{\"line\": {\"colorbar\": {\"outlinewidth\": 0, \"ticks\": \"\"}}, \"marker\": {\"colorbar\": {\"outlinewidth\": 0, \"ticks\": \"\"}}, \"type\": \"scatter3d\"}], \"scattercarpet\": [{\"marker\": {\"colorbar\": {\"outlinewidth\": 0, \"ticks\": \"\"}}, \"type\": \"scattercarpet\"}], \"scattergeo\": [{\"marker\": {\"colorbar\": {\"outlinewidth\": 0, \"ticks\": \"\"}}, \"type\": \"scattergeo\"}], \"scattergl\": [{\"marker\": {\"colorbar\": {\"outlinewidth\": 0, \"ticks\": \"\"}}, \"type\": \"scattergl\"}], \"scattermapbox\": [{\"marker\": {\"colorbar\": {\"outlinewidth\": 0, \"ticks\": \"\"}}, \"type\": \"scattermapbox\"}], \"scatterpolar\": [{\"marker\": {\"colorbar\": {\"outlinewidth\": 0, \"ticks\": \"\"}}, \"type\": \"scatterpolar\"}], \"scatterpolargl\": [{\"marker\": {\"colorbar\": {\"outlinewidth\": 0, \"ticks\": \"\"}}, \"type\": \"scatterpolargl\"}], \"scatterternary\": [{\"marker\": {\"colorbar\": {\"outlinewidth\": 0, \"ticks\": \"\"}}, \"type\": \"scatterternary\"}], \"surface\": [{\"colorbar\": {\"outlinewidth\": 0, \"ticks\": \"\"}, \"colorscale\": [[0.0, \"#0d0887\"], [0.1111111111111111, \"#46039f\"], [0.2222222222222222, \"#7201a8\"], [0.3333333333333333, \"#9c179e\"], [0.4444444444444444, \"#bd3786\"], [0.5555555555555556, \"#d8576b\"], [0.6666666666666666, \"#ed7953\"], [0.7777777777777778, \"#fb9f3a\"], [0.8888888888888888, \"#fdca26\"], [1.0, \"#f0f921\"]], \"type\": \"surface\"}], \"table\": [{\"cells\": {\"fill\": {\"color\": \"#EBF0F8\"}, \"line\": {\"color\": \"white\"}}, \"header\": {\"fill\": {\"color\": \"#C8D4E3\"}, \"line\": {\"color\": \"white\"}}, \"type\": \"table\"}]}, \"layout\": {\"annotationdefaults\": {\"arrowcolor\": \"#2a3f5f\", \"arrowhead\": 0, \"arrowwidth\": 1}, \"autotypenumbers\": \"strict\", \"coloraxis\": {\"colorbar\": {\"outlinewidth\": 0, \"ticks\": \"\"}}, \"colorscale\": {\"diverging\": [[0, \"#8e0152\"], [0.1, \"#c51b7d\"], [0.2, \"#de77ae\"], [0.3, \"#f1b6da\"], [0.4, \"#fde0ef\"], [0.5, \"#f7f7f7\"], [0.6, \"#e6f5d0\"], [0.7, \"#b8e186\"], [0.8, \"#7fbc41\"], [0.9, \"#4d9221\"], [1, \"#276419\"]], \"sequential\": [[0.0, \"#0d0887\"], [0.1111111111111111, \"#46039f\"], [0.2222222222222222, \"#7201a8\"], [0.3333333333333333, \"#9c179e\"], [0.4444444444444444, \"#bd3786\"], [0.5555555555555556, \"#d8576b\"], [0.6666666666666666, \"#ed7953\"], [0.7777777777777778, \"#fb9f3a\"], [0.8888888888888888, \"#fdca26\"], [1.0, \"#f0f921\"]], \"sequentialminus\": [[0.0, \"#0d0887\"], [0.1111111111111111, \"#46039f\"], [0.2222222222222222, \"#7201a8\"], [0.3333333333333333, \"#9c179e\"], [0.4444444444444444, \"#bd3786\"], [0.5555555555555556, \"#d8576b\"], [0.6666666666666666, \"#ed7953\"], [0.7777777777777778, \"#fb9f3a\"], [0.8888888888888888, \"#fdca26\"], [1.0, \"#f0f921\"]]}, \"colorway\": [\"#636efa\", \"#EF553B\", \"#00cc96\", \"#ab63fa\", \"#FFA15A\", \"#19d3f3\", \"#FF6692\", \"#B6E880\", \"#FF97FF\", \"#FECB52\"], \"font\": {\"color\": \"#2a3f5f\"}, \"geo\": {\"bgcolor\": \"white\", \"lakecolor\": \"white\", \"landcolor\": \"#E5ECF6\", \"showlakes\": true, \"showland\": true, \"subunitcolor\": \"white\"}, \"hoverlabel\": {\"align\": \"left\"}, \"hovermode\": \"closest\", \"mapbox\": {\"style\": \"light\"}, \"paper_bgcolor\": \"white\", \"plot_bgcolor\": \"#E5ECF6\", \"polar\": {\"angularaxis\": {\"gridcolor\": \"white\", \"linecolor\": \"white\", \"ticks\": \"\"}, \"bgcolor\": \"#E5ECF6\", \"radialaxis\": {\"gridcolor\": \"white\", \"linecolor\": \"white\", \"ticks\": \"\"}}, \"scene\": {\"xaxis\": {\"backgroundcolor\": \"#E5ECF6\", \"gridcolor\": \"white\", \"gridwidth\": 2, \"linecolor\": \"white\", \"showbackground\": true, \"ticks\": \"\", \"zerolinecolor\": \"white\"}, \"yaxis\": {\"backgroundcolor\": \"#E5ECF6\", \"gridcolor\": \"white\", \"gridwidth\": 2, \"linecolor\": \"white\", \"showbackground\": true, \"ticks\": \"\", \"zerolinecolor\": \"white\"}, \"zaxis\": {\"backgroundcolor\": \"#E5ECF6\", \"gridcolor\": \"white\", \"gridwidth\": 2, \"linecolor\": \"white\", \"showbackground\": true, \"ticks\": \"\", \"zerolinecolor\": \"white\"}}, \"shapedefaults\": {\"line\": {\"color\": \"#2a3f5f\"}}, \"ternary\": {\"aaxis\": {\"gridcolor\": \"white\", \"linecolor\": \"white\", \"ticks\": \"\"}, \"baxis\": {\"gridcolor\": \"white\", \"linecolor\": \"white\", \"ticks\": \"\"}, \"bgcolor\": \"#E5ECF6\", \"caxis\": {\"gridcolor\": \"white\", \"linecolor\": \"white\", \"ticks\": \"\"}}, \"title\": {\"x\": 0.05}, \"xaxis\": {\"automargin\": true, \"gridcolor\": \"white\", \"linecolor\": \"white\", \"ticks\": \"\", \"title\": {\"standoff\": 15}, \"zerolinecolor\": \"white\", \"zerolinewidth\": 2}, \"yaxis\": {\"automargin\": true, \"gridcolor\": \"white\", \"linecolor\": \"white\", \"ticks\": \"\", \"title\": {\"standoff\": 15}, \"zerolinecolor\": \"white\", \"zerolinewidth\": 2}}}, \"title\": {\"font\": {\"color\": \"#4D5663\"}, \"text\": \"Sentiment Polarity Distribution\"}, \"xaxis\": {\"gridcolor\": \"#E1E5ED\", \"linecolor\": \"black\", \"showgrid\": true, \"tickfont\": {\"color\": \"#4D5663\"}, \"title\": {\"font\": {\"color\": \"#4D5663\"}, \"text\": \"polarity\"}, \"zerolinecolor\": \"#E1E5ED\"}, \"yaxis\": {\"gridcolor\": \"#E1E5ED\", \"linecolor\": \"black\", \"showgrid\": true, \"tickfont\": {\"color\": \"#4D5663\"}, \"title\": {\"font\": {\"color\": \"#4D5663\"}, \"text\": \"count\"}, \"zerolinecolor\": \"#E1E5ED\"}},                        {\"showLink\": true, \"linkText\": \"Export to plot.ly\", \"plotlyServerURL\": \"https://plot.ly\", \"responsive\": true}                    ).then(function(){\n",
       "                            \n",
       "var gd = document.getElementById('d47e3bbf-c165-40ca-8691-f42b51f5a215');\n",
       "var x = new MutationObserver(function (mutations, observer) {{\n",
       "        var display = window.getComputedStyle(gd).display;\n",
       "        if (!display || display === 'none') {{\n",
       "            console.log([gd, 'removed!']);\n",
       "            Plotly.purge(gd);\n",
       "            observer.disconnect();\n",
       "        }}\n",
       "}});\n",
       "\n",
       "// Listen for the removal of the full notebook cells\n",
       "var notebookContainer = gd.closest('#notebook-container');\n",
       "if (notebookContainer) {{\n",
       "    x.observe(notebookContainer, {childList: true});\n",
       "}}\n",
       "\n",
       "// Listen for the clearing of the current output cell\n",
       "var outputEl = gd.closest('.output');\n",
       "if (outputEl) {{\n",
       "    x.observe(outputEl, {childList: true});\n",
       "}}\n",
       "\n",
       "                        })                };                });            </script>        </div>"
      ]
     },
     "metadata": {},
     "output_type": "display_data"
    }
   ],
   "source": [
    "df['polarity'].iplot(\n",
    "    kind='hist',\n",
    "    bins=50,\n",
    "    xTitle='polarity',\n",
    "    linecolor='black',\n",
    "    yTitle='count',\n",
    "    title='Sentiment Polarity Distribution')"
   ]
  },
  {
   "cell_type": "markdown",
   "id": "c62f832d",
   "metadata": {},
   "source": [
    "## Top 20 words mentioned"
   ]
  },
  {
   "cell_type": "code",
   "execution_count": 32,
   "id": "8b02cd3d",
   "metadata": {},
   "outputs": [
    {
     "name": "stdout",
     "output_type": "stream",
     "text": [
      "uber 379\n",
      "car 362\n",
      "just 307\n",
      "ride 294\n",
      "pax 254\n",
      "said 252\n",
      "like 214\n",
      "time 207\n",
      "got 201\n",
      "minutes 192\n",
      "driver 176\n",
      "going 171\n",
      "don 168\n",
      "did 147\n",
      "told 145\n",
      "trip 143\n",
      "people 143\n",
      "right 134\n",
      "know 126\n",
      "away 123\n"
     ]
    },
    {
     "data": {
      "application/vnd.plotly.v1+json": {
       "config": {
        "linkText": "Export to plot.ly",
        "plotlyServerURL": "https://plot.ly",
        "showLink": true
       },
       "data": [
        {
         "marker": {
          "color": "rgba(255, 153, 51, 0.6)",
          "line": {
           "color": "rgba(255, 153, 51, 1.0)",
           "width": 1
          }
         },
         "name": "count",
         "orientation": "v",
         "text": "",
         "type": "bar",
         "x": [
          "uber",
          "car",
          "just",
          "ride",
          "pax",
          "said",
          "like",
          "time",
          "got",
          "minutes",
          "driver",
          "going",
          "don",
          "did",
          "told",
          "people",
          "trip",
          "right",
          "know",
          "away"
         ],
         "y": [
          379,
          362,
          307,
          294,
          254,
          252,
          214,
          207,
          201,
          192,
          176,
          171,
          168,
          147,
          145,
          143,
          143,
          134,
          126,
          123
         ]
        }
       ],
       "layout": {
        "legend": {
         "bgcolor": "#F5F6F9",
         "font": {
          "color": "#4D5663"
         }
        },
        "paper_bgcolor": "#F5F6F9",
        "plot_bgcolor": "#F5F6F9",
        "template": {
         "data": {
          "bar": [
           {
            "error_x": {
             "color": "#2a3f5f"
            },
            "error_y": {
             "color": "#2a3f5f"
            },
            "marker": {
             "line": {
              "color": "#E5ECF6",
              "width": 0.5
             }
            },
            "type": "bar"
           }
          ],
          "barpolar": [
           {
            "marker": {
             "line": {
              "color": "#E5ECF6",
              "width": 0.5
             }
            },
            "type": "barpolar"
           }
          ],
          "carpet": [
           {
            "aaxis": {
             "endlinecolor": "#2a3f5f",
             "gridcolor": "white",
             "linecolor": "white",
             "minorgridcolor": "white",
             "startlinecolor": "#2a3f5f"
            },
            "baxis": {
             "endlinecolor": "#2a3f5f",
             "gridcolor": "white",
             "linecolor": "white",
             "minorgridcolor": "white",
             "startlinecolor": "#2a3f5f"
            },
            "type": "carpet"
           }
          ],
          "choropleth": [
           {
            "colorbar": {
             "outlinewidth": 0,
             "ticks": ""
            },
            "type": "choropleth"
           }
          ],
          "contour": [
           {
            "colorbar": {
             "outlinewidth": 0,
             "ticks": ""
            },
            "colorscale": [
             [
              0,
              "#0d0887"
             ],
             [
              0.1111111111111111,
              "#46039f"
             ],
             [
              0.2222222222222222,
              "#7201a8"
             ],
             [
              0.3333333333333333,
              "#9c179e"
             ],
             [
              0.4444444444444444,
              "#bd3786"
             ],
             [
              0.5555555555555556,
              "#d8576b"
             ],
             [
              0.6666666666666666,
              "#ed7953"
             ],
             [
              0.7777777777777778,
              "#fb9f3a"
             ],
             [
              0.8888888888888888,
              "#fdca26"
             ],
             [
              1,
              "#f0f921"
             ]
            ],
            "type": "contour"
           }
          ],
          "contourcarpet": [
           {
            "colorbar": {
             "outlinewidth": 0,
             "ticks": ""
            },
            "type": "contourcarpet"
           }
          ],
          "heatmap": [
           {
            "colorbar": {
             "outlinewidth": 0,
             "ticks": ""
            },
            "colorscale": [
             [
              0,
              "#0d0887"
             ],
             [
              0.1111111111111111,
              "#46039f"
             ],
             [
              0.2222222222222222,
              "#7201a8"
             ],
             [
              0.3333333333333333,
              "#9c179e"
             ],
             [
              0.4444444444444444,
              "#bd3786"
             ],
             [
              0.5555555555555556,
              "#d8576b"
             ],
             [
              0.6666666666666666,
              "#ed7953"
             ],
             [
              0.7777777777777778,
              "#fb9f3a"
             ],
             [
              0.8888888888888888,
              "#fdca26"
             ],
             [
              1,
              "#f0f921"
             ]
            ],
            "type": "heatmap"
           }
          ],
          "heatmapgl": [
           {
            "colorbar": {
             "outlinewidth": 0,
             "ticks": ""
            },
            "colorscale": [
             [
              0,
              "#0d0887"
             ],
             [
              0.1111111111111111,
              "#46039f"
             ],
             [
              0.2222222222222222,
              "#7201a8"
             ],
             [
              0.3333333333333333,
              "#9c179e"
             ],
             [
              0.4444444444444444,
              "#bd3786"
             ],
             [
              0.5555555555555556,
              "#d8576b"
             ],
             [
              0.6666666666666666,
              "#ed7953"
             ],
             [
              0.7777777777777778,
              "#fb9f3a"
             ],
             [
              0.8888888888888888,
              "#fdca26"
             ],
             [
              1,
              "#f0f921"
             ]
            ],
            "type": "heatmapgl"
           }
          ],
          "histogram": [
           {
            "marker": {
             "colorbar": {
              "outlinewidth": 0,
              "ticks": ""
             }
            },
            "type": "histogram"
           }
          ],
          "histogram2d": [
           {
            "colorbar": {
             "outlinewidth": 0,
             "ticks": ""
            },
            "colorscale": [
             [
              0,
              "#0d0887"
             ],
             [
              0.1111111111111111,
              "#46039f"
             ],
             [
              0.2222222222222222,
              "#7201a8"
             ],
             [
              0.3333333333333333,
              "#9c179e"
             ],
             [
              0.4444444444444444,
              "#bd3786"
             ],
             [
              0.5555555555555556,
              "#d8576b"
             ],
             [
              0.6666666666666666,
              "#ed7953"
             ],
             [
              0.7777777777777778,
              "#fb9f3a"
             ],
             [
              0.8888888888888888,
              "#fdca26"
             ],
             [
              1,
              "#f0f921"
             ]
            ],
            "type": "histogram2d"
           }
          ],
          "histogram2dcontour": [
           {
            "colorbar": {
             "outlinewidth": 0,
             "ticks": ""
            },
            "colorscale": [
             [
              0,
              "#0d0887"
             ],
             [
              0.1111111111111111,
              "#46039f"
             ],
             [
              0.2222222222222222,
              "#7201a8"
             ],
             [
              0.3333333333333333,
              "#9c179e"
             ],
             [
              0.4444444444444444,
              "#bd3786"
             ],
             [
              0.5555555555555556,
              "#d8576b"
             ],
             [
              0.6666666666666666,
              "#ed7953"
             ],
             [
              0.7777777777777778,
              "#fb9f3a"
             ],
             [
              0.8888888888888888,
              "#fdca26"
             ],
             [
              1,
              "#f0f921"
             ]
            ],
            "type": "histogram2dcontour"
           }
          ],
          "mesh3d": [
           {
            "colorbar": {
             "outlinewidth": 0,
             "ticks": ""
            },
            "type": "mesh3d"
           }
          ],
          "parcoords": [
           {
            "line": {
             "colorbar": {
              "outlinewidth": 0,
              "ticks": ""
             }
            },
            "type": "parcoords"
           }
          ],
          "pie": [
           {
            "automargin": true,
            "type": "pie"
           }
          ],
          "scatter": [
           {
            "marker": {
             "colorbar": {
              "outlinewidth": 0,
              "ticks": ""
             }
            },
            "type": "scatter"
           }
          ],
          "scatter3d": [
           {
            "line": {
             "colorbar": {
              "outlinewidth": 0,
              "ticks": ""
             }
            },
            "marker": {
             "colorbar": {
              "outlinewidth": 0,
              "ticks": ""
             }
            },
            "type": "scatter3d"
           }
          ],
          "scattercarpet": [
           {
            "marker": {
             "colorbar": {
              "outlinewidth": 0,
              "ticks": ""
             }
            },
            "type": "scattercarpet"
           }
          ],
          "scattergeo": [
           {
            "marker": {
             "colorbar": {
              "outlinewidth": 0,
              "ticks": ""
             }
            },
            "type": "scattergeo"
           }
          ],
          "scattergl": [
           {
            "marker": {
             "colorbar": {
              "outlinewidth": 0,
              "ticks": ""
             }
            },
            "type": "scattergl"
           }
          ],
          "scattermapbox": [
           {
            "marker": {
             "colorbar": {
              "outlinewidth": 0,
              "ticks": ""
             }
            },
            "type": "scattermapbox"
           }
          ],
          "scatterpolar": [
           {
            "marker": {
             "colorbar": {
              "outlinewidth": 0,
              "ticks": ""
             }
            },
            "type": "scatterpolar"
           }
          ],
          "scatterpolargl": [
           {
            "marker": {
             "colorbar": {
              "outlinewidth": 0,
              "ticks": ""
             }
            },
            "type": "scatterpolargl"
           }
          ],
          "scatterternary": [
           {
            "marker": {
             "colorbar": {
              "outlinewidth": 0,
              "ticks": ""
             }
            },
            "type": "scatterternary"
           }
          ],
          "surface": [
           {
            "colorbar": {
             "outlinewidth": 0,
             "ticks": ""
            },
            "colorscale": [
             [
              0,
              "#0d0887"
             ],
             [
              0.1111111111111111,
              "#46039f"
             ],
             [
              0.2222222222222222,
              "#7201a8"
             ],
             [
              0.3333333333333333,
              "#9c179e"
             ],
             [
              0.4444444444444444,
              "#bd3786"
             ],
             [
              0.5555555555555556,
              "#d8576b"
             ],
             [
              0.6666666666666666,
              "#ed7953"
             ],
             [
              0.7777777777777778,
              "#fb9f3a"
             ],
             [
              0.8888888888888888,
              "#fdca26"
             ],
             [
              1,
              "#f0f921"
             ]
            ],
            "type": "surface"
           }
          ],
          "table": [
           {
            "cells": {
             "fill": {
              "color": "#EBF0F8"
             },
             "line": {
              "color": "white"
             }
            },
            "header": {
             "fill": {
              "color": "#C8D4E3"
             },
             "line": {
              "color": "white"
             }
            },
            "type": "table"
           }
          ]
         },
         "layout": {
          "annotationdefaults": {
           "arrowcolor": "#2a3f5f",
           "arrowhead": 0,
           "arrowwidth": 1
          },
          "autotypenumbers": "strict",
          "coloraxis": {
           "colorbar": {
            "outlinewidth": 0,
            "ticks": ""
           }
          },
          "colorscale": {
           "diverging": [
            [
             0,
             "#8e0152"
            ],
            [
             0.1,
             "#c51b7d"
            ],
            [
             0.2,
             "#de77ae"
            ],
            [
             0.3,
             "#f1b6da"
            ],
            [
             0.4,
             "#fde0ef"
            ],
            [
             0.5,
             "#f7f7f7"
            ],
            [
             0.6,
             "#e6f5d0"
            ],
            [
             0.7,
             "#b8e186"
            ],
            [
             0.8,
             "#7fbc41"
            ],
            [
             0.9,
             "#4d9221"
            ],
            [
             1,
             "#276419"
            ]
           ],
           "sequential": [
            [
             0,
             "#0d0887"
            ],
            [
             0.1111111111111111,
             "#46039f"
            ],
            [
             0.2222222222222222,
             "#7201a8"
            ],
            [
             0.3333333333333333,
             "#9c179e"
            ],
            [
             0.4444444444444444,
             "#bd3786"
            ],
            [
             0.5555555555555556,
             "#d8576b"
            ],
            [
             0.6666666666666666,
             "#ed7953"
            ],
            [
             0.7777777777777778,
             "#fb9f3a"
            ],
            [
             0.8888888888888888,
             "#fdca26"
            ],
            [
             1,
             "#f0f921"
            ]
           ],
           "sequentialminus": [
            [
             0,
             "#0d0887"
            ],
            [
             0.1111111111111111,
             "#46039f"
            ],
            [
             0.2222222222222222,
             "#7201a8"
            ],
            [
             0.3333333333333333,
             "#9c179e"
            ],
            [
             0.4444444444444444,
             "#bd3786"
            ],
            [
             0.5555555555555556,
             "#d8576b"
            ],
            [
             0.6666666666666666,
             "#ed7953"
            ],
            [
             0.7777777777777778,
             "#fb9f3a"
            ],
            [
             0.8888888888888888,
             "#fdca26"
            ],
            [
             1,
             "#f0f921"
            ]
           ]
          },
          "colorway": [
           "#636efa",
           "#EF553B",
           "#00cc96",
           "#ab63fa",
           "#FFA15A",
           "#19d3f3",
           "#FF6692",
           "#B6E880",
           "#FF97FF",
           "#FECB52"
          ],
          "font": {
           "color": "#2a3f5f"
          },
          "geo": {
           "bgcolor": "white",
           "lakecolor": "white",
           "landcolor": "#E5ECF6",
           "showlakes": true,
           "showland": true,
           "subunitcolor": "white"
          },
          "hoverlabel": {
           "align": "left"
          },
          "hovermode": "closest",
          "mapbox": {
           "style": "light"
          },
          "paper_bgcolor": "white",
          "plot_bgcolor": "#E5ECF6",
          "polar": {
           "angularaxis": {
            "gridcolor": "white",
            "linecolor": "white",
            "ticks": ""
           },
           "bgcolor": "#E5ECF6",
           "radialaxis": {
            "gridcolor": "white",
            "linecolor": "white",
            "ticks": ""
           }
          },
          "scene": {
           "xaxis": {
            "backgroundcolor": "#E5ECF6",
            "gridcolor": "white",
            "gridwidth": 2,
            "linecolor": "white",
            "showbackground": true,
            "ticks": "",
            "zerolinecolor": "white"
           },
           "yaxis": {
            "backgroundcolor": "#E5ECF6",
            "gridcolor": "white",
            "gridwidth": 2,
            "linecolor": "white",
            "showbackground": true,
            "ticks": "",
            "zerolinecolor": "white"
           },
           "zaxis": {
            "backgroundcolor": "#E5ECF6",
            "gridcolor": "white",
            "gridwidth": 2,
            "linecolor": "white",
            "showbackground": true,
            "ticks": "",
            "zerolinecolor": "white"
           }
          },
          "shapedefaults": {
           "line": {
            "color": "#2a3f5f"
           }
          },
          "ternary": {
           "aaxis": {
            "gridcolor": "white",
            "linecolor": "white",
            "ticks": ""
           },
           "baxis": {
            "gridcolor": "white",
            "linecolor": "white",
            "ticks": ""
           },
           "bgcolor": "#E5ECF6",
           "caxis": {
            "gridcolor": "white",
            "linecolor": "white",
            "ticks": ""
           }
          },
          "title": {
           "x": 0.05
          },
          "xaxis": {
           "automargin": true,
           "gridcolor": "white",
           "linecolor": "white",
           "ticks": "",
           "title": {
            "standoff": 15
           },
           "zerolinecolor": "white",
           "zerolinewidth": 2
          },
          "yaxis": {
           "automargin": true,
           "gridcolor": "white",
           "linecolor": "white",
           "ticks": "",
           "title": {
            "standoff": 15
           },
           "zerolinecolor": "white",
           "zerolinewidth": 2
          }
         }
        },
        "title": {
         "font": {
          "color": "#4D5663"
         },
         "text": "Top 20 words in review after removing stop words"
        },
        "xaxis": {
         "gridcolor": "#E1E5ED",
         "linecolor": "black",
         "showgrid": true,
         "tickfont": {
          "color": "#4D5663"
         },
         "title": {
          "font": {
           "color": "#4D5663"
          },
          "text": ""
         },
         "zerolinecolor": "#E1E5ED"
        },
        "yaxis": {
         "gridcolor": "#E1E5ED",
         "linecolor": "black",
         "showgrid": true,
         "tickfont": {
          "color": "#4D5663"
         },
         "title": {
          "font": {
           "color": "#4D5663"
          },
          "text": "Count"
         },
         "zerolinecolor": "#E1E5ED"
        }
       }
      },
      "text/html": [
       "<div>                            <div id=\"583d1cf0-fe8b-4a72-a017-d5ad3b8d79ae\" class=\"plotly-graph-div\" style=\"height:525px; width:100%;\"></div>            <script type=\"text/javascript\">                require([\"plotly\"], function(Plotly) {                    window.PLOTLYENV=window.PLOTLYENV || {};\n",
       "                    window.PLOTLYENV.BASE_URL='https://plot.ly';                                    if (document.getElementById(\"583d1cf0-fe8b-4a72-a017-d5ad3b8d79ae\")) {                    Plotly.newPlot(                        \"583d1cf0-fe8b-4a72-a017-d5ad3b8d79ae\",                        [{\"marker\": {\"color\": \"rgba(255, 153, 51, 0.6)\", \"line\": {\"color\": \"rgba(255, 153, 51, 1.0)\", \"width\": 1}}, \"name\": \"count\", \"orientation\": \"v\", \"text\": \"\", \"type\": \"bar\", \"x\": [\"uber\", \"car\", \"just\", \"ride\", \"pax\", \"said\", \"like\", \"time\", \"got\", \"minutes\", \"driver\", \"going\", \"don\", \"did\", \"told\", \"people\", \"trip\", \"right\", \"know\", \"away\"], \"y\": [379, 362, 307, 294, 254, 252, 214, 207, 201, 192, 176, 171, 168, 147, 145, 143, 143, 134, 126, 123]}],                        {\"legend\": {\"bgcolor\": \"#F5F6F9\", \"font\": {\"color\": \"#4D5663\"}}, \"paper_bgcolor\": \"#F5F6F9\", \"plot_bgcolor\": \"#F5F6F9\", \"template\": {\"data\": {\"bar\": [{\"error_x\": {\"color\": \"#2a3f5f\"}, \"error_y\": {\"color\": \"#2a3f5f\"}, \"marker\": {\"line\": {\"color\": \"#E5ECF6\", \"width\": 0.5}}, \"type\": \"bar\"}], \"barpolar\": [{\"marker\": {\"line\": {\"color\": \"#E5ECF6\", \"width\": 0.5}}, \"type\": \"barpolar\"}], \"carpet\": [{\"aaxis\": {\"endlinecolor\": \"#2a3f5f\", \"gridcolor\": \"white\", \"linecolor\": \"white\", \"minorgridcolor\": \"white\", \"startlinecolor\": \"#2a3f5f\"}, \"baxis\": {\"endlinecolor\": \"#2a3f5f\", \"gridcolor\": \"white\", \"linecolor\": \"white\", \"minorgridcolor\": \"white\", \"startlinecolor\": \"#2a3f5f\"}, \"type\": \"carpet\"}], \"choropleth\": [{\"colorbar\": {\"outlinewidth\": 0, \"ticks\": \"\"}, \"type\": \"choropleth\"}], \"contour\": [{\"colorbar\": {\"outlinewidth\": 0, \"ticks\": \"\"}, \"colorscale\": [[0.0, \"#0d0887\"], [0.1111111111111111, \"#46039f\"], [0.2222222222222222, \"#7201a8\"], [0.3333333333333333, \"#9c179e\"], [0.4444444444444444, \"#bd3786\"], [0.5555555555555556, \"#d8576b\"], [0.6666666666666666, \"#ed7953\"], [0.7777777777777778, \"#fb9f3a\"], [0.8888888888888888, \"#fdca26\"], [1.0, \"#f0f921\"]], \"type\": \"contour\"}], \"contourcarpet\": [{\"colorbar\": {\"outlinewidth\": 0, \"ticks\": \"\"}, \"type\": \"contourcarpet\"}], \"heatmap\": [{\"colorbar\": {\"outlinewidth\": 0, \"ticks\": \"\"}, \"colorscale\": [[0.0, \"#0d0887\"], [0.1111111111111111, \"#46039f\"], [0.2222222222222222, \"#7201a8\"], [0.3333333333333333, \"#9c179e\"], [0.4444444444444444, \"#bd3786\"], [0.5555555555555556, \"#d8576b\"], [0.6666666666666666, \"#ed7953\"], [0.7777777777777778, \"#fb9f3a\"], [0.8888888888888888, \"#fdca26\"], [1.0, \"#f0f921\"]], \"type\": \"heatmap\"}], \"heatmapgl\": [{\"colorbar\": {\"outlinewidth\": 0, \"ticks\": \"\"}, \"colorscale\": [[0.0, \"#0d0887\"], [0.1111111111111111, \"#46039f\"], [0.2222222222222222, \"#7201a8\"], [0.3333333333333333, \"#9c179e\"], [0.4444444444444444, \"#bd3786\"], [0.5555555555555556, \"#d8576b\"], [0.6666666666666666, \"#ed7953\"], [0.7777777777777778, \"#fb9f3a\"], [0.8888888888888888, \"#fdca26\"], [1.0, \"#f0f921\"]], \"type\": \"heatmapgl\"}], \"histogram\": [{\"marker\": {\"colorbar\": {\"outlinewidth\": 0, \"ticks\": \"\"}}, \"type\": \"histogram\"}], \"histogram2d\": [{\"colorbar\": {\"outlinewidth\": 0, \"ticks\": \"\"}, \"colorscale\": [[0.0, \"#0d0887\"], [0.1111111111111111, \"#46039f\"], [0.2222222222222222, \"#7201a8\"], [0.3333333333333333, \"#9c179e\"], [0.4444444444444444, \"#bd3786\"], [0.5555555555555556, \"#d8576b\"], [0.6666666666666666, \"#ed7953\"], [0.7777777777777778, \"#fb9f3a\"], [0.8888888888888888, \"#fdca26\"], [1.0, \"#f0f921\"]], \"type\": \"histogram2d\"}], \"histogram2dcontour\": [{\"colorbar\": {\"outlinewidth\": 0, \"ticks\": \"\"}, \"colorscale\": [[0.0, \"#0d0887\"], [0.1111111111111111, \"#46039f\"], [0.2222222222222222, \"#7201a8\"], [0.3333333333333333, \"#9c179e\"], [0.4444444444444444, \"#bd3786\"], [0.5555555555555556, \"#d8576b\"], [0.6666666666666666, \"#ed7953\"], [0.7777777777777778, \"#fb9f3a\"], [0.8888888888888888, \"#fdca26\"], [1.0, \"#f0f921\"]], \"type\": \"histogram2dcontour\"}], \"mesh3d\": [{\"colorbar\": {\"outlinewidth\": 0, \"ticks\": \"\"}, \"type\": \"mesh3d\"}], \"parcoords\": [{\"line\": {\"colorbar\": {\"outlinewidth\": 0, \"ticks\": \"\"}}, \"type\": \"parcoords\"}], \"pie\": [{\"automargin\": true, \"type\": \"pie\"}], \"scatter\": [{\"marker\": {\"colorbar\": {\"outlinewidth\": 0, \"ticks\": \"\"}}, \"type\": \"scatter\"}], \"scatter3d\": [{\"line\": {\"colorbar\": {\"outlinewidth\": 0, \"ticks\": \"\"}}, \"marker\": {\"colorbar\": {\"outlinewidth\": 0, \"ticks\": \"\"}}, \"type\": \"scatter3d\"}], \"scattercarpet\": [{\"marker\": {\"colorbar\": {\"outlinewidth\": 0, \"ticks\": \"\"}}, \"type\": \"scattercarpet\"}], \"scattergeo\": [{\"marker\": {\"colorbar\": {\"outlinewidth\": 0, \"ticks\": \"\"}}, \"type\": \"scattergeo\"}], \"scattergl\": [{\"marker\": {\"colorbar\": {\"outlinewidth\": 0, \"ticks\": \"\"}}, \"type\": \"scattergl\"}], \"scattermapbox\": [{\"marker\": {\"colorbar\": {\"outlinewidth\": 0, \"ticks\": \"\"}}, \"type\": \"scattermapbox\"}], \"scatterpolar\": [{\"marker\": {\"colorbar\": {\"outlinewidth\": 0, \"ticks\": \"\"}}, \"type\": \"scatterpolar\"}], \"scatterpolargl\": [{\"marker\": {\"colorbar\": {\"outlinewidth\": 0, \"ticks\": \"\"}}, \"type\": \"scatterpolargl\"}], \"scatterternary\": [{\"marker\": {\"colorbar\": {\"outlinewidth\": 0, \"ticks\": \"\"}}, \"type\": \"scatterternary\"}], \"surface\": [{\"colorbar\": {\"outlinewidth\": 0, \"ticks\": \"\"}, \"colorscale\": [[0.0, \"#0d0887\"], [0.1111111111111111, \"#46039f\"], [0.2222222222222222, \"#7201a8\"], [0.3333333333333333, \"#9c179e\"], [0.4444444444444444, \"#bd3786\"], [0.5555555555555556, \"#d8576b\"], [0.6666666666666666, \"#ed7953\"], [0.7777777777777778, \"#fb9f3a\"], [0.8888888888888888, \"#fdca26\"], [1.0, \"#f0f921\"]], \"type\": \"surface\"}], \"table\": [{\"cells\": {\"fill\": {\"color\": \"#EBF0F8\"}, \"line\": {\"color\": \"white\"}}, \"header\": {\"fill\": {\"color\": \"#C8D4E3\"}, \"line\": {\"color\": \"white\"}}, \"type\": \"table\"}]}, \"layout\": {\"annotationdefaults\": {\"arrowcolor\": \"#2a3f5f\", \"arrowhead\": 0, \"arrowwidth\": 1}, \"autotypenumbers\": \"strict\", \"coloraxis\": {\"colorbar\": {\"outlinewidth\": 0, \"ticks\": \"\"}}, \"colorscale\": {\"diverging\": [[0, \"#8e0152\"], [0.1, \"#c51b7d\"], [0.2, \"#de77ae\"], [0.3, \"#f1b6da\"], [0.4, \"#fde0ef\"], [0.5, \"#f7f7f7\"], [0.6, \"#e6f5d0\"], [0.7, \"#b8e186\"], [0.8, \"#7fbc41\"], [0.9, \"#4d9221\"], [1, \"#276419\"]], \"sequential\": [[0.0, \"#0d0887\"], [0.1111111111111111, \"#46039f\"], [0.2222222222222222, \"#7201a8\"], [0.3333333333333333, \"#9c179e\"], [0.4444444444444444, \"#bd3786\"], [0.5555555555555556, \"#d8576b\"], [0.6666666666666666, \"#ed7953\"], [0.7777777777777778, \"#fb9f3a\"], [0.8888888888888888, \"#fdca26\"], [1.0, \"#f0f921\"]], \"sequentialminus\": [[0.0, \"#0d0887\"], [0.1111111111111111, \"#46039f\"], [0.2222222222222222, \"#7201a8\"], [0.3333333333333333, \"#9c179e\"], [0.4444444444444444, \"#bd3786\"], [0.5555555555555556, \"#d8576b\"], [0.6666666666666666, \"#ed7953\"], [0.7777777777777778, \"#fb9f3a\"], [0.8888888888888888, \"#fdca26\"], [1.0, \"#f0f921\"]]}, \"colorway\": [\"#636efa\", \"#EF553B\", \"#00cc96\", \"#ab63fa\", \"#FFA15A\", \"#19d3f3\", \"#FF6692\", \"#B6E880\", \"#FF97FF\", \"#FECB52\"], \"font\": {\"color\": \"#2a3f5f\"}, \"geo\": {\"bgcolor\": \"white\", \"lakecolor\": \"white\", \"landcolor\": \"#E5ECF6\", \"showlakes\": true, \"showland\": true, \"subunitcolor\": \"white\"}, \"hoverlabel\": {\"align\": \"left\"}, \"hovermode\": \"closest\", \"mapbox\": {\"style\": \"light\"}, \"paper_bgcolor\": \"white\", \"plot_bgcolor\": \"#E5ECF6\", \"polar\": {\"angularaxis\": {\"gridcolor\": \"white\", \"linecolor\": \"white\", \"ticks\": \"\"}, \"bgcolor\": \"#E5ECF6\", \"radialaxis\": {\"gridcolor\": \"white\", \"linecolor\": \"white\", \"ticks\": \"\"}}, \"scene\": {\"xaxis\": {\"backgroundcolor\": \"#E5ECF6\", \"gridcolor\": \"white\", \"gridwidth\": 2, \"linecolor\": \"white\", \"showbackground\": true, \"ticks\": \"\", \"zerolinecolor\": \"white\"}, \"yaxis\": {\"backgroundcolor\": \"#E5ECF6\", \"gridcolor\": \"white\", \"gridwidth\": 2, \"linecolor\": \"white\", \"showbackground\": true, \"ticks\": \"\", \"zerolinecolor\": \"white\"}, \"zaxis\": {\"backgroundcolor\": \"#E5ECF6\", \"gridcolor\": \"white\", \"gridwidth\": 2, \"linecolor\": \"white\", \"showbackground\": true, \"ticks\": \"\", \"zerolinecolor\": \"white\"}}, \"shapedefaults\": {\"line\": {\"color\": \"#2a3f5f\"}}, \"ternary\": {\"aaxis\": {\"gridcolor\": \"white\", \"linecolor\": \"white\", \"ticks\": \"\"}, \"baxis\": {\"gridcolor\": \"white\", \"linecolor\": \"white\", \"ticks\": \"\"}, \"bgcolor\": \"#E5ECF6\", \"caxis\": {\"gridcolor\": \"white\", \"linecolor\": \"white\", \"ticks\": \"\"}}, \"title\": {\"x\": 0.05}, \"xaxis\": {\"automargin\": true, \"gridcolor\": \"white\", \"linecolor\": \"white\", \"ticks\": \"\", \"title\": {\"standoff\": 15}, \"zerolinecolor\": \"white\", \"zerolinewidth\": 2}, \"yaxis\": {\"automargin\": true, \"gridcolor\": \"white\", \"linecolor\": \"white\", \"ticks\": \"\", \"title\": {\"standoff\": 15}, \"zerolinecolor\": \"white\", \"zerolinewidth\": 2}}}, \"title\": {\"font\": {\"color\": \"#4D5663\"}, \"text\": \"Top 20 words in review after removing stop words\"}, \"xaxis\": {\"gridcolor\": \"#E1E5ED\", \"linecolor\": \"black\", \"showgrid\": true, \"tickfont\": {\"color\": \"#4D5663\"}, \"title\": {\"font\": {\"color\": \"#4D5663\"}, \"text\": \"\"}, \"zerolinecolor\": \"#E1E5ED\"}, \"yaxis\": {\"gridcolor\": \"#E1E5ED\", \"linecolor\": \"black\", \"showgrid\": true, \"tickfont\": {\"color\": \"#4D5663\"}, \"title\": {\"font\": {\"color\": \"#4D5663\"}, \"text\": \"Count\"}, \"zerolinecolor\": \"#E1E5ED\"}},                        {\"showLink\": true, \"linkText\": \"Export to plot.ly\", \"plotlyServerURL\": \"https://plot.ly\", \"responsive\": true}                    ).then(function(){\n",
       "                            \n",
       "var gd = document.getElementById('583d1cf0-fe8b-4a72-a017-d5ad3b8d79ae');\n",
       "var x = new MutationObserver(function (mutations, observer) {{\n",
       "        var display = window.getComputedStyle(gd).display;\n",
       "        if (!display || display === 'none') {{\n",
       "            console.log([gd, 'removed!']);\n",
       "            Plotly.purge(gd);\n",
       "            observer.disconnect();\n",
       "        }}\n",
       "}});\n",
       "\n",
       "// Listen for the removal of the full notebook cells\n",
       "var notebookContainer = gd.closest('#notebook-container');\n",
       "if (notebookContainer) {{\n",
       "    x.observe(notebookContainer, {childList: true});\n",
       "}}\n",
       "\n",
       "// Listen for the clearing of the current output cell\n",
       "var outputEl = gd.closest('.output');\n",
       "if (outputEl) {{\n",
       "    x.observe(outputEl, {childList: true});\n",
       "}}\n",
       "\n",
       "                        })                };                });            </script>        </div>"
      ]
     },
     "metadata": {},
     "output_type": "display_data"
    }
   ],
   "source": [
    "def get_top_n_words(corpus, n=None):\n",
    "    vec = CountVectorizer(stop_words = 'english').fit(corpus)\n",
    "    bag_of_words = vec.transform(corpus)\n",
    "    sum_words = bag_of_words.sum(axis=0) \n",
    "    words_freq = [(word, sum_words[0, idx]) for word, idx in vec.vocabulary_.items()]\n",
    "    words_freq =sorted(words_freq, key = lambda x: x[1], reverse=True)\n",
    "    return words_freq[:n]\n",
    "common_words = get_top_n_words(df['Story'], 20)\n",
    "for word, freq in common_words:\n",
    "    print(word, freq)\n",
    "df2 = pd.DataFrame(common_words, columns = ['Story' , 'count'])\n",
    "df2.groupby('Story').sum()['count'].sort_values(ascending=False).iplot(\n",
    "kind='bar', yTitle='Count', linecolor='black', title='Top 20 words')"
   ]
  },
  {
   "cell_type": "markdown",
   "id": "eea4b9a8",
   "metadata": {},
   "source": [
    "## Top 20 trigrams"
   ]
  },
  {
   "cell_type": "code",
   "execution_count": 33,
   "id": "da3ebd80",
   "metadata": {},
   "outputs": [
    {
     "name": "stdout",
     "output_type": "stream",
     "text": [
      "potential girl pax 7\n",
      "20 minutes away 5\n",
      "19 minutes away 4\n",
      "jump start car 4\n",
      "israeli air force 4\n",
      "happy new year 3\n",
      "looked rear view 3\n",
      "ran away home 3\n",
      "pulled parking lot 3\n",
      "really don care 3\n",
      "128514 128514 128514 3\n",
      "minutes away passenger 3\n",
      "need ride just 3\n",
      "lyft pickup change 3\n",
      "covid 19 virus 3\n",
      "saturday night sunday 3\n",
      "tell ain doing 3\n",
      "minimum fare ride 3\n",
      "got cancellation fee 3\n",
      "tries open door 3\n"
     ]
    },
    {
     "data": {
      "application/vnd.plotly.v1+json": {
       "config": {
        "linkText": "Export to plot.ly",
        "plotlyServerURL": "https://plot.ly",
        "showLink": true
       },
       "data": [
        {
         "marker": {
          "color": "rgba(255, 153, 51, 0.6)",
          "line": {
           "color": "rgba(255, 153, 51, 1.0)",
           "width": 1
          }
         },
         "name": "count",
         "orientation": "v",
         "text": "",
         "type": "bar",
         "x": [
          "potential girl pax",
          "20 minutes away",
          "israeli air force",
          "jump start car",
          "19 minutes away",
          "128514 128514 128514",
          "need ride just",
          "tell ain doing",
          "saturday night sunday",
          "really don care",
          "ran away home",
          "pulled parking lot",
          "minimum fare ride",
          "minutes away passenger",
          "lyft pickup change",
          "looked rear view",
          "happy new year",
          "got cancellation fee",
          "covid 19 virus",
          "tries open door"
         ],
         "y": [
          7,
          5,
          4,
          4,
          4,
          3,
          3,
          3,
          3,
          3,
          3,
          3,
          3,
          3,
          3,
          3,
          3,
          3,
          3,
          3
         ]
        }
       ],
       "layout": {
        "legend": {
         "bgcolor": "#F5F6F9",
         "font": {
          "color": "#4D5663"
         }
        },
        "paper_bgcolor": "#F5F6F9",
        "plot_bgcolor": "#F5F6F9",
        "template": {
         "data": {
          "bar": [
           {
            "error_x": {
             "color": "#2a3f5f"
            },
            "error_y": {
             "color": "#2a3f5f"
            },
            "marker": {
             "line": {
              "color": "#E5ECF6",
              "width": 0.5
             }
            },
            "type": "bar"
           }
          ],
          "barpolar": [
           {
            "marker": {
             "line": {
              "color": "#E5ECF6",
              "width": 0.5
             }
            },
            "type": "barpolar"
           }
          ],
          "carpet": [
           {
            "aaxis": {
             "endlinecolor": "#2a3f5f",
             "gridcolor": "white",
             "linecolor": "white",
             "minorgridcolor": "white",
             "startlinecolor": "#2a3f5f"
            },
            "baxis": {
             "endlinecolor": "#2a3f5f",
             "gridcolor": "white",
             "linecolor": "white",
             "minorgridcolor": "white",
             "startlinecolor": "#2a3f5f"
            },
            "type": "carpet"
           }
          ],
          "choropleth": [
           {
            "colorbar": {
             "outlinewidth": 0,
             "ticks": ""
            },
            "type": "choropleth"
           }
          ],
          "contour": [
           {
            "colorbar": {
             "outlinewidth": 0,
             "ticks": ""
            },
            "colorscale": [
             [
              0,
              "#0d0887"
             ],
             [
              0.1111111111111111,
              "#46039f"
             ],
             [
              0.2222222222222222,
              "#7201a8"
             ],
             [
              0.3333333333333333,
              "#9c179e"
             ],
             [
              0.4444444444444444,
              "#bd3786"
             ],
             [
              0.5555555555555556,
              "#d8576b"
             ],
             [
              0.6666666666666666,
              "#ed7953"
             ],
             [
              0.7777777777777778,
              "#fb9f3a"
             ],
             [
              0.8888888888888888,
              "#fdca26"
             ],
             [
              1,
              "#f0f921"
             ]
            ],
            "type": "contour"
           }
          ],
          "contourcarpet": [
           {
            "colorbar": {
             "outlinewidth": 0,
             "ticks": ""
            },
            "type": "contourcarpet"
           }
          ],
          "heatmap": [
           {
            "colorbar": {
             "outlinewidth": 0,
             "ticks": ""
            },
            "colorscale": [
             [
              0,
              "#0d0887"
             ],
             [
              0.1111111111111111,
              "#46039f"
             ],
             [
              0.2222222222222222,
              "#7201a8"
             ],
             [
              0.3333333333333333,
              "#9c179e"
             ],
             [
              0.4444444444444444,
              "#bd3786"
             ],
             [
              0.5555555555555556,
              "#d8576b"
             ],
             [
              0.6666666666666666,
              "#ed7953"
             ],
             [
              0.7777777777777778,
              "#fb9f3a"
             ],
             [
              0.8888888888888888,
              "#fdca26"
             ],
             [
              1,
              "#f0f921"
             ]
            ],
            "type": "heatmap"
           }
          ],
          "heatmapgl": [
           {
            "colorbar": {
             "outlinewidth": 0,
             "ticks": ""
            },
            "colorscale": [
             [
              0,
              "#0d0887"
             ],
             [
              0.1111111111111111,
              "#46039f"
             ],
             [
              0.2222222222222222,
              "#7201a8"
             ],
             [
              0.3333333333333333,
              "#9c179e"
             ],
             [
              0.4444444444444444,
              "#bd3786"
             ],
             [
              0.5555555555555556,
              "#d8576b"
             ],
             [
              0.6666666666666666,
              "#ed7953"
             ],
             [
              0.7777777777777778,
              "#fb9f3a"
             ],
             [
              0.8888888888888888,
              "#fdca26"
             ],
             [
              1,
              "#f0f921"
             ]
            ],
            "type": "heatmapgl"
           }
          ],
          "histogram": [
           {
            "marker": {
             "colorbar": {
              "outlinewidth": 0,
              "ticks": ""
             }
            },
            "type": "histogram"
           }
          ],
          "histogram2d": [
           {
            "colorbar": {
             "outlinewidth": 0,
             "ticks": ""
            },
            "colorscale": [
             [
              0,
              "#0d0887"
             ],
             [
              0.1111111111111111,
              "#46039f"
             ],
             [
              0.2222222222222222,
              "#7201a8"
             ],
             [
              0.3333333333333333,
              "#9c179e"
             ],
             [
              0.4444444444444444,
              "#bd3786"
             ],
             [
              0.5555555555555556,
              "#d8576b"
             ],
             [
              0.6666666666666666,
              "#ed7953"
             ],
             [
              0.7777777777777778,
              "#fb9f3a"
             ],
             [
              0.8888888888888888,
              "#fdca26"
             ],
             [
              1,
              "#f0f921"
             ]
            ],
            "type": "histogram2d"
           }
          ],
          "histogram2dcontour": [
           {
            "colorbar": {
             "outlinewidth": 0,
             "ticks": ""
            },
            "colorscale": [
             [
              0,
              "#0d0887"
             ],
             [
              0.1111111111111111,
              "#46039f"
             ],
             [
              0.2222222222222222,
              "#7201a8"
             ],
             [
              0.3333333333333333,
              "#9c179e"
             ],
             [
              0.4444444444444444,
              "#bd3786"
             ],
             [
              0.5555555555555556,
              "#d8576b"
             ],
             [
              0.6666666666666666,
              "#ed7953"
             ],
             [
              0.7777777777777778,
              "#fb9f3a"
             ],
             [
              0.8888888888888888,
              "#fdca26"
             ],
             [
              1,
              "#f0f921"
             ]
            ],
            "type": "histogram2dcontour"
           }
          ],
          "mesh3d": [
           {
            "colorbar": {
             "outlinewidth": 0,
             "ticks": ""
            },
            "type": "mesh3d"
           }
          ],
          "parcoords": [
           {
            "line": {
             "colorbar": {
              "outlinewidth": 0,
              "ticks": ""
             }
            },
            "type": "parcoords"
           }
          ],
          "pie": [
           {
            "automargin": true,
            "type": "pie"
           }
          ],
          "scatter": [
           {
            "marker": {
             "colorbar": {
              "outlinewidth": 0,
              "ticks": ""
             }
            },
            "type": "scatter"
           }
          ],
          "scatter3d": [
           {
            "line": {
             "colorbar": {
              "outlinewidth": 0,
              "ticks": ""
             }
            },
            "marker": {
             "colorbar": {
              "outlinewidth": 0,
              "ticks": ""
             }
            },
            "type": "scatter3d"
           }
          ],
          "scattercarpet": [
           {
            "marker": {
             "colorbar": {
              "outlinewidth": 0,
              "ticks": ""
             }
            },
            "type": "scattercarpet"
           }
          ],
          "scattergeo": [
           {
            "marker": {
             "colorbar": {
              "outlinewidth": 0,
              "ticks": ""
             }
            },
            "type": "scattergeo"
           }
          ],
          "scattergl": [
           {
            "marker": {
             "colorbar": {
              "outlinewidth": 0,
              "ticks": ""
             }
            },
            "type": "scattergl"
           }
          ],
          "scattermapbox": [
           {
            "marker": {
             "colorbar": {
              "outlinewidth": 0,
              "ticks": ""
             }
            },
            "type": "scattermapbox"
           }
          ],
          "scatterpolar": [
           {
            "marker": {
             "colorbar": {
              "outlinewidth": 0,
              "ticks": ""
             }
            },
            "type": "scatterpolar"
           }
          ],
          "scatterpolargl": [
           {
            "marker": {
             "colorbar": {
              "outlinewidth": 0,
              "ticks": ""
             }
            },
            "type": "scatterpolargl"
           }
          ],
          "scatterternary": [
           {
            "marker": {
             "colorbar": {
              "outlinewidth": 0,
              "ticks": ""
             }
            },
            "type": "scatterternary"
           }
          ],
          "surface": [
           {
            "colorbar": {
             "outlinewidth": 0,
             "ticks": ""
            },
            "colorscale": [
             [
              0,
              "#0d0887"
             ],
             [
              0.1111111111111111,
              "#46039f"
             ],
             [
              0.2222222222222222,
              "#7201a8"
             ],
             [
              0.3333333333333333,
              "#9c179e"
             ],
             [
              0.4444444444444444,
              "#bd3786"
             ],
             [
              0.5555555555555556,
              "#d8576b"
             ],
             [
              0.6666666666666666,
              "#ed7953"
             ],
             [
              0.7777777777777778,
              "#fb9f3a"
             ],
             [
              0.8888888888888888,
              "#fdca26"
             ],
             [
              1,
              "#f0f921"
             ]
            ],
            "type": "surface"
           }
          ],
          "table": [
           {
            "cells": {
             "fill": {
              "color": "#EBF0F8"
             },
             "line": {
              "color": "white"
             }
            },
            "header": {
             "fill": {
              "color": "#C8D4E3"
             },
             "line": {
              "color": "white"
             }
            },
            "type": "table"
           }
          ]
         },
         "layout": {
          "annotationdefaults": {
           "arrowcolor": "#2a3f5f",
           "arrowhead": 0,
           "arrowwidth": 1
          },
          "autotypenumbers": "strict",
          "coloraxis": {
           "colorbar": {
            "outlinewidth": 0,
            "ticks": ""
           }
          },
          "colorscale": {
           "diverging": [
            [
             0,
             "#8e0152"
            ],
            [
             0.1,
             "#c51b7d"
            ],
            [
             0.2,
             "#de77ae"
            ],
            [
             0.3,
             "#f1b6da"
            ],
            [
             0.4,
             "#fde0ef"
            ],
            [
             0.5,
             "#f7f7f7"
            ],
            [
             0.6,
             "#e6f5d0"
            ],
            [
             0.7,
             "#b8e186"
            ],
            [
             0.8,
             "#7fbc41"
            ],
            [
             0.9,
             "#4d9221"
            ],
            [
             1,
             "#276419"
            ]
           ],
           "sequential": [
            [
             0,
             "#0d0887"
            ],
            [
             0.1111111111111111,
             "#46039f"
            ],
            [
             0.2222222222222222,
             "#7201a8"
            ],
            [
             0.3333333333333333,
             "#9c179e"
            ],
            [
             0.4444444444444444,
             "#bd3786"
            ],
            [
             0.5555555555555556,
             "#d8576b"
            ],
            [
             0.6666666666666666,
             "#ed7953"
            ],
            [
             0.7777777777777778,
             "#fb9f3a"
            ],
            [
             0.8888888888888888,
             "#fdca26"
            ],
            [
             1,
             "#f0f921"
            ]
           ],
           "sequentialminus": [
            [
             0,
             "#0d0887"
            ],
            [
             0.1111111111111111,
             "#46039f"
            ],
            [
             0.2222222222222222,
             "#7201a8"
            ],
            [
             0.3333333333333333,
             "#9c179e"
            ],
            [
             0.4444444444444444,
             "#bd3786"
            ],
            [
             0.5555555555555556,
             "#d8576b"
            ],
            [
             0.6666666666666666,
             "#ed7953"
            ],
            [
             0.7777777777777778,
             "#fb9f3a"
            ],
            [
             0.8888888888888888,
             "#fdca26"
            ],
            [
             1,
             "#f0f921"
            ]
           ]
          },
          "colorway": [
           "#636efa",
           "#EF553B",
           "#00cc96",
           "#ab63fa",
           "#FFA15A",
           "#19d3f3",
           "#FF6692",
           "#B6E880",
           "#FF97FF",
           "#FECB52"
          ],
          "font": {
           "color": "#2a3f5f"
          },
          "geo": {
           "bgcolor": "white",
           "lakecolor": "white",
           "landcolor": "#E5ECF6",
           "showlakes": true,
           "showland": true,
           "subunitcolor": "white"
          },
          "hoverlabel": {
           "align": "left"
          },
          "hovermode": "closest",
          "mapbox": {
           "style": "light"
          },
          "paper_bgcolor": "white",
          "plot_bgcolor": "#E5ECF6",
          "polar": {
           "angularaxis": {
            "gridcolor": "white",
            "linecolor": "white",
            "ticks": ""
           },
           "bgcolor": "#E5ECF6",
           "radialaxis": {
            "gridcolor": "white",
            "linecolor": "white",
            "ticks": ""
           }
          },
          "scene": {
           "xaxis": {
            "backgroundcolor": "#E5ECF6",
            "gridcolor": "white",
            "gridwidth": 2,
            "linecolor": "white",
            "showbackground": true,
            "ticks": "",
            "zerolinecolor": "white"
           },
           "yaxis": {
            "backgroundcolor": "#E5ECF6",
            "gridcolor": "white",
            "gridwidth": 2,
            "linecolor": "white",
            "showbackground": true,
            "ticks": "",
            "zerolinecolor": "white"
           },
           "zaxis": {
            "backgroundcolor": "#E5ECF6",
            "gridcolor": "white",
            "gridwidth": 2,
            "linecolor": "white",
            "showbackground": true,
            "ticks": "",
            "zerolinecolor": "white"
           }
          },
          "shapedefaults": {
           "line": {
            "color": "#2a3f5f"
           }
          },
          "ternary": {
           "aaxis": {
            "gridcolor": "white",
            "linecolor": "white",
            "ticks": ""
           },
           "baxis": {
            "gridcolor": "white",
            "linecolor": "white",
            "ticks": ""
           },
           "bgcolor": "#E5ECF6",
           "caxis": {
            "gridcolor": "white",
            "linecolor": "white",
            "ticks": ""
           }
          },
          "title": {
           "x": 0.05
          },
          "xaxis": {
           "automargin": true,
           "gridcolor": "white",
           "linecolor": "white",
           "ticks": "",
           "title": {
            "standoff": 15
           },
           "zerolinecolor": "white",
           "zerolinewidth": 2
          },
          "yaxis": {
           "automargin": true,
           "gridcolor": "white",
           "linecolor": "white",
           "ticks": "",
           "title": {
            "standoff": 15
           },
           "zerolinecolor": "white",
           "zerolinewidth": 2
          }
         }
        },
        "title": {
         "font": {
          "color": "#4D5663"
         },
         "text": "Top 20 trigrams in review after removing stop words"
        },
        "xaxis": {
         "gridcolor": "#E1E5ED",
         "linecolor": "black",
         "showgrid": true,
         "tickfont": {
          "color": "#4D5663"
         },
         "title": {
          "font": {
           "color": "#4D5663"
          },
          "text": ""
         },
         "zerolinecolor": "#E1E5ED"
        },
        "yaxis": {
         "gridcolor": "#E1E5ED",
         "linecolor": "black",
         "showgrid": true,
         "tickfont": {
          "color": "#4D5663"
         },
         "title": {
          "font": {
           "color": "#4D5663"
          },
          "text": "Count"
         },
         "zerolinecolor": "#E1E5ED"
        }
       }
      },
      "text/html": [
       "<div>                            <div id=\"96eb91a6-53d4-4eda-8a4f-b1988b02032a\" class=\"plotly-graph-div\" style=\"height:525px; width:100%;\"></div>            <script type=\"text/javascript\">                require([\"plotly\"], function(Plotly) {                    window.PLOTLYENV=window.PLOTLYENV || {};\n",
       "                    window.PLOTLYENV.BASE_URL='https://plot.ly';                                    if (document.getElementById(\"96eb91a6-53d4-4eda-8a4f-b1988b02032a\")) {                    Plotly.newPlot(                        \"96eb91a6-53d4-4eda-8a4f-b1988b02032a\",                        [{\"marker\": {\"color\": \"rgba(255, 153, 51, 0.6)\", \"line\": {\"color\": \"rgba(255, 153, 51, 1.0)\", \"width\": 1}}, \"name\": \"count\", \"orientation\": \"v\", \"text\": \"\", \"type\": \"bar\", \"x\": [\"potential girl pax\", \"20 minutes away\", \"israeli air force\", \"jump start car\", \"19 minutes away\", \"128514 128514 128514\", \"need ride just\", \"tell ain doing\", \"saturday night sunday\", \"really don care\", \"ran away home\", \"pulled parking lot\", \"minimum fare ride\", \"minutes away passenger\", \"lyft pickup change\", \"looked rear view\", \"happy new year\", \"got cancellation fee\", \"covid 19 virus\", \"tries open door\"], \"y\": [7, 5, 4, 4, 4, 3, 3, 3, 3, 3, 3, 3, 3, 3, 3, 3, 3, 3, 3, 3]}],                        {\"legend\": {\"bgcolor\": \"#F5F6F9\", \"font\": {\"color\": \"#4D5663\"}}, \"paper_bgcolor\": \"#F5F6F9\", \"plot_bgcolor\": \"#F5F6F9\", \"template\": {\"data\": {\"bar\": [{\"error_x\": {\"color\": \"#2a3f5f\"}, \"error_y\": {\"color\": \"#2a3f5f\"}, \"marker\": {\"line\": {\"color\": \"#E5ECF6\", \"width\": 0.5}}, \"type\": \"bar\"}], \"barpolar\": [{\"marker\": {\"line\": {\"color\": \"#E5ECF6\", \"width\": 0.5}}, \"type\": \"barpolar\"}], \"carpet\": [{\"aaxis\": {\"endlinecolor\": \"#2a3f5f\", \"gridcolor\": \"white\", \"linecolor\": \"white\", \"minorgridcolor\": \"white\", \"startlinecolor\": \"#2a3f5f\"}, \"baxis\": {\"endlinecolor\": \"#2a3f5f\", \"gridcolor\": \"white\", \"linecolor\": \"white\", \"minorgridcolor\": \"white\", \"startlinecolor\": \"#2a3f5f\"}, \"type\": \"carpet\"}], \"choropleth\": [{\"colorbar\": {\"outlinewidth\": 0, \"ticks\": \"\"}, \"type\": \"choropleth\"}], \"contour\": [{\"colorbar\": {\"outlinewidth\": 0, \"ticks\": \"\"}, \"colorscale\": [[0.0, \"#0d0887\"], [0.1111111111111111, \"#46039f\"], [0.2222222222222222, \"#7201a8\"], [0.3333333333333333, \"#9c179e\"], [0.4444444444444444, \"#bd3786\"], [0.5555555555555556, \"#d8576b\"], [0.6666666666666666, \"#ed7953\"], [0.7777777777777778, \"#fb9f3a\"], [0.8888888888888888, \"#fdca26\"], [1.0, \"#f0f921\"]], \"type\": \"contour\"}], \"contourcarpet\": [{\"colorbar\": {\"outlinewidth\": 0, \"ticks\": \"\"}, \"type\": \"contourcarpet\"}], \"heatmap\": [{\"colorbar\": {\"outlinewidth\": 0, \"ticks\": \"\"}, \"colorscale\": [[0.0, \"#0d0887\"], [0.1111111111111111, \"#46039f\"], [0.2222222222222222, \"#7201a8\"], [0.3333333333333333, \"#9c179e\"], [0.4444444444444444, \"#bd3786\"], [0.5555555555555556, \"#d8576b\"], [0.6666666666666666, \"#ed7953\"], [0.7777777777777778, \"#fb9f3a\"], [0.8888888888888888, \"#fdca26\"], [1.0, \"#f0f921\"]], \"type\": \"heatmap\"}], \"heatmapgl\": [{\"colorbar\": {\"outlinewidth\": 0, \"ticks\": \"\"}, \"colorscale\": [[0.0, \"#0d0887\"], [0.1111111111111111, \"#46039f\"], [0.2222222222222222, \"#7201a8\"], [0.3333333333333333, \"#9c179e\"], [0.4444444444444444, \"#bd3786\"], [0.5555555555555556, \"#d8576b\"], [0.6666666666666666, \"#ed7953\"], [0.7777777777777778, \"#fb9f3a\"], [0.8888888888888888, \"#fdca26\"], [1.0, \"#f0f921\"]], \"type\": \"heatmapgl\"}], \"histogram\": [{\"marker\": {\"colorbar\": {\"outlinewidth\": 0, \"ticks\": \"\"}}, \"type\": \"histogram\"}], \"histogram2d\": [{\"colorbar\": {\"outlinewidth\": 0, \"ticks\": \"\"}, \"colorscale\": [[0.0, \"#0d0887\"], [0.1111111111111111, \"#46039f\"], [0.2222222222222222, \"#7201a8\"], [0.3333333333333333, \"#9c179e\"], [0.4444444444444444, \"#bd3786\"], [0.5555555555555556, \"#d8576b\"], [0.6666666666666666, \"#ed7953\"], [0.7777777777777778, \"#fb9f3a\"], [0.8888888888888888, \"#fdca26\"], [1.0, \"#f0f921\"]], \"type\": \"histogram2d\"}], \"histogram2dcontour\": [{\"colorbar\": {\"outlinewidth\": 0, \"ticks\": \"\"}, \"colorscale\": [[0.0, \"#0d0887\"], [0.1111111111111111, \"#46039f\"], [0.2222222222222222, \"#7201a8\"], [0.3333333333333333, \"#9c179e\"], [0.4444444444444444, \"#bd3786\"], [0.5555555555555556, \"#d8576b\"], [0.6666666666666666, \"#ed7953\"], [0.7777777777777778, \"#fb9f3a\"], [0.8888888888888888, \"#fdca26\"], [1.0, \"#f0f921\"]], \"type\": \"histogram2dcontour\"}], \"mesh3d\": [{\"colorbar\": {\"outlinewidth\": 0, \"ticks\": \"\"}, \"type\": \"mesh3d\"}], \"parcoords\": [{\"line\": {\"colorbar\": {\"outlinewidth\": 0, \"ticks\": \"\"}}, \"type\": \"parcoords\"}], \"pie\": [{\"automargin\": true, \"type\": \"pie\"}], \"scatter\": [{\"marker\": {\"colorbar\": {\"outlinewidth\": 0, \"ticks\": \"\"}}, \"type\": \"scatter\"}], \"scatter3d\": [{\"line\": {\"colorbar\": {\"outlinewidth\": 0, \"ticks\": \"\"}}, \"marker\": {\"colorbar\": {\"outlinewidth\": 0, \"ticks\": \"\"}}, \"type\": \"scatter3d\"}], \"scattercarpet\": [{\"marker\": {\"colorbar\": {\"outlinewidth\": 0, \"ticks\": \"\"}}, \"type\": \"scattercarpet\"}], \"scattergeo\": [{\"marker\": {\"colorbar\": {\"outlinewidth\": 0, \"ticks\": \"\"}}, \"type\": \"scattergeo\"}], \"scattergl\": [{\"marker\": {\"colorbar\": {\"outlinewidth\": 0, \"ticks\": \"\"}}, \"type\": \"scattergl\"}], \"scattermapbox\": [{\"marker\": {\"colorbar\": {\"outlinewidth\": 0, \"ticks\": \"\"}}, \"type\": \"scattermapbox\"}], \"scatterpolar\": [{\"marker\": {\"colorbar\": {\"outlinewidth\": 0, \"ticks\": \"\"}}, \"type\": \"scatterpolar\"}], \"scatterpolargl\": [{\"marker\": {\"colorbar\": {\"outlinewidth\": 0, \"ticks\": \"\"}}, \"type\": \"scatterpolargl\"}], \"scatterternary\": [{\"marker\": {\"colorbar\": {\"outlinewidth\": 0, \"ticks\": \"\"}}, \"type\": \"scatterternary\"}], \"surface\": [{\"colorbar\": {\"outlinewidth\": 0, \"ticks\": \"\"}, \"colorscale\": [[0.0, \"#0d0887\"], [0.1111111111111111, \"#46039f\"], [0.2222222222222222, \"#7201a8\"], [0.3333333333333333, \"#9c179e\"], [0.4444444444444444, \"#bd3786\"], [0.5555555555555556, \"#d8576b\"], [0.6666666666666666, \"#ed7953\"], [0.7777777777777778, \"#fb9f3a\"], [0.8888888888888888, \"#fdca26\"], [1.0, \"#f0f921\"]], \"type\": \"surface\"}], \"table\": [{\"cells\": {\"fill\": {\"color\": \"#EBF0F8\"}, \"line\": {\"color\": \"white\"}}, \"header\": {\"fill\": {\"color\": \"#C8D4E3\"}, \"line\": {\"color\": \"white\"}}, \"type\": \"table\"}]}, \"layout\": {\"annotationdefaults\": {\"arrowcolor\": \"#2a3f5f\", \"arrowhead\": 0, \"arrowwidth\": 1}, \"autotypenumbers\": \"strict\", \"coloraxis\": {\"colorbar\": {\"outlinewidth\": 0, \"ticks\": \"\"}}, \"colorscale\": {\"diverging\": [[0, \"#8e0152\"], [0.1, \"#c51b7d\"], [0.2, \"#de77ae\"], [0.3, \"#f1b6da\"], [0.4, \"#fde0ef\"], [0.5, \"#f7f7f7\"], [0.6, \"#e6f5d0\"], [0.7, \"#b8e186\"], [0.8, \"#7fbc41\"], [0.9, \"#4d9221\"], [1, \"#276419\"]], \"sequential\": [[0.0, \"#0d0887\"], [0.1111111111111111, \"#46039f\"], [0.2222222222222222, \"#7201a8\"], [0.3333333333333333, \"#9c179e\"], [0.4444444444444444, \"#bd3786\"], [0.5555555555555556, \"#d8576b\"], [0.6666666666666666, \"#ed7953\"], [0.7777777777777778, \"#fb9f3a\"], [0.8888888888888888, \"#fdca26\"], [1.0, \"#f0f921\"]], \"sequentialminus\": [[0.0, \"#0d0887\"], [0.1111111111111111, \"#46039f\"], [0.2222222222222222, \"#7201a8\"], [0.3333333333333333, \"#9c179e\"], [0.4444444444444444, \"#bd3786\"], [0.5555555555555556, \"#d8576b\"], [0.6666666666666666, \"#ed7953\"], [0.7777777777777778, \"#fb9f3a\"], [0.8888888888888888, \"#fdca26\"], [1.0, \"#f0f921\"]]}, \"colorway\": [\"#636efa\", \"#EF553B\", \"#00cc96\", \"#ab63fa\", \"#FFA15A\", \"#19d3f3\", \"#FF6692\", \"#B6E880\", \"#FF97FF\", \"#FECB52\"], \"font\": {\"color\": \"#2a3f5f\"}, \"geo\": {\"bgcolor\": \"white\", \"lakecolor\": \"white\", \"landcolor\": \"#E5ECF6\", \"showlakes\": true, \"showland\": true, \"subunitcolor\": \"white\"}, \"hoverlabel\": {\"align\": \"left\"}, \"hovermode\": \"closest\", \"mapbox\": {\"style\": \"light\"}, \"paper_bgcolor\": \"white\", \"plot_bgcolor\": \"#E5ECF6\", \"polar\": {\"angularaxis\": {\"gridcolor\": \"white\", \"linecolor\": \"white\", \"ticks\": \"\"}, \"bgcolor\": \"#E5ECF6\", \"radialaxis\": {\"gridcolor\": \"white\", \"linecolor\": \"white\", \"ticks\": \"\"}}, \"scene\": {\"xaxis\": {\"backgroundcolor\": \"#E5ECF6\", \"gridcolor\": \"white\", \"gridwidth\": 2, \"linecolor\": \"white\", \"showbackground\": true, \"ticks\": \"\", \"zerolinecolor\": \"white\"}, \"yaxis\": {\"backgroundcolor\": \"#E5ECF6\", \"gridcolor\": \"white\", \"gridwidth\": 2, \"linecolor\": \"white\", \"showbackground\": true, \"ticks\": \"\", \"zerolinecolor\": \"white\"}, \"zaxis\": {\"backgroundcolor\": \"#E5ECF6\", \"gridcolor\": \"white\", \"gridwidth\": 2, \"linecolor\": \"white\", \"showbackground\": true, \"ticks\": \"\", \"zerolinecolor\": \"white\"}}, \"shapedefaults\": {\"line\": {\"color\": \"#2a3f5f\"}}, \"ternary\": {\"aaxis\": {\"gridcolor\": \"white\", \"linecolor\": \"white\", \"ticks\": \"\"}, \"baxis\": {\"gridcolor\": \"white\", \"linecolor\": \"white\", \"ticks\": \"\"}, \"bgcolor\": \"#E5ECF6\", \"caxis\": {\"gridcolor\": \"white\", \"linecolor\": \"white\", \"ticks\": \"\"}}, \"title\": {\"x\": 0.05}, \"xaxis\": {\"automargin\": true, \"gridcolor\": \"white\", \"linecolor\": \"white\", \"ticks\": \"\", \"title\": {\"standoff\": 15}, \"zerolinecolor\": \"white\", \"zerolinewidth\": 2}, \"yaxis\": {\"automargin\": true, \"gridcolor\": \"white\", \"linecolor\": \"white\", \"ticks\": \"\", \"title\": {\"standoff\": 15}, \"zerolinecolor\": \"white\", \"zerolinewidth\": 2}}}, \"title\": {\"font\": {\"color\": \"#4D5663\"}, \"text\": \"Top 20 trigrams in review after removing stop words\"}, \"xaxis\": {\"gridcolor\": \"#E1E5ED\", \"linecolor\": \"black\", \"showgrid\": true, \"tickfont\": {\"color\": \"#4D5663\"}, \"title\": {\"font\": {\"color\": \"#4D5663\"}, \"text\": \"\"}, \"zerolinecolor\": \"#E1E5ED\"}, \"yaxis\": {\"gridcolor\": \"#E1E5ED\", \"linecolor\": \"black\", \"showgrid\": true, \"tickfont\": {\"color\": \"#4D5663\"}, \"title\": {\"font\": {\"color\": \"#4D5663\"}, \"text\": \"Count\"}, \"zerolinecolor\": \"#E1E5ED\"}},                        {\"showLink\": true, \"linkText\": \"Export to plot.ly\", \"plotlyServerURL\": \"https://plot.ly\", \"responsive\": true}                    ).then(function(){\n",
       "                            \n",
       "var gd = document.getElementById('96eb91a6-53d4-4eda-8a4f-b1988b02032a');\n",
       "var x = new MutationObserver(function (mutations, observer) {{\n",
       "        var display = window.getComputedStyle(gd).display;\n",
       "        if (!display || display === 'none') {{\n",
       "            console.log([gd, 'removed!']);\n",
       "            Plotly.purge(gd);\n",
       "            observer.disconnect();\n",
       "        }}\n",
       "}});\n",
       "\n",
       "// Listen for the removal of the full notebook cells\n",
       "var notebookContainer = gd.closest('#notebook-container');\n",
       "if (notebookContainer) {{\n",
       "    x.observe(notebookContainer, {childList: true});\n",
       "}}\n",
       "\n",
       "// Listen for the clearing of the current output cell\n",
       "var outputEl = gd.closest('.output');\n",
       "if (outputEl) {{\n",
       "    x.observe(outputEl, {childList: true});\n",
       "}}\n",
       "\n",
       "                        })                };                });            </script>        </div>"
      ]
     },
     "metadata": {},
     "output_type": "display_data"
    }
   ],
   "source": [
    "def get_top_n_trigram(corpus, n=None):\n",
    "    vec = CountVectorizer(ngram_range=(3, 3), stop_words='english').fit(corpus)\n",
    "    bag_of_words = vec.transform(corpus)\n",
    "    sum_words = bag_of_words.sum(axis=0) \n",
    "    words_freq = [(word, sum_words[0, idx]) for word, idx in vec.vocabulary_.items()]\n",
    "    words_freq =sorted(words_freq, key = lambda x: x[1], reverse=True)\n",
    "    return words_freq[:n]\n",
    "common_words = get_top_n_trigram(df['Story'], 20)\n",
    "for word, freq in common_words:\n",
    "    print(word, freq)\n",
    "df6 = pd.DataFrame(common_words, columns = ['Story' , 'count'])\n",
    "df6.groupby('Story').sum()['count'].sort_values(ascending=False).iplot(\n",
    "kind='bar', yTitle='Count', linecolor='black', title='Top 20 trigrams in review after removing stop words')"
   ]
  }
 ],
 "metadata": {
  "kernelspec": {
   "display_name": "Python 3",
   "language": "python",
   "name": "python3"
  },
  "language_info": {
   "codemirror_mode": {
    "name": "ipython",
    "version": 3
   },
   "file_extension": ".py",
   "mimetype": "text/x-python",
   "name": "python",
   "nbconvert_exporter": "python",
   "pygments_lexer": "ipython3",
   "version": "3.6.13"
  },
  "latex_envs": {
   "LaTeX_envs_menu_present": true,
   "autoclose": false,
   "autocomplete": true,
   "bibliofile": "biblio.bib",
   "cite_by": "apalike",
   "current_citInitial": 1,
   "eqLabelWithNumbers": true,
   "eqNumInitial": 1,
   "hotkeys": {
    "equation": "Ctrl-E",
    "itemize": "Ctrl-I"
   },
   "labels_anchors": false,
   "latex_user_defs": false,
   "report_style_numbering": false,
   "user_envs_cfg": false
  }
 },
 "nbformat": 4,
 "nbformat_minor": 5
}
